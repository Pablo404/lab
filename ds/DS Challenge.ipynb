{
 "cells": [
  {
   "cell_type": "markdown",
   "metadata": {
    "colab_type": "text",
    "id": "n3X7gVntWmyo"
   },
   "source": [
    "# Data Specialist Challenge"
   ]
  },
  {
   "cell_type": "markdown",
   "metadata": {
    "colab_type": "text",
    "id": "Er3PSF0IWiR_"
   },
   "source": [
    "## Cargar librerías"
   ]
  },
  {
   "cell_type": "markdown",
   "metadata": {
    "colab_type": "text",
    "id": "axjLdBWmWxMZ"
   },
   "source": []
  },
  {
   "cell_type": "code",
   "execution_count": 2,
   "metadata": {
    "colab": {},
    "colab_type": "code",
    "id": "iOt-gZl2z8aq"
   },
   "outputs": [],
   "source": [
    "    %matplotlib inline\n",
    "\n",
    "import re\n",
    "import random\n",
    "from collections import Counter\n",
    "\n",
    "import pandas as pd\n",
    "pd.set_option('display.max_colwidth', -1)\n",
    "import numpy as np\n",
    "import matplotlib.pyplot as plt\n",
    "import seaborn as sns\n",
    "from scipy.stats import kstest\n",
    "sns.set(color_codes=True)"
   ]
  },
  {
   "cell_type": "code",
   "execution_count": 0,
   "metadata": {
    "colab": {},
    "colab_type": "code",
    "id": "z1o60s2IycaA"
   },
   "outputs": [],
   "source": [
    "#Importamos la librería Drive para poder montar la unidad de Google Drive y poder leer los .csv que tenemos almacenados\n",
    "from google.colab import drive"
   ]
  },
  {
   "cell_type": "code",
   "execution_count": 3,
   "metadata": {
    "colab": {
     "base_uri": "https://localhost:8080/",
     "height": 122
    },
    "colab_type": "code",
    "executionInfo": {
     "elapsed": 142629,
     "status": "ok",
     "timestamp": 1573220235624,
     "user": {
      "displayName": "JOSU EGUIGUREN BALERDI",
      "photoUrl": "https://lh3.googleusercontent.com/a-/AAuE7mDLke1o9KUCGX86XGJWfNoQlhkTBh11oAljsUue=s64",
      "userId": "11962152349902680680"
     },
     "user_tz": -60
    },
    "id": "WuSVzYRRzbik",
    "outputId": "4accfe1d-3ab1-4583-c1b3-f3242e860d13"
   },
   "outputs": [
    {
     "name": "stdout",
     "output_type": "stream",
     "text": [
      "Go to this URL in a browser: https://accounts.google.com/o/oauth2/auth?client_id=947318989803-6bn6qk8qdgf4n4g3pfee6491hc0brc4i.apps.googleusercontent.com&redirect_uri=urn%3Aietf%3Awg%3Aoauth%3A2.0%3Aoob&scope=email%20https%3A%2F%2Fwww.googleapis.com%2Fauth%2Fdocs.test%20https%3A%2F%2Fwww.googleapis.com%2Fauth%2Fdrive%20https%3A%2F%2Fwww.googleapis.com%2Fauth%2Fdrive.photos.readonly%20https%3A%2F%2Fwww.googleapis.com%2Fauth%2Fpeopleapi.readonly&response_type=code\n",
      "\n",
      "Enter your authorization code:\n",
      "··········\n",
      "Mounted at /content/drive\n"
     ]
    }
   ],
   "source": [
    "#Montamos la unidad de Google Drive\n",
    "drive.mount('/content/drive', force_remount=True)"
   ]
  },
  {
   "cell_type": "code",
   "execution_count": 0,
   "metadata": {
    "colab": {},
    "colab_type": "code",
    "id": "jic5X-xdze4c"
   },
   "outputs": [],
   "source": [
    "#Leemos el fichero .csv y lo almacenamos en una variable para poder leer los datos\n",
    "#Como el separador de los ficheros es la coma no hace falta indicar el separador\n",
    "train = pd.read_csv('/content/drive/My Drive/train.csv')"
   ]
  },
  {
   "cell_type": "code",
   "execution_count": 5,
   "metadata": {
    "colab": {
     "base_uri": "https://localhost:8080/",
     "height": 706
    },
    "colab_type": "code",
    "executionInfo": {
     "elapsed": 143517,
     "status": "ok",
     "timestamp": 1573220236532,
     "user": {
      "displayName": "JOSU EGUIGUREN BALERDI",
      "photoUrl": "https://lh3.googleusercontent.com/a-/AAuE7mDLke1o9KUCGX86XGJWfNoQlhkTBh11oAljsUue=s64",
      "userId": "11962152349902680680"
     },
     "user_tz": -60
    },
    "id": "NaYnE47e10AM",
    "outputId": "d3f90727-b923-4060-f122-eea37afaa647"
   },
   "outputs": [
    {
     "data": {
      "text/html": [
       "<div>\n",
       "<style scoped>\n",
       "    .dataframe tbody tr th:only-of-type {\n",
       "        vertical-align: middle;\n",
       "    }\n",
       "\n",
       "    .dataframe tbody tr th {\n",
       "        vertical-align: top;\n",
       "    }\n",
       "\n",
       "    .dataframe thead th {\n",
       "        text-align: right;\n",
       "    }\n",
       "</style>\n",
       "<table border=\"1\" class=\"dataframe\">\n",
       "  <thead>\n",
       "    <tr style=\"text-align: right;\">\n",
       "      <th></th>\n",
       "      <th>Unnamed: 0</th>\n",
       "      <th>ID</th>\n",
       "      <th>LIMIT_BAL</th>\n",
       "      <th>SEX</th>\n",
       "      <th>EDUCATION</th>\n",
       "      <th>MARRIAGE</th>\n",
       "      <th>AGE</th>\n",
       "      <th>PAY_0</th>\n",
       "      <th>PAY_2</th>\n",
       "      <th>PAY_3</th>\n",
       "      <th>PAY_4</th>\n",
       "      <th>PAY_5</th>\n",
       "      <th>PAY_6</th>\n",
       "      <th>BILL_AMT1</th>\n",
       "      <th>BILL_AMT2</th>\n",
       "      <th>BILL_AMT3</th>\n",
       "      <th>BILL_AMT4</th>\n",
       "      <th>BILL_AMT5</th>\n",
       "      <th>BILL_AMT6</th>\n",
       "      <th>PAY_AMT1</th>\n",
       "      <th>PAY_AMT2</th>\n",
       "      <th>PAY_AMT3</th>\n",
       "      <th>PAY_AMT4</th>\n",
       "      <th>PAY_AMT5</th>\n",
       "      <th>PAY_AMT6</th>\n",
       "      <th>default.payment.next.month</th>\n",
       "    </tr>\n",
       "  </thead>\n",
       "  <tbody>\n",
       "    <tr>\n",
       "      <th>0</th>\n",
       "      <td>0</td>\n",
       "      <td>7546</td>\n",
       "      <td>20000.0</td>\n",
       "      <td>2</td>\n",
       "      <td>2</td>\n",
       "      <td>1</td>\n",
       "      <td>24</td>\n",
       "      <td>2</td>\n",
       "      <td>2</td>\n",
       "      <td>-1</td>\n",
       "      <td>-1</td>\n",
       "      <td>-2</td>\n",
       "      <td>-2</td>\n",
       "      <td>3913.0</td>\n",
       "      <td>3102.0</td>\n",
       "      <td>689.0</td>\n",
       "      <td>0.0</td>\n",
       "      <td>0.0</td>\n",
       "      <td>0.0</td>\n",
       "      <td>0.0</td>\n",
       "      <td>689.0</td>\n",
       "      <td>0.0</td>\n",
       "      <td>0.0</td>\n",
       "      <td>0.0</td>\n",
       "      <td>0.0</td>\n",
       "      <td>1</td>\n",
       "    </tr>\n",
       "    <tr>\n",
       "      <th>1</th>\n",
       "      <td>1</td>\n",
       "      <td>27999</td>\n",
       "      <td>120000.0</td>\n",
       "      <td>2</td>\n",
       "      <td>2</td>\n",
       "      <td>2</td>\n",
       "      <td>26</td>\n",
       "      <td>-1</td>\n",
       "      <td>2</td>\n",
       "      <td>0</td>\n",
       "      <td>0</td>\n",
       "      <td>0</td>\n",
       "      <td>2</td>\n",
       "      <td>2682.0</td>\n",
       "      <td>1725.0</td>\n",
       "      <td>2682.0</td>\n",
       "      <td>3272.0</td>\n",
       "      <td>3455.0</td>\n",
       "      <td>3261.0</td>\n",
       "      <td>0.0</td>\n",
       "      <td>1000.0</td>\n",
       "      <td>1000.0</td>\n",
       "      <td>1000.0</td>\n",
       "      <td>0.0</td>\n",
       "      <td>2000.0</td>\n",
       "      <td>1</td>\n",
       "    </tr>\n",
       "    <tr>\n",
       "      <th>2</th>\n",
       "      <td>2</td>\n",
       "      <td>24653</td>\n",
       "      <td>90000.0</td>\n",
       "      <td>2</td>\n",
       "      <td>2</td>\n",
       "      <td>2</td>\n",
       "      <td>34</td>\n",
       "      <td>0</td>\n",
       "      <td>0</td>\n",
       "      <td>0</td>\n",
       "      <td>0</td>\n",
       "      <td>0</td>\n",
       "      <td>0</td>\n",
       "      <td>29239.0</td>\n",
       "      <td>14027.0</td>\n",
       "      <td>13559.0</td>\n",
       "      <td>14331.0</td>\n",
       "      <td>14948.0</td>\n",
       "      <td>15549.0</td>\n",
       "      <td>1518.0</td>\n",
       "      <td>1500.0</td>\n",
       "      <td>1000.0</td>\n",
       "      <td>1000.0</td>\n",
       "      <td>1000.0</td>\n",
       "      <td>5000.0</td>\n",
       "      <td>0</td>\n",
       "    </tr>\n",
       "    <tr>\n",
       "      <th>3</th>\n",
       "      <td>3</td>\n",
       "      <td>12758</td>\n",
       "      <td>50000.0</td>\n",
       "      <td>2</td>\n",
       "      <td>2</td>\n",
       "      <td>1</td>\n",
       "      <td>37</td>\n",
       "      <td>0</td>\n",
       "      <td>0</td>\n",
       "      <td>0</td>\n",
       "      <td>0</td>\n",
       "      <td>0</td>\n",
       "      <td>0</td>\n",
       "      <td>46990.0</td>\n",
       "      <td>48233.0</td>\n",
       "      <td>49291.0</td>\n",
       "      <td>28314.0</td>\n",
       "      <td>28959.0</td>\n",
       "      <td>29547.0</td>\n",
       "      <td>2000.0</td>\n",
       "      <td>2019.0</td>\n",
       "      <td>1200.0</td>\n",
       "      <td>1100.0</td>\n",
       "      <td>1069.0</td>\n",
       "      <td>1000.0</td>\n",
       "      <td>0</td>\n",
       "    </tr>\n",
       "    <tr>\n",
       "      <th>4</th>\n",
       "      <td>5</td>\n",
       "      <td>19638</td>\n",
       "      <td>50000.0</td>\n",
       "      <td>1</td>\n",
       "      <td>1</td>\n",
       "      <td>2</td>\n",
       "      <td>37</td>\n",
       "      <td>0</td>\n",
       "      <td>0</td>\n",
       "      <td>0</td>\n",
       "      <td>0</td>\n",
       "      <td>0</td>\n",
       "      <td>0</td>\n",
       "      <td>64400.0</td>\n",
       "      <td>57069.0</td>\n",
       "      <td>57608.0</td>\n",
       "      <td>19394.0</td>\n",
       "      <td>19619.0</td>\n",
       "      <td>20024.0</td>\n",
       "      <td>2500.0</td>\n",
       "      <td>1815.0</td>\n",
       "      <td>657.0</td>\n",
       "      <td>1000.0</td>\n",
       "      <td>1000.0</td>\n",
       "      <td>800.0</td>\n",
       "      <td>0</td>\n",
       "    </tr>\n",
       "    <tr>\n",
       "      <th>5</th>\n",
       "      <td>8</td>\n",
       "      <td>7409</td>\n",
       "      <td>140000.0</td>\n",
       "      <td>2</td>\n",
       "      <td>3</td>\n",
       "      <td>1</td>\n",
       "      <td>28</td>\n",
       "      <td>0</td>\n",
       "      <td>0</td>\n",
       "      <td>2</td>\n",
       "      <td>0</td>\n",
       "      <td>0</td>\n",
       "      <td>0</td>\n",
       "      <td>11285.0</td>\n",
       "      <td>14096.0</td>\n",
       "      <td>12108.0</td>\n",
       "      <td>12211.0</td>\n",
       "      <td>11793.0</td>\n",
       "      <td>3719.0</td>\n",
       "      <td>3329.0</td>\n",
       "      <td>0.0</td>\n",
       "      <td>432.0</td>\n",
       "      <td>1000.0</td>\n",
       "      <td>1000.0</td>\n",
       "      <td>1000.0</td>\n",
       "      <td>0</td>\n",
       "    </tr>\n",
       "    <tr>\n",
       "      <th>6</th>\n",
       "      <td>9</td>\n",
       "      <td>3918</td>\n",
       "      <td>20000.0</td>\n",
       "      <td>1</td>\n",
       "      <td>3</td>\n",
       "      <td>2</td>\n",
       "      <td>35</td>\n",
       "      <td>-2</td>\n",
       "      <td>-2</td>\n",
       "      <td>-2</td>\n",
       "      <td>-2</td>\n",
       "      <td>-1</td>\n",
       "      <td>-1</td>\n",
       "      <td>0.0</td>\n",
       "      <td>0.0</td>\n",
       "      <td>0.0</td>\n",
       "      <td>0.0</td>\n",
       "      <td>13007.0</td>\n",
       "      <td>13912.0</td>\n",
       "      <td>0.0</td>\n",
       "      <td>0.0</td>\n",
       "      <td>0.0</td>\n",
       "      <td>13007.0</td>\n",
       "      <td>1122.0</td>\n",
       "      <td>0.0</td>\n",
       "      <td>0</td>\n",
       "    </tr>\n",
       "    <tr>\n",
       "      <th>7</th>\n",
       "      <td>10</td>\n",
       "      <td>22917</td>\n",
       "      <td>200000.0</td>\n",
       "      <td>2</td>\n",
       "      <td>3</td>\n",
       "      <td>2</td>\n",
       "      <td>34</td>\n",
       "      <td>0</td>\n",
       "      <td>0</td>\n",
       "      <td>2</td>\n",
       "      <td>0</td>\n",
       "      <td>0</td>\n",
       "      <td>-1</td>\n",
       "      <td>11073.0</td>\n",
       "      <td>9787.0</td>\n",
       "      <td>5535.0</td>\n",
       "      <td>2513.0</td>\n",
       "      <td>1828.0</td>\n",
       "      <td>3731.0</td>\n",
       "      <td>2306.0</td>\n",
       "      <td>12.0</td>\n",
       "      <td>50.0</td>\n",
       "      <td>300.0</td>\n",
       "      <td>3738.0</td>\n",
       "      <td>66.0</td>\n",
       "      <td>0</td>\n",
       "    </tr>\n",
       "    <tr>\n",
       "      <th>8</th>\n",
       "      <td>11</td>\n",
       "      <td>3596</td>\n",
       "      <td>260000.0</td>\n",
       "      <td>2</td>\n",
       "      <td>1</td>\n",
       "      <td>2</td>\n",
       "      <td>51</td>\n",
       "      <td>-1</td>\n",
       "      <td>-1</td>\n",
       "      <td>-1</td>\n",
       "      <td>-1</td>\n",
       "      <td>-1</td>\n",
       "      <td>2</td>\n",
       "      <td>12261.0</td>\n",
       "      <td>21670.0</td>\n",
       "      <td>9966.0</td>\n",
       "      <td>8517.0</td>\n",
       "      <td>22287.0</td>\n",
       "      <td>13668.0</td>\n",
       "      <td>21818.0</td>\n",
       "      <td>9966.0</td>\n",
       "      <td>8583.0</td>\n",
       "      <td>22301.0</td>\n",
       "      <td>0.0</td>\n",
       "      <td>3640.0</td>\n",
       "      <td>0</td>\n",
       "    </tr>\n",
       "    <tr>\n",
       "      <th>9</th>\n",
       "      <td>12</td>\n",
       "      <td>20692</td>\n",
       "      <td>630000.0</td>\n",
       "      <td>2</td>\n",
       "      <td>2</td>\n",
       "      <td>2</td>\n",
       "      <td>41</td>\n",
       "      <td>-1</td>\n",
       "      <td>0</td>\n",
       "      <td>-1</td>\n",
       "      <td>-1</td>\n",
       "      <td>-1</td>\n",
       "      <td>-1</td>\n",
       "      <td>12137.0</td>\n",
       "      <td>6500.0</td>\n",
       "      <td>6500.0</td>\n",
       "      <td>6500.0</td>\n",
       "      <td>6500.0</td>\n",
       "      <td>2870.0</td>\n",
       "      <td>1000.0</td>\n",
       "      <td>6500.0</td>\n",
       "      <td>6500.0</td>\n",
       "      <td>6500.0</td>\n",
       "      <td>2870.0</td>\n",
       "      <td>0.0</td>\n",
       "      <td>0</td>\n",
       "    </tr>\n",
       "    <tr>\n",
       "      <th>10</th>\n",
       "      <td>13</td>\n",
       "      <td>19202</td>\n",
       "      <td>70000.0</td>\n",
       "      <td>1</td>\n",
       "      <td>2</td>\n",
       "      <td>2</td>\n",
       "      <td>30</td>\n",
       "      <td>1</td>\n",
       "      <td>2</td>\n",
       "      <td>2</td>\n",
       "      <td>0</td>\n",
       "      <td>0</td>\n",
       "      <td>2</td>\n",
       "      <td>65802.0</td>\n",
       "      <td>67369.0</td>\n",
       "      <td>65701.0</td>\n",
       "      <td>66782.0</td>\n",
       "      <td>36137.0</td>\n",
       "      <td>36894.0</td>\n",
       "      <td>3200.0</td>\n",
       "      <td>0.0</td>\n",
       "      <td>3000.0</td>\n",
       "      <td>3000.0</td>\n",
       "      <td>1500.0</td>\n",
       "      <td>0.0</td>\n",
       "      <td>1</td>\n",
       "    </tr>\n",
       "    <tr>\n",
       "      <th>11</th>\n",
       "      <td>14</td>\n",
       "      <td>12130</td>\n",
       "      <td>250000.0</td>\n",
       "      <td>1</td>\n",
       "      <td>1</td>\n",
       "      <td>2</td>\n",
       "      <td>29</td>\n",
       "      <td>0</td>\n",
       "      <td>0</td>\n",
       "      <td>0</td>\n",
       "      <td>0</td>\n",
       "      <td>0</td>\n",
       "      <td>0</td>\n",
       "      <td>70887.0</td>\n",
       "      <td>67060.0</td>\n",
       "      <td>63561.0</td>\n",
       "      <td>59696.0</td>\n",
       "      <td>56875.0</td>\n",
       "      <td>55512.0</td>\n",
       "      <td>3000.0</td>\n",
       "      <td>3000.0</td>\n",
       "      <td>3000.0</td>\n",
       "      <td>3000.0</td>\n",
       "      <td>3000.0</td>\n",
       "      <td>3000.0</td>\n",
       "      <td>0</td>\n",
       "    </tr>\n",
       "    <tr>\n",
       "      <th>12</th>\n",
       "      <td>15</td>\n",
       "      <td>1326</td>\n",
       "      <td>50000.0</td>\n",
       "      <td>2</td>\n",
       "      <td>3</td>\n",
       "      <td>3</td>\n",
       "      <td>23</td>\n",
       "      <td>1</td>\n",
       "      <td>2</td>\n",
       "      <td>0</td>\n",
       "      <td>0</td>\n",
       "      <td>0</td>\n",
       "      <td>0</td>\n",
       "      <td>50614.0</td>\n",
       "      <td>29173.0</td>\n",
       "      <td>28116.0</td>\n",
       "      <td>28771.0</td>\n",
       "      <td>29531.0</td>\n",
       "      <td>30211.0</td>\n",
       "      <td>0.0</td>\n",
       "      <td>1500.0</td>\n",
       "      <td>1100.0</td>\n",
       "      <td>1200.0</td>\n",
       "      <td>1300.0</td>\n",
       "      <td>1100.0</td>\n",
       "      <td>0</td>\n",
       "    </tr>\n",
       "    <tr>\n",
       "      <th>13</th>\n",
       "      <td>16</td>\n",
       "      <td>6857</td>\n",
       "      <td>20000.0</td>\n",
       "      <td>1</td>\n",
       "      <td>1</td>\n",
       "      <td>2</td>\n",
       "      <td>24</td>\n",
       "      <td>0</td>\n",
       "      <td>0</td>\n",
       "      <td>2</td>\n",
       "      <td>2</td>\n",
       "      <td>2</td>\n",
       "      <td>2</td>\n",
       "      <td>15376.0</td>\n",
       "      <td>18010.0</td>\n",
       "      <td>17428.0</td>\n",
       "      <td>18338.0</td>\n",
       "      <td>17905.0</td>\n",
       "      <td>19104.0</td>\n",
       "      <td>3200.0</td>\n",
       "      <td>0.0</td>\n",
       "      <td>1500.0</td>\n",
       "      <td>0.0</td>\n",
       "      <td>1650.0</td>\n",
       "      <td>0.0</td>\n",
       "      <td>1</td>\n",
       "    </tr>\n",
       "    <tr>\n",
       "      <th>14</th>\n",
       "      <td>17</td>\n",
       "      <td>27786</td>\n",
       "      <td>320000.0</td>\n",
       "      <td>1</td>\n",
       "      <td>1</td>\n",
       "      <td>1</td>\n",
       "      <td>49</td>\n",
       "      <td>0</td>\n",
       "      <td>0</td>\n",
       "      <td>0</td>\n",
       "      <td>-1</td>\n",
       "      <td>-1</td>\n",
       "      <td>-1</td>\n",
       "      <td>253286.0</td>\n",
       "      <td>246536.0</td>\n",
       "      <td>194663.0</td>\n",
       "      <td>70074.0</td>\n",
       "      <td>5856.0</td>\n",
       "      <td>195599.0</td>\n",
       "      <td>10358.0</td>\n",
       "      <td>10000.0</td>\n",
       "      <td>75940.0</td>\n",
       "      <td>20000.0</td>\n",
       "      <td>195599.0</td>\n",
       "      <td>50000.0</td>\n",
       "      <td>0</td>\n",
       "    </tr>\n",
       "    <tr>\n",
       "      <th>15</th>\n",
       "      <td>19</td>\n",
       "      <td>32613</td>\n",
       "      <td>180000.0</td>\n",
       "      <td>2</td>\n",
       "      <td>1</td>\n",
       "      <td>2</td>\n",
       "      <td>29</td>\n",
       "      <td>1</td>\n",
       "      <td>-2</td>\n",
       "      <td>-2</td>\n",
       "      <td>-2</td>\n",
       "      <td>-2</td>\n",
       "      <td>-2</td>\n",
       "      <td>0.0</td>\n",
       "      <td>0.0</td>\n",
       "      <td>0.0</td>\n",
       "      <td>0.0</td>\n",
       "      <td>0.0</td>\n",
       "      <td>0.0</td>\n",
       "      <td>0.0</td>\n",
       "      <td>0.0</td>\n",
       "      <td>0.0</td>\n",
       "      <td>0.0</td>\n",
       "      <td>0.0</td>\n",
       "      <td>0.0</td>\n",
       "      <td>0</td>\n",
       "    </tr>\n",
       "    <tr>\n",
       "      <th>16</th>\n",
       "      <td>20</td>\n",
       "      <td>14109</td>\n",
       "      <td>130000.0</td>\n",
       "      <td>2</td>\n",
       "      <td>3</td>\n",
       "      <td>2</td>\n",
       "      <td>39</td>\n",
       "      <td>0</td>\n",
       "      <td>0</td>\n",
       "      <td>0</td>\n",
       "      <td>0</td>\n",
       "      <td>0</td>\n",
       "      <td>-1</td>\n",
       "      <td>38358.0</td>\n",
       "      <td>27688.0</td>\n",
       "      <td>24489.0</td>\n",
       "      <td>20616.0</td>\n",
       "      <td>11802.0</td>\n",
       "      <td>930.0</td>\n",
       "      <td>3000.0</td>\n",
       "      <td>1537.0</td>\n",
       "      <td>1000.0</td>\n",
       "      <td>2000.0</td>\n",
       "      <td>930.0</td>\n",
       "      <td>33764.0</td>\n",
       "      <td>0</td>\n",
       "    </tr>\n",
       "    <tr>\n",
       "      <th>17</th>\n",
       "      <td>21</td>\n",
       "      <td>17291</td>\n",
       "      <td>120000.0</td>\n",
       "      <td>2</td>\n",
       "      <td>2</td>\n",
       "      <td>1</td>\n",
       "      <td>39</td>\n",
       "      <td>-1</td>\n",
       "      <td>-1</td>\n",
       "      <td>-1</td>\n",
       "      <td>-1</td>\n",
       "      <td>-1</td>\n",
       "      <td>-1</td>\n",
       "      <td>316.0</td>\n",
       "      <td>316.0</td>\n",
       "      <td>316.0</td>\n",
       "      <td>0.0</td>\n",
       "      <td>632.0</td>\n",
       "      <td>316.0</td>\n",
       "      <td>316.0</td>\n",
       "      <td>316.0</td>\n",
       "      <td>0.0</td>\n",
       "      <td>632.0</td>\n",
       "      <td>316.0</td>\n",
       "      <td>0.0</td>\n",
       "      <td>1</td>\n",
       "    </tr>\n",
       "    <tr>\n",
       "      <th>18</th>\n",
       "      <td>23</td>\n",
       "      <td>15791</td>\n",
       "      <td>450000.0</td>\n",
       "      <td>2</td>\n",
       "      <td>1</td>\n",
       "      <td>1</td>\n",
       "      <td>40</td>\n",
       "      <td>-2</td>\n",
       "      <td>-2</td>\n",
       "      <td>-2</td>\n",
       "      <td>-2</td>\n",
       "      <td>-2</td>\n",
       "      <td>-2</td>\n",
       "      <td>5512.0</td>\n",
       "      <td>19420.0</td>\n",
       "      <td>1473.0</td>\n",
       "      <td>560.0</td>\n",
       "      <td>0.0</td>\n",
       "      <td>0.0</td>\n",
       "      <td>19428.0</td>\n",
       "      <td>1473.0</td>\n",
       "      <td>560.0</td>\n",
       "      <td>0.0</td>\n",
       "      <td>0.0</td>\n",
       "      <td>1128.0</td>\n",
       "      <td>1</td>\n",
       "    </tr>\n",
       "    <tr>\n",
       "      <th>19</th>\n",
       "      <td>24</td>\n",
       "      <td>17490</td>\n",
       "      <td>90000.0</td>\n",
       "      <td>1</td>\n",
       "      <td>1</td>\n",
       "      <td>2</td>\n",
       "      <td>23</td>\n",
       "      <td>0</td>\n",
       "      <td>0</td>\n",
       "      <td>0</td>\n",
       "      <td>-1</td>\n",
       "      <td>0</td>\n",
       "      <td>0</td>\n",
       "      <td>4744.0</td>\n",
       "      <td>7070.0</td>\n",
       "      <td>0.0</td>\n",
       "      <td>5398.0</td>\n",
       "      <td>6360.0</td>\n",
       "      <td>8292.0</td>\n",
       "      <td>5757.0</td>\n",
       "      <td>0.0</td>\n",
       "      <td>5398.0</td>\n",
       "      <td>1200.0</td>\n",
       "      <td>2045.0</td>\n",
       "      <td>2000.0</td>\n",
       "      <td>0</td>\n",
       "    </tr>\n",
       "  </tbody>\n",
       "</table>\n",
       "</div>"
      ],
      "text/plain": [
       "    Unnamed: 0     ID  ...  PAY_AMT6  default.payment.next.month\n",
       "0   0           7546   ...  0.0       1                         \n",
       "1   1           27999  ...  2000.0    1                         \n",
       "2   2           24653  ...  5000.0    0                         \n",
       "3   3           12758  ...  1000.0    0                         \n",
       "4   5           19638  ...  800.0     0                         \n",
       "5   8           7409   ...  1000.0    0                         \n",
       "6   9           3918   ...  0.0       0                         \n",
       "7   10          22917  ...  66.0      0                         \n",
       "8   11          3596   ...  3640.0    0                         \n",
       "9   12          20692  ...  0.0       0                         \n",
       "10  13          19202  ...  0.0       1                         \n",
       "11  14          12130  ...  3000.0    0                         \n",
       "12  15          1326   ...  1100.0    0                         \n",
       "13  16          6857   ...  0.0       1                         \n",
       "14  17          27786  ...  50000.0   0                         \n",
       "15  19          32613  ...  0.0       0                         \n",
       "16  20          14109  ...  33764.0   0                         \n",
       "17  21          17291  ...  0.0       1                         \n",
       "18  23          15791  ...  1128.0    1                         \n",
       "19  24          17490  ...  2000.0    0                         \n",
       "\n",
       "[20 rows x 26 columns]"
      ]
     },
     "execution_count": 5,
     "metadata": {
      "tags": []
     },
     "output_type": "execute_result"
    }
   ],
   "source": [
    "#Con un head(),sample() y tail() revisamos que la lectura de los ficheros ha sido correcta\n",
    "train.head(20)"
   ]
  },
  {
   "cell_type": "code",
   "execution_count": 6,
   "metadata": {
    "colab": {
     "base_uri": "https://localhost:8080/",
     "height": 179
    },
    "colab_type": "code",
    "executionInfo": {
     "elapsed": 143511,
     "status": "ok",
     "timestamp": 1573220236536,
     "user": {
      "displayName": "JOSU EGUIGUREN BALERDI",
      "photoUrl": "https://lh3.googleusercontent.com/a-/AAuE7mDLke1o9KUCGX86XGJWfNoQlhkTBh11oAljsUue=s64",
      "userId": "11962152349902680680"
     },
     "user_tz": -60
    },
    "id": "4iWYrLjJ4RKR",
    "outputId": "7ff3835c-dbde-4eda-c4ed-7666509d3015"
   },
   "outputs": [
    {
     "data": {
      "text/html": [
       "<div>\n",
       "<style scoped>\n",
       "    .dataframe tbody tr th:only-of-type {\n",
       "        vertical-align: middle;\n",
       "    }\n",
       "\n",
       "    .dataframe tbody tr th {\n",
       "        vertical-align: top;\n",
       "    }\n",
       "\n",
       "    .dataframe thead th {\n",
       "        text-align: right;\n",
       "    }\n",
       "</style>\n",
       "<table border=\"1\" class=\"dataframe\">\n",
       "  <thead>\n",
       "    <tr style=\"text-align: right;\">\n",
       "      <th></th>\n",
       "      <th>Unnamed: 0</th>\n",
       "      <th>ID</th>\n",
       "      <th>LIMIT_BAL</th>\n",
       "      <th>SEX</th>\n",
       "      <th>EDUCATION</th>\n",
       "      <th>MARRIAGE</th>\n",
       "      <th>AGE</th>\n",
       "      <th>PAY_0</th>\n",
       "      <th>PAY_2</th>\n",
       "      <th>PAY_3</th>\n",
       "      <th>PAY_4</th>\n",
       "      <th>PAY_5</th>\n",
       "      <th>PAY_6</th>\n",
       "      <th>BILL_AMT1</th>\n",
       "      <th>BILL_AMT2</th>\n",
       "      <th>BILL_AMT3</th>\n",
       "      <th>BILL_AMT4</th>\n",
       "      <th>BILL_AMT5</th>\n",
       "      <th>BILL_AMT6</th>\n",
       "      <th>PAY_AMT1</th>\n",
       "      <th>PAY_AMT2</th>\n",
       "      <th>PAY_AMT3</th>\n",
       "      <th>PAY_AMT4</th>\n",
       "      <th>PAY_AMT5</th>\n",
       "      <th>PAY_AMT6</th>\n",
       "      <th>default.payment.next.month</th>\n",
       "    </tr>\n",
       "  </thead>\n",
       "  <tbody>\n",
       "    <tr>\n",
       "      <th>3523</th>\n",
       "      <td>4997</td>\n",
       "      <td>27840</td>\n",
       "      <td>200000.0</td>\n",
       "      <td>2</td>\n",
       "      <td>2</td>\n",
       "      <td>1</td>\n",
       "      <td>45</td>\n",
       "      <td>0</td>\n",
       "      <td>0</td>\n",
       "      <td>0</td>\n",
       "      <td>0</td>\n",
       "      <td>0</td>\n",
       "      <td>0</td>\n",
       "      <td>193641.0</td>\n",
       "      <td>121830.0</td>\n",
       "      <td>122181.0</td>\n",
       "      <td>121888.0</td>\n",
       "      <td>66771.0</td>\n",
       "      <td>65495.0</td>\n",
       "      <td>4543.0</td>\n",
       "      <td>5000.0</td>\n",
       "      <td>4500.0</td>\n",
       "      <td>3100.0</td>\n",
       "      <td>3000.0</td>\n",
       "      <td>1300.0</td>\n",
       "      <td>1</td>\n",
       "    </tr>\n",
       "    <tr>\n",
       "      <th>7303</th>\n",
       "      <td>10406</td>\n",
       "      <td>13508</td>\n",
       "      <td>360000.0</td>\n",
       "      <td>1</td>\n",
       "      <td>1</td>\n",
       "      <td>2</td>\n",
       "      <td>29</td>\n",
       "      <td>-2</td>\n",
       "      <td>-2</td>\n",
       "      <td>-2</td>\n",
       "      <td>-2</td>\n",
       "      <td>-2</td>\n",
       "      <td>-2</td>\n",
       "      <td>12018.0</td>\n",
       "      <td>31282.0</td>\n",
       "      <td>28823.0</td>\n",
       "      <td>51120.0</td>\n",
       "      <td>2222.0</td>\n",
       "      <td>-34.0</td>\n",
       "      <td>32038.0</td>\n",
       "      <td>28982.0</td>\n",
       "      <td>51379.0</td>\n",
       "      <td>2233.0</td>\n",
       "      <td>0.0</td>\n",
       "      <td>0.0</td>\n",
       "      <td>0</td>\n",
       "    </tr>\n",
       "    <tr>\n",
       "      <th>5097</th>\n",
       "      <td>7254</td>\n",
       "      <td>10732</td>\n",
       "      <td>60000.0</td>\n",
       "      <td>1</td>\n",
       "      <td>3</td>\n",
       "      <td>3</td>\n",
       "      <td>43</td>\n",
       "      <td>0</td>\n",
       "      <td>0</td>\n",
       "      <td>0</td>\n",
       "      <td>0</td>\n",
       "      <td>0</td>\n",
       "      <td>0</td>\n",
       "      <td>70367.0</td>\n",
       "      <td>66657.0</td>\n",
       "      <td>63553.0</td>\n",
       "      <td>59633.0</td>\n",
       "      <td>55689.0</td>\n",
       "      <td>52778.0</td>\n",
       "      <td>2415.0</td>\n",
       "      <td>3000.0</td>\n",
       "      <td>2125.0</td>\n",
       "      <td>2007.0</td>\n",
       "      <td>3000.0</td>\n",
       "      <td>1758.0</td>\n",
       "      <td>0</td>\n",
       "    </tr>\n",
       "  </tbody>\n",
       "</table>\n",
       "</div>"
      ],
      "text/plain": [
       "      Unnamed: 0     ID  ...  PAY_AMT6  default.payment.next.month\n",
       "3523  4997        27840  ...  1300.0    1                         \n",
       "7303  10406       13508  ...  0.0       0                         \n",
       "5097  7254        10732  ...  1758.0    0                         \n",
       "\n",
       "[3 rows x 26 columns]"
      ]
     },
     "execution_count": 6,
     "metadata": {
      "tags": []
     },
     "output_type": "execute_result"
    }
   ],
   "source": [
    "train.sample(3)"
   ]
  },
  {
   "cell_type": "code",
   "execution_count": 7,
   "metadata": {
    "colab": {
     "base_uri": "https://localhost:8080/",
     "height": 179
    },
    "colab_type": "code",
    "executionInfo": {
     "elapsed": 143503,
     "status": "ok",
     "timestamp": 1573220236539,
     "user": {
      "displayName": "JOSU EGUIGUREN BALERDI",
      "photoUrl": "https://lh3.googleusercontent.com/a-/AAuE7mDLke1o9KUCGX86XGJWfNoQlhkTBh11oAljsUue=s64",
      "userId": "11962152349902680680"
     },
     "user_tz": -60
    },
    "id": "ACEX0KFx4ShJ",
    "outputId": "20318fce-66e8-44da-818c-1fd35f09ddca"
   },
   "outputs": [
    {
     "data": {
      "text/html": [
       "<div>\n",
       "<style scoped>\n",
       "    .dataframe tbody tr th:only-of-type {\n",
       "        vertical-align: middle;\n",
       "    }\n",
       "\n",
       "    .dataframe tbody tr th {\n",
       "        vertical-align: top;\n",
       "    }\n",
       "\n",
       "    .dataframe thead th {\n",
       "        text-align: right;\n",
       "    }\n",
       "</style>\n",
       "<table border=\"1\" class=\"dataframe\">\n",
       "  <thead>\n",
       "    <tr style=\"text-align: right;\">\n",
       "      <th></th>\n",
       "      <th>Unnamed: 0</th>\n",
       "      <th>ID</th>\n",
       "      <th>LIMIT_BAL</th>\n",
       "      <th>SEX</th>\n",
       "      <th>EDUCATION</th>\n",
       "      <th>MARRIAGE</th>\n",
       "      <th>AGE</th>\n",
       "      <th>PAY_0</th>\n",
       "      <th>PAY_2</th>\n",
       "      <th>PAY_3</th>\n",
       "      <th>PAY_4</th>\n",
       "      <th>PAY_5</th>\n",
       "      <th>PAY_6</th>\n",
       "      <th>BILL_AMT1</th>\n",
       "      <th>BILL_AMT2</th>\n",
       "      <th>BILL_AMT3</th>\n",
       "      <th>BILL_AMT4</th>\n",
       "      <th>BILL_AMT5</th>\n",
       "      <th>BILL_AMT6</th>\n",
       "      <th>PAY_AMT1</th>\n",
       "      <th>PAY_AMT2</th>\n",
       "      <th>PAY_AMT3</th>\n",
       "      <th>PAY_AMT4</th>\n",
       "      <th>PAY_AMT5</th>\n",
       "      <th>PAY_AMT6</th>\n",
       "      <th>default.payment.next.month</th>\n",
       "    </tr>\n",
       "  </thead>\n",
       "  <tbody>\n",
       "    <tr>\n",
       "      <th>23097</th>\n",
       "      <td>32994</td>\n",
       "      <td>26025</td>\n",
       "      <td>50000.0</td>\n",
       "      <td>2</td>\n",
       "      <td>1</td>\n",
       "      <td>2</td>\n",
       "      <td>28</td>\n",
       "      <td>-2</td>\n",
       "      <td>-1</td>\n",
       "      <td>0</td>\n",
       "      <td>0</td>\n",
       "      <td>0</td>\n",
       "      <td>-1</td>\n",
       "      <td>2427.0</td>\n",
       "      <td>99895.0</td>\n",
       "      <td>23946.0</td>\n",
       "      <td>0.0</td>\n",
       "      <td>169821.0</td>\n",
       "      <td>-600.0</td>\n",
       "      <td>1921.0</td>\n",
       "      <td>8000.0</td>\n",
       "      <td>2989.0</td>\n",
       "      <td>1500.0</td>\n",
       "      <td>4867.0</td>\n",
       "      <td>2500.0</td>\n",
       "      <td>1</td>\n",
       "    </tr>\n",
       "    <tr>\n",
       "      <th>23098</th>\n",
       "      <td>32995</td>\n",
       "      <td>24330</td>\n",
       "      <td>60000.0</td>\n",
       "      <td>1</td>\n",
       "      <td>2</td>\n",
       "      <td>2</td>\n",
       "      <td>34</td>\n",
       "      <td>0</td>\n",
       "      <td>0</td>\n",
       "      <td>-1</td>\n",
       "      <td>-2</td>\n",
       "      <td>0</td>\n",
       "      <td>-1</td>\n",
       "      <td>9211.0</td>\n",
       "      <td>9017.0</td>\n",
       "      <td>129752.0</td>\n",
       "      <td>14188.0</td>\n",
       "      <td>19630.0</td>\n",
       "      <td>30064.0</td>\n",
       "      <td>4000.0</td>\n",
       "      <td>7000.0</td>\n",
       "      <td>2000.0</td>\n",
       "      <td>2688.0</td>\n",
       "      <td>1331.0</td>\n",
       "      <td>390.0</td>\n",
       "      <td>1</td>\n",
       "    </tr>\n",
       "    <tr>\n",
       "      <th>23099</th>\n",
       "      <td>32997</td>\n",
       "      <td>7936</td>\n",
       "      <td>50000.0</td>\n",
       "      <td>2</td>\n",
       "      <td>1</td>\n",
       "      <td>2</td>\n",
       "      <td>27</td>\n",
       "      <td>0</td>\n",
       "      <td>2</td>\n",
       "      <td>-1</td>\n",
       "      <td>2</td>\n",
       "      <td>-2</td>\n",
       "      <td>0</td>\n",
       "      <td>78317.0</td>\n",
       "      <td>0.0</td>\n",
       "      <td>11349.0</td>\n",
       "      <td>12460.0</td>\n",
       "      <td>18694.0</td>\n",
       "      <td>95849.0</td>\n",
       "      <td>3470.0</td>\n",
       "      <td>18069.0</td>\n",
       "      <td>1890.0</td>\n",
       "      <td>5000.0</td>\n",
       "      <td>0.0</td>\n",
       "      <td>1179.0</td>\n",
       "      <td>1</td>\n",
       "    </tr>\n",
       "  </tbody>\n",
       "</table>\n",
       "</div>"
      ],
      "text/plain": [
       "       Unnamed: 0     ID  ...  PAY_AMT6  default.payment.next.month\n",
       "23097  32994       26025  ...  2500.0    1                         \n",
       "23098  32995       24330  ...  390.0     1                         \n",
       "23099  32997       7936   ...  1179.0    1                         \n",
       "\n",
       "[3 rows x 26 columns]"
      ]
     },
     "execution_count": 7,
     "metadata": {
      "tags": []
     },
     "output_type": "execute_result"
    }
   ],
   "source": [
    "train.tail(3)"
   ]
  },
  {
   "cell_type": "code",
   "execution_count": 8,
   "metadata": {
    "colab": {
     "base_uri": "https://localhost:8080/",
     "height": 317
    },
    "colab_type": "code",
    "executionInfo": {
     "elapsed": 143926,
     "status": "ok",
     "timestamp": 1573220236974,
     "user": {
      "displayName": "JOSU EGUIGUREN BALERDI",
      "photoUrl": "https://lh3.googleusercontent.com/a-/AAuE7mDLke1o9KUCGX86XGJWfNoQlhkTBh11oAljsUue=s64",
      "userId": "11962152349902680680"
     },
     "user_tz": -60
    },
    "id": "Hy7KNuETEZQ4",
    "outputId": "06ca4192-3aea-4578-8f69-5dbc48eda182"
   },
   "outputs": [
    {
     "data": {
      "text/html": [
       "<div>\n",
       "<style scoped>\n",
       "    .dataframe tbody tr th:only-of-type {\n",
       "        vertical-align: middle;\n",
       "    }\n",
       "\n",
       "    .dataframe tbody tr th {\n",
       "        vertical-align: top;\n",
       "    }\n",
       "\n",
       "    .dataframe thead th {\n",
       "        text-align: right;\n",
       "    }\n",
       "</style>\n",
       "<table border=\"1\" class=\"dataframe\">\n",
       "  <thead>\n",
       "    <tr style=\"text-align: right;\">\n",
       "      <th></th>\n",
       "      <th>Unnamed: 0</th>\n",
       "      <th>ID</th>\n",
       "      <th>LIMIT_BAL</th>\n",
       "      <th>SEX</th>\n",
       "      <th>EDUCATION</th>\n",
       "      <th>MARRIAGE</th>\n",
       "      <th>AGE</th>\n",
       "      <th>PAY_0</th>\n",
       "      <th>PAY_2</th>\n",
       "      <th>PAY_3</th>\n",
       "      <th>PAY_4</th>\n",
       "      <th>PAY_5</th>\n",
       "      <th>PAY_6</th>\n",
       "      <th>BILL_AMT1</th>\n",
       "      <th>BILL_AMT2</th>\n",
       "      <th>BILL_AMT3</th>\n",
       "      <th>BILL_AMT4</th>\n",
       "      <th>BILL_AMT5</th>\n",
       "      <th>BILL_AMT6</th>\n",
       "      <th>PAY_AMT1</th>\n",
       "      <th>PAY_AMT2</th>\n",
       "      <th>PAY_AMT3</th>\n",
       "      <th>PAY_AMT4</th>\n",
       "      <th>PAY_AMT5</th>\n",
       "      <th>PAY_AMT6</th>\n",
       "      <th>default.payment.next.month</th>\n",
       "    </tr>\n",
       "  </thead>\n",
       "  <tbody>\n",
       "    <tr>\n",
       "      <th>count</th>\n",
       "      <td>23100.000000</td>\n",
       "      <td>23100.000000</td>\n",
       "      <td>23100.000000</td>\n",
       "      <td>23100.000000</td>\n",
       "      <td>23100.000000</td>\n",
       "      <td>23100.000000</td>\n",
       "      <td>23100.000000</td>\n",
       "      <td>23100.000000</td>\n",
       "      <td>23100.000000</td>\n",
       "      <td>23100.000000</td>\n",
       "      <td>23100.000000</td>\n",
       "      <td>23100.000000</td>\n",
       "      <td>23100.000000</td>\n",
       "      <td>23100.000000</td>\n",
       "      <td>23100.000000</td>\n",
       "      <td>2.310000e+04</td>\n",
       "      <td>23100.000000</td>\n",
       "      <td>23100.000000</td>\n",
       "      <td>23100.000000</td>\n",
       "      <td>23100.000000</td>\n",
       "      <td>2.310000e+04</td>\n",
       "      <td>23100.000000</td>\n",
       "      <td>23100.000000</td>\n",
       "      <td>23100.000000</td>\n",
       "      <td>23100.000000</td>\n",
       "      <td>23100.000000</td>\n",
       "    </tr>\n",
       "    <tr>\n",
       "      <th>mean</th>\n",
       "      <td>16474.670476</td>\n",
       "      <td>16468.563896</td>\n",
       "      <td>167989.163636</td>\n",
       "      <td>1.602208</td>\n",
       "      <td>1.852208</td>\n",
       "      <td>1.549913</td>\n",
       "      <td>35.455325</td>\n",
       "      <td>-0.019048</td>\n",
       "      <td>-0.135801</td>\n",
       "      <td>-0.158658</td>\n",
       "      <td>-0.212684</td>\n",
       "      <td>-0.260130</td>\n",
       "      <td>-0.287749</td>\n",
       "      <td>51498.252294</td>\n",
       "      <td>49146.355022</td>\n",
       "      <td>4.722492e+04</td>\n",
       "      <td>43325.902944</td>\n",
       "      <td>40500.097273</td>\n",
       "      <td>39217.749048</td>\n",
       "      <td>5669.638095</td>\n",
       "      <td>5.888583e+03</td>\n",
       "      <td>5129.960433</td>\n",
       "      <td>4853.600823</td>\n",
       "      <td>4720.761861</td>\n",
       "      <td>5123.908528</td>\n",
       "      <td>0.219610</td>\n",
       "    </tr>\n",
       "    <tr>\n",
       "      <th>std</th>\n",
       "      <td>9525.801909</td>\n",
       "      <td>9550.228241</td>\n",
       "      <td>129338.546909</td>\n",
       "      <td>0.489453</td>\n",
       "      <td>0.793045</td>\n",
       "      <td>0.521973</td>\n",
       "      <td>9.183387</td>\n",
       "      <td>1.127785</td>\n",
       "      <td>1.202206</td>\n",
       "      <td>1.205919</td>\n",
       "      <td>1.172068</td>\n",
       "      <td>1.138868</td>\n",
       "      <td>1.152518</td>\n",
       "      <td>73352.059617</td>\n",
       "      <td>70438.086129</td>\n",
       "      <td>6.943315e+04</td>\n",
       "      <td>64198.241095</td>\n",
       "      <td>60637.587470</td>\n",
       "      <td>59534.495324</td>\n",
       "      <td>15836.304600</td>\n",
       "      <td>2.388192e+04</td>\n",
       "      <td>16070.701800</td>\n",
       "      <td>15444.795302</td>\n",
       "      <td>14580.017686</td>\n",
       "      <td>16965.122468</td>\n",
       "      <td>0.413992</td>\n",
       "    </tr>\n",
       "    <tr>\n",
       "      <th>min</th>\n",
       "      <td>0.000000</td>\n",
       "      <td>1.000000</td>\n",
       "      <td>10000.000000</td>\n",
       "      <td>1.000000</td>\n",
       "      <td>0.000000</td>\n",
       "      <td>0.000000</td>\n",
       "      <td>21.000000</td>\n",
       "      <td>-2.000000</td>\n",
       "      <td>-2.000000</td>\n",
       "      <td>-2.000000</td>\n",
       "      <td>-2.000000</td>\n",
       "      <td>-2.000000</td>\n",
       "      <td>-2.000000</td>\n",
       "      <td>-165580.000000</td>\n",
       "      <td>-69777.000000</td>\n",
       "      <td>-1.572640e+05</td>\n",
       "      <td>-170000.000000</td>\n",
       "      <td>-61372.000000</td>\n",
       "      <td>-339603.000000</td>\n",
       "      <td>0.000000</td>\n",
       "      <td>0.000000e+00</td>\n",
       "      <td>0.000000</td>\n",
       "      <td>0.000000</td>\n",
       "      <td>0.000000</td>\n",
       "      <td>0.000000</td>\n",
       "      <td>0.000000</td>\n",
       "    </tr>\n",
       "    <tr>\n",
       "      <th>25%</th>\n",
       "      <td>8233.750000</td>\n",
       "      <td>8139.750000</td>\n",
       "      <td>50000.000000</td>\n",
       "      <td>1.000000</td>\n",
       "      <td>1.000000</td>\n",
       "      <td>1.000000</td>\n",
       "      <td>28.000000</td>\n",
       "      <td>-1.000000</td>\n",
       "      <td>-1.000000</td>\n",
       "      <td>-1.000000</td>\n",
       "      <td>-1.000000</td>\n",
       "      <td>-1.000000</td>\n",
       "      <td>-1.000000</td>\n",
       "      <td>3610.750000</td>\n",
       "      <td>2986.000000</td>\n",
       "      <td>2.754000e+03</td>\n",
       "      <td>2299.500000</td>\n",
       "      <td>1792.750000</td>\n",
       "      <td>1294.750000</td>\n",
       "      <td>1000.000000</td>\n",
       "      <td>8.315000e+02</td>\n",
       "      <td>390.000000</td>\n",
       "      <td>300.000000</td>\n",
       "      <td>230.000000</td>\n",
       "      <td>111.750000</td>\n",
       "      <td>0.000000</td>\n",
       "    </tr>\n",
       "    <tr>\n",
       "      <th>50%</th>\n",
       "      <td>16468.500000</td>\n",
       "      <td>16459.500000</td>\n",
       "      <td>140000.000000</td>\n",
       "      <td>2.000000</td>\n",
       "      <td>2.000000</td>\n",
       "      <td>2.000000</td>\n",
       "      <td>34.000000</td>\n",
       "      <td>0.000000</td>\n",
       "      <td>0.000000</td>\n",
       "      <td>0.000000</td>\n",
       "      <td>0.000000</td>\n",
       "      <td>0.000000</td>\n",
       "      <td>0.000000</td>\n",
       "      <td>22375.000000</td>\n",
       "      <td>21410.000000</td>\n",
       "      <td>2.012450e+04</td>\n",
       "      <td>18950.000000</td>\n",
       "      <td>18152.500000</td>\n",
       "      <td>17206.000000</td>\n",
       "      <td>2134.000000</td>\n",
       "      <td>2.015000e+03</td>\n",
       "      <td>1800.000000</td>\n",
       "      <td>1500.000000</td>\n",
       "      <td>1500.000000</td>\n",
       "      <td>1500.000000</td>\n",
       "      <td>0.000000</td>\n",
       "    </tr>\n",
       "    <tr>\n",
       "      <th>75%</th>\n",
       "      <td>24694.500000</td>\n",
       "      <td>24743.250000</td>\n",
       "      <td>240000.000000</td>\n",
       "      <td>2.000000</td>\n",
       "      <td>2.000000</td>\n",
       "      <td>2.000000</td>\n",
       "      <td>41.000000</td>\n",
       "      <td>0.000000</td>\n",
       "      <td>0.000000</td>\n",
       "      <td>0.000000</td>\n",
       "      <td>0.000000</td>\n",
       "      <td>0.000000</td>\n",
       "      <td>0.000000</td>\n",
       "      <td>67938.500000</td>\n",
       "      <td>64397.500000</td>\n",
       "      <td>6.095400e+04</td>\n",
       "      <td>54814.250000</td>\n",
       "      <td>50590.000000</td>\n",
       "      <td>49784.500000</td>\n",
       "      <td>5014.000000</td>\n",
       "      <td>5.000000e+03</td>\n",
       "      <td>4500.000000</td>\n",
       "      <td>4006.000000</td>\n",
       "      <td>4058.500000</td>\n",
       "      <td>4000.000000</td>\n",
       "      <td>0.000000</td>\n",
       "    </tr>\n",
       "    <tr>\n",
       "      <th>max</th>\n",
       "      <td>32997.000000</td>\n",
       "      <td>33000.000000</td>\n",
       "      <td>800000.000000</td>\n",
       "      <td>2.000000</td>\n",
       "      <td>6.000000</td>\n",
       "      <td>3.000000</td>\n",
       "      <td>79.000000</td>\n",
       "      <td>8.000000</td>\n",
       "      <td>8.000000</td>\n",
       "      <td>8.000000</td>\n",
       "      <td>8.000000</td>\n",
       "      <td>8.000000</td>\n",
       "      <td>8.000000</td>\n",
       "      <td>964511.000000</td>\n",
       "      <td>743970.000000</td>\n",
       "      <td>1.664089e+06</td>\n",
       "      <td>706864.000000</td>\n",
       "      <td>823540.000000</td>\n",
       "      <td>699944.000000</td>\n",
       "      <td>505000.000000</td>\n",
       "      <td>1.684259e+06</td>\n",
       "      <td>508229.000000</td>\n",
       "      <td>497000.000000</td>\n",
       "      <td>426529.000000</td>\n",
       "      <td>527143.000000</td>\n",
       "      <td>1.000000</td>\n",
       "    </tr>\n",
       "  </tbody>\n",
       "</table>\n",
       "</div>"
      ],
      "text/plain": [
       "         Unnamed: 0            ID  ...       PAY_AMT6  default.payment.next.month\n",
       "count  23100.000000  23100.000000  ...  23100.000000   23100.000000              \n",
       "mean   16474.670476  16468.563896  ...  5123.908528    0.219610                  \n",
       "std    9525.801909   9550.228241   ...  16965.122468   0.413992                  \n",
       "min    0.000000      1.000000      ...  0.000000       0.000000                  \n",
       "25%    8233.750000   8139.750000   ...  111.750000     0.000000                  \n",
       "50%    16468.500000  16459.500000  ...  1500.000000    0.000000                  \n",
       "75%    24694.500000  24743.250000  ...  4000.000000    0.000000                  \n",
       "max    32997.000000  33000.000000  ...  527143.000000  1.000000                  \n",
       "\n",
       "[8 rows x 26 columns]"
      ]
     },
     "execution_count": 8,
     "metadata": {
      "tags": []
     },
     "output_type": "execute_result"
    }
   ],
   "source": [
    "#Realizamos un describe para ver el número de clientes que estamos analizando (count), así como los principales estadísticos de las variables\n",
    "train.describe()"
   ]
  },
  {
   "cell_type": "code",
   "execution_count": 9,
   "metadata": {
    "colab": {
     "base_uri": "https://localhost:8080/",
     "height": 34
    },
    "colab_type": "code",
    "executionInfo": {
     "elapsed": 143917,
     "status": "ok",
     "timestamp": 1573220236976,
     "user": {
      "displayName": "JOSU EGUIGUREN BALERDI",
      "photoUrl": "https://lh3.googleusercontent.com/a-/AAuE7mDLke1o9KUCGX86XGJWfNoQlhkTBh11oAljsUue=s64",
      "userId": "11962152349902680680"
     },
     "user_tz": -60
    },
    "id": "bXknMV0sAA3w",
    "outputId": "47a21f55-279b-41a7-856f-6a295b31994c"
   },
   "outputs": [
    {
     "data": {
      "text/plain": [
       "23100"
      ]
     },
     "execution_count": 9,
     "metadata": {
      "tags": []
     },
     "output_type": "execute_result"
    }
   ],
   "source": [
    "#Vemos si existen clientes con más de un crédito\n",
    "train['ID'].nunique()"
   ]
  },
  {
   "cell_type": "markdown",
   "metadata": {
    "colab_type": "text",
    "id": "eUPWx68luiHs"
   },
   "source": [
    "Al observar el describe podemos identificar algunas primeras ideas siguiente:\n",
    "\n",
    "*   Tenemos  23.100 créditos de diferentes clientes\n",
    "*   La edad media es 35,45 años, \n",
    "*   El porcentaje de créditos impagados está en torno a un 22%\n",
    "*   El valor promedio de los créditos es de 167.989 $ taiwaneses\n",
    "\n"
   ]
  },
  {
   "cell_type": "code",
   "execution_count": 10,
   "metadata": {
    "colab": {
     "base_uri": "https://localhost:8080/",
     "height": 34
    },
    "colab_type": "code",
    "executionInfo": {
     "elapsed": 143904,
     "status": "ok",
     "timestamp": 1573220236977,
     "user": {
      "displayName": "JOSU EGUIGUREN BALERDI",
      "photoUrl": "https://lh3.googleusercontent.com/a-/AAuE7mDLke1o9KUCGX86XGJWfNoQlhkTBh11oAljsUue=s64",
      "userId": "11962152349902680680"
     },
     "user_tz": -60
    },
    "id": "Sg6dhbjg18Qi",
    "outputId": "142ea691-def3-4553-fea4-2243da161d99"
   },
   "outputs": [
    {
     "data": {
      "text/plain": [
       "(23100, 26)"
      ]
     },
     "execution_count": 10,
     "metadata": {
      "tags": []
     },
     "output_type": "execute_result"
    }
   ],
   "source": [
    "#Vemos el número de variables que contienen el dataset\n",
    "train.shape"
   ]
  },
  {
   "cell_type": "markdown",
   "metadata": {
    "colab_type": "text",
    "id": "CNQQ_phE2qAY"
   },
   "source": [
    "## Data Wrangling\n"
   ]
  },
  {
   "cell_type": "markdown",
   "metadata": {
    "colab_type": "text",
    "id": "Z1JHSl_AdWCs"
   },
   "source": [
    "\n",
    "### Cambiar los nombres de las columnas para que cumplan buenas prácticas"
   ]
  },
  {
   "cell_type": "code",
   "execution_count": 0,
   "metadata": {
    "colab": {},
    "colab_type": "code",
    "id": "pPjGrnwR4rph"
   },
   "outputs": [],
   "source": [
    "#Hacemos que todos los nombres de las variables estén en minúscula\n",
    "train.columns = [x.lower() for x in train.columns]"
   ]
  },
  {
   "cell_type": "code",
   "execution_count": 12,
   "metadata": {
    "colab": {
     "base_uri": "https://localhost:8080/",
     "height": 119
    },
    "colab_type": "code",
    "executionInfo": {
     "elapsed": 143886,
     "status": "ok",
     "timestamp": 1573220236978,
     "user": {
      "displayName": "JOSU EGUIGUREN BALERDI",
      "photoUrl": "https://lh3.googleusercontent.com/a-/AAuE7mDLke1o9KUCGX86XGJWfNoQlhkTBh11oAljsUue=s64",
      "userId": "11962152349902680680"
     },
     "user_tz": -60
    },
    "id": "dnWGN-lQ4wrZ",
    "outputId": "96ec556a-4a4f-478d-8fe9-b28ce911a40e"
   },
   "outputs": [
    {
     "data": {
      "text/plain": [
       "Index(['unnamed: 0', 'id', 'limit_bal', 'sex', 'education', 'marriage', 'age',\n",
       "       'pay_0', 'pay_2', 'pay_3', 'pay_4', 'pay_5', 'pay_6', 'bill_amt1',\n",
       "       'bill_amt2', 'bill_amt3', 'bill_amt4', 'bill_amt5', 'bill_amt6',\n",
       "       'pay_amt1', 'pay_amt2', 'pay_amt3', 'pay_amt4', 'pay_amt5', 'pay_amt6',\n",
       "       'default.payment.next.month'],\n",
       "      dtype='object')"
      ]
     },
     "execution_count": 12,
     "metadata": {
      "tags": []
     },
     "output_type": "execute_result"
    }
   ],
   "source": [
    "train.columns"
   ]
  },
  {
   "cell_type": "markdown",
   "metadata": {
    "colab_type": "text",
    "id": "URdu1LLm0H9b"
   },
   "source": [
    "### Estudiar el formato de las variables, ver cuáles se deberían modificar y modificarlas cuando se considere oportuno"
   ]
  },
  {
   "cell_type": "code",
   "execution_count": 13,
   "metadata": {
    "colab": {
     "base_uri": "https://localhost:8080/",
     "height": 476
    },
    "colab_type": "code",
    "executionInfo": {
     "elapsed": 143872,
     "status": "ok",
     "timestamp": 1573220236979,
     "user": {
      "displayName": "JOSU EGUIGUREN BALERDI",
      "photoUrl": "https://lh3.googleusercontent.com/a-/AAuE7mDLke1o9KUCGX86XGJWfNoQlhkTBh11oAljsUue=s64",
      "userId": "11962152349902680680"
     },
     "user_tz": -60
    },
    "id": "23goXoq42sty",
    "outputId": "91004729-2254-48b5-dc37-dcef869e1187"
   },
   "outputs": [
    {
     "data": {
      "text/plain": [
       "unnamed: 0                    int64  \n",
       "id                            int64  \n",
       "limit_bal                     float64\n",
       "sex                           int64  \n",
       "education                     int64  \n",
       "marriage                      int64  \n",
       "age                           int64  \n",
       "pay_0                         int64  \n",
       "pay_2                         int64  \n",
       "pay_3                         int64  \n",
       "pay_4                         int64  \n",
       "pay_5                         int64  \n",
       "pay_6                         int64  \n",
       "bill_amt1                     float64\n",
       "bill_amt2                     float64\n",
       "bill_amt3                     float64\n",
       "bill_amt4                     float64\n",
       "bill_amt5                     float64\n",
       "bill_amt6                     float64\n",
       "pay_amt1                      float64\n",
       "pay_amt2                      float64\n",
       "pay_amt3                      float64\n",
       "pay_amt4                      float64\n",
       "pay_amt5                      float64\n",
       "pay_amt6                      float64\n",
       "default.payment.next.month    int64  \n",
       "dtype: object"
      ]
     },
     "execution_count": 13,
     "metadata": {
      "tags": []
     },
     "output_type": "execute_result"
    }
   ],
   "source": [
    "#Comprobamos los tipos de los datos y revisamos los datos para ver si tenemos que cambiar algún tipo\n",
    "train.dtypes"
   ]
  },
  {
   "cell_type": "markdown",
   "metadata": {
    "colab_type": "text",
    "id": "JwE1mZ2Nd6vG"
   },
   "source": [
    "Por lo que observamos, los nombres de las variables:\n",
    "\n",
    "*  pay_n: estado de reembolso en el mes n\n",
    "*  bill_amtn: saldo en la cuenta corriente donde se carga la deuda en el mes n\n",
    "*  pay_amtn= importe del pago en anterior en el mes n\n",
    "\n",
    "Son algo confusos ya que cuando n=0 estamos hablando del momento más cercano en el tiempo, lo que haremos será renombrarlas para tenerlas ordenadas cronológicamente (igual después nos sirve si hacemos un diagrama en el que una variable es el tiempo).\n",
    "\n",
    "La variable objeto de estudio también la renombramos a \"default\" por comodidad y por cumplir las buenas prácticas ya que trabajaremos con ella posteriormente. Tenemos en cuenta que default= 1 quiere decir que el cliente no ha pagado el crédito"
   ]
  },
  {
   "cell_type": "code",
   "execution_count": 0,
   "metadata": {
    "colab": {},
    "colab_type": "code",
    "id": "LFKYwaQh-K3X"
   },
   "outputs": [],
   "source": [
    "train = train.rename(columns={'default.payment.next.month':'default','pay_0':'repay_status_sep05',\n",
    "                      'pay_2':'repay_status_aug05','pay_3':'repay_status_jul05','pay_4':'repay_status_jun05',\n",
    "                      'pay_5':'repay_status_may05','pay_6':'repay_status_apr05','bill_amt1':'bill_amt_sep05',\n",
    "                      'bill_amt2':'bill_amt_aug05','bill_amt3':'bill_amt_jul05','bill_amt4':'bill_amt_jun05',\n",
    "                      'bill_amt5':'bill_amt_may05','bill_amt6':'bill_amt_apr05','pay_amt1':'pay_amt_sep05',\n",
    "                      'pay_amt2':'pay_amt_aug05','pay_amt3':'pay_amt_jul05','pay_amt4':'pay_amt_jun05',\n",
    "                      'pay_amt5':'pay_amt_may05','pay_amt6':'pay_amt_apr05'})"
   ]
  },
  {
   "cell_type": "code",
   "execution_count": 15,
   "metadata": {
    "colab": {
     "base_uri": "https://localhost:8080/",
     "height": 34
    },
    "colab_type": "code",
    "executionInfo": {
     "elapsed": 143858,
     "status": "ok",
     "timestamp": 1573220236980,
     "user": {
      "displayName": "JOSU EGUIGUREN BALERDI",
      "photoUrl": "https://lh3.googleusercontent.com/a-/AAuE7mDLke1o9KUCGX86XGJWfNoQlhkTBh11oAljsUue=s64",
      "userId": "11962152349902680680"
     },
     "user_tz": -60
    },
    "id": "z6ZwnMAr2xhL",
    "outputId": "f8d79fd9-b6ae-4589-bba3-aa58eb886d34"
   },
   "outputs": [
    {
     "name": "stdout",
     "output_type": "stream",
     "text": [
      "(23100, 25)\n"
     ]
    }
   ],
   "source": [
    "#Eliminamos la variable 'unnamed: 0', ya que no aporta información relevante al modelo\n",
    "train = train.drop(columns=['unnamed: 0'])\n",
    "print(train.shape)"
   ]
  },
  {
   "cell_type": "code",
   "execution_count": 0,
   "metadata": {
    "colab": {},
    "colab_type": "code",
    "id": "Aky8gln47mDB"
   },
   "outputs": [],
   "source": [
    "#Cambiamos el tipo de dato de las variables ID , education y marriage porque no vamos a hacer operaciones con ellos \n",
    "#y son códigos que equivalen a determinados estados\n",
    "train['id']=train['id'].astype('str')\n",
    "train['education']=train['education'].astype('str')\n",
    "train['marriage']=train['marriage'].astype('str')"
   ]
  },
  {
   "cell_type": "code",
   "execution_count": 17,
   "metadata": {
    "colab": {
     "base_uri": "https://localhost:8080/",
     "height": 459
    },
    "colab_type": "code",
    "executionInfo": {
     "elapsed": 143846,
     "status": "ok",
     "timestamp": 1573220236982,
     "user": {
      "displayName": "JOSU EGUIGUREN BALERDI",
      "photoUrl": "https://lh3.googleusercontent.com/a-/AAuE7mDLke1o9KUCGX86XGJWfNoQlhkTBh11oAljsUue=s64",
      "userId": "11962152349902680680"
     },
     "user_tz": -60
    },
    "id": "AmFARKam9Ah6",
    "outputId": "711c57af-005f-4629-d924-b8c2e0120bb4"
   },
   "outputs": [
    {
     "data": {
      "text/plain": [
       "id                    object \n",
       "limit_bal             float64\n",
       "sex                   int64  \n",
       "education             object \n",
       "marriage              object \n",
       "age                   int64  \n",
       "repay_status_sep05    int64  \n",
       "repay_status_aug05    int64  \n",
       "repay_status_jul05    int64  \n",
       "repay_status_jun05    int64  \n",
       "repay_status_may05    int64  \n",
       "repay_status_apr05    int64  \n",
       "bill_amt_sep05        float64\n",
       "bill_amt_aug05        float64\n",
       "bill_amt_jul05        float64\n",
       "bill_amt_jun05        float64\n",
       "bill_amt_may05        float64\n",
       "bill_amt_apr05        float64\n",
       "pay_amt_sep05         float64\n",
       "pay_amt_aug05         float64\n",
       "pay_amt_jul05         float64\n",
       "pay_amt_jun05         float64\n",
       "pay_amt_may05         float64\n",
       "pay_amt_apr05         float64\n",
       "default               int64  \n",
       "dtype: object"
      ]
     },
     "execution_count": 17,
     "metadata": {
      "tags": []
     },
     "output_type": "execute_result"
    }
   ],
   "source": [
    "#Revisamos que las variables modificadas ahora son String\n",
    "train.dtypes"
   ]
  },
  {
   "cell_type": "code",
   "execution_count": 0,
   "metadata": {
    "colab": {},
    "colab_type": "code",
    "id": "SLvYi-tMsEVl"
   },
   "outputs": [],
   "source": [
    "#Convertimos los estados \"Unknown\" de la variable 'Education' en nulos para ajustar los datos a la descripción del dataset\n",
    "#Hacemos lo mismo con el valor 0 de la variable 'Marriage', ya que no se contempla ese valor en la descripción\n",
    "train['education']=train['education'].replace(\"5\", np.nan).replace(\"6\",np.nan).replace('0',np.nan)\n",
    "train['marriage']=train['marriage'].replace('0', np.nan)"
   ]
  },
  {
   "cell_type": "code",
   "execution_count": 0,
   "metadata": {
    "colab": {},
    "colab_type": "code",
    "id": "dUs1CK0ROdeL"
   },
   "outputs": [],
   "source": [
    "#Como la variable sex solo tienen 2 valores posibles, transformamos los valores a dos valores binarios 0 (hombre) y 1 (mujer) , ya que será más fácil de interpretar para los modelos\n",
    "train['female_bin']= train['sex'].replace(1,0).replace(2,1)\n",
    "train = train.drop(columns=['sex'])"
   ]
  },
  {
   "cell_type": "code",
   "execution_count": 0,
   "metadata": {
    "colab": {},
    "colab_type": "code",
    "id": "iXfuiOfuKuWt"
   },
   "outputs": [],
   "source": [
    "#Como la variable marriage solo tiene 2 valores posibles, transformamos los valores a dos valores binarios 0 (soltero) y 1 (casado) , ya que será más fácil de interpretar para los modelos\n",
    "train['married_bin']= train['marriage'].replace('2',0).replace('3',0).replace('1',1)\n",
    "train = train.drop(columns=['marriage'])"
   ]
  },
  {
   "cell_type": "markdown",
   "metadata": {
    "colab_type": "text",
    "id": "9txEkl7Az9zp"
   },
   "source": [
    "### Estudiar si hay registros repetidos"
   ]
  },
  {
   "cell_type": "code",
   "execution_count": 21,
   "metadata": {
    "colab": {
     "base_uri": "https://localhost:8080/",
     "height": 34
    },
    "colab_type": "code",
    "executionInfo": {
     "elapsed": 143830,
     "status": "ok",
     "timestamp": 1573220236987,
     "user": {
      "displayName": "JOSU EGUIGUREN BALERDI",
      "photoUrl": "https://lh3.googleusercontent.com/a-/AAuE7mDLke1o9KUCGX86XGJWfNoQlhkTBh11oAljsUue=s64",
      "userId": "11962152349902680680"
     },
     "user_tz": -60
    },
    "id": "RZQSNKUt6pCh",
    "outputId": "d33c9bfa-7b89-4bc6-a51c-e780ad8867a7"
   },
   "outputs": [
    {
     "name": "stdout",
     "output_type": "stream",
     "text": [
      "No hay registros duplicados\n"
     ]
    }
   ],
   "source": [
    "#Revisamos si hay algún registro duplicado\n",
    "\n",
    "if train.duplicated().any() == True:\n",
    "  print(\"Hay registros duplicados. Eliminar con drop_duplicates()\")\n",
    "else:\n",
    "  print(\"No hay registros duplicados\")"
   ]
  },
  {
   "cell_type": "markdown",
   "metadata": {
    "colab_type": "text",
    "id": "pWwLX7pez6Jv"
   },
   "source": [
    "### Estudiar si hay variables que siempre o prácticamente siempre toman el mismo valor: tomar siempre el mismo valor no aporta información al modelo"
   ]
  },
  {
   "cell_type": "code",
   "execution_count": 0,
   "metadata": {
    "colab": {},
    "colab_type": "code",
    "id": "58Sk-RRw6e_A"
   },
   "outputs": [],
   "source": [
    "#Calculamos qué variables tienen el mismo valor para todos los campos\n",
    "for columna,fila in train.items(): \n",
    "  if train[columna].nunique() == 1:\n",
    "    print(columna)"
   ]
  },
  {
   "cell_type": "markdown",
   "metadata": {
    "colab_type": "text",
    "id": "ndcIvPk6tgHe"
   },
   "source": [
    "No nos hemos encontrado variables que tomen siempre el mismo valor, por lo que no eliminamos ninguna columna"
   ]
  },
  {
   "cell_type": "code",
   "execution_count": 23,
   "metadata": {
    "colab": {
     "base_uri": "https://localhost:8080/",
     "height": 459
    },
    "colab_type": "code",
    "executionInfo": {
     "elapsed": 144035,
     "status": "ok",
     "timestamp": 1573220237213,
     "user": {
      "displayName": "JOSU EGUIGUREN BALERDI",
      "photoUrl": "https://lh3.googleusercontent.com/a-/AAuE7mDLke1o9KUCGX86XGJWfNoQlhkTBh11oAljsUue=s64",
      "userId": "11962152349902680680"
     },
     "user_tz": -60
    },
    "id": "rPaM_kEjMzId",
    "outputId": "c1540bc2-4b44-466a-dc72-3e18a717331a"
   },
   "outputs": [
    {
     "data": {
      "text/plain": [
       "id                    23100\n",
       "limit_bal             77   \n",
       "education             4    \n",
       "age                   56   \n",
       "repay_status_sep05    11   \n",
       "repay_status_aug05    11   \n",
       "repay_status_jul05    11   \n",
       "repay_status_jun05    11   \n",
       "repay_status_may05    10   \n",
       "repay_status_apr05    10   \n",
       "bill_amt_sep05        17088\n",
       "bill_amt_aug05        16823\n",
       "bill_amt_jul05        16578\n",
       "bill_amt_jun05        16276\n",
       "bill_amt_may05        15815\n",
       "bill_amt_apr05        15547\n",
       "pay_amt_sep05         6505 \n",
       "pay_amt_aug05         6420 \n",
       "pay_amt_jul05         6099 \n",
       "pay_amt_jun05         5662 \n",
       "pay_amt_may05         5643 \n",
       "pay_amt_apr05         5627 \n",
       "default               2    \n",
       "female_bin            2    \n",
       "married_bin           2    \n",
       "dtype: int64"
      ]
     },
     "execution_count": 23,
     "metadata": {
      "tags": []
     },
     "output_type": "execute_result"
    }
   ],
   "source": [
    "#Vamos recorriendo las columnas y miramos primero cuántos datos distintos tiene cada columna para comprobar,\n",
    "#entre otras cosas, que las nuevas variables binarias se han generado correctamente\n",
    "train.nunique()"
   ]
  },
  {
   "cell_type": "code",
   "execution_count": 24,
   "metadata": {
    "colab": {
     "base_uri": "https://localhost:8080/",
     "height": 442
    },
    "colab_type": "code",
    "executionInfo": {
     "elapsed": 144022,
     "status": "ok",
     "timestamp": 1573220237214,
     "user": {
      "displayName": "JOSU EGUIGUREN BALERDI",
      "photoUrl": "https://lh3.googleusercontent.com/a-/AAuE7mDLke1o9KUCGX86XGJWfNoQlhkTBh11oAljsUue=s64",
      "userId": "11962152349902680680"
     },
     "user_tz": -60
    },
    "id": "fSQqTzCl686o",
    "outputId": "d09f0b83-bdaf-4c8b-9a16-2e140bfe4ba6"
   },
   "outputs": [
    {
     "data": {
      "text/plain": [
       "[('13270', 1),\n",
       " (50000.0, 2572),\n",
       " ('2', 10828),\n",
       " (29, 1219),\n",
       " (0, 11367),\n",
       " (0, 12121),\n",
       " (0, 12141),\n",
       " (0, 12683),\n",
       " (0, 13070),\n",
       " (0, 12514),\n",
       " (0.0, 1517),\n",
       " (0.0, 1882),\n",
       " (0.0, 2134),\n",
       " (0.0, 2452),\n",
       " (0.0, 2658),\n",
       " (0.0, 3043),\n",
       " (0.0, 4006),\n",
       " (0.0, 4137),\n",
       " (0.0, 4612),\n",
       " (0.0, 4869),\n",
       " (0.0, 5197),\n",
       " (0.0, 5546),\n",
       " (0, 18027),\n",
       " (1, 13911),\n",
       " (0.0, 12493)]"
      ]
     },
     "execution_count": 24,
     "metadata": {
      "tags": []
     },
     "output_type": "execute_result"
    }
   ],
   "source": [
    "#Creamos una lista con el valor que más se repite de la columna y cuántas veces se repite\n",
    "lista = []\n",
    "[lista.append((train[i].value_counts().sort_values(ascending = False).index[0],(train[i].value_counts().sort_values(ascending = False)).iloc[0])) for i in train.columns]\n",
    "lista"
   ]
  },
  {
   "cell_type": "code",
   "execution_count": 25,
   "metadata": {
    "colab": {
     "base_uri": "https://localhost:8080/",
     "height": 34
    },
    "colab_type": "code",
    "executionInfo": {
     "elapsed": 144013,
     "status": "ok",
     "timestamp": 1573220237215,
     "user": {
      "displayName": "JOSU EGUIGUREN BALERDI",
      "photoUrl": "https://lh3.googleusercontent.com/a-/AAuE7mDLke1o9KUCGX86XGJWfNoQlhkTBh11oAljsUue=s64",
      "userId": "11962152349902680680"
     },
     "user_tz": -60
    },
    "id": "TAlbN3nBLnQw",
    "outputId": "92abf67d-4fab-4971-aa32-2386cdfced4b"
   },
   "outputs": [
    {
     "data": {
      "text/plain": [
       "[]"
      ]
     },
     "execution_count": 25,
     "metadata": {
      "tags": []
     },
     "output_type": "execute_result"
    }
   ],
   "source": [
    "#Una vez tenemos el valor que más se repite, dividimos el número de repeticiones entre el total de registros para calcular el porcentaje. Si ese porcentaje es >98% lo añadimos a la lista de borrado\n",
    "lista_porcentaje = []\n",
    "contador = 0\n",
    "for i in lista:\n",
    "  if (i[1]/train.shape[0] > 0.98):\n",
    "    lista_porcentaje.append((train.columns[contador], i[1]/train.shape[0]))\n",
    "  contador = contador + 1\n",
    "lista_porcentaje"
   ]
  },
  {
   "cell_type": "markdown",
   "metadata": {
    "colab_type": "text",
    "id": "0_31wWlTTner"
   },
   "source": [
    "Como vemos en ninguna variable hay un valor que se repita el 98% de las veces o más."
   ]
  },
  {
   "cell_type": "markdown",
   "metadata": {
    "colab_type": "text",
    "id": "jrwWlSHSNthh"
   },
   "source": [
    "### Estudiar los nulos en el dataset"
   ]
  },
  {
   "cell_type": "code",
   "execution_count": 26,
   "metadata": {
    "colab": {
     "base_uri": "https://localhost:8080/",
     "height": 459
    },
    "colab_type": "code",
    "executionInfo": {
     "elapsed": 144005,
     "status": "ok",
     "timestamp": 1573220237216,
     "user": {
      "displayName": "JOSU EGUIGUREN BALERDI",
      "photoUrl": "https://lh3.googleusercontent.com/a-/AAuE7mDLke1o9KUCGX86XGJWfNoQlhkTBh11oAljsUue=s64",
      "userId": "11962152349902680680"
     },
     "user_tz": -60
    },
    "id": "D7lumB4cNvFr",
    "outputId": "7579539c-e06d-4471-c6ac-ed583248068c"
   },
   "outputs": [
    {
     "data": {
      "text/plain": [
       "id                    False\n",
       "limit_bal             False\n",
       "education             True \n",
       "age                   False\n",
       "repay_status_sep05    False\n",
       "repay_status_aug05    False\n",
       "repay_status_jul05    False\n",
       "repay_status_jun05    False\n",
       "repay_status_may05    False\n",
       "repay_status_apr05    False\n",
       "bill_amt_sep05        False\n",
       "bill_amt_aug05        False\n",
       "bill_amt_jul05        False\n",
       "bill_amt_jun05        False\n",
       "bill_amt_may05        False\n",
       "bill_amt_apr05        False\n",
       "pay_amt_sep05         False\n",
       "pay_amt_aug05         False\n",
       "pay_amt_jul05         False\n",
       "pay_amt_jun05         False\n",
       "pay_amt_may05         False\n",
       "pay_amt_apr05         False\n",
       "default               False\n",
       "female_bin            False\n",
       "married_bin           True \n",
       "dtype: bool"
      ]
     },
     "execution_count": 26,
     "metadata": {
      "tags": []
     },
     "output_type": "execute_result"
    }
   ],
   "source": [
    "#Miramos si en alguna de las columnas tenemos un valor nulo. Sólo aparecen aquellas que hemos generado nosotros.\n",
    "train.isnull().any()"
   ]
  },
  {
   "cell_type": "code",
   "execution_count": 27,
   "metadata": {
    "colab": {
     "base_uri": "https://localhost:8080/",
     "height": 34
    },
    "colab_type": "code",
    "executionInfo": {
     "elapsed": 143996,
     "status": "ok",
     "timestamp": 1573220237216,
     "user": {
      "displayName": "JOSU EGUIGUREN BALERDI",
      "photoUrl": "https://lh3.googleusercontent.com/a-/AAuE7mDLke1o9KUCGX86XGJWfNoQlhkTBh11oAljsUue=s64",
      "userId": "11962152349902680680"
     },
     "user_tz": -60
    },
    "id": "nuJvn1VDsnNl",
    "outputId": "2ca4869e-7c22-43b8-9d48-860b0645243d"
   },
   "outputs": [
    {
     "name": "stdout",
     "output_type": "stream",
     "text": [
      "['2', '1', '3', nan, '4']\n"
     ]
    }
   ],
   "source": [
    "#Comprobamos los posibles valores de Education\n",
    "diff_value_education = []\n",
    "for i in train['education']:\n",
    "  if i not in diff_value_education:\n",
    "    diff_value_education.append(i)\n",
    "print(diff_value_education)"
   ]
  },
  {
   "cell_type": "code",
   "execution_count": 28,
   "metadata": {
    "colab": {
     "base_uri": "https://localhost:8080/",
     "height": 34
    },
    "colab_type": "code",
    "executionInfo": {
     "elapsed": 143990,
     "status": "ok",
     "timestamp": 1573220237217,
     "user": {
      "displayName": "JOSU EGUIGUREN BALERDI",
      "photoUrl": "https://lh3.googleusercontent.com/a-/AAuE7mDLke1o9KUCGX86XGJWfNoQlhkTBh11oAljsUue=s64",
      "userId": "11962152349902680680"
     },
     "user_tz": -60
    },
    "id": "CiBNtqH-ye-E",
    "outputId": "f4e8de54-b926-4dc2-97e5-24061c0c86f1"
   },
   "outputs": [
    {
     "name": "stdout",
     "output_type": "stream",
     "text": [
      "0.16883116883116883 1.2034632034632036\n"
     ]
    }
   ],
   "source": [
    "#Como hemos metido nulos, recalculamos el porcentaje en Marriage y Education\n",
    "print(((train['married_bin'].isna().sum() / len(train['married_bin']))*100),\n",
    "      (train['education'].isna().sum() / len(train['education'])*100))"
   ]
  },
  {
   "cell_type": "markdown",
   "metadata": {
    "colab_type": "text",
    "id": "GFvCjRKcz-zW"
   },
   "source": [
    "Vemos que el número de nulos no supone un problema en el dataset"
   ]
  },
  {
   "cell_type": "markdown",
   "metadata": {
    "colab_type": "text",
    "id": "EW6G_RPP_etD"
   },
   "source": [
    "### Estudiar los outliers\n"
   ]
  },
  {
   "cell_type": "code",
   "execution_count": 0,
   "metadata": {
    "colab": {},
    "colab_type": "code",
    "id": "nMOSozgbN11h"
   },
   "outputs": [],
   "source": [
    "#Creamos un DataFrame que sólo tenga valores numéricos\n",
    "df_numerical = train.select_dtypes(include = ['int64','float'])"
   ]
  },
  {
   "cell_type": "code",
   "execution_count": 0,
   "metadata": {
    "colab": {},
    "colab_type": "code",
    "id": "4Fnpyc3jN5M0"
   },
   "outputs": [],
   "source": [
    "#Definimos la función Tukey Outliers para detectar los outliers\n",
    "def tukey_outliers(df,column,extreme=False):\n",
    "    q1, q3 = np.percentile(df[column],[25,75])\n",
    "    iqr = q3 - q1\n",
    "    constant = 1.5 if not extreme else 3\n",
    "    return df[((df[column]>(q3+constant*iqr)) | (df[column]<(q1-constant*iqr)))]"
   ]
  },
  {
   "cell_type": "code",
   "execution_count": 31,
   "metadata": {
    "colab": {
     "base_uri": "https://localhost:8080/",
     "height": 408
    },
    "colab_type": "code",
    "executionInfo": {
     "elapsed": 144288,
     "status": "ok",
     "timestamp": 1573220237530,
     "user": {
      "displayName": "JOSU EGUIGUREN BALERDI",
      "photoUrl": "https://lh3.googleusercontent.com/a-/AAuE7mDLke1o9KUCGX86XGJWfNoQlhkTBh11oAljsUue=s64",
      "userId": "11962152349902680680"
     },
     "user_tz": -60
    },
    "id": "uEyPpH7uN_2h",
    "outputId": "ffb6b40e-391f-46d7-c69f-0910ea6c3465"
   },
   "outputs": [
    {
     "data": {
      "text/plain": [
       "[('limit_bal', 120),\n",
       " ('age', 187),\n",
       " ('repay_status_sep05', 2391),\n",
       " ('repay_status_aug05', 3367),\n",
       " ('repay_status_jul05', 3270),\n",
       " ('repay_status_jun05', 2732),\n",
       " ('repay_status_may05', 2287),\n",
       " ('repay_status_apr05', 2383),\n",
       " ('bill_amt_sep05', 1819),\n",
       " ('bill_amt_aug05', 1814),\n",
       " ('bill_amt_jul05', 1875),\n",
       " ('bill_amt_jun05', 2011),\n",
       " ('bill_amt_may05', 2109),\n",
       " ('bill_amt_apr05', 2041),\n",
       " ('pay_amt_sep05', 2103),\n",
       " ('pay_amt_aug05', 2060),\n",
       " ('pay_amt_jul05', 1957),\n",
       " ('pay_amt_jun05', 2310),\n",
       " ('pay_amt_may05', 2228),\n",
       " ('pay_amt_apr05', 2289),\n",
       " ('default', 5073),\n",
       " ('female_bin', 0),\n",
       " ('married_bin', 0)]"
      ]
     },
     "execution_count": 31,
     "metadata": {
      "tags": []
     },
     "output_type": "execute_result"
    }
   ],
   "source": [
    "#Ejecutamos la función de Tukey con outliers extremos = false y metemos el número de outliers de cada columna en una lista\n",
    "lista_tukey = []\n",
    "[lista_tukey.append((i, tukey_outliers(df_numerical,i,extreme=False).shape[0])) for i in df_numerical.columns]\n",
    "lista_tukey"
   ]
  },
  {
   "cell_type": "markdown",
   "metadata": {
    "colab_type": "text",
    "id": "i8mvDS98OzqS"
   },
   "source": [
    "La variable que más outliers tiene es 'default' pero sólo tiene valores 0 y 1, así que no tiene sentido que se excluyan los outliers y más teniendo en cuenta que es la variable dependiente."
   ]
  },
  {
   "cell_type": "code",
   "execution_count": 32,
   "metadata": {
    "colab": {
     "base_uri": "https://localhost:8080/",
     "height": 408
    },
    "colab_type": "code",
    "executionInfo": {
     "elapsed": 144286,
     "status": "ok",
     "timestamp": 1573220237537,
     "user": {
      "displayName": "JOSU EGUIGUREN BALERDI",
      "photoUrl": "https://lh3.googleusercontent.com/a-/AAuE7mDLke1o9KUCGX86XGJWfNoQlhkTBh11oAljsUue=s64",
      "userId": "11962152349902680680"
     },
     "user_tz": -60
    },
    "id": "0ZZc-KScOIZG",
    "outputId": "0bfe03c7-4103-4a30-8b33-9d5ffe20f688"
   },
   "outputs": [
    {
     "data": {
      "text/plain": [
       "[('limit_bal', 0),\n",
       " ('age', 0),\n",
       " ('repay_status_sep05', 118),\n",
       " ('repay_status_aug05', 135),\n",
       " ('repay_status_jul05', 130),\n",
       " ('repay_status_jun05', 134),\n",
       " ('repay_status_may05', 138),\n",
       " ('repay_status_apr05', 101),\n",
       " ('bill_amt_sep05', 577),\n",
       " ('bill_amt_aug05', 584),\n",
       " ('bill_amt_jul05', 631),\n",
       " ('bill_amt_jun05', 678),\n",
       " ('bill_amt_may05', 697),\n",
       " ('bill_amt_apr05', 689),\n",
       " ('pay_amt_sep05', 1266),\n",
       " ('pay_amt_aug05', 1228),\n",
       " ('pay_amt_jul05', 1162),\n",
       " ('pay_amt_jun05', 1217),\n",
       " ('pay_amt_may05', 1178),\n",
       " ('pay_amt_apr05', 1258),\n",
       " ('default', 5073),\n",
       " ('female_bin', 0),\n",
       " ('married_bin', 0)]"
      ]
     },
     "execution_count": 32,
     "metadata": {
      "tags": []
     },
     "output_type": "execute_result"
    }
   ],
   "source": [
    "#Ejecutamos la función de Tukey con outliers extremos = false y metemos el número de outliers de cada columna en una lista\n",
    "lista_tukey = []\n",
    "[lista_tukey.append((i, tukey_outliers(df_numerical,i,extreme=True).shape[0])) for i in df_numerical.columns]\n",
    "lista_tukey"
   ]
  },
  {
   "cell_type": "markdown",
   "metadata": {
    "colab_type": "text",
    "id": "XPBIRcRF15xe"
   },
   "source": [
    "La conclusión es la misma que en la prueba de Tukey normal, no vamos a eliminar los valores extremos"
   ]
  },
  {
   "cell_type": "code",
   "execution_count": 33,
   "metadata": {
    "colab": {
     "base_uri": "https://localhost:8080/",
     "height": 317
    },
    "colab_type": "code",
    "executionInfo": {
     "elapsed": 144279,
     "status": "ok",
     "timestamp": 1573220237539,
     "user": {
      "displayName": "JOSU EGUIGUREN BALERDI",
      "photoUrl": "https://lh3.googleusercontent.com/a-/AAuE7mDLke1o9KUCGX86XGJWfNoQlhkTBh11oAljsUue=s64",
      "userId": "11962152349902680680"
     },
     "user_tz": -60
    },
    "id": "4ru7agEkOdl4",
    "outputId": "befc6bff-2119-48a8-d27d-d4ec221f1ec9"
   },
   "outputs": [
    {
     "data": {
      "text/html": [
       "<div>\n",
       "<style scoped>\n",
       "    .dataframe tbody tr th:only-of-type {\n",
       "        vertical-align: middle;\n",
       "    }\n",
       "\n",
       "    .dataframe tbody tr th {\n",
       "        vertical-align: top;\n",
       "    }\n",
       "\n",
       "    .dataframe thead th {\n",
       "        text-align: right;\n",
       "    }\n",
       "</style>\n",
       "<table border=\"1\" class=\"dataframe\">\n",
       "  <thead>\n",
       "    <tr style=\"text-align: right;\">\n",
       "      <th></th>\n",
       "      <th>limit_bal</th>\n",
       "      <th>age</th>\n",
       "      <th>repay_status_sep05</th>\n",
       "      <th>repay_status_aug05</th>\n",
       "      <th>repay_status_jul05</th>\n",
       "      <th>repay_status_jun05</th>\n",
       "      <th>repay_status_may05</th>\n",
       "      <th>repay_status_apr05</th>\n",
       "      <th>bill_amt_sep05</th>\n",
       "      <th>bill_amt_aug05</th>\n",
       "      <th>bill_amt_jul05</th>\n",
       "      <th>bill_amt_jun05</th>\n",
       "      <th>bill_amt_may05</th>\n",
       "      <th>bill_amt_apr05</th>\n",
       "      <th>pay_amt_sep05</th>\n",
       "      <th>pay_amt_aug05</th>\n",
       "      <th>pay_amt_jul05</th>\n",
       "      <th>pay_amt_jun05</th>\n",
       "      <th>pay_amt_may05</th>\n",
       "      <th>pay_amt_apr05</th>\n",
       "      <th>default</th>\n",
       "      <th>female_bin</th>\n",
       "      <th>married_bin</th>\n",
       "    </tr>\n",
       "  </thead>\n",
       "  <tbody>\n",
       "    <tr>\n",
       "      <th>count</th>\n",
       "      <td>23100.000000</td>\n",
       "      <td>23100.000000</td>\n",
       "      <td>23100.000000</td>\n",
       "      <td>23100.000000</td>\n",
       "      <td>23100.000000</td>\n",
       "      <td>23100.000000</td>\n",
       "      <td>23100.000000</td>\n",
       "      <td>23100.000000</td>\n",
       "      <td>23100.000000</td>\n",
       "      <td>23100.000000</td>\n",
       "      <td>2.310000e+04</td>\n",
       "      <td>23100.000000</td>\n",
       "      <td>23100.000000</td>\n",
       "      <td>23100.000000</td>\n",
       "      <td>23100.000000</td>\n",
       "      <td>2.310000e+04</td>\n",
       "      <td>23100.000000</td>\n",
       "      <td>23100.000000</td>\n",
       "      <td>23100.000000</td>\n",
       "      <td>23100.000000</td>\n",
       "      <td>23100.000000</td>\n",
       "      <td>23100.000000</td>\n",
       "      <td>23061.000000</td>\n",
       "    </tr>\n",
       "    <tr>\n",
       "      <th>mean</th>\n",
       "      <td>167989.163636</td>\n",
       "      <td>35.455325</td>\n",
       "      <td>-0.019048</td>\n",
       "      <td>-0.135801</td>\n",
       "      <td>-0.158658</td>\n",
       "      <td>-0.212684</td>\n",
       "      <td>-0.260130</td>\n",
       "      <td>-0.287749</td>\n",
       "      <td>51498.252294</td>\n",
       "      <td>49146.355022</td>\n",
       "      <td>4.722492e+04</td>\n",
       "      <td>43325.902944</td>\n",
       "      <td>40500.097273</td>\n",
       "      <td>39217.749048</td>\n",
       "      <td>5669.638095</td>\n",
       "      <td>5.888583e+03</td>\n",
       "      <td>5129.960433</td>\n",
       "      <td>4853.600823</td>\n",
       "      <td>4720.761861</td>\n",
       "      <td>5123.908528</td>\n",
       "      <td>0.219610</td>\n",
       "      <td>0.602208</td>\n",
       "      <td>0.458263</td>\n",
       "    </tr>\n",
       "    <tr>\n",
       "      <th>std</th>\n",
       "      <td>129338.546909</td>\n",
       "      <td>9.183387</td>\n",
       "      <td>1.127785</td>\n",
       "      <td>1.202206</td>\n",
       "      <td>1.205919</td>\n",
       "      <td>1.172068</td>\n",
       "      <td>1.138868</td>\n",
       "      <td>1.152518</td>\n",
       "      <td>73352.059617</td>\n",
       "      <td>70438.086129</td>\n",
       "      <td>6.943315e+04</td>\n",
       "      <td>64198.241095</td>\n",
       "      <td>60637.587470</td>\n",
       "      <td>59534.495324</td>\n",
       "      <td>15836.304600</td>\n",
       "      <td>2.388192e+04</td>\n",
       "      <td>16070.701800</td>\n",
       "      <td>15444.795302</td>\n",
       "      <td>14580.017686</td>\n",
       "      <td>16965.122468</td>\n",
       "      <td>0.413992</td>\n",
       "      <td>0.489453</td>\n",
       "      <td>0.498266</td>\n",
       "    </tr>\n",
       "    <tr>\n",
       "      <th>min</th>\n",
       "      <td>10000.000000</td>\n",
       "      <td>21.000000</td>\n",
       "      <td>-2.000000</td>\n",
       "      <td>-2.000000</td>\n",
       "      <td>-2.000000</td>\n",
       "      <td>-2.000000</td>\n",
       "      <td>-2.000000</td>\n",
       "      <td>-2.000000</td>\n",
       "      <td>-165580.000000</td>\n",
       "      <td>-69777.000000</td>\n",
       "      <td>-1.572640e+05</td>\n",
       "      <td>-170000.000000</td>\n",
       "      <td>-61372.000000</td>\n",
       "      <td>-339603.000000</td>\n",
       "      <td>0.000000</td>\n",
       "      <td>0.000000e+00</td>\n",
       "      <td>0.000000</td>\n",
       "      <td>0.000000</td>\n",
       "      <td>0.000000</td>\n",
       "      <td>0.000000</td>\n",
       "      <td>0.000000</td>\n",
       "      <td>0.000000</td>\n",
       "      <td>0.000000</td>\n",
       "    </tr>\n",
       "    <tr>\n",
       "      <th>25%</th>\n",
       "      <td>50000.000000</td>\n",
       "      <td>28.000000</td>\n",
       "      <td>-1.000000</td>\n",
       "      <td>-1.000000</td>\n",
       "      <td>-1.000000</td>\n",
       "      <td>-1.000000</td>\n",
       "      <td>-1.000000</td>\n",
       "      <td>-1.000000</td>\n",
       "      <td>3610.750000</td>\n",
       "      <td>2986.000000</td>\n",
       "      <td>2.754000e+03</td>\n",
       "      <td>2299.500000</td>\n",
       "      <td>1792.750000</td>\n",
       "      <td>1294.750000</td>\n",
       "      <td>1000.000000</td>\n",
       "      <td>8.315000e+02</td>\n",
       "      <td>390.000000</td>\n",
       "      <td>300.000000</td>\n",
       "      <td>230.000000</td>\n",
       "      <td>111.750000</td>\n",
       "      <td>0.000000</td>\n",
       "      <td>0.000000</td>\n",
       "      <td>0.000000</td>\n",
       "    </tr>\n",
       "    <tr>\n",
       "      <th>50%</th>\n",
       "      <td>140000.000000</td>\n",
       "      <td>34.000000</td>\n",
       "      <td>0.000000</td>\n",
       "      <td>0.000000</td>\n",
       "      <td>0.000000</td>\n",
       "      <td>0.000000</td>\n",
       "      <td>0.000000</td>\n",
       "      <td>0.000000</td>\n",
       "      <td>22375.000000</td>\n",
       "      <td>21410.000000</td>\n",
       "      <td>2.012450e+04</td>\n",
       "      <td>18950.000000</td>\n",
       "      <td>18152.500000</td>\n",
       "      <td>17206.000000</td>\n",
       "      <td>2134.000000</td>\n",
       "      <td>2.015000e+03</td>\n",
       "      <td>1800.000000</td>\n",
       "      <td>1500.000000</td>\n",
       "      <td>1500.000000</td>\n",
       "      <td>1500.000000</td>\n",
       "      <td>0.000000</td>\n",
       "      <td>1.000000</td>\n",
       "      <td>0.000000</td>\n",
       "    </tr>\n",
       "    <tr>\n",
       "      <th>75%</th>\n",
       "      <td>240000.000000</td>\n",
       "      <td>41.000000</td>\n",
       "      <td>0.000000</td>\n",
       "      <td>0.000000</td>\n",
       "      <td>0.000000</td>\n",
       "      <td>0.000000</td>\n",
       "      <td>0.000000</td>\n",
       "      <td>0.000000</td>\n",
       "      <td>67938.500000</td>\n",
       "      <td>64397.500000</td>\n",
       "      <td>6.095400e+04</td>\n",
       "      <td>54814.250000</td>\n",
       "      <td>50590.000000</td>\n",
       "      <td>49784.500000</td>\n",
       "      <td>5014.000000</td>\n",
       "      <td>5.000000e+03</td>\n",
       "      <td>4500.000000</td>\n",
       "      <td>4006.000000</td>\n",
       "      <td>4058.500000</td>\n",
       "      <td>4000.000000</td>\n",
       "      <td>0.000000</td>\n",
       "      <td>1.000000</td>\n",
       "      <td>1.000000</td>\n",
       "    </tr>\n",
       "    <tr>\n",
       "      <th>max</th>\n",
       "      <td>800000.000000</td>\n",
       "      <td>79.000000</td>\n",
       "      <td>8.000000</td>\n",
       "      <td>8.000000</td>\n",
       "      <td>8.000000</td>\n",
       "      <td>8.000000</td>\n",
       "      <td>8.000000</td>\n",
       "      <td>8.000000</td>\n",
       "      <td>964511.000000</td>\n",
       "      <td>743970.000000</td>\n",
       "      <td>1.664089e+06</td>\n",
       "      <td>706864.000000</td>\n",
       "      <td>823540.000000</td>\n",
       "      <td>699944.000000</td>\n",
       "      <td>505000.000000</td>\n",
       "      <td>1.684259e+06</td>\n",
       "      <td>508229.000000</td>\n",
       "      <td>497000.000000</td>\n",
       "      <td>426529.000000</td>\n",
       "      <td>527143.000000</td>\n",
       "      <td>1.000000</td>\n",
       "      <td>1.000000</td>\n",
       "      <td>1.000000</td>\n",
       "    </tr>\n",
       "  </tbody>\n",
       "</table>\n",
       "</div>"
      ],
      "text/plain": [
       "           limit_bal           age  ...    female_bin   married_bin\n",
       "count  23100.000000   23100.000000  ...  23100.000000  23061.000000\n",
       "mean   167989.163636  35.455325     ...  0.602208      0.458263    \n",
       "std    129338.546909  9.183387      ...  0.489453      0.498266    \n",
       "min    10000.000000   21.000000     ...  0.000000      0.000000    \n",
       "25%    50000.000000   28.000000     ...  0.000000      0.000000    \n",
       "50%    140000.000000  34.000000     ...  1.000000      0.000000    \n",
       "75%    240000.000000  41.000000     ...  1.000000      1.000000    \n",
       "max    800000.000000  79.000000     ...  1.000000      1.000000    \n",
       "\n",
       "[8 rows x 23 columns]"
      ]
     },
     "execution_count": 33,
     "metadata": {
      "tags": []
     },
     "output_type": "execute_result"
    }
   ],
   "source": [
    "#Estudiamos los estadísticos de las variables numéricas para ver si hay alguno que tengamos que borrar\n",
    "df_numerical.describe()"
   ]
  },
  {
   "cell_type": "code",
   "execution_count": 3,
   "metadata": {
    "colab": {
     "base_uri": "https://localhost:8080/",
     "height": 630
    },
    "colab_type": "code",
    "executionInfo": {
     "elapsed": 144604,
     "status": "ok",
     "timestamp": 1573220237875,
     "user": {
      "displayName": "JOSU EGUIGUREN BALERDI",
      "photoUrl": "https://lh3.googleusercontent.com/a-/AAuE7mDLke1o9KUCGX86XGJWfNoQlhkTBh11oAljsUue=s64",
      "userId": "11962152349902680680"
     },
     "user_tz": -60
    },
    "id": "BQr8KGTMBVve",
    "outputId": "3cd833c9-fb70-40e1-ed70-cd426bd0c2a9"
   },
   "outputs": [
    {
     "ename": "NameError",
     "evalue": "name 'train' is not defined",
     "output_type": "error",
     "traceback": [
      "\u001b[1;31m---------------------------------------------------------------------------\u001b[0m",
      "\u001b[1;31mNameError\u001b[0m                                 Traceback (most recent call last)",
      "\u001b[1;32m<ipython-input-3-29def38c7e87>\u001b[0m in \u001b[0;36m<module>\u001b[1;34m\u001b[0m\n\u001b[0;32m      1\u001b[0m \u001b[1;31m#Para observar gráficamente los outliers pintamos la variable limit_bal\u001b[0m\u001b[1;33m\u001b[0m\u001b[1;33m\u001b[0m\u001b[1;33m\u001b[0m\u001b[0m\n\u001b[0;32m      2\u001b[0m \u001b[0mplt\u001b[0m\u001b[1;33m.\u001b[0m\u001b[0mfigure\u001b[0m\u001b[1;33m(\u001b[0m\u001b[0mfigsize\u001b[0m \u001b[1;33m=\u001b[0m \u001b[1;33m(\u001b[0m\u001b[1;36m3\u001b[0m\u001b[1;33m,\u001b[0m \u001b[1;36m10\u001b[0m\u001b[1;33m)\u001b[0m\u001b[1;33m)\u001b[0m\u001b[1;33m\u001b[0m\u001b[1;33m\u001b[0m\u001b[0m\n\u001b[1;32m----> 3\u001b[1;33m \u001b[0max\u001b[0m \u001b[1;33m=\u001b[0m \u001b[0msns\u001b[0m\u001b[1;33m.\u001b[0m\u001b[0mboxplot\u001b[0m\u001b[1;33m(\u001b[0m\u001b[0mx\u001b[0m\u001b[1;33m=\u001b[0m\u001b[1;34m'default'\u001b[0m\u001b[1;33m,\u001b[0m \u001b[0my\u001b[0m\u001b[1;33m=\u001b[0m\u001b[1;34m'limit_bal'\u001b[0m\u001b[1;33m,\u001b[0m \u001b[0mdata\u001b[0m\u001b[1;33m=\u001b[0m\u001b[0mtrain\u001b[0m\u001b[1;33m)\u001b[0m\u001b[1;33m\u001b[0m\u001b[1;33m\u001b[0m\u001b[0m\n\u001b[0m\u001b[0;32m      4\u001b[0m \u001b[0mplt\u001b[0m\u001b[1;33m.\u001b[0m\u001b[0msetp\u001b[0m\u001b[1;33m(\u001b[0m\u001b[0max\u001b[0m\u001b[1;33m.\u001b[0m\u001b[0martists\u001b[0m\u001b[1;33m,\u001b[0m \u001b[0malpha\u001b[0m\u001b[1;33m=\u001b[0m\u001b[1;36m.5\u001b[0m\u001b[1;33m,\u001b[0m \u001b[0mlinewidth\u001b[0m\u001b[1;33m=\u001b[0m\u001b[1;36m2\u001b[0m\u001b[1;33m,\u001b[0m \u001b[0medgecolor\u001b[0m\u001b[1;33m=\u001b[0m\u001b[1;34m\"k\"\u001b[0m\u001b[1;33m)\u001b[0m\u001b[1;33m\u001b[0m\u001b[1;33m\u001b[0m\u001b[0m\n\u001b[0;32m      5\u001b[0m \u001b[0mplt\u001b[0m\u001b[1;33m.\u001b[0m\u001b[0mxticks\u001b[0m\u001b[1;33m(\u001b[0m\u001b[0mrotation\u001b[0m\u001b[1;33m=\u001b[0m\u001b[1;36m45\u001b[0m\u001b[1;33m)\u001b[0m\u001b[1;33m\u001b[0m\u001b[1;33m\u001b[0m\u001b[0m\n",
      "\u001b[1;31mNameError\u001b[0m: name 'train' is not defined"
     ]
    },
    {
     "data": {
      "text/plain": [
       "<Figure size 216x720 with 0 Axes>"
      ]
     },
     "metadata": {},
     "output_type": "display_data"
    }
   ],
   "source": [
    "#Para observar gráficamente los outliers pintamos la variable limit_bal\n",
    "plt.figure(figsize = (3, 10))\n",
    "ax = sns.boxplot(x='default', y='limit_bal', data=train)\n",
    "plt.setp(ax.artists, alpha=.5, linewidth=2, edgecolor=\"k\")\n",
    "plt.xticks(rotation=45)"
   ]
  },
  {
   "cell_type": "markdown",
   "metadata": {
    "colab_type": "text",
    "id": "NJDHP2wf-mBg"
   },
   "source": [
    "## Exploratory Data Analysis"
   ]
  },
  {
   "cell_type": "markdown",
   "metadata": {
    "colab_type": "text",
    "id": "YxoI9jpFfTc_"
   },
   "source": [
    "### Porcentaje de créditos impagados en la muestra"
   ]
  },
  {
   "cell_type": "code",
   "execution_count": 35,
   "metadata": {
    "colab": {
     "base_uri": "https://localhost:8080/",
     "height": 373
    },
    "colab_type": "code",
    "executionInfo": {
     "elapsed": 144970,
     "status": "ok",
     "timestamp": 1573220238249,
     "user": {
      "displayName": "JOSU EGUIGUREN BALERDI",
      "photoUrl": "https://lh3.googleusercontent.com/a-/AAuE7mDLke1o9KUCGX86XGJWfNoQlhkTBh11oAljsUue=s64",
      "userId": "11962152349902680680"
     },
     "user_tz": -60
    },
    "id": "D8hvvrbG0V4f",
    "outputId": "6250096d-3ef7-4c15-d43b-3a2154be31a6"
   },
   "outputs": [
    {
     "data": {
      "image/png": "[encoded data removed]",
      "text/plain": [
       "<Figure size 432x432 with 1 Axes>"
      ]
     },
     "metadata": {
      "tags": []
     },
     "output_type": "display_data"
    }
   ],
   "source": [
    "#En primer lugar revisamos el porcentaje de registros que son default y los que no\n",
    "plot = train['default'].value_counts().plot(kind='pie', autopct='%.2f', \n",
    "                                            figsize=(6, 6),\n",
    "                                            title='Porcentaje de defaults en la muestra')"
   ]
  },
  {
   "cell_type": "code",
   "execution_count": 36,
   "metadata": {
    "colab": {
     "base_uri": "https://localhost:8080/",
     "height": 34
    },
    "colab_type": "code",
    "executionInfo": {
     "elapsed": 144964,
     "status": "ok",
     "timestamp": 1573220238251,
     "user": {
      "displayName": "JOSU EGUIGUREN BALERDI",
      "photoUrl": "https://lh3.googleusercontent.com/a-/AAuE7mDLke1o9KUCGX86XGJWfNoQlhkTBh11oAljsUue=s64",
      "userId": "11962152349902680680"
     },
     "user_tz": -60
    },
    "id": "iortT6J3jxRc",
    "outputId": "0e23efcf-b9fc-430d-9450-ddf01b7415ac"
   },
   "outputs": [
    {
     "data": {
      "text/plain": [
       "0.21961038961038962"
      ]
     },
     "execution_count": 36,
     "metadata": {
      "tags": []
     },
     "output_type": "execute_result"
    }
   ],
   "source": [
    "#Vemos el porcentaje de default\n",
    "\n",
    "train.default.sum()/len(train.default)"
   ]
  },
  {
   "cell_type": "markdown",
   "metadata": {
    "colab_type": "text",
    "id": "MP6LVU8G7Qpv"
   },
   "source": [
    "El 21,96% de los clientes de la muestra no pagan el crédito"
   ]
  },
  {
   "cell_type": "markdown",
   "metadata": {
    "colab_type": "text",
    "id": "KTR8j-sbftqI"
   },
   "source": [
    "### Distribución según sexo"
   ]
  },
  {
   "cell_type": "code",
   "execution_count": 37,
   "metadata": {
    "colab": {
     "base_uri": "https://localhost:8080/",
     "height": 394
    },
    "colab_type": "code",
    "executionInfo": {
     "elapsed": 145460,
     "status": "ok",
     "timestamp": 1573220238755,
     "user": {
      "displayName": "JOSU EGUIGUREN BALERDI",
      "photoUrl": "https://lh3.googleusercontent.com/a-/AAuE7mDLke1o9KUCGX86XGJWfNoQlhkTBh11oAljsUue=s64",
      "userId": "11962152349902680680"
     },
     "user_tz": -60
    },
    "id": "iLipSSH_f53y",
    "outputId": "1f155496-c0ed-4603-a847-b7a230669c44"
   },
   "outputs": [
    {
     "data": {
      "image/png": "[encoded data removed]",
      "text/plain": [
       "<Figure size 864x432 with 2 Axes>"
      ]
     },
     "metadata": {
      "tags": []
     },
     "output_type": "display_data"
    }
   ],
   "source": [
    "fig, (ax1, ax2) = plt.subplots(ncols=2, figsize=(12,6))\n",
    "s = sns.boxplot(ax = ax1, x=\"female_bin\", y=\"limit_bal\", hue=\"female_bin\",data=df_numerical, palette=\"Blues\",showfliers=True)\n",
    "s = sns.boxplot(ax = ax2, x=\"female_bin\", y=\"limit_bal\", hue=\"female_bin\",data=df_numerical, palette=\"Blues\",showfliers=False)\n",
    "plt.show();"
   ]
  },
  {
   "cell_type": "markdown",
   "metadata": {
    "colab_type": "text",
    "id": "14pW51uXjI72"
   },
   "source": [
    "Hemos dibujado un boxplot con los outliers para que se vea la foto completa y otra sin los outliers, para que se vean mejor los cuartiles y la mediana. En ambos boxplot vemos que las distribuciones son similares, pero Q2 (mediana) es algo mayor en las mujeres (female_bin=1)"
   ]
  },
  {
   "cell_type": "markdown",
   "metadata": {
    "colab_type": "text",
    "id": "d-EwZGnS05K7"
   },
   "source": [
    "### Matriz de correlación"
   ]
  },
  {
   "cell_type": "code",
   "execution_count": 38,
   "metadata": {
    "colab": {
     "base_uri": "https://localhost:8080/",
     "height": 782
    },
    "colab_type": "code",
    "executionInfo": {
     "elapsed": 145453,
     "status": "ok",
     "timestamp": 1573220238757,
     "user": {
      "displayName": "JOSU EGUIGUREN BALERDI",
      "photoUrl": "https://lh3.googleusercontent.com/a-/AAuE7mDLke1o9KUCGX86XGJWfNoQlhkTBh11oAljsUue=s64",
      "userId": "11962152349902680680"
     },
     "user_tz": -60
    },
    "id": "KhVmxUrb2eiA",
    "outputId": "86d3240d-8da8-4e24-cf28-b0d1ca0fdac0"
   },
   "outputs": [
    {
     "data": {
      "text/html": [
       "<div>\n",
       "<style scoped>\n",
       "    .dataframe tbody tr th:only-of-type {\n",
       "        vertical-align: middle;\n",
       "    }\n",
       "\n",
       "    .dataframe tbody tr th {\n",
       "        vertical-align: top;\n",
       "    }\n",
       "\n",
       "    .dataframe thead th {\n",
       "        text-align: right;\n",
       "    }\n",
       "</style>\n",
       "<table border=\"1\" class=\"dataframe\">\n",
       "  <thead>\n",
       "    <tr style=\"text-align: right;\">\n",
       "      <th></th>\n",
       "      <th>limit_bal</th>\n",
       "      <th>age</th>\n",
       "      <th>repay_status_sep05</th>\n",
       "      <th>repay_status_aug05</th>\n",
       "      <th>repay_status_jul05</th>\n",
       "      <th>repay_status_jun05</th>\n",
       "      <th>repay_status_may05</th>\n",
       "      <th>repay_status_apr05</th>\n",
       "      <th>bill_amt_sep05</th>\n",
       "      <th>bill_amt_aug05</th>\n",
       "      <th>bill_amt_jul05</th>\n",
       "      <th>bill_amt_jun05</th>\n",
       "      <th>bill_amt_may05</th>\n",
       "      <th>bill_amt_apr05</th>\n",
       "      <th>pay_amt_sep05</th>\n",
       "      <th>pay_amt_aug05</th>\n",
       "      <th>pay_amt_jul05</th>\n",
       "      <th>pay_amt_jun05</th>\n",
       "      <th>pay_amt_may05</th>\n",
       "      <th>pay_amt_apr05</th>\n",
       "      <th>default</th>\n",
       "      <th>female_bin</th>\n",
       "      <th>married_bin</th>\n",
       "    </tr>\n",
       "  </thead>\n",
       "  <tbody>\n",
       "    <tr>\n",
       "      <th>limit_bal</th>\n",
       "      <td>1.000000</td>\n",
       "      <td>0.135452</td>\n",
       "      <td>-0.242673</td>\n",
       "      <td>-0.263593</td>\n",
       "      <td>-0.254333</td>\n",
       "      <td>-0.245946</td>\n",
       "      <td>-0.225637</td>\n",
       "      <td>-0.213648</td>\n",
       "      <td>0.261204</td>\n",
       "      <td>0.256266</td>\n",
       "      <td>0.253923</td>\n",
       "      <td>0.265379</td>\n",
       "      <td>0.266540</td>\n",
       "      <td>0.259282</td>\n",
       "      <td>0.181674</td>\n",
       "      <td>0.154249</td>\n",
       "      <td>0.190809</td>\n",
       "      <td>0.181159</td>\n",
       "      <td>0.189204</td>\n",
       "      <td>0.197628</td>\n",
       "      <td>-0.141119</td>\n",
       "      <td>0.024994</td>\n",
       "      <td>0.092623</td>\n",
       "    </tr>\n",
       "    <tr>\n",
       "      <th>age</th>\n",
       "      <td>0.135452</td>\n",
       "      <td>1.000000</td>\n",
       "      <td>-0.033748</td>\n",
       "      <td>-0.044328</td>\n",
       "      <td>-0.046399</td>\n",
       "      <td>-0.040498</td>\n",
       "      <td>-0.047143</td>\n",
       "      <td>-0.043408</td>\n",
       "      <td>0.055245</td>\n",
       "      <td>0.051877</td>\n",
       "      <td>0.052702</td>\n",
       "      <td>0.054125</td>\n",
       "      <td>0.050053</td>\n",
       "      <td>0.049194</td>\n",
       "      <td>0.020511</td>\n",
       "      <td>0.018181</td>\n",
       "      <td>0.026481</td>\n",
       "      <td>0.010439</td>\n",
       "      <td>0.024528</td>\n",
       "      <td>0.013193</td>\n",
       "      <td>0.012766</td>\n",
       "      <td>-0.083139</td>\n",
       "      <td>0.410963</td>\n",
       "    </tr>\n",
       "    <tr>\n",
       "      <th>repay_status_sep05</th>\n",
       "      <td>-0.242673</td>\n",
       "      <td>-0.033748</td>\n",
       "      <td>1.000000</td>\n",
       "      <td>0.613642</td>\n",
       "      <td>0.525041</td>\n",
       "      <td>0.491708</td>\n",
       "      <td>0.459431</td>\n",
       "      <td>0.429204</td>\n",
       "      <td>0.177845</td>\n",
       "      <td>0.177330</td>\n",
       "      <td>0.167490</td>\n",
       "      <td>0.166878</td>\n",
       "      <td>0.171387</td>\n",
       "      <td>0.160870</td>\n",
       "      <td>-0.074224</td>\n",
       "      <td>-0.063578</td>\n",
       "      <td>-0.062698</td>\n",
       "      <td>-0.058352</td>\n",
       "      <td>-0.051159</td>\n",
       "      <td>-0.045595</td>\n",
       "      <td>0.285924</td>\n",
       "      <td>-0.059450</td>\n",
       "      <td>-0.006366</td>\n",
       "    </tr>\n",
       "    <tr>\n",
       "      <th>repay_status_aug05</th>\n",
       "      <td>-0.263593</td>\n",
       "      <td>-0.044328</td>\n",
       "      <td>0.613642</td>\n",
       "      <td>1.000000</td>\n",
       "      <td>0.693240</td>\n",
       "      <td>0.600337</td>\n",
       "      <td>0.561434</td>\n",
       "      <td>0.517677</td>\n",
       "      <td>0.215337</td>\n",
       "      <td>0.216334</td>\n",
       "      <td>0.207902</td>\n",
       "      <td>0.205018</td>\n",
       "      <td>0.202586</td>\n",
       "      <td>0.195579</td>\n",
       "      <td>-0.077995</td>\n",
       "      <td>-0.052853</td>\n",
       "      <td>-0.054254</td>\n",
       "      <td>-0.044524</td>\n",
       "      <td>-0.028808</td>\n",
       "      <td>-0.031912</td>\n",
       "      <td>0.236588</td>\n",
       "      <td>-0.066574</td>\n",
       "      <td>-0.015073</td>\n",
       "    </tr>\n",
       "    <tr>\n",
       "      <th>repay_status_jul05</th>\n",
       "      <td>-0.254333</td>\n",
       "      <td>-0.046399</td>\n",
       "      <td>0.525041</td>\n",
       "      <td>0.693240</td>\n",
       "      <td>1.000000</td>\n",
       "      <td>0.708715</td>\n",
       "      <td>0.622140</td>\n",
       "      <td>0.570440</td>\n",
       "      <td>0.192015</td>\n",
       "      <td>0.214863</td>\n",
       "      <td>0.205633</td>\n",
       "      <td>0.209110</td>\n",
       "      <td>0.202239</td>\n",
       "      <td>0.197076</td>\n",
       "      <td>0.003584</td>\n",
       "      <td>-0.063029</td>\n",
       "      <td>-0.051925</td>\n",
       "      <td>-0.042025</td>\n",
       "      <td>-0.027431</td>\n",
       "      <td>-0.029972</td>\n",
       "      <td>0.208713</td>\n",
       "      <td>-0.065271</td>\n",
       "      <td>-0.027076</td>\n",
       "    </tr>\n",
       "    <tr>\n",
       "      <th>repay_status_jun05</th>\n",
       "      <td>-0.245946</td>\n",
       "      <td>-0.040498</td>\n",
       "      <td>0.491708</td>\n",
       "      <td>0.600337</td>\n",
       "      <td>0.708715</td>\n",
       "      <td>1.000000</td>\n",
       "      <td>0.746564</td>\n",
       "      <td>0.653028</td>\n",
       "      <td>0.184460</td>\n",
       "      <td>0.206553</td>\n",
       "      <td>0.219695</td>\n",
       "      <td>0.221724</td>\n",
       "      <td>0.215200</td>\n",
       "      <td>0.214582</td>\n",
       "      <td>-0.006593</td>\n",
       "      <td>-0.004031</td>\n",
       "      <td>-0.067042</td>\n",
       "      <td>-0.040091</td>\n",
       "      <td>-0.031036</td>\n",
       "      <td>-0.019132</td>\n",
       "      <td>0.194227</td>\n",
       "      <td>-0.058512</td>\n",
       "      <td>-0.030458</td>\n",
       "    </tr>\n",
       "    <tr>\n",
       "      <th>repay_status_may05</th>\n",
       "      <td>-0.225637</td>\n",
       "      <td>-0.047143</td>\n",
       "      <td>0.459431</td>\n",
       "      <td>0.561434</td>\n",
       "      <td>0.622140</td>\n",
       "      <td>0.746564</td>\n",
       "      <td>1.000000</td>\n",
       "      <td>0.741547</td>\n",
       "      <td>0.183594</td>\n",
       "      <td>0.206861</td>\n",
       "      <td>0.215470</td>\n",
       "      <td>0.242483</td>\n",
       "      <td>0.239356</td>\n",
       "      <td>0.234187</td>\n",
       "      <td>-0.000520</td>\n",
       "      <td>-0.003629</td>\n",
       "      <td>0.016143</td>\n",
       "      <td>-0.054607</td>\n",
       "      <td>-0.032114</td>\n",
       "      <td>-0.016156</td>\n",
       "      <td>0.180854</td>\n",
       "      <td>-0.048955</td>\n",
       "      <td>-0.029244</td>\n",
       "    </tr>\n",
       "    <tr>\n",
       "      <th>repay_status_apr05</th>\n",
       "      <td>-0.213648</td>\n",
       "      <td>-0.043408</td>\n",
       "      <td>0.429204</td>\n",
       "      <td>0.517677</td>\n",
       "      <td>0.570440</td>\n",
       "      <td>0.653028</td>\n",
       "      <td>0.741547</td>\n",
       "      <td>1.000000</td>\n",
       "      <td>0.185929</td>\n",
       "      <td>0.206502</td>\n",
       "      <td>0.213725</td>\n",
       "      <td>0.238388</td>\n",
       "      <td>0.260808</td>\n",
       "      <td>0.250986</td>\n",
       "      <td>0.000328</td>\n",
       "      <td>-0.002216</td>\n",
       "      <td>0.007150</td>\n",
       "      <td>0.022361</td>\n",
       "      <td>-0.044320</td>\n",
       "      <td>-0.020912</td>\n",
       "      <td>0.170012</td>\n",
       "      <td>-0.037461</td>\n",
       "      <td>-0.024099</td>\n",
       "    </tr>\n",
       "    <tr>\n",
       "      <th>bill_amt_sep05</th>\n",
       "      <td>0.261204</td>\n",
       "      <td>0.055245</td>\n",
       "      <td>0.177845</td>\n",
       "      <td>0.215337</td>\n",
       "      <td>0.192015</td>\n",
       "      <td>0.184460</td>\n",
       "      <td>0.183594</td>\n",
       "      <td>0.185929</td>\n",
       "      <td>1.000000</td>\n",
       "      <td>0.863708</td>\n",
       "      <td>0.808132</td>\n",
       "      <td>0.782619</td>\n",
       "      <td>0.748738</td>\n",
       "      <td>0.726983</td>\n",
       "      <td>0.121399</td>\n",
       "      <td>0.089138</td>\n",
       "      <td>0.138544</td>\n",
       "      <td>0.131013</td>\n",
       "      <td>0.149807</td>\n",
       "      <td>0.159136</td>\n",
       "      <td>-0.016031</td>\n",
       "      <td>-0.029841</td>\n",
       "      <td>0.027587</td>\n",
       "    </tr>\n",
       "    <tr>\n",
       "      <th>bill_amt_aug05</th>\n",
       "      <td>0.256266</td>\n",
       "      <td>0.051877</td>\n",
       "      <td>0.177330</td>\n",
       "      <td>0.216334</td>\n",
       "      <td>0.214863</td>\n",
       "      <td>0.206553</td>\n",
       "      <td>0.206861</td>\n",
       "      <td>0.206502</td>\n",
       "      <td>0.863708</td>\n",
       "      <td>1.000000</td>\n",
       "      <td>0.843544</td>\n",
       "      <td>0.814221</td>\n",
       "      <td>0.781551</td>\n",
       "      <td>0.753034</td>\n",
       "      <td>0.264930</td>\n",
       "      <td>0.090563</td>\n",
       "      <td>0.121978</td>\n",
       "      <td>0.120961</td>\n",
       "      <td>0.144738</td>\n",
       "      <td>0.156425</td>\n",
       "      <td>-0.008469</td>\n",
       "      <td>-0.030371</td>\n",
       "      <td>0.019270</td>\n",
       "    </tr>\n",
       "    <tr>\n",
       "      <th>bill_amt_jul05</th>\n",
       "      <td>0.253923</td>\n",
       "      <td>0.052702</td>\n",
       "      <td>0.167490</td>\n",
       "      <td>0.207902</td>\n",
       "      <td>0.205633</td>\n",
       "      <td>0.219695</td>\n",
       "      <td>0.215470</td>\n",
       "      <td>0.213725</td>\n",
       "      <td>0.808132</td>\n",
       "      <td>0.843544</td>\n",
       "      <td>1.000000</td>\n",
       "      <td>0.831996</td>\n",
       "      <td>0.793202</td>\n",
       "      <td>0.765500</td>\n",
       "      <td>0.221204</td>\n",
       "      <td>0.311842</td>\n",
       "      <td>0.109070</td>\n",
       "      <td>0.119546</td>\n",
       "      <td>0.166818</td>\n",
       "      <td>0.155974</td>\n",
       "      <td>-0.008050</td>\n",
       "      <td>-0.023420</td>\n",
       "      <td>0.020561</td>\n",
       "    </tr>\n",
       "    <tr>\n",
       "      <th>bill_amt_jun05</th>\n",
       "      <td>0.265379</td>\n",
       "      <td>0.054125</td>\n",
       "      <td>0.166878</td>\n",
       "      <td>0.205018</td>\n",
       "      <td>0.209110</td>\n",
       "      <td>0.221724</td>\n",
       "      <td>0.242483</td>\n",
       "      <td>0.238388</td>\n",
       "      <td>0.782619</td>\n",
       "      <td>0.814221</td>\n",
       "      <td>0.831996</td>\n",
       "      <td>1.000000</td>\n",
       "      <td>0.844135</td>\n",
       "      <td>0.809317</td>\n",
       "      <td>0.207888</td>\n",
       "      <td>0.176470</td>\n",
       "      <td>0.278206</td>\n",
       "      <td>0.100471</td>\n",
       "      <td>0.140170</td>\n",
       "      <td>0.152179</td>\n",
       "      <td>-0.007643</td>\n",
       "      <td>-0.020501</td>\n",
       "      <td>0.023400</td>\n",
       "    </tr>\n",
       "    <tr>\n",
       "      <th>bill_amt_may05</th>\n",
       "      <td>0.266540</td>\n",
       "      <td>0.050053</td>\n",
       "      <td>0.171387</td>\n",
       "      <td>0.202586</td>\n",
       "      <td>0.202239</td>\n",
       "      <td>0.215200</td>\n",
       "      <td>0.239356</td>\n",
       "      <td>0.260808</td>\n",
       "      <td>0.748738</td>\n",
       "      <td>0.781551</td>\n",
       "      <td>0.793202</td>\n",
       "      <td>0.844135</td>\n",
       "      <td>1.000000</td>\n",
       "      <td>0.853515</td>\n",
       "      <td>0.191717</td>\n",
       "      <td>0.154664</td>\n",
       "      <td>0.231537</td>\n",
       "      <td>0.260384</td>\n",
       "      <td>0.122360</td>\n",
       "      <td>0.141203</td>\n",
       "      <td>-0.003705</td>\n",
       "      <td>-0.012758</td>\n",
       "      <td>0.026484</td>\n",
       "    </tr>\n",
       "    <tr>\n",
       "      <th>bill_amt_apr05</th>\n",
       "      <td>0.259282</td>\n",
       "      <td>0.049194</td>\n",
       "      <td>0.160870</td>\n",
       "      <td>0.195579</td>\n",
       "      <td>0.197076</td>\n",
       "      <td>0.214582</td>\n",
       "      <td>0.234187</td>\n",
       "      <td>0.250986</td>\n",
       "      <td>0.726983</td>\n",
       "      <td>0.753034</td>\n",
       "      <td>0.765500</td>\n",
       "      <td>0.809317</td>\n",
       "      <td>0.853515</td>\n",
       "      <td>1.000000</td>\n",
       "      <td>0.171080</td>\n",
       "      <td>0.151699</td>\n",
       "      <td>0.200676</td>\n",
       "      <td>0.215430</td>\n",
       "      <td>0.280541</td>\n",
       "      <td>0.098938</td>\n",
       "      <td>-0.004799</td>\n",
       "      <td>-0.013602</td>\n",
       "      <td>0.018647</td>\n",
       "    </tr>\n",
       "    <tr>\n",
       "      <th>pay_amt_sep05</th>\n",
       "      <td>0.181674</td>\n",
       "      <td>0.020511</td>\n",
       "      <td>-0.074224</td>\n",
       "      <td>-0.077995</td>\n",
       "      <td>0.003584</td>\n",
       "      <td>-0.006593</td>\n",
       "      <td>-0.000520</td>\n",
       "      <td>0.000328</td>\n",
       "      <td>0.121399</td>\n",
       "      <td>0.264930</td>\n",
       "      <td>0.221204</td>\n",
       "      <td>0.207888</td>\n",
       "      <td>0.191717</td>\n",
       "      <td>0.171080</td>\n",
       "      <td>1.000000</td>\n",
       "      <td>0.190670</td>\n",
       "      <td>0.166226</td>\n",
       "      <td>0.110196</td>\n",
       "      <td>0.117501</td>\n",
       "      <td>0.148737</td>\n",
       "      <td>-0.070457</td>\n",
       "      <td>-0.001188</td>\n",
       "      <td>0.006184</td>\n",
       "    </tr>\n",
       "    <tr>\n",
       "      <th>pay_amt_aug05</th>\n",
       "      <td>0.154249</td>\n",
       "      <td>0.018181</td>\n",
       "      <td>-0.063578</td>\n",
       "      <td>-0.052853</td>\n",
       "      <td>-0.063029</td>\n",
       "      <td>-0.004031</td>\n",
       "      <td>-0.003629</td>\n",
       "      <td>-0.002216</td>\n",
       "      <td>0.089138</td>\n",
       "      <td>0.090563</td>\n",
       "      <td>0.311842</td>\n",
       "      <td>0.176470</td>\n",
       "      <td>0.154664</td>\n",
       "      <td>0.151699</td>\n",
       "      <td>0.190670</td>\n",
       "      <td>1.000000</td>\n",
       "      <td>0.153510</td>\n",
       "      <td>0.101436</td>\n",
       "      <td>0.178424</td>\n",
       "      <td>0.121103</td>\n",
       "      <td>-0.045217</td>\n",
       "      <td>0.001624</td>\n",
       "      <td>0.010273</td>\n",
       "    </tr>\n",
       "    <tr>\n",
       "      <th>pay_amt_jul05</th>\n",
       "      <td>0.190809</td>\n",
       "      <td>0.026481</td>\n",
       "      <td>-0.062698</td>\n",
       "      <td>-0.054254</td>\n",
       "      <td>-0.051925</td>\n",
       "      <td>-0.067042</td>\n",
       "      <td>0.016143</td>\n",
       "      <td>0.007150</td>\n",
       "      <td>0.138544</td>\n",
       "      <td>0.121978</td>\n",
       "      <td>0.109070</td>\n",
       "      <td>0.278206</td>\n",
       "      <td>0.231537</td>\n",
       "      <td>0.200676</td>\n",
       "      <td>0.166226</td>\n",
       "      <td>0.153510</td>\n",
       "      <td>1.000000</td>\n",
       "      <td>0.130097</td>\n",
       "      <td>0.132347</td>\n",
       "      <td>0.138799</td>\n",
       "      <td>-0.048661</td>\n",
       "      <td>-0.009886</td>\n",
       "      <td>0.008478</td>\n",
       "    </tr>\n",
       "    <tr>\n",
       "      <th>pay_amt_jun05</th>\n",
       "      <td>0.181159</td>\n",
       "      <td>0.010439</td>\n",
       "      <td>-0.058352</td>\n",
       "      <td>-0.044524</td>\n",
       "      <td>-0.042025</td>\n",
       "      <td>-0.040091</td>\n",
       "      <td>-0.054607</td>\n",
       "      <td>0.022361</td>\n",
       "      <td>0.131013</td>\n",
       "      <td>0.120961</td>\n",
       "      <td>0.119546</td>\n",
       "      <td>0.100471</td>\n",
       "      <td>0.260384</td>\n",
       "      <td>0.215430</td>\n",
       "      <td>0.110196</td>\n",
       "      <td>0.101436</td>\n",
       "      <td>0.130097</td>\n",
       "      <td>1.000000</td>\n",
       "      <td>0.119588</td>\n",
       "      <td>0.123670</td>\n",
       "      <td>-0.053602</td>\n",
       "      <td>-0.003501</td>\n",
       "      <td>0.010566</td>\n",
       "    </tr>\n",
       "    <tr>\n",
       "      <th>pay_amt_may05</th>\n",
       "      <td>0.189204</td>\n",
       "      <td>0.024528</td>\n",
       "      <td>-0.051159</td>\n",
       "      <td>-0.028808</td>\n",
       "      <td>-0.027431</td>\n",
       "      <td>-0.031036</td>\n",
       "      <td>-0.032114</td>\n",
       "      <td>-0.044320</td>\n",
       "      <td>0.149807</td>\n",
       "      <td>0.144738</td>\n",
       "      <td>0.166818</td>\n",
       "      <td>0.140170</td>\n",
       "      <td>0.122360</td>\n",
       "      <td>0.280541</td>\n",
       "      <td>0.117501</td>\n",
       "      <td>0.178424</td>\n",
       "      <td>0.132347</td>\n",
       "      <td>0.119588</td>\n",
       "      <td>1.000000</td>\n",
       "      <td>0.136794</td>\n",
       "      <td>-0.049138</td>\n",
       "      <td>-0.001631</td>\n",
       "      <td>0.003900</td>\n",
       "    </tr>\n",
       "    <tr>\n",
       "      <th>pay_amt_apr05</th>\n",
       "      <td>0.197628</td>\n",
       "      <td>0.013193</td>\n",
       "      <td>-0.045595</td>\n",
       "      <td>-0.031912</td>\n",
       "      <td>-0.029972</td>\n",
       "      <td>-0.019132</td>\n",
       "      <td>-0.016156</td>\n",
       "      <td>-0.020912</td>\n",
       "      <td>0.159136</td>\n",
       "      <td>0.156425</td>\n",
       "      <td>0.155974</td>\n",
       "      <td>0.152179</td>\n",
       "      <td>0.141203</td>\n",
       "      <td>0.098938</td>\n",
       "      <td>0.148737</td>\n",
       "      <td>0.121103</td>\n",
       "      <td>0.138799</td>\n",
       "      <td>0.123670</td>\n",
       "      <td>0.136794</td>\n",
       "      <td>1.000000</td>\n",
       "      <td>-0.043674</td>\n",
       "      <td>0.002629</td>\n",
       "      <td>0.000889</td>\n",
       "    </tr>\n",
       "    <tr>\n",
       "      <th>default</th>\n",
       "      <td>-0.141119</td>\n",
       "      <td>0.012766</td>\n",
       "      <td>0.285924</td>\n",
       "      <td>0.236588</td>\n",
       "      <td>0.208713</td>\n",
       "      <td>0.194227</td>\n",
       "      <td>0.180854</td>\n",
       "      <td>0.170012</td>\n",
       "      <td>-0.016031</td>\n",
       "      <td>-0.008469</td>\n",
       "      <td>-0.008050</td>\n",
       "      <td>-0.007643</td>\n",
       "      <td>-0.003705</td>\n",
       "      <td>-0.004799</td>\n",
       "      <td>-0.070457</td>\n",
       "      <td>-0.045217</td>\n",
       "      <td>-0.048661</td>\n",
       "      <td>-0.053602</td>\n",
       "      <td>-0.049138</td>\n",
       "      <td>-0.043674</td>\n",
       "      <td>1.000000</td>\n",
       "      <td>-0.040166</td>\n",
       "      <td>0.031649</td>\n",
       "    </tr>\n",
       "    <tr>\n",
       "      <th>female_bin</th>\n",
       "      <td>0.024994</td>\n",
       "      <td>-0.083139</td>\n",
       "      <td>-0.059450</td>\n",
       "      <td>-0.066574</td>\n",
       "      <td>-0.065271</td>\n",
       "      <td>-0.058512</td>\n",
       "      <td>-0.048955</td>\n",
       "      <td>-0.037461</td>\n",
       "      <td>-0.029841</td>\n",
       "      <td>-0.030371</td>\n",
       "      <td>-0.023420</td>\n",
       "      <td>-0.020501</td>\n",
       "      <td>-0.012758</td>\n",
       "      <td>-0.013602</td>\n",
       "      <td>-0.001188</td>\n",
       "      <td>0.001624</td>\n",
       "      <td>-0.009886</td>\n",
       "      <td>-0.003501</td>\n",
       "      <td>-0.001631</td>\n",
       "      <td>0.002629</td>\n",
       "      <td>-0.040166</td>\n",
       "      <td>1.000000</td>\n",
       "      <td>0.033852</td>\n",
       "    </tr>\n",
       "    <tr>\n",
       "      <th>married_bin</th>\n",
       "      <td>0.092623</td>\n",
       "      <td>0.410963</td>\n",
       "      <td>-0.006366</td>\n",
       "      <td>-0.015073</td>\n",
       "      <td>-0.027076</td>\n",
       "      <td>-0.030458</td>\n",
       "      <td>-0.029244</td>\n",
       "      <td>-0.024099</td>\n",
       "      <td>0.027587</td>\n",
       "      <td>0.019270</td>\n",
       "      <td>0.020561</td>\n",
       "      <td>0.023400</td>\n",
       "      <td>0.026484</td>\n",
       "      <td>0.018647</td>\n",
       "      <td>0.006184</td>\n",
       "      <td>0.010273</td>\n",
       "      <td>0.008478</td>\n",
       "      <td>0.010566</td>\n",
       "      <td>0.003900</td>\n",
       "      <td>0.000889</td>\n",
       "      <td>0.031649</td>\n",
       "      <td>0.033852</td>\n",
       "      <td>1.000000</td>\n",
       "    </tr>\n",
       "  </tbody>\n",
       "</table>\n",
       "</div>"
      ],
      "text/plain": [
       "                    limit_bal       age  ...  female_bin  married_bin\n",
       "limit_bal           1.000000   0.135452  ...  0.024994    0.092623   \n",
       "age                 0.135452   1.000000  ... -0.083139    0.410963   \n",
       "repay_status_sep05 -0.242673  -0.033748  ... -0.059450   -0.006366   \n",
       "repay_status_aug05 -0.263593  -0.044328  ... -0.066574   -0.015073   \n",
       "repay_status_jul05 -0.254333  -0.046399  ... -0.065271   -0.027076   \n",
       "repay_status_jun05 -0.245946  -0.040498  ... -0.058512   -0.030458   \n",
       "repay_status_may05 -0.225637  -0.047143  ... -0.048955   -0.029244   \n",
       "repay_status_apr05 -0.213648  -0.043408  ... -0.037461   -0.024099   \n",
       "bill_amt_sep05      0.261204   0.055245  ... -0.029841    0.027587   \n",
       "bill_amt_aug05      0.256266   0.051877  ... -0.030371    0.019270   \n",
       "bill_amt_jul05      0.253923   0.052702  ... -0.023420    0.020561   \n",
       "bill_amt_jun05      0.265379   0.054125  ... -0.020501    0.023400   \n",
       "bill_amt_may05      0.266540   0.050053  ... -0.012758    0.026484   \n",
       "bill_amt_apr05      0.259282   0.049194  ... -0.013602    0.018647   \n",
       "pay_amt_sep05       0.181674   0.020511  ... -0.001188    0.006184   \n",
       "pay_amt_aug05       0.154249   0.018181  ...  0.001624    0.010273   \n",
       "pay_amt_jul05       0.190809   0.026481  ... -0.009886    0.008478   \n",
       "pay_amt_jun05       0.181159   0.010439  ... -0.003501    0.010566   \n",
       "pay_amt_may05       0.189204   0.024528  ... -0.001631    0.003900   \n",
       "pay_amt_apr05       0.197628   0.013193  ...  0.002629    0.000889   \n",
       "default            -0.141119   0.012766  ... -0.040166    0.031649   \n",
       "female_bin          0.024994  -0.083139  ...  1.000000    0.033852   \n",
       "married_bin         0.092623   0.410963  ...  0.033852    1.000000   \n",
       "\n",
       "[23 rows x 23 columns]"
      ]
     },
     "execution_count": 38,
     "metadata": {
      "tags": []
     },
     "output_type": "execute_result"
    }
   ],
   "source": [
    "#Creamos la matriz de correlación\n",
    "corr=df_numerical.corr()\n",
    "corr"
   ]
  },
  {
   "cell_type": "code",
   "execution_count": 39,
   "metadata": {
    "colab": {
     "base_uri": "https://localhost:8080/",
     "height": 646
    },
    "colab_type": "code",
    "executionInfo": {
     "elapsed": 146454,
     "status": "ok",
     "timestamp": 1573220239771,
     "user": {
      "displayName": "JOSU EGUIGUREN BALERDI",
      "photoUrl": "https://lh3.googleusercontent.com/a-/AAuE7mDLke1o9KUCGX86XGJWfNoQlhkTBh11oAljsUue=s64",
      "userId": "11962152349902680680"
     },
     "user_tz": -60
    },
    "id": "Ol1HEdXJ24YD",
    "outputId": "9baa9d37-f14c-4fd3-f063-e4f1128b2ace"
   },
   "outputs": [
    {
     "data": {
      "text/plain": [
       "<matplotlib.axes._subplots.AxesSubplot at 0x7f91c8dda710>"
      ]
     },
     "execution_count": 39,
     "metadata": {
      "tags": []
     },
     "output_type": "execute_result"
    },
    {
     "data": {
      "image/png": "[encoded data removed]",
      "text/plain": [
       "<Figure size 792x648 with 2 Axes>"
      ]
     },
     "metadata": {
      "tags": []
     },
     "output_type": "display_data"
    }
   ],
   "source": [
    "#Pintamos la matriz de correlación\n",
    "f, ax = plt.subplots(figsize =(11,9))\n",
    "cmap = sns.diverging_palette(220,10, as_cmap=True)\n",
    "sns.heatmap(corr, cmap = cmap, vmax = 1, center = 0, square = True, linewidths =5, cbar_kws={'shrink':.5})"
   ]
  },
  {
   "cell_type": "code",
   "execution_count": 40,
   "metadata": {
    "colab": {
     "base_uri": "https://localhost:8080/",
     "height": 340
    },
    "colab_type": "code",
    "executionInfo": {
     "elapsed": 146440,
     "status": "ok",
     "timestamp": 1573220239772,
     "user": {
      "displayName": "JOSU EGUIGUREN BALERDI",
      "photoUrl": "https://lh3.googleusercontent.com/a-/AAuE7mDLke1o9KUCGX86XGJWfNoQlhkTBh11oAljsUue=s64",
      "userId": "11962152349902680680"
     },
     "user_tz": -60
    },
    "id": "p_wZLZdf8CNg",
    "outputId": "e2865015-8385-4d87-f73e-cb9484af3296"
   },
   "outputs": [
    {
     "data": {
      "text/plain": [
       "repay_status_jul05  repay_status_jun05    0.708715\n",
       "bill_amt_sep05      bill_amt_apr05        0.726983\n",
       "repay_status_may05  repay_status_apr05    0.741547\n",
       "repay_status_jun05  repay_status_may05    0.746564\n",
       "bill_amt_sep05      bill_amt_may05        0.748738\n",
       "bill_amt_aug05      bill_amt_apr05        0.753034\n",
       "bill_amt_jul05      bill_amt_apr05        0.765500\n",
       "bill_amt_aug05      bill_amt_may05        0.781551\n",
       "bill_amt_sep05      bill_amt_jun05        0.782619\n",
       "bill_amt_jul05      bill_amt_may05        0.793202\n",
       "bill_amt_sep05      bill_amt_jul05        0.808132\n",
       "bill_amt_jun05      bill_amt_apr05        0.809317\n",
       "bill_amt_aug05      bill_amt_jun05        0.814221\n",
       "bill_amt_jul05      bill_amt_jun05        0.831996\n",
       "bill_amt_aug05      bill_amt_jul05        0.843544\n",
       "bill_amt_jun05      bill_amt_may05        0.844135\n",
       "bill_amt_may05      bill_amt_apr05        0.853515\n",
       "bill_amt_sep05      bill_amt_aug05        0.863708\n",
       "dtype: float64"
      ]
     },
     "execution_count": 40,
     "metadata": {
      "tags": []
     },
     "output_type": "execute_result"
    }
   ],
   "source": [
    "#Calculamos qué par de variables están correlacionadas > 0.7\n",
    "#Tomamos un 0,7 debido a que tenemos correlaciones altas y queremos observar las más elevadas\n",
    "\n",
    "sol =(corr.where(np.triu(np.ones(corr.shape),k=1).astype(np.bool)).stack().sort_values(ascending=True))\n",
    "\n",
    "sol[sol > 0.7]"
   ]
  },
  {
   "cell_type": "markdown",
   "metadata": {
    "colab_type": "text",
    "id": "9d-Ap-HqklDA"
   },
   "source": [
    "Analizamos las correlaciones:\n",
    "\n",
    "\n",
    "*   En el caso de los estados de reembolso (*repay_status*) vemos que la correlación crece cuando los meses están más juntos, esto tiene sentido ya que si se paga debidamente en un mes será muy extraño que los meses siguientes tengas varios retrasos y viceversa.\n",
    "*   En cuanto a los saldos en cuenta (*bill_amt*) vemos correlaciones bastante altas (hasta 0,86) también entre meses juntos. Esto tiene mucho sentido ya que al tener correlación entre los estados de reembolso habrá incluso más en los saldos de la cuenta. Un mes que en el que el estado de reembolso sea similar al mes anterior (o al siguiente), lo normal es que el saldo de cuenta entre ese mes y el anterior (o el siguiente) sea similar\n",
    "*   Viendo las correlaciones de default, podemos intuir que las variables limit_bal y todas las de repay_status serán las que más influyan en si el crédito del cliente se volverá 'default' o no."
   ]
  },
  {
   "cell_type": "markdown",
   "metadata": {
    "colab_type": "text",
    "id": "95MeBbNH-4rR"
   },
   "source": [
    "### Relación entre límite de crédito y créditos impagados"
   ]
  },
  {
   "cell_type": "code",
   "execution_count": 41,
   "metadata": {
    "colab": {
     "base_uri": "https://localhost:8080/",
     "height": 410
    },
    "colab_type": "code",
    "executionInfo": {
     "elapsed": 147362,
     "status": "ok",
     "timestamp": 1573220240703,
     "user": {
      "displayName": "JOSU EGUIGUREN BALERDI",
      "photoUrl": "https://lh3.googleusercontent.com/a-/AAuE7mDLke1o9KUCGX86XGJWfNoQlhkTBh11oAljsUue=s64",
      "userId": "11962152349902680680"
     },
     "user_tz": -60
    },
    "id": "3ensQ5wu-9u6",
    "outputId": "42e1e5cf-6186-443f-b3ae-13b0e542e0aa"
   },
   "outputs": [
    {
     "data": {
      "image/png": "[encoded data removed]",
      "text/plain": [
       "<Figure size 1008x432 with 1 Axes>"
      ]
     },
     "metadata": {
      "tags": []
     },
     "output_type": "display_data"
    }
   ],
   "source": [
    "class_0 = train.loc[train['default'] == 0][\"limit_bal\"]\n",
    "class_1 = train.loc[train['default'] == 1][\"limit_bal\"]\n",
    "plt.figure(figsize = (14,6))\n",
    "plt.title('Impago de crédito (color rojo) y pago de crédito (color verde)  vs límite de crédito')\n",
    "sns.set_color_codes(\"pastel\")\n",
    "sns.distplot(class_1,kde=True,bins=200, color=\"red\")\n",
    "sns.distplot(class_0,kde=True,bins=200, color=\"green\")\n",
    "plt.show()"
   ]
  },
  {
   "cell_type": "markdown",
   "metadata": {
    "colab_type": "text",
    "id": "zkwKhQqG2yEJ"
   },
   "source": [
    "Por lo que vemos en el diagrama, se puede apreciar que nos encontramos más impagos en el rango de 0-150.000  siendo al comienzo de este rango cuando más se eleva la curva de impagos"
   ]
  },
  {
   "cell_type": "code",
   "execution_count": 0,
   "metadata": {
    "colab": {},
    "colab_type": "code",
    "id": "jIKsm-_i370v"
   },
   "outputs": [],
   "source": [
    "#Creamos un DataFrame para comparar las variables 'married_bin', 'education' y 'female_bin' con 'default'\n",
    "df_bool_and_categorical = train[['married_bin','education','female_bin']]"
   ]
  },
  {
   "cell_type": "code",
   "execution_count": 43,
   "metadata": {
    "colab": {
     "base_uri": "https://localhost:8080/",
     "height": 1000
    },
    "colab_type": "code",
    "executionInfo": {
     "elapsed": 148089,
     "status": "ok",
     "timestamp": 1573220241441,
     "user": {
      "displayName": "JOSU EGUIGUREN BALERDI",
      "photoUrl": "https://lh3.googleusercontent.com/a-/AAuE7mDLke1o9KUCGX86XGJWfNoQlhkTBh11oAljsUue=s64",
      "userId": "11962152349902680680"
     },
     "user_tz": -60
    },
    "id": "JMRJ3pmH4pRR",
    "outputId": "d55cbce8-abad-427d-a263-8aea0ec86584"
   },
   "outputs": [
    {
     "data": {
      "image/png": "[encoded data removed]",
      "text/plain": [
       "<Figure size 576x576 with 1 Axes>"
      ]
     },
     "metadata": {
      "tags": []
     },
     "output_type": "display_data"
    },
    {
     "data": {
      "image/png": "[encoded data removed]",
      "text/plain": [
       "<Figure size 576x576 with 1 Axes>"
      ]
     },
     "metadata": {
      "tags": []
     },
     "output_type": "display_data"
    },
    {
     "data": {
      "image/png": "[encoded data removed]",
      "text/plain": [
       "<Figure size 576x576 with 1 Axes>"
      ]
     },
     "metadata": {
      "tags": []
     },
     "output_type": "display_data"
    }
   ],
   "source": [
    "for x in df_bool_and_categorical.columns:\n",
    "  freq = pd.crosstab(index = df_bool_and_categorical[x], \n",
    "                          columns=train[\"default\"]).apply(lambda r: r/r.sum(), axis =1)\n",
    "  freq.plot(kind=\"bar\", \n",
    "                 figsize=(8,8),\n",
    "                 stacked= True)"
   ]
  },
  {
   "cell_type": "code",
   "execution_count": 44,
   "metadata": {
    "colab": {
     "base_uri": "https://localhost:8080/",
     "height": 204
    },
    "colab_type": "code",
    "executionInfo": {
     "elapsed": 148088,
     "status": "ok",
     "timestamp": 1573220241448,
     "user": {
      "displayName": "JOSU EGUIGUREN BALERDI",
      "photoUrl": "https://lh3.googleusercontent.com/a-/AAuE7mDLke1o9KUCGX86XGJWfNoQlhkTBh11oAljsUue=s64",
      "userId": "11962152349902680680"
     },
     "user_tz": -60
    },
    "id": "lgD8RlZndiaA",
    "outputId": "bcce7235-d34f-458f-d91e-63d308c74cfa"
   },
   "outputs": [
    {
     "data": {
      "text/html": [
       "<div>\n",
       "<style scoped>\n",
       "    .dataframe tbody tr th:only-of-type {\n",
       "        vertical-align: middle;\n",
       "    }\n",
       "\n",
       "    .dataframe tbody tr th {\n",
       "        vertical-align: top;\n",
       "    }\n",
       "\n",
       "    .dataframe thead th {\n",
       "        text-align: right;\n",
       "    }\n",
       "</style>\n",
       "<table border=\"1\" class=\"dataframe\">\n",
       "  <thead>\n",
       "    <tr style=\"text-align: right;\">\n",
       "      <th>default</th>\n",
       "      <th>0</th>\n",
       "      <th>1</th>\n",
       "    </tr>\n",
       "    <tr>\n",
       "      <th>education</th>\n",
       "      <th></th>\n",
       "      <th></th>\n",
       "    </tr>\n",
       "  </thead>\n",
       "  <tbody>\n",
       "    <tr>\n",
       "      <th>1</th>\n",
       "      <td>0.806199</td>\n",
       "      <td>0.193801</td>\n",
       "    </tr>\n",
       "    <tr>\n",
       "      <th>2</th>\n",
       "      <td>0.763484</td>\n",
       "      <td>0.236516</td>\n",
       "    </tr>\n",
       "    <tr>\n",
       "      <th>3</th>\n",
       "      <td>0.758315</td>\n",
       "      <td>0.241685</td>\n",
       "    </tr>\n",
       "    <tr>\n",
       "      <th>4</th>\n",
       "      <td>0.922330</td>\n",
       "      <td>0.077670</td>\n",
       "    </tr>\n",
       "  </tbody>\n",
       "</table>\n",
       "</div>"
      ],
      "text/plain": [
       "default           0         1\n",
       "education                    \n",
       "1          0.806199  0.193801\n",
       "2          0.763484  0.236516\n",
       "3          0.758315  0.241685\n",
       "4          0.922330  0.077670"
      ]
     },
     "execution_count": 44,
     "metadata": {
      "tags": []
     },
     "output_type": "execute_result"
    }
   ],
   "source": [
    "#Para ver los valores que componen el gráfico de 'education' frente a 'default' hacemos un crosstab\n",
    "pd.crosstab(index = train['education'], \n",
    "                          columns=train[\"default\"]).apply(lambda r: r/r.sum(), axis =1)"
   ]
  },
  {
   "cell_type": "markdown",
   "metadata": {
    "colab_type": "text",
    "id": "gAwTuliLUnN2"
   },
   "source": [
    "Según la muestra, la probabilidad de impago de las mujeres es ligeramente inferior al de los hombres\n",
    "\n",
    "Por otro lado, en la muestra, las personas casadas tienen una probabilidad de impago muy ligeramente superior, pero la diferencia es muy pequeña como para asegurar que es un patrón.\n",
    "\n",
    "En cuanto a Education el número 4 ('Others') es el que menor probabilidad de impago tiene. No obstante es una parte demasiado pequeña de la muestra para extraer conclusiones. Además llama la atención que los grupos 2 y 3, ('University' y 'High School') tienen la probabilidad de impago más alta. Esto está unido a que son los colectivos con el límite de crédito más bajo, como se puede ver en el boxplot."
   ]
  },
  {
   "cell_type": "code",
   "execution_count": 0,
   "metadata": {
    "colab": {},
    "colab_type": "code",
    "id": "jldd73xKPqom"
   },
   "outputs": [],
   "source": [
    "#Creamos una variable binaria que determine si ha habido retraso en el pago mensual, unificando los retrasos en la variable 1 y las cuotas pagadas debidamente, independientemente del tipo de pago, en la 0.\n",
    "#Posteriormente hallamos la media para tener sólo una variable con la que comparar default.\n",
    "train[\"delay_sep05\"] = train[\"repay_status_sep05\"].replace({-2: 0, -1:0, 2:1, 3:1, 4:1, 5:1, 6:1, 7:1, 8:1})\n",
    "train['delay_aug05'] = train['repay_status_aug05'].replace({-2: 0, -1:0, 2:1, 3:1, 4:1, 5:1, 6:1, 7:1, 8:1})\n",
    "train[\"delay_jul05\"] = train[\"repay_status_jul05\"].replace({-2: 0, -1:0, 2:1, 3:1, 4:1, 5:1, 6:1, 7:1, 8:1})\n",
    "train[\"delay_jun05\"] = train[\"repay_status_jun05\"].replace({-2: 0, -1:0, 2:1, 3:1, 4:1, 5:1, 6:1, 7:1, 8:1})\n",
    "train[\"delay_may05\"] = train[\"repay_status_may05\"].replace({-2: 0, -1:0, 2:1, 3:1, 4:1, 5:1, 6:1, 7:1, 8:1})\n",
    "train[\"delay_apr05\"] = train[\"repay_status_apr05\"].replace({-2: 0, -1:0, 2:1, 3:1, 4:1, 5:1, 6:1, 7:1, 8:1})\n",
    "train['avg_delay'] = train[['delay_sep05','delay_aug05','delay_jul05','delay_jun05','delay_may05','delay_apr05']].mean(axis=1).round(2)"
   ]
  },
  {
   "cell_type": "code",
   "execution_count": 46,
   "metadata": {
    "colab": {
     "base_uri": "https://localhost:8080/",
     "height": 534
    },
    "colab_type": "code",
    "executionInfo": {
     "elapsed": 148347,
     "status": "ok",
     "timestamp": 1573220241721,
     "user": {
      "displayName": "JOSU EGUIGUREN BALERDI",
      "photoUrl": "https://lh3.googleusercontent.com/a-/AAuE7mDLke1o9KUCGX86XGJWfNoQlhkTBh11oAljsUue=s64",
      "userId": "11962152349902680680"
     },
     "user_tz": -60
    },
    "id": "309ANsokQFFd",
    "outputId": "c3a6edf1-4e64-422a-85f3-6272a7b91ddc"
   },
   "outputs": [
    {
     "data": {
      "text/plain": [
       "<matplotlib.axes._subplots.AxesSubplot at 0x7f91c392ac88>"
      ]
     },
     "execution_count": 46,
     "metadata": {
      "tags": []
     },
     "output_type": "execute_result"
    },
    {
     "data": {
      "image/png": "[encoded data removed]",
      "text/plain": [
       "<Figure size 576x576 with 1 Axes>"
      ]
     },
     "metadata": {
      "tags": []
     },
     "output_type": "display_data"
    }
   ],
   "source": [
    "avg_crosstab = pd.crosstab(index=train[\"avg_delay\"], \n",
    "                          columns=train[\"default\"]).apply(lambda r: r/r.sum(), axis =1)\n",
    "avg_crosstab.plot(kind=\"bar\", \n",
    "                 figsize=(8,8),\n",
    "                 stacked=True)"
   ]
  },
  {
   "cell_type": "code",
   "execution_count": 47,
   "metadata": {
    "colab": {
     "base_uri": "https://localhost:8080/",
     "height": 297
    },
    "colab_type": "code",
    "executionInfo": {
     "elapsed": 148341,
     "status": "ok",
     "timestamp": 1573220241728,
     "user": {
      "displayName": "JOSU EGUIGUREN BALERDI",
      "photoUrl": "https://lh3.googleusercontent.com/a-/AAuE7mDLke1o9KUCGX86XGJWfNoQlhkTBh11oAljsUue=s64",
      "userId": "11962152349902680680"
     },
     "user_tz": -60
    },
    "id": "BRGfNuWUUN8J",
    "outputId": "4c4ee2d8-d1ee-4c09-f7d3-c43db4fd50a4"
   },
   "outputs": [
    {
     "data": {
      "text/html": [
       "<div>\n",
       "<style scoped>\n",
       "    .dataframe tbody tr th:only-of-type {\n",
       "        vertical-align: middle;\n",
       "    }\n",
       "\n",
       "    .dataframe tbody tr th {\n",
       "        vertical-align: top;\n",
       "    }\n",
       "\n",
       "    .dataframe thead th {\n",
       "        text-align: right;\n",
       "    }\n",
       "</style>\n",
       "<table border=\"1\" class=\"dataframe\">\n",
       "  <thead>\n",
       "    <tr style=\"text-align: right;\">\n",
       "      <th>default</th>\n",
       "      <th>0</th>\n",
       "      <th>1</th>\n",
       "    </tr>\n",
       "    <tr>\n",
       "      <th>avg_delay</th>\n",
       "      <th></th>\n",
       "      <th></th>\n",
       "    </tr>\n",
       "  </thead>\n",
       "  <tbody>\n",
       "    <tr>\n",
       "      <th>0.00</th>\n",
       "      <td>0.877537</td>\n",
       "      <td>0.122463</td>\n",
       "    </tr>\n",
       "    <tr>\n",
       "      <th>0.17</th>\n",
       "      <td>0.719676</td>\n",
       "      <td>0.280324</td>\n",
       "    </tr>\n",
       "    <tr>\n",
       "      <th>0.33</th>\n",
       "      <td>0.651861</td>\n",
       "      <td>0.348139</td>\n",
       "    </tr>\n",
       "    <tr>\n",
       "      <th>0.50</th>\n",
       "      <td>0.507937</td>\n",
       "      <td>0.492063</td>\n",
       "    </tr>\n",
       "    <tr>\n",
       "      <th>0.67</th>\n",
       "      <td>0.431918</td>\n",
       "      <td>0.568082</td>\n",
       "    </tr>\n",
       "    <tr>\n",
       "      <th>0.83</th>\n",
       "      <td>0.442922</td>\n",
       "      <td>0.557078</td>\n",
       "    </tr>\n",
       "    <tr>\n",
       "      <th>1.00</th>\n",
       "      <td>0.313789</td>\n",
       "      <td>0.686211</td>\n",
       "    </tr>\n",
       "  </tbody>\n",
       "</table>\n",
       "</div>"
      ],
      "text/plain": [
       "default           0         1\n",
       "avg_delay                    \n",
       "0.00       0.877537  0.122463\n",
       "0.17       0.719676  0.280324\n",
       "0.33       0.651861  0.348139\n",
       "0.50       0.507937  0.492063\n",
       "0.67       0.431918  0.568082\n",
       "0.83       0.442922  0.557078\n",
       "1.00       0.313789  0.686211"
      ]
     },
     "execution_count": 47,
     "metadata": {
      "tags": []
     },
     "output_type": "execute_result"
    }
   ],
   "source": [
    "avg_crosstab"
   ]
  },
  {
   "cell_type": "markdown",
   "metadata": {
    "colab_type": "text",
    "id": "KuCJn5-VT3MW"
   },
   "source": [
    "Lógicamente, indistintamente de la cantidad de meses de retraso en cada pago, cuantos más retrasos, mayor probabilidad de pago. De hecho, sólo con un retraso la probabilidad de impago aumenta del 12% al 28%. Si se retrasa en la mitad de los pagos, la probabilidad de impago es aproximadamente del 50%.\n",
    "\n",
    "De esta forma, asumiendo que se repetirán los patrones de comportamiento de pagos, esta variable nos puede ayudar a predecir la probabilidad de pago de un cliente, basándonos en su historial de pago."
   ]
  },
  {
   "cell_type": "code",
   "execution_count": 0,
   "metadata": {
    "colab": {},
    "colab_type": "code",
    "id": "8DL-kV_RiQMW"
   },
   "outputs": [],
   "source": [
    "#Para analizar todas las variables de 'bill_amt' y 'pay_amt' hacemos dos promedios y lo analizamos con default\n",
    "train['avg_bill_amt'] = train[['bill_amt_apr05','bill_amt_may05','bill_amt_jun05','bill_amt_jul05','bill_amt_aug05','bill_amt_sep05']].mean(axis=1).round(2)\n",
    "train['avg_pay_amt'] = train[['pay_amt_apr05','pay_amt_may05','pay_amt_jun05','pay_amt_jul05','pay_amt_aug05','pay_amt_sep05']].mean(axis=1).round(2)"
   ]
  },
  {
   "cell_type": "code",
   "execution_count": 49,
   "metadata": {
    "colab": {
     "base_uri": "https://localhost:8080/",
     "height": 410
    },
    "colab_type": "code",
    "executionInfo": {
     "elapsed": 148878,
     "status": "ok",
     "timestamp": 1573220242280,
     "user": {
      "displayName": "JOSU EGUIGUREN BALERDI",
      "photoUrl": "https://lh3.googleusercontent.com/a-/AAuE7mDLke1o9KUCGX86XGJWfNoQlhkTBh11oAljsUue=s64",
      "userId": "11962152349902680680"
     },
     "user_tz": -60
    },
    "id": "aSf5QEyZjmAq",
    "outputId": "c0231984-12dd-40f3-8c0e-35fc75a10e0e"
   },
   "outputs": [
    {
     "data": {
      "image/png": "[encoded data removed]",
      "text/plain": [
       "<Figure size 1008x432 with 1 Axes>"
      ]
     },
     "metadata": {
      "tags": []
     },
     "output_type": "display_data"
    }
   ],
   "source": [
    "class_0 = train.loc[train['default'] == 0][\"avg_bill_amt\"]\n",
    "class_1 = train.loc[train['default'] == 1][\"avg_bill_amt\"]\n",
    "plt.figure(figsize = (14,6))\n",
    "plt.title('Impago de crédito (color rojo) y pago de crédito (color verde)  vs bill amount')\n",
    "sns.set_color_codes(\"pastel\")\n",
    "sns.distplot(class_1, hist=False, kde_kws={'clip': (0, 300000)}, color = 'red')\n",
    "sns.distplot(class_0, hist=False, kde_kws={'clip': (0, 300000)}, color = 'green')\n",
    "plt.show()"
   ]
  },
  {
   "cell_type": "markdown",
   "metadata": {
    "colab_type": "text",
    "id": "f2osI1MBBGl2"
   },
   "source": [
    "Ambas lineas tienen una distribución muy similar, así que no se pueden sacar conclusiones. En la realidad el pago o impago depende más de los pagos a realizar o el crédito solicitado, que del saldo en cuenta."
   ]
  },
  {
   "cell_type": "code",
   "execution_count": 50,
   "metadata": {
    "colab": {
     "base_uri": "https://localhost:8080/",
     "height": 410
    },
    "colab_type": "code",
    "executionInfo": {
     "elapsed": 149316,
     "status": "ok",
     "timestamp": 1573220242730,
     "user": {
      "displayName": "JOSU EGUIGUREN BALERDI",
      "photoUrl": "https://lh3.googleusercontent.com/a-/AAuE7mDLke1o9KUCGX86XGJWfNoQlhkTBh11oAljsUue=s64",
      "userId": "11962152349902680680"
     },
     "user_tz": -60
    },
    "id": "xPo_L65z_Dk1",
    "outputId": "0662d12b-8b66-4f4c-8692-c17a22704532"
   },
   "outputs": [
    {
     "data": {
      "image/png": "[encoded data removed]",
      "text/plain": [
       "<Figure size 1008x432 with 1 Axes>"
      ]
     },
     "metadata": {
      "tags": []
     },
     "output_type": "display_data"
    }
   ],
   "source": [
    "class_0 = train.loc[train['default'] == 0][\"avg_pay_amt\"]\n",
    "class_1 = train.loc[train['default'] == 1][\"avg_pay_amt\"]\n",
    "plt.figure(figsize = (14,6))\n",
    "plt.title('Impago de crédito (color rojo) y pago de crédito (color verde)  vs average pay amount')\n",
    "sns.set_color_codes(\"pastel\")\n",
    "sns.distplot(class_1, hist=False, kde_kws={'clip': (0, 50000)}, color = 'red')\n",
    "sns.distplot(class_0, hist=False, kde_kws={'clip': (0, 50000)}, color = 'green')\n",
    "plt.show()"
   ]
  },
  {
   "cell_type": "markdown",
   "metadata": {
    "colab_type": "text",
    "id": "I8zyaoU0Bzzb"
   },
   "source": [
    "Lo que sí vemos es que en casos donde hay más impagos es donde los pagos mensuales son menores o nulos."
   ]
  },
  {
   "cell_type": "markdown",
   "metadata": {
    "colab_type": "text",
    "id": "9IB78EbS1R8-"
   },
   "source": [
    "## Estudiamos la muestra de los créditos impagados"
   ]
  },
  {
   "cell_type": "markdown",
   "metadata": {
    "colab_type": "text",
    "id": "1vL9chyA1eY5"
   },
   "source": [
    "  Como banco, nos interesaría saber cuál es el comportamiento habitual de los clientes que no pagan para tomar decisiones de cara al futuro. Si conseguimos averiguar algo sobre su comportamiento podremos predecir si una serie de patrones hacen que el cliente no vaya a pagar el crédito."
   ]
  },
  {
   "cell_type": "code",
   "execution_count": 0,
   "metadata": {
    "colab": {},
    "colab_type": "code",
    "id": "ReBQiMIrzrhE"
   },
   "outputs": [],
   "source": [
    "#Vamos a trabajar con el dataframe train pero solo con los default=1 ya que queremos ver si el comportamiento de los clientes que no pagan sigue algún patrón\n",
    "train_def = train[train[\"default\"]==1]"
   ]
  },
  {
   "cell_type": "code",
   "execution_count": 52,
   "metadata": {
    "colab": {
     "base_uri": "https://localhost:8080/",
     "height": 317
    },
    "colab_type": "code",
    "executionInfo": {
     "elapsed": 149310,
     "status": "ok",
     "timestamp": 1573220242742,
     "user": {
      "displayName": "JOSU EGUIGUREN BALERDI",
      "photoUrl": "https://lh3.googleusercontent.com/a-/AAuE7mDLke1o9KUCGX86XGJWfNoQlhkTBh11oAljsUue=s64",
      "userId": "11962152349902680680"
     },
     "user_tz": -60
    },
    "id": "YnvUWO0I0eS1",
    "outputId": "2c5116a9-62a2-46b0-a979-9d321f98787e"
   },
   "outputs": [
    {
     "data": {
      "text/html": [
       "<div>\n",
       "<style scoped>\n",
       "    .dataframe tbody tr th:only-of-type {\n",
       "        vertical-align: middle;\n",
       "    }\n",
       "\n",
       "    .dataframe tbody tr th {\n",
       "        vertical-align: top;\n",
       "    }\n",
       "\n",
       "    .dataframe thead th {\n",
       "        text-align: right;\n",
       "    }\n",
       "</style>\n",
       "<table border=\"1\" class=\"dataframe\">\n",
       "  <thead>\n",
       "    <tr style=\"text-align: right;\">\n",
       "      <th></th>\n",
       "      <th>limit_bal</th>\n",
       "      <th>age</th>\n",
       "      <th>repay_status_sep05</th>\n",
       "      <th>repay_status_aug05</th>\n",
       "      <th>repay_status_jul05</th>\n",
       "      <th>repay_status_jun05</th>\n",
       "      <th>repay_status_may05</th>\n",
       "      <th>repay_status_apr05</th>\n",
       "      <th>bill_amt_sep05</th>\n",
       "      <th>bill_amt_aug05</th>\n",
       "      <th>bill_amt_jul05</th>\n",
       "      <th>bill_amt_jun05</th>\n",
       "      <th>bill_amt_may05</th>\n",
       "      <th>bill_amt_apr05</th>\n",
       "      <th>pay_amt_sep05</th>\n",
       "      <th>pay_amt_aug05</th>\n",
       "      <th>pay_amt_jul05</th>\n",
       "      <th>pay_amt_jun05</th>\n",
       "      <th>pay_amt_may05</th>\n",
       "      <th>pay_amt_apr05</th>\n",
       "      <th>default</th>\n",
       "      <th>female_bin</th>\n",
       "      <th>married_bin</th>\n",
       "      <th>delay_sep05</th>\n",
       "      <th>delay_aug05</th>\n",
       "      <th>delay_jul05</th>\n",
       "      <th>delay_jun05</th>\n",
       "      <th>delay_may05</th>\n",
       "      <th>delay_apr05</th>\n",
       "      <th>avg_delay</th>\n",
       "      <th>avg_bill_amt</th>\n",
       "      <th>avg_pay_amt</th>\n",
       "    </tr>\n",
       "  </thead>\n",
       "  <tbody>\n",
       "    <tr>\n",
       "      <th>count</th>\n",
       "      <td>5073.000000</td>\n",
       "      <td>5073.000000</td>\n",
       "      <td>5073.000000</td>\n",
       "      <td>5073.000000</td>\n",
       "      <td>5073.000000</td>\n",
       "      <td>5073.00000</td>\n",
       "      <td>5073.000000</td>\n",
       "      <td>5073.000000</td>\n",
       "      <td>5073.000000</td>\n",
       "      <td>5073.000000</td>\n",
       "      <td>5073.000000</td>\n",
       "      <td>5073.000000</td>\n",
       "      <td>5073.000000</td>\n",
       "      <td>5073.000000</td>\n",
       "      <td>5073.000000</td>\n",
       "      <td>5.073000e+03</td>\n",
       "      <td>5073.000000</td>\n",
       "      <td>5073.000000</td>\n",
       "      <td>5073.000000</td>\n",
       "      <td>5073.000000</td>\n",
       "      <td>5073.0</td>\n",
       "      <td>5073.000000</td>\n",
       "      <td>5070.000000</td>\n",
       "      <td>5073.000000</td>\n",
       "      <td>5073.00000</td>\n",
       "      <td>5073.000000</td>\n",
       "      <td>5073.000000</td>\n",
       "      <td>5073.000000</td>\n",
       "      <td>5073.000000</td>\n",
       "      <td>5073.000000</td>\n",
       "      <td>5073.000000</td>\n",
       "      <td>5073.000000</td>\n",
       "    </tr>\n",
       "    <tr>\n",
       "      <th>mean</th>\n",
       "      <td>133583.220974</td>\n",
       "      <td>35.676326</td>\n",
       "      <td>0.588803</td>\n",
       "      <td>0.400355</td>\n",
       "      <td>0.315789</td>\n",
       "      <td>0.21644</td>\n",
       "      <td>0.128129</td>\n",
       "      <td>0.081609</td>\n",
       "      <td>49281.592155</td>\n",
       "      <td>48021.835600</td>\n",
       "      <td>46171.328405</td>\n",
       "      <td>42400.995860</td>\n",
       "      <td>40076.609304</td>\n",
       "      <td>38679.234772</td>\n",
       "      <td>3566.342007</td>\n",
       "      <td>3.853007e+03</td>\n",
       "      <td>3655.841317</td>\n",
       "      <td>3293.027400</td>\n",
       "      <td>3370.266903</td>\n",
       "      <td>3727.205007</td>\n",
       "      <td>1.0</td>\n",
       "      <td>0.565149</td>\n",
       "      <td>0.487968</td>\n",
       "      <td>0.483343</td>\n",
       "      <td>0.35068</td>\n",
       "      <td>0.314212</td>\n",
       "      <td>0.268677</td>\n",
       "      <td>0.232013</td>\n",
       "      <td>0.228267</td>\n",
       "      <td>0.313387</td>\n",
       "      <td>44105.266054</td>\n",
       "      <td>3577.614824</td>\n",
       "    </tr>\n",
       "    <tr>\n",
       "      <th>std</th>\n",
       "      <td>116915.151918</td>\n",
       "      <td>9.601222</td>\n",
       "      <td>1.370763</td>\n",
       "      <td>1.484135</td>\n",
       "      <td>1.489852</td>\n",
       "      <td>1.49304</td>\n",
       "      <td>1.471785</td>\n",
       "      <td>1.475097</td>\n",
       "      <td>74201.547778</td>\n",
       "      <td>72257.082323</td>\n",
       "      <td>70037.392439</td>\n",
       "      <td>65240.182867</td>\n",
       "      <td>62119.974455</td>\n",
       "      <td>60345.019217</td>\n",
       "      <td>9677.018486</td>\n",
       "      <td>1.900209e+04</td>\n",
       "      <td>14357.871672</td>\n",
       "      <td>10472.012373</td>\n",
       "      <td>11621.635515</td>\n",
       "      <td>14441.421955</td>\n",
       "      <td>0.0</td>\n",
       "      <td>0.495786</td>\n",
       "      <td>0.499905</td>\n",
       "      <td>0.499772</td>\n",
       "      <td>0.47723</td>\n",
       "      <td>0.464247</td>\n",
       "      <td>0.443315</td>\n",
       "      <td>0.422159</td>\n",
       "      <td>0.419757</td>\n",
       "      <td>0.342693</td>\n",
       "      <td>62661.124442</td>\n",
       "      <td>6610.607686</td>\n",
       "    </tr>\n",
       "    <tr>\n",
       "      <th>min</th>\n",
       "      <td>10000.000000</td>\n",
       "      <td>21.000000</td>\n",
       "      <td>-2.000000</td>\n",
       "      <td>-2.000000</td>\n",
       "      <td>-2.000000</td>\n",
       "      <td>-2.00000</td>\n",
       "      <td>-2.000000</td>\n",
       "      <td>-2.000000</td>\n",
       "      <td>-6676.000000</td>\n",
       "      <td>-17710.000000</td>\n",
       "      <td>-61506.000000</td>\n",
       "      <td>-65167.000000</td>\n",
       "      <td>-53007.000000</td>\n",
       "      <td>-339603.000000</td>\n",
       "      <td>0.000000</td>\n",
       "      <td>0.000000e+00</td>\n",
       "      <td>0.000000</td>\n",
       "      <td>0.000000</td>\n",
       "      <td>0.000000</td>\n",
       "      <td>0.000000</td>\n",
       "      <td>1.0</td>\n",
       "      <td>0.000000</td>\n",
       "      <td>0.000000</td>\n",
       "      <td>0.000000</td>\n",
       "      <td>0.00000</td>\n",
       "      <td>0.000000</td>\n",
       "      <td>0.000000</td>\n",
       "      <td>0.000000</td>\n",
       "      <td>0.000000</td>\n",
       "      <td>0.000000</td>\n",
       "      <td>-56043.170000</td>\n",
       "      <td>0.000000</td>\n",
       "    </tr>\n",
       "    <tr>\n",
       "      <th>25%</th>\n",
       "      <td>50000.000000</td>\n",
       "      <td>28.000000</td>\n",
       "      <td>0.000000</td>\n",
       "      <td>-1.000000</td>\n",
       "      <td>-1.000000</td>\n",
       "      <td>-1.00000</td>\n",
       "      <td>-1.000000</td>\n",
       "      <td>-1.000000</td>\n",
       "      <td>3280.000000</td>\n",
       "      <td>2817.000000</td>\n",
       "      <td>2500.000000</td>\n",
       "      <td>2146.000000</td>\n",
       "      <td>1585.000000</td>\n",
       "      <td>1240.000000</td>\n",
       "      <td>0.000000</td>\n",
       "      <td>0.000000e+00</td>\n",
       "      <td>0.000000</td>\n",
       "      <td>0.000000</td>\n",
       "      <td>0.000000</td>\n",
       "      <td>0.000000</td>\n",
       "      <td>1.0</td>\n",
       "      <td>0.000000</td>\n",
       "      <td>0.000000</td>\n",
       "      <td>0.000000</td>\n",
       "      <td>0.00000</td>\n",
       "      <td>0.000000</td>\n",
       "      <td>0.000000</td>\n",
       "      <td>0.000000</td>\n",
       "      <td>0.000000</td>\n",
       "      <td>0.000000</td>\n",
       "      <td>5287.830000</td>\n",
       "      <td>874.000000</td>\n",
       "    </tr>\n",
       "    <tr>\n",
       "      <th>50%</th>\n",
       "      <td>90000.000000</td>\n",
       "      <td>34.000000</td>\n",
       "      <td>0.000000</td>\n",
       "      <td>0.000000</td>\n",
       "      <td>0.000000</td>\n",
       "      <td>0.00000</td>\n",
       "      <td>0.000000</td>\n",
       "      <td>0.000000</td>\n",
       "      <td>20574.000000</td>\n",
       "      <td>20568.000000</td>\n",
       "      <td>20000.000000</td>\n",
       "      <td>19076.000000</td>\n",
       "      <td>18627.000000</td>\n",
       "      <td>18036.000000</td>\n",
       "      <td>1703.000000</td>\n",
       "      <td>1.600000e+03</td>\n",
       "      <td>1284.000000</td>\n",
       "      <td>1000.000000</td>\n",
       "      <td>1003.000000</td>\n",
       "      <td>1000.000000</td>\n",
       "      <td>1.0</td>\n",
       "      <td>1.000000</td>\n",
       "      <td>0.000000</td>\n",
       "      <td>0.000000</td>\n",
       "      <td>0.00000</td>\n",
       "      <td>0.000000</td>\n",
       "      <td>0.000000</td>\n",
       "      <td>0.000000</td>\n",
       "      <td>0.000000</td>\n",
       "      <td>0.170000</td>\n",
       "      <td>23245.670000</td>\n",
       "      <td>1769.500000</td>\n",
       "    </tr>\n",
       "    <tr>\n",
       "      <th>75%</th>\n",
       "      <td>200000.000000</td>\n",
       "      <td>42.000000</td>\n",
       "      <td>2.000000</td>\n",
       "      <td>2.000000</td>\n",
       "      <td>2.000000</td>\n",
       "      <td>2.00000</td>\n",
       "      <td>0.000000</td>\n",
       "      <td>0.000000</td>\n",
       "      <td>61189.000000</td>\n",
       "      <td>60353.000000</td>\n",
       "      <td>56950.000000</td>\n",
       "      <td>50706.000000</td>\n",
       "      <td>48633.000000</td>\n",
       "      <td>47758.000000</td>\n",
       "      <td>3600.000000</td>\n",
       "      <td>3.500000e+03</td>\n",
       "      <td>3000.000000</td>\n",
       "      <td>3000.000000</td>\n",
       "      <td>3000.000000</td>\n",
       "      <td>3000.000000</td>\n",
       "      <td>1.0</td>\n",
       "      <td>1.000000</td>\n",
       "      <td>1.000000</td>\n",
       "      <td>1.000000</td>\n",
       "      <td>1.00000</td>\n",
       "      <td>1.000000</td>\n",
       "      <td>1.000000</td>\n",
       "      <td>0.000000</td>\n",
       "      <td>0.000000</td>\n",
       "      <td>0.500000</td>\n",
       "      <td>54342.670000</td>\n",
       "      <td>3825.500000</td>\n",
       "    </tr>\n",
       "    <tr>\n",
       "      <th>max</th>\n",
       "      <td>800000.000000</td>\n",
       "      <td>75.000000</td>\n",
       "      <td>8.000000</td>\n",
       "      <td>7.000000</td>\n",
       "      <td>8.000000</td>\n",
       "      <td>8.00000</td>\n",
       "      <td>8.000000</td>\n",
       "      <td>8.000000</td>\n",
       "      <td>613860.000000</td>\n",
       "      <td>581775.000000</td>\n",
       "      <td>578971.000000</td>\n",
       "      <td>548020.000000</td>\n",
       "      <td>547880.000000</td>\n",
       "      <td>514975.000000</td>\n",
       "      <td>244500.000000</td>\n",
       "      <td>1.024516e+06</td>\n",
       "      <td>508229.000000</td>\n",
       "      <td>292462.000000</td>\n",
       "      <td>330982.000000</td>\n",
       "      <td>345293.000000</td>\n",
       "      <td>1.0</td>\n",
       "      <td>1.000000</td>\n",
       "      <td>1.000000</td>\n",
       "      <td>1.000000</td>\n",
       "      <td>1.00000</td>\n",
       "      <td>1.000000</td>\n",
       "      <td>1.000000</td>\n",
       "      <td>1.000000</td>\n",
       "      <td>1.000000</td>\n",
       "      <td>1.000000</td>\n",
       "      <td>521248.330000</td>\n",
       "      <td>172009.830000</td>\n",
       "    </tr>\n",
       "  </tbody>\n",
       "</table>\n",
       "</div>"
      ],
      "text/plain": [
       "           limit_bal          age  ...   avg_bill_amt    avg_pay_amt\n",
       "count  5073.000000    5073.000000  ...  5073.000000    5073.000000  \n",
       "mean   133583.220974  35.676326    ...  44105.266054   3577.614824  \n",
       "std    116915.151918  9.601222     ...  62661.124442   6610.607686  \n",
       "min    10000.000000   21.000000    ... -56043.170000   0.000000     \n",
       "25%    50000.000000   28.000000    ...  5287.830000    874.000000   \n",
       "50%    90000.000000   34.000000    ...  23245.670000   1769.500000  \n",
       "75%    200000.000000  42.000000    ...  54342.670000   3825.500000  \n",
       "max    800000.000000  75.000000    ...  521248.330000  172009.830000\n",
       "\n",
       "[8 rows x 32 columns]"
      ]
     },
     "execution_count": 52,
     "metadata": {
      "tags": []
     },
     "output_type": "execute_result"
    }
   ],
   "source": [
    "train_def.describe()"
   ]
  },
  {
   "cell_type": "code",
   "execution_count": 0,
   "metadata": {
    "colab": {},
    "colab_type": "code",
    "id": "t8BnJEcR5auf"
   },
   "outputs": [],
   "source": [
    "#Creamos un DataFrame que sólo tenga valores numéricos para el default\n",
    "df_numerical2 = train_def.select_dtypes(include = ['int64','float'])"
   ]
  },
  {
   "cell_type": "code",
   "execution_count": 0,
   "metadata": {
    "colab": {},
    "colab_type": "code",
    "id": "XZPzsR-94WC4"
   },
   "outputs": [],
   "source": [
    "#Creamos la matriz de correlación\n",
    "corr_def= df_numerical2.corr()"
   ]
  },
  {
   "cell_type": "code",
   "execution_count": 55,
   "metadata": {
    "colab": {
     "base_uri": "https://localhost:8080/",
     "height": 714
    },
    "colab_type": "code",
    "executionInfo": {
     "elapsed": 149495,
     "status": "ok",
     "timestamp": 1573220242945,
     "user": {
      "displayName": "JOSU EGUIGUREN BALERDI",
      "photoUrl": "https://lh3.googleusercontent.com/a-/AAuE7mDLke1o9KUCGX86XGJWfNoQlhkTBh11oAljsUue=s64",
      "userId": "11962152349902680680"
     },
     "user_tz": -60
    },
    "id": "dHJqLenj490q",
    "outputId": "bc13e9de-6fc2-47b7-af21-0e583a740d7b"
   },
   "outputs": [
    {
     "data": {
      "text/plain": [
       "repay_status_may05  avg_delay             0.705720\n",
       "delay_apr05         avg_delay             0.715695\n",
       "repay_status_aug05  repay_status_jul05    0.716067\n",
       "repay_status_jun05  avg_delay             0.725784\n",
       "repay_status_aug05  avg_delay             0.725898\n",
       "repay_status_jul05  repay_status_jun05    0.727984\n",
       "                    avg_delay             0.733444\n",
       "bill_amt_sep05      bill_amt_apr05        0.773867\n",
       "delay_may05         avg_delay             0.775834\n",
       "bill_amt_aug05      bill_amt_apr05        0.784581\n",
       "delay_aug05         avg_delay             0.785897\n",
       "delay_jun05         avg_delay             0.786009\n",
       "repay_status_may05  repay_status_apr05    0.787268\n",
       "repay_status_jun05  repay_status_may05    0.790310\n",
       "bill_amt_jul05      bill_amt_apr05        0.791626\n",
       "delay_jul05         avg_delay             0.791859\n",
       "bill_amt_sep05      bill_amt_may05        0.798157\n",
       "repay_status_may05  delay_may05           0.821291\n",
       "bill_amt_aug05      bill_amt_may05        0.821969\n",
       "repay_status_apr05  delay_apr05           0.822004\n",
       "bill_amt_jul05      bill_amt_may05        0.828891\n",
       "repay_status_sep05  delay_sep05           0.833534\n",
       "bill_amt_jun05      bill_amt_apr05        0.835933\n",
       "repay_status_jun05  delay_jun05           0.836137\n",
       "bill_amt_sep05      bill_amt_jun05        0.838549\n",
       "                    bill_amt_jul05        0.854367\n",
       "bill_amt_aug05      bill_amt_jun05        0.857027\n",
       "repay_status_jul05  delay_jul05           0.859620\n",
       "bill_amt_jul05      bill_amt_jun05        0.863101\n",
       "bill_amt_may05      bill_amt_apr05        0.866852\n",
       "bill_amt_jun05      bill_amt_may05        0.870582\n",
       "bill_amt_aug05      bill_amt_jul05        0.876001\n",
       "repay_status_aug05  delay_aug05           0.879579\n",
       "bill_amt_sep05      bill_amt_aug05        0.893248\n",
       "bill_amt_apr05      avg_bill_amt          0.899780\n",
       "bill_amt_may05      avg_bill_amt          0.925342\n",
       "bill_amt_sep05      avg_bill_amt          0.929790\n",
       "bill_amt_jul05      avg_bill_amt          0.937052\n",
       "bill_amt_aug05      avg_bill_amt          0.942129\n",
       "bill_amt_jun05      avg_bill_amt          0.942536\n",
       "dtype: float64"
      ]
     },
     "execution_count": 55,
     "metadata": {
      "tags": []
     },
     "output_type": "execute_result"
    }
   ],
   "source": [
    "#Calculamos qué par de variables están correlacionadas > 0.7\n",
    "#Tomamos un 0,7 debido a que tenemos correlaciones altas y queremos observar las más elevadas\n",
    "sol2 =(corr_def.where(np.triu(np.ones(corr_def.shape),k=1).astype(np.bool)).stack().sort_values(ascending=True))\n",
    "\n",
    "sol2[sol2 > 0.7]"
   ]
  },
  {
   "cell_type": "code",
   "execution_count": 56,
   "metadata": {
    "colab": {
     "base_uri": "https://localhost:8080/",
     "height": 652
    },
    "colab_type": "code",
    "executionInfo": {
     "elapsed": 150764,
     "status": "ok",
     "timestamp": 1573220244231,
     "user": {
      "displayName": "JOSU EGUIGUREN BALERDI",
      "photoUrl": "https://lh3.googleusercontent.com/a-/AAuE7mDLke1o9KUCGX86XGJWfNoQlhkTBh11oAljsUue=s64",
      "userId": "11962152349902680680"
     },
     "user_tz": -60
    },
    "id": "eMlF7acE4l6A",
    "outputId": "4ef4987f-d6a4-4bb9-f07c-fcdb93865b14"
   },
   "outputs": [
    {
     "data": {
      "text/plain": [
       "<matplotlib.axes._subplots.AxesSubplot at 0x7f91c3511ef0>"
      ]
     },
     "execution_count": 56,
     "metadata": {
      "tags": []
     },
     "output_type": "execute_result"
    },
    {
     "data": {
      "image/png": "[encoded data removed]",
      "text/plain": [
       "<Figure size 792x648 with 2 Axes>"
      ]
     },
     "metadata": {
      "tags": []
     },
     "output_type": "display_data"
    }
   ],
   "source": [
    "#Pintamos la matriz de correlación\n",
    "f, ax = plt.subplots(figsize =(11,9))\n",
    "cmap = sns.diverging_palette(220,10, as_cmap=True)\n",
    "sns.heatmap(corr_def, cmap = cmap, vmax = 1, center = 0, square = True, linewidths =5, cbar_kws={'shrink':.5})"
   ]
  },
  {
   "cell_type": "markdown",
   "metadata": {
    "colab_type": "text",
    "id": "FjdztxpvFV3q"
   },
   "source": [
    "Como vemos, los resultados obtenidos al analizar la muestra de impagados, son los mismos que hemos obtenido antes al analizar el total de los clientes, seguimos teniendo correlaciones altas entre los meses más cercanos entre sí en las variables bill y repay"
   ]
  },
  {
   "cell_type": "code",
   "execution_count": 57,
   "metadata": {
    "colab": {
     "base_uri": "https://localhost:8080/",
     "height": 630
    },
    "colab_type": "code",
    "executionInfo": {
     "elapsed": 150768,
     "status": "ok",
     "timestamp": 1573220244246,
     "user": {
      "displayName": "JOSU EGUIGUREN BALERDI",
      "photoUrl": "https://lh3.googleusercontent.com/a-/AAuE7mDLke1o9KUCGX86XGJWfNoQlhkTBh11oAljsUue=s64",
      "userId": "11962152349902680680"
     },
     "user_tz": -60
    },
    "id": "ZBgUgglQ-uzY",
    "outputId": "193e711f-abec-4797-fdd2-933e050ebf4e"
   },
   "outputs": [
    {
     "data": {
      "text/plain": [
       "(array([0, 1, 2, 3]), <a list of 4 Text xticklabel objects>)"
      ]
     },
     "execution_count": 57,
     "metadata": {
      "tags": []
     },
     "output_type": "execute_result"
    },
    {
     "data": {
      "image/png": "[encoded data removed]",
      "text/plain": [
       "<Figure size 216x720 with 1 Axes>"
      ]
     },
     "metadata": {
      "tags": []
     },
     "output_type": "display_data"
    }
   ],
   "source": [
    "#Relacionamos el nivel educativo con el límite de crédito dentro de los créditos impagados\n",
    "plt.figure(figsize = (3, 10))\n",
    "ax = sns.boxplot(x='education', y='limit_bal', data=train_def)\n",
    "plt.setp(ax.artists, alpha=.5, linewidth=2, edgecolor=\"k\")\n",
    "plt.xticks(rotation=45)"
   ]
  },
  {
   "cell_type": "markdown",
   "metadata": {
    "colab_type": "text",
    "id": "CeuL547OIU5i"
   },
   "source": [
    "Al analizar el diagrama vemos que los clientes que tienen un nivel educativo de \"graduate school\"son los que piden los créditos más altos"
   ]
  },
  {
   "cell_type": "code",
   "execution_count": 58,
   "metadata": {
    "colab": {
     "base_uri": "https://localhost:8080/",
     "height": 562
    },
    "colab_type": "code",
    "executionInfo": {
     "elapsed": 152823,
     "status": "ok",
     "timestamp": 1573220246313,
     "user": {
      "displayName": "JOSU EGUIGUREN BALERDI",
      "photoUrl": "https://lh3.googleusercontent.com/a-/AAuE7mDLke1o9KUCGX86XGJWfNoQlhkTBh11oAljsUue=s64",
      "userId": "11962152349902680680"
     },
     "user_tz": -60
    },
    "id": "n_vOBoT5I4Wt",
    "outputId": "edcda31b-ab02-4927-853f-9d48d181b143"
   },
   "outputs": [
    {
     "data": {
      "text/plain": [
       "<matplotlib.axes._subplots.AxesSubplot at 0x7f91c38f7208>"
      ]
     },
     "execution_count": 58,
     "metadata": {
      "tags": []
     },
     "output_type": "execute_result"
    },
    {
     "data": {
      "image/png": "[encoded data removed]",
      "text/plain": [
       "<Figure size 576x576 with 1 Axes>"
      ]
     },
     "metadata": {
      "tags": []
     },
     "output_type": "display_data"
    }
   ],
   "source": [
    "#Con un crosstab también podemos ver la misma tendencia que acabamos de comentar viendo los colores:\n",
    "avg_crosstab = pd.crosstab(index=train_def[\"limit_bal\"], \n",
    "                          columns=train_def[\"education\"]).apply(lambda r: r/r.sum(), axis =1)\n",
    "avg_crosstab.plot(kind=\"bar\", \n",
    "                 figsize=(8,8),\n",
    "                 stacked=True)"
   ]
  },
  {
   "cell_type": "markdown",
   "metadata": {
    "colab_type": "text",
    "id": "K5eQlx_7J21e"
   },
   "source": [
    "### Analizamos los retrasos en los pagos vs el resto de las variables dentro de los clientes que no pagan"
   ]
  },
  {
   "cell_type": "code",
   "execution_count": 59,
   "metadata": {
    "colab": {
     "base_uri": "https://localhost:8080/",
     "height": 224
    },
    "colab_type": "code",
    "executionInfo": {
     "elapsed": 152816,
     "status": "ok",
     "timestamp": 1573220246319,
     "user": {
      "displayName": "JOSU EGUIGUREN BALERDI",
      "photoUrl": "https://lh3.googleusercontent.com/a-/AAuE7mDLke1o9KUCGX86XGJWfNoQlhkTBh11oAljsUue=s64",
      "userId": "11962152349902680680"
     },
     "user_tz": -60
    },
    "id": "BmK1R80xBHbV",
    "outputId": "ce48fc45-7bcd-4853-de04-01273ee1123e"
   },
   "outputs": [
    {
     "data": {
      "text/html": [
       "<div>\n",
       "<style scoped>\n",
       "    .dataframe tbody tr th:only-of-type {\n",
       "        vertical-align: middle;\n",
       "    }\n",
       "\n",
       "    .dataframe tbody tr th {\n",
       "        vertical-align: top;\n",
       "    }\n",
       "\n",
       "    .dataframe thead th {\n",
       "        text-align: right;\n",
       "    }\n",
       "</style>\n",
       "<table border=\"1\" class=\"dataframe\">\n",
       "  <thead>\n",
       "    <tr style=\"text-align: right;\">\n",
       "      <th></th>\n",
       "      <th>id</th>\n",
       "      <th>limit_bal</th>\n",
       "      <th>education</th>\n",
       "      <th>age</th>\n",
       "      <th>repay_status_sep05</th>\n",
       "      <th>repay_status_aug05</th>\n",
       "      <th>repay_status_jul05</th>\n",
       "      <th>repay_status_jun05</th>\n",
       "      <th>repay_status_may05</th>\n",
       "      <th>repay_status_apr05</th>\n",
       "      <th>bill_amt_sep05</th>\n",
       "      <th>bill_amt_aug05</th>\n",
       "      <th>bill_amt_jul05</th>\n",
       "      <th>bill_amt_jun05</th>\n",
       "      <th>bill_amt_may05</th>\n",
       "      <th>bill_amt_apr05</th>\n",
       "      <th>pay_amt_sep05</th>\n",
       "      <th>pay_amt_aug05</th>\n",
       "      <th>pay_amt_jul05</th>\n",
       "      <th>pay_amt_jun05</th>\n",
       "      <th>pay_amt_may05</th>\n",
       "      <th>pay_amt_apr05</th>\n",
       "      <th>default</th>\n",
       "      <th>female_bin</th>\n",
       "      <th>married_bin</th>\n",
       "      <th>delay_sep05</th>\n",
       "      <th>delay_aug05</th>\n",
       "      <th>delay_jul05</th>\n",
       "      <th>delay_jun05</th>\n",
       "      <th>delay_may05</th>\n",
       "      <th>delay_apr05</th>\n",
       "      <th>avg_delay</th>\n",
       "      <th>avg_bill_amt</th>\n",
       "      <th>avg_pay_amt</th>\n",
       "    </tr>\n",
       "  </thead>\n",
       "  <tbody>\n",
       "    <tr>\n",
       "      <th>0</th>\n",
       "      <td>7546</td>\n",
       "      <td>20000.0</td>\n",
       "      <td>2</td>\n",
       "      <td>24</td>\n",
       "      <td>2</td>\n",
       "      <td>2</td>\n",
       "      <td>-1</td>\n",
       "      <td>-1</td>\n",
       "      <td>-2</td>\n",
       "      <td>-2</td>\n",
       "      <td>3913.0</td>\n",
       "      <td>3102.0</td>\n",
       "      <td>689.0</td>\n",
       "      <td>0.0</td>\n",
       "      <td>0.0</td>\n",
       "      <td>0.0</td>\n",
       "      <td>0.0</td>\n",
       "      <td>689.0</td>\n",
       "      <td>0.0</td>\n",
       "      <td>0.0</td>\n",
       "      <td>0.0</td>\n",
       "      <td>0.0</td>\n",
       "      <td>1</td>\n",
       "      <td>1</td>\n",
       "      <td>1.0</td>\n",
       "      <td>1</td>\n",
       "      <td>1</td>\n",
       "      <td>0</td>\n",
       "      <td>0</td>\n",
       "      <td>0</td>\n",
       "      <td>0</td>\n",
       "      <td>0.33</td>\n",
       "      <td>1284.00</td>\n",
       "      <td>114.83</td>\n",
       "    </tr>\n",
       "    <tr>\n",
       "      <th>1</th>\n",
       "      <td>27999</td>\n",
       "      <td>120000.0</td>\n",
       "      <td>2</td>\n",
       "      <td>26</td>\n",
       "      <td>-1</td>\n",
       "      <td>2</td>\n",
       "      <td>0</td>\n",
       "      <td>0</td>\n",
       "      <td>0</td>\n",
       "      <td>2</td>\n",
       "      <td>2682.0</td>\n",
       "      <td>1725.0</td>\n",
       "      <td>2682.0</td>\n",
       "      <td>3272.0</td>\n",
       "      <td>3455.0</td>\n",
       "      <td>3261.0</td>\n",
       "      <td>0.0</td>\n",
       "      <td>1000.0</td>\n",
       "      <td>1000.0</td>\n",
       "      <td>1000.0</td>\n",
       "      <td>0.0</td>\n",
       "      <td>2000.0</td>\n",
       "      <td>1</td>\n",
       "      <td>1</td>\n",
       "      <td>0.0</td>\n",
       "      <td>0</td>\n",
       "      <td>1</td>\n",
       "      <td>0</td>\n",
       "      <td>0</td>\n",
       "      <td>0</td>\n",
       "      <td>1</td>\n",
       "      <td>0.33</td>\n",
       "      <td>2846.17</td>\n",
       "      <td>833.33</td>\n",
       "    </tr>\n",
       "    <tr>\n",
       "      <th>10</th>\n",
       "      <td>19202</td>\n",
       "      <td>70000.0</td>\n",
       "      <td>2</td>\n",
       "      <td>30</td>\n",
       "      <td>1</td>\n",
       "      <td>2</td>\n",
       "      <td>2</td>\n",
       "      <td>0</td>\n",
       "      <td>0</td>\n",
       "      <td>2</td>\n",
       "      <td>65802.0</td>\n",
       "      <td>67369.0</td>\n",
       "      <td>65701.0</td>\n",
       "      <td>66782.0</td>\n",
       "      <td>36137.0</td>\n",
       "      <td>36894.0</td>\n",
       "      <td>3200.0</td>\n",
       "      <td>0.0</td>\n",
       "      <td>3000.0</td>\n",
       "      <td>3000.0</td>\n",
       "      <td>1500.0</td>\n",
       "      <td>0.0</td>\n",
       "      <td>1</td>\n",
       "      <td>0</td>\n",
       "      <td>0.0</td>\n",
       "      <td>1</td>\n",
       "      <td>1</td>\n",
       "      <td>1</td>\n",
       "      <td>0</td>\n",
       "      <td>0</td>\n",
       "      <td>1</td>\n",
       "      <td>0.67</td>\n",
       "      <td>56447.50</td>\n",
       "      <td>1783.33</td>\n",
       "    </tr>\n",
       "    <tr>\n",
       "      <th>13</th>\n",
       "      <td>6857</td>\n",
       "      <td>20000.0</td>\n",
       "      <td>1</td>\n",
       "      <td>24</td>\n",
       "      <td>0</td>\n",
       "      <td>0</td>\n",
       "      <td>2</td>\n",
       "      <td>2</td>\n",
       "      <td>2</td>\n",
       "      <td>2</td>\n",
       "      <td>15376.0</td>\n",
       "      <td>18010.0</td>\n",
       "      <td>17428.0</td>\n",
       "      <td>18338.0</td>\n",
       "      <td>17905.0</td>\n",
       "      <td>19104.0</td>\n",
       "      <td>3200.0</td>\n",
       "      <td>0.0</td>\n",
       "      <td>1500.0</td>\n",
       "      <td>0.0</td>\n",
       "      <td>1650.0</td>\n",
       "      <td>0.0</td>\n",
       "      <td>1</td>\n",
       "      <td>0</td>\n",
       "      <td>0.0</td>\n",
       "      <td>0</td>\n",
       "      <td>0</td>\n",
       "      <td>1</td>\n",
       "      <td>1</td>\n",
       "      <td>1</td>\n",
       "      <td>1</td>\n",
       "      <td>0.67</td>\n",
       "      <td>17693.50</td>\n",
       "      <td>1058.33</td>\n",
       "    </tr>\n",
       "    <tr>\n",
       "      <th>17</th>\n",
       "      <td>17291</td>\n",
       "      <td>120000.0</td>\n",
       "      <td>2</td>\n",
       "      <td>39</td>\n",
       "      <td>-1</td>\n",
       "      <td>-1</td>\n",
       "      <td>-1</td>\n",
       "      <td>-1</td>\n",
       "      <td>-1</td>\n",
       "      <td>-1</td>\n",
       "      <td>316.0</td>\n",
       "      <td>316.0</td>\n",
       "      <td>316.0</td>\n",
       "      <td>0.0</td>\n",
       "      <td>632.0</td>\n",
       "      <td>316.0</td>\n",
       "      <td>316.0</td>\n",
       "      <td>316.0</td>\n",
       "      <td>0.0</td>\n",
       "      <td>632.0</td>\n",
       "      <td>316.0</td>\n",
       "      <td>0.0</td>\n",
       "      <td>1</td>\n",
       "      <td>1</td>\n",
       "      <td>1.0</td>\n",
       "      <td>0</td>\n",
       "      <td>0</td>\n",
       "      <td>0</td>\n",
       "      <td>0</td>\n",
       "      <td>0</td>\n",
       "      <td>0</td>\n",
       "      <td>0.00</td>\n",
       "      <td>316.00</td>\n",
       "      <td>263.33</td>\n",
       "    </tr>\n",
       "  </tbody>\n",
       "</table>\n",
       "</div>"
      ],
      "text/plain": [
       "       id  limit_bal education  ...  avg_delay  avg_bill_amt  avg_pay_amt\n",
       "0   7546   20000.0    2         ...  0.33       1284.00       114.83     \n",
       "1   27999  120000.0   2         ...  0.33       2846.17       833.33     \n",
       "10  19202  70000.0    2         ...  0.67       56447.50      1783.33    \n",
       "13  6857   20000.0    1         ...  0.67       17693.50      1058.33    \n",
       "17  17291  120000.0   2         ...  0.00       316.00        263.33     \n",
       "\n",
       "[5 rows x 34 columns]"
      ]
     },
     "execution_count": 59,
     "metadata": {
      "tags": []
     },
     "output_type": "execute_result"
    }
   ],
   "source": [
    "#Vemos una pequeña muestra del data set con el que vamos a trabajar\n",
    "train_def.head(5)"
   ]
  },
  {
   "cell_type": "code",
   "execution_count": 60,
   "metadata": {
    "colab": {
     "base_uri": "https://localhost:8080/",
     "height": 516
    },
    "colab_type": "code",
    "executionInfo": {
     "elapsed": 153021,
     "status": "ok",
     "timestamp": 1573220246536,
     "user": {
      "displayName": "JOSU EGUIGUREN BALERDI",
      "photoUrl": "https://lh3.googleusercontent.com/a-/AAuE7mDLke1o9KUCGX86XGJWfNoQlhkTBh11oAljsUue=s64",
      "userId": "11962152349902680680"
     },
     "user_tz": -60
    },
    "id": "todNeeae-1dW",
    "outputId": "5920d111-ad11-417f-8913-8be5df7fdb38"
   },
   "outputs": [
    {
     "data": {
      "text/plain": [
       "<matplotlib.axes._subplots.AxesSubplot at 0x7f91c37491d0>"
      ]
     },
     "execution_count": 60,
     "metadata": {
      "tags": []
     },
     "output_type": "execute_result"
    },
    {
     "data": {
      "image/png": "[encoded data removed]",
      "text/plain": [
       "<Figure size 576x576 with 1 Axes>"
      ]
     },
     "metadata": {
      "tags": []
     },
     "output_type": "display_data"
    }
   ],
   "source": [
    "#Representamos la educación vs la media del estado del reembolso de los pagos\n",
    "avg_crosstab = pd.crosstab(index=train[\"education\"], \n",
    "                          columns=train[\"avg_delay\"]).apply(lambda r: r/r.sum(), axis =1)\n",
    "avg_crosstab.plot(kind=\"bar\", \n",
    "                 figsize=(8,8),\n",
    "                 stacked=True)"
   ]
  },
  {
   "cell_type": "markdown",
   "metadata": {
    "colab_type": "text",
    "id": "g16RRMyNBZXK"
   },
   "source": [
    "Nos encontramos que el número de retrasos es mayor en clientes con educación \"high school\". Teniendo en cuenta los gráficos anteriores, podemos concluir que los clientes con nivel educativo 'high school' y 'university' son los que más retrasos acumulan y mayor número de defaults tienen. Estos colectivos tenían la mediana de 'limit_bal' más baja (los créditos con un límite bajo y de clientes con el nivel de educación 2 y 3, con mayores niveles de retrasos son más propensos a los impagos)."
   ]
  },
  {
   "cell_type": "code",
   "execution_count": 61,
   "metadata": {
    "colab": {
     "base_uri": "https://localhost:8080/",
     "height": 356
    },
    "colab_type": "code",
    "executionInfo": {
     "elapsed": 153510,
     "status": "ok",
     "timestamp": 1573220247036,
     "user": {
      "displayName": "JOSU EGUIGUREN BALERDI",
      "photoUrl": "https://lh3.googleusercontent.com/a-/AAuE7mDLke1o9KUCGX86XGJWfNoQlhkTBh11oAljsUue=s64",
      "userId": "11962152349902680680"
     },
     "user_tz": -60
    },
    "id": "F_YHwWak8WEv",
    "outputId": "97cf3c5e-45ac-41ea-c0ea-82a1d925ae4f"
   },
   "outputs": [
    {
     "data": {
      "image/png": "[encoded data removed]",
      "text/plain": [
       "<Figure size 1440x360 with 1 Axes>"
      ]
     },
     "metadata": {
      "tags": []
     },
     "output_type": "display_data"
    }
   ],
   "source": [
    "#Representamos el sexo vs la media del estado del reembolso de los pagos\n",
    "plot = pd.crosstab(index=train_def['female_bin'],\n",
    "            columns=train_def['avg_delay'],).apply(lambda r: r/r.sum() *100,\n",
    "                                              axis=1).plot(kind='bar',figsize=(20,5))"
   ]
  },
  {
   "cell_type": "markdown",
   "metadata": {
    "colab_type": "text",
    "id": "fZbkAaxK_vql"
   },
   "source": [
    "Se puede apreciar una ligera tendencia donde las mujeres tienen un estado de reembolso más cercano a 0 (devolver a tiempo) y los hombres a 1 (retraso)"
   ]
  },
  {
   "cell_type": "code",
   "execution_count": 62,
   "metadata": {
    "colab": {
     "base_uri": "https://localhost:8080/",
     "height": 367
    },
    "colab_type": "code",
    "executionInfo": {
     "elapsed": 153751,
     "status": "ok",
     "timestamp": 1573220247289,
     "user": {
      "displayName": "JOSU EGUIGUREN BALERDI",
      "photoUrl": "https://lh3.googleusercontent.com/a-/AAuE7mDLke1o9KUCGX86XGJWfNoQlhkTBh11oAljsUue=s64",
      "userId": "11962152349902680680"
     },
     "user_tz": -60
    },
    "id": "USF3aa5b_ewa",
    "outputId": "95296f0a-58ff-44a7-86b7-82d9ec773095"
   },
   "outputs": [
    {
     "data": {
      "image/png": "[encoded data removed]",
      "text/plain": [
       "<Figure size 1440x360 with 1 Axes>"
      ]
     },
     "metadata": {
      "tags": []
     },
     "output_type": "display_data"
    }
   ],
   "source": [
    "#Representamos el estado civil vs la media del estado del reembolso de los pagos\n",
    "plot = pd.crosstab(index=train_def['married_bin'],\n",
    "            columns=train_def['avg_delay'],).apply(lambda r: r/r.sum() *100,\n",
    "                                              axis=1).plot(kind='bar',figsize=(20,5))"
   ]
  },
  {
   "cell_type": "markdown",
   "metadata": {
    "colab_type": "text",
    "id": "Rx5_wHbOjbWx"
   },
   "source": [
    "No apreciamos nada destacable en este gráfico, por lo que vemos para los clientes que no pagan los créditos el estado de pagos no tiene apenas relación con el estado civil"
   ]
  },
  {
   "cell_type": "markdown",
   "metadata": {
    "colab_type": "text",
    "id": "P17ZvzrVMSj-"
   },
   "source": [
    "### Probamos a estudiar las personas que pagan los créditos (default=0) "
   ]
  },
  {
   "cell_type": "code",
   "execution_count": 0,
   "metadata": {
    "colab": {},
    "colab_type": "code",
    "id": "1PxThCibEUUs"
   },
   "outputs": [],
   "source": [
    "#Construimos el dataset con el default = 0 (los que han pagado el crédito)\n",
    "train_nodef = train[train[\"default\"]==0]"
   ]
  },
  {
   "cell_type": "code",
   "execution_count": 0,
   "metadata": {
    "colab": {},
    "colab_type": "code",
    "id": "ErlDgRpUEdAI"
   },
   "outputs": [],
   "source": [
    "df_numerical3 = train_nodef.select_dtypes(include = ['int64','float'])"
   ]
  },
  {
   "cell_type": "code",
   "execution_count": 65,
   "metadata": {
    "colab": {
     "base_uri": "https://localhost:8080/",
     "height": 317
    },
    "colab_type": "code",
    "executionInfo": {
     "elapsed": 153967,
     "status": "ok",
     "timestamp": 1573220247522,
     "user": {
      "displayName": "JOSU EGUIGUREN BALERDI",
      "photoUrl": "https://lh3.googleusercontent.com/a-/AAuE7mDLke1o9KUCGX86XGJWfNoQlhkTBh11oAljsUue=s64",
      "userId": "11962152349902680680"
     },
     "user_tz": -60
    },
    "id": "EaJFOJ0sK5Pv",
    "outputId": "7bb01a43-7c1e-4a05-ec4d-1f535681b978"
   },
   "outputs": [
    {
     "data": {
      "text/html": [
       "<div>\n",
       "<style scoped>\n",
       "    .dataframe tbody tr th:only-of-type {\n",
       "        vertical-align: middle;\n",
       "    }\n",
       "\n",
       "    .dataframe tbody tr th {\n",
       "        vertical-align: top;\n",
       "    }\n",
       "\n",
       "    .dataframe thead th {\n",
       "        text-align: right;\n",
       "    }\n",
       "</style>\n",
       "<table border=\"1\" class=\"dataframe\">\n",
       "  <thead>\n",
       "    <tr style=\"text-align: right;\">\n",
       "      <th></th>\n",
       "      <th>limit_bal</th>\n",
       "      <th>age</th>\n",
       "      <th>repay_status_sep05</th>\n",
       "      <th>repay_status_aug05</th>\n",
       "      <th>repay_status_jul05</th>\n",
       "      <th>repay_status_jun05</th>\n",
       "      <th>repay_status_may05</th>\n",
       "      <th>repay_status_apr05</th>\n",
       "      <th>bill_amt_sep05</th>\n",
       "      <th>bill_amt_aug05</th>\n",
       "      <th>bill_amt_jul05</th>\n",
       "      <th>bill_amt_jun05</th>\n",
       "      <th>bill_amt_may05</th>\n",
       "      <th>bill_amt_apr05</th>\n",
       "      <th>pay_amt_sep05</th>\n",
       "      <th>pay_amt_aug05</th>\n",
       "      <th>pay_amt_jul05</th>\n",
       "      <th>pay_amt_jun05</th>\n",
       "      <th>pay_amt_may05</th>\n",
       "      <th>pay_amt_apr05</th>\n",
       "      <th>default</th>\n",
       "      <th>female_bin</th>\n",
       "      <th>married_bin</th>\n",
       "      <th>delay_sep05</th>\n",
       "      <th>delay_aug05</th>\n",
       "      <th>delay_jul05</th>\n",
       "      <th>delay_jun05</th>\n",
       "      <th>delay_may05</th>\n",
       "      <th>delay_apr05</th>\n",
       "      <th>avg_delay</th>\n",
       "      <th>avg_bill_amt</th>\n",
       "      <th>avg_pay_amt</th>\n",
       "    </tr>\n",
       "  </thead>\n",
       "  <tbody>\n",
       "    <tr>\n",
       "      <th>count</th>\n",
       "      <td>18027.000000</td>\n",
       "      <td>18027.000000</td>\n",
       "      <td>18027.000000</td>\n",
       "      <td>18027.000000</td>\n",
       "      <td>18027.000000</td>\n",
       "      <td>18027.000000</td>\n",
       "      <td>18027.000000</td>\n",
       "      <td>18027.000000</td>\n",
       "      <td>18027.000000</td>\n",
       "      <td>18027.000000</td>\n",
       "      <td>1.802700e+04</td>\n",
       "      <td>18027.000000</td>\n",
       "      <td>18027.000000</td>\n",
       "      <td>18027.000000</td>\n",
       "      <td>18027.000000</td>\n",
       "      <td>1.802700e+04</td>\n",
       "      <td>18027.000000</td>\n",
       "      <td>18027.000000</td>\n",
       "      <td>18027.000000</td>\n",
       "      <td>18027.000000</td>\n",
       "      <td>18027.0</td>\n",
       "      <td>18027.000000</td>\n",
       "      <td>17991.000000</td>\n",
       "      <td>18027.000000</td>\n",
       "      <td>18027.000000</td>\n",
       "      <td>18027.000000</td>\n",
       "      <td>18027.000000</td>\n",
       "      <td>18027.000000</td>\n",
       "      <td>18027.000000</td>\n",
       "      <td>18027.000000</td>\n",
       "      <td>18027.000000</td>\n",
       "      <td>18027.000000</td>\n",
       "    </tr>\n",
       "    <tr>\n",
       "      <th>mean</th>\n",
       "      <td>177671.381816</td>\n",
       "      <td>35.393133</td>\n",
       "      <td>-0.190104</td>\n",
       "      <td>-0.286681</td>\n",
       "      <td>-0.292173</td>\n",
       "      <td>-0.333444</td>\n",
       "      <td>-0.369390</td>\n",
       "      <td>-0.391690</td>\n",
       "      <td>52122.045321</td>\n",
       "      <td>49462.807400</td>\n",
       "      <td>4.752142e+04</td>\n",
       "      <td>43586.182171</td>\n",
       "      <td>40619.271537</td>\n",
       "      <td>39369.293005</td>\n",
       "      <td>6261.529206</td>\n",
       "      <td>6.461417e+03</td>\n",
       "      <td>5544.794087</td>\n",
       "      <td>5292.763688</td>\n",
       "      <td>5100.806291</td>\n",
       "      <td>5516.956565</td>\n",
       "      <td>0.0</td>\n",
       "      <td>0.612637</td>\n",
       "      <td>0.449892</td>\n",
       "      <td>0.153048</td>\n",
       "      <td>0.089532</td>\n",
       "      <td>0.093138</td>\n",
       "      <td>0.075997</td>\n",
       "      <td>0.061574</td>\n",
       "      <td>0.067954</td>\n",
       "      <td>0.090569</td>\n",
       "      <td>45446.835821</td>\n",
       "      <td>5696.377779</td>\n",
       "    </tr>\n",
       "    <tr>\n",
       "      <th>std</th>\n",
       "      <td>131008.756199</td>\n",
       "      <td>9.061634</td>\n",
       "      <td>0.983823</td>\n",
       "      <td>1.062363</td>\n",
       "      <td>1.076001</td>\n",
       "      <td>1.032821</td>\n",
       "      <td>0.999091</td>\n",
       "      <td>1.020137</td>\n",
       "      <td>73101.181109</td>\n",
       "      <td>69916.449379</td>\n",
       "      <td>6.926122e+04</td>\n",
       "      <td>63901.381092</td>\n",
       "      <td>60215.064457</td>\n",
       "      <td>59305.216225</td>\n",
       "      <td>17129.591052</td>\n",
       "      <td>2.505524e+04</td>\n",
       "      <td>16497.361193</td>\n",
       "      <td>16551.115945</td>\n",
       "      <td>15288.601994</td>\n",
       "      <td>17590.609526</td>\n",
       "      <td>0.0</td>\n",
       "      <td>0.487161</td>\n",
       "      <td>0.497497</td>\n",
       "      <td>0.360044</td>\n",
       "      <td>0.285519</td>\n",
       "      <td>0.290634</td>\n",
       "      <td>0.265001</td>\n",
       "      <td>0.240387</td>\n",
       "      <td>0.251673</td>\n",
       "      <td>0.190298</td>\n",
       "      <td>59943.826132</td>\n",
       "      <td>9741.124833</td>\n",
       "    </tr>\n",
       "    <tr>\n",
       "      <th>min</th>\n",
       "      <td>10000.000000</td>\n",
       "      <td>21.000000</td>\n",
       "      <td>-2.000000</td>\n",
       "      <td>-2.000000</td>\n",
       "      <td>-2.000000</td>\n",
       "      <td>-2.000000</td>\n",
       "      <td>-2.000000</td>\n",
       "      <td>-2.000000</td>\n",
       "      <td>-165580.000000</td>\n",
       "      <td>-69777.000000</td>\n",
       "      <td>-1.572640e+05</td>\n",
       "      <td>-170000.000000</td>\n",
       "      <td>-61372.000000</td>\n",
       "      <td>-150953.000000</td>\n",
       "      <td>0.000000</td>\n",
       "      <td>0.000000e+00</td>\n",
       "      <td>0.000000</td>\n",
       "      <td>0.000000</td>\n",
       "      <td>0.000000</td>\n",
       "      <td>0.000000</td>\n",
       "      <td>0.0</td>\n",
       "      <td>0.000000</td>\n",
       "      <td>0.000000</td>\n",
       "      <td>0.000000</td>\n",
       "      <td>0.000000</td>\n",
       "      <td>0.000000</td>\n",
       "      <td>0.000000</td>\n",
       "      <td>0.000000</td>\n",
       "      <td>0.000000</td>\n",
       "      <td>0.000000</td>\n",
       "      <td>-13255.000000</td>\n",
       "      <td>0.000000</td>\n",
       "    </tr>\n",
       "    <tr>\n",
       "      <th>25%</th>\n",
       "      <td>60000.000000</td>\n",
       "      <td>28.000000</td>\n",
       "      <td>-1.000000</td>\n",
       "      <td>-1.000000</td>\n",
       "      <td>-1.000000</td>\n",
       "      <td>-1.000000</td>\n",
       "      <td>-1.000000</td>\n",
       "      <td>-1.000000</td>\n",
       "      <td>3698.500000</td>\n",
       "      <td>3031.500000</td>\n",
       "      <td>2.841000e+03</td>\n",
       "      <td>2318.000000</td>\n",
       "      <td>1840.000000</td>\n",
       "      <td>1300.500000</td>\n",
       "      <td>1144.000000</td>\n",
       "      <td>1.000000e+03</td>\n",
       "      <td>567.500000</td>\n",
       "      <td>390.000000</td>\n",
       "      <td>350.000000</td>\n",
       "      <td>274.500000</td>\n",
       "      <td>0.0</td>\n",
       "      <td>0.000000</td>\n",
       "      <td>0.000000</td>\n",
       "      <td>0.000000</td>\n",
       "      <td>0.000000</td>\n",
       "      <td>0.000000</td>\n",
       "      <td>0.000000</td>\n",
       "      <td>0.000000</td>\n",
       "      <td>0.000000</td>\n",
       "      <td>0.000000</td>\n",
       "      <td>6130.165000</td>\n",
       "      <td>1290.750000</td>\n",
       "    </tr>\n",
       "    <tr>\n",
       "      <th>50%</th>\n",
       "      <td>150000.000000</td>\n",
       "      <td>34.000000</td>\n",
       "      <td>0.000000</td>\n",
       "      <td>0.000000</td>\n",
       "      <td>0.000000</td>\n",
       "      <td>0.000000</td>\n",
       "      <td>0.000000</td>\n",
       "      <td>0.000000</td>\n",
       "      <td>22943.000000</td>\n",
       "      <td>21696.000000</td>\n",
       "      <td>2.018900e+04</td>\n",
       "      <td>18907.000000</td>\n",
       "      <td>18026.000000</td>\n",
       "      <td>16876.000000</td>\n",
       "      <td>2450.000000</td>\n",
       "      <td>2.228000e+03</td>\n",
       "      <td>2000.000000</td>\n",
       "      <td>1700.000000</td>\n",
       "      <td>1735.000000</td>\n",
       "      <td>1657.000000</td>\n",
       "      <td>0.0</td>\n",
       "      <td>1.000000</td>\n",
       "      <td>0.000000</td>\n",
       "      <td>0.000000</td>\n",
       "      <td>0.000000</td>\n",
       "      <td>0.000000</td>\n",
       "      <td>0.000000</td>\n",
       "      <td>0.000000</td>\n",
       "      <td>0.000000</td>\n",
       "      <td>0.000000</td>\n",
       "      <td>24234.000000</td>\n",
       "      <td>2824.170000</td>\n",
       "    </tr>\n",
       "    <tr>\n",
       "      <th>75%</th>\n",
       "      <td>250000.000000</td>\n",
       "      <td>41.000000</td>\n",
       "      <td>0.000000</td>\n",
       "      <td>0.000000</td>\n",
       "      <td>0.000000</td>\n",
       "      <td>0.000000</td>\n",
       "      <td>0.000000</td>\n",
       "      <td>0.000000</td>\n",
       "      <td>69716.000000</td>\n",
       "      <td>65698.000000</td>\n",
       "      <td>6.250700e+04</td>\n",
       "      <td>56143.000000</td>\n",
       "      <td>51551.500000</td>\n",
       "      <td>50513.500000</td>\n",
       "      <td>5549.000000</td>\n",
       "      <td>5.203000e+03</td>\n",
       "      <td>5000.000000</td>\n",
       "      <td>4500.000000</td>\n",
       "      <td>4511.000000</td>\n",
       "      <td>4500.000000</td>\n",
       "      <td>0.0</td>\n",
       "      <td>1.000000</td>\n",
       "      <td>1.000000</td>\n",
       "      <td>0.000000</td>\n",
       "      <td>0.000000</td>\n",
       "      <td>0.000000</td>\n",
       "      <td>0.000000</td>\n",
       "      <td>0.000000</td>\n",
       "      <td>0.000000</td>\n",
       "      <td>0.170000</td>\n",
       "      <td>59285.000000</td>\n",
       "      <td>6142.670000</td>\n",
       "    </tr>\n",
       "    <tr>\n",
       "      <th>max</th>\n",
       "      <td>780000.000000</td>\n",
       "      <td>79.000000</td>\n",
       "      <td>8.000000</td>\n",
       "      <td>8.000000</td>\n",
       "      <td>8.000000</td>\n",
       "      <td>8.000000</td>\n",
       "      <td>7.000000</td>\n",
       "      <td>7.000000</td>\n",
       "      <td>964511.000000</td>\n",
       "      <td>743970.000000</td>\n",
       "      <td>1.664089e+06</td>\n",
       "      <td>706864.000000</td>\n",
       "      <td>823540.000000</td>\n",
       "      <td>699944.000000</td>\n",
       "      <td>505000.000000</td>\n",
       "      <td>1.684259e+06</td>\n",
       "      <td>417588.000000</td>\n",
       "      <td>497000.000000</td>\n",
       "      <td>426529.000000</td>\n",
       "      <td>527143.000000</td>\n",
       "      <td>0.0</td>\n",
       "      <td>1.000000</td>\n",
       "      <td>1.000000</td>\n",
       "      <td>1.000000</td>\n",
       "      <td>1.000000</td>\n",
       "      <td>1.000000</td>\n",
       "      <td>1.000000</td>\n",
       "      <td>1.000000</td>\n",
       "      <td>1.000000</td>\n",
       "      <td>1.000000</td>\n",
       "      <td>592431.830000</td>\n",
       "      <td>385692.000000</td>\n",
       "    </tr>\n",
       "  </tbody>\n",
       "</table>\n",
       "</div>"
      ],
      "text/plain": [
       "           limit_bal           age  ...   avg_bill_amt    avg_pay_amt\n",
       "count  18027.000000   18027.000000  ...  18027.000000   18027.000000 \n",
       "mean   177671.381816  35.393133     ...  45446.835821   5696.377779  \n",
       "std    131008.756199  9.061634      ...  59943.826132   9741.124833  \n",
       "min    10000.000000   21.000000     ... -13255.000000   0.000000     \n",
       "25%    60000.000000   28.000000     ...  6130.165000    1290.750000  \n",
       "50%    150000.000000  34.000000     ...  24234.000000   2824.170000  \n",
       "75%    250000.000000  41.000000     ...  59285.000000   6142.670000  \n",
       "max    780000.000000  79.000000     ...  592431.830000  385692.000000\n",
       "\n",
       "[8 rows x 32 columns]"
      ]
     },
     "execution_count": 65,
     "metadata": {
      "tags": []
     },
     "output_type": "execute_result"
    }
   ],
   "source": [
    "train_nodef.describe()"
   ]
  },
  {
   "cell_type": "code",
   "execution_count": 0,
   "metadata": {
    "colab": {},
    "colab_type": "code",
    "id": "w1a3qboHEiuB"
   },
   "outputs": [],
   "source": [
    "corr_nodef= df_numerical3.corr()"
   ]
  },
  {
   "cell_type": "code",
   "execution_count": 67,
   "metadata": {
    "colab": {
     "base_uri": "https://localhost:8080/",
     "height": 493
    },
    "colab_type": "code",
    "executionInfo": {
     "elapsed": 153959,
     "status": "ok",
     "timestamp": 1573220247528,
     "user": {
      "displayName": "JOSU EGUIGUREN BALERDI",
      "photoUrl": "https://lh3.googleusercontent.com/a-/AAuE7mDLke1o9KUCGX86XGJWfNoQlhkTBh11oAljsUue=s64",
      "userId": "11962152349902680680"
     },
     "user_tz": -60
    },
    "id": "UV7aWMrXEra3",
    "outputId": "36880d82-1f4c-42ea-9740-d4436bc44402"
   },
   "outputs": [
    {
     "data": {
      "text/plain": [
       "repay_status_may05  repay_status_apr05    0.701151\n",
       "delay_jul05         avg_delay             0.702068\n",
       "repay_status_jun05  repay_status_may05    0.705758\n",
       "bill_amt_sep05      bill_amt_apr05        0.713391\n",
       "delay_aug05         avg_delay             0.725762\n",
       "repay_status_aug05  delay_aug05           0.726756\n",
       "repay_status_jul05  delay_jul05           0.729015\n",
       "bill_amt_sep05      bill_amt_may05        0.734254\n",
       "bill_amt_aug05      bill_amt_apr05        0.743714\n",
       "bill_amt_jul05      bill_amt_apr05        0.757933\n",
       "bill_amt_sep05      bill_amt_jun05        0.766314\n",
       "bill_amt_aug05      bill_amt_may05        0.769429\n",
       "bill_amt_jul05      bill_amt_may05        0.782765\n",
       "bill_amt_sep05      bill_amt_jul05        0.794781\n",
       "bill_amt_aug05      bill_amt_jun05        0.801512\n",
       "bill_amt_jun05      bill_amt_apr05        0.801533\n",
       "bill_amt_jul05      bill_amt_jun05        0.822956\n",
       "bill_amt_aug05      bill_amt_jul05        0.834031\n",
       "bill_amt_jun05      bill_amt_may05        0.836310\n",
       "bill_amt_may05      bill_amt_apr05        0.849591\n",
       "bill_amt_sep05      bill_amt_aug05        0.855029\n",
       "bill_amt_apr05      avg_bill_amt          0.885066\n",
       "bill_amt_sep05      avg_bill_amt          0.899227\n",
       "bill_amt_may05      avg_bill_amt          0.905646\n",
       "bill_amt_jul05      avg_bill_amt          0.918484\n",
       "bill_amt_jun05      avg_bill_amt          0.919892\n",
       "bill_amt_aug05      avg_bill_amt          0.922645\n",
       "dtype: float64"
      ]
     },
     "execution_count": 67,
     "metadata": {
      "tags": []
     },
     "output_type": "execute_result"
    }
   ],
   "source": [
    "sol3 =(corr_nodef.where(np.triu(np.ones(corr_def.shape),k=1).astype(np.bool)).stack().sort_values(ascending=True))\n",
    "\n",
    "sol3[sol3 > 0.7]"
   ]
  },
  {
   "cell_type": "markdown",
   "metadata": {
    "colab_type": "text",
    "id": "cadFfB0-Kute"
   },
   "source": [
    "La matriz obtenida es muy similar a los casos anteriores, por lo que no analizaremos este colectivo"
   ]
  },
  {
   "cell_type": "markdown",
   "metadata": {
    "colab_type": "text",
    "id": "l_Y3CTwYFI_j"
   },
   "source": [
    "## Conclusiones y comentarios\n",
    "\n",
    "### *Data set*\n",
    "\n",
    "Observamos la calidad de los datos de la muestra de estudio, al ser datos de clientes \"reales\", los datos son consistentes y no hace falta realizar grandes transformaciones para trabajar con ellos.\n",
    "Los procesos de limpieza son secillos; como hemos visto no hay nulos, registros únicos, no es necesario eliminar outliers y los datos se nos dan en un único dataset lo que hace que no se tengan que unir varias tablas de clientes.\n",
    "\n",
    "Las variables que aparecen son descriptivas pero algo confusas con el racional del ejercicio. Probablemente si una empresa quiere saber diferencias entre clientes que pagan y no pagan los créditos tenga que tener en cuenta más variables como son el plazo del crédito, el tipo de interés, amortización, rating del cliente, etc.\n",
    "\n",
    "En este problema se quieren observar diferencias en base a comportamientos o actuaciones sacando mucha información de los clientes pero concentrada en unos meses dados, quizá hubiera sido más razonable que el dataset abarcara períodos más amplios (debido a las cantidades de los créditos)\n",
    "\n",
    "\n",
    "### *Análisis de los datos y resultados*\n",
    "\n",
    "*   A la hora de preveer los impagos, el banco debería de fijarse en el número de retrasos en el pago de las cuotas. El estado del reembolso de las cuotas es una señal muy significativa del pago o no del crédito. De media se obtienen menos impagos en los casos donde los clientes pagan debidamente las cuotas, \n",
    "*   En cuanto a los atributos personales de los clientes, las mujeres tienen una probabilidad de pago superior. No se observan diferencias en el comportamiento de los clientes que están casados y los que no.\n",
    "*  Los clientes con nivel educativo 'high school' y 'university' son los que más retrasos acumulan y donde se aprecia un mayor número de impagos. Estos colectivos tenían la mediana de 'limit_bal' más baja, por lo tanto podemos concluir que los créditos con un límite bajo solicitados por clientes con el nivel de educación 2 y 3 y con mayores niveles de retrasos en los pagos son más propensos a los impagos. Este puede ser un insight importante para la empresa.\n",
    "*   El banco debería atender si la media de pagos realizados es muy baja, ya que la probabilidad de impagos es más alta.\n",
    "\n",
    "\n",
    "\n",
    "\n"
   ]
  }
 ],
 "metadata": {
  "colab": {
   "collapsed_sections": [],
   "name": "DS Challenge.ipynb",
   "provenance": []
  },
  "kernelspec": {
   "display_name": "Python 3",
   "language": "python",
   "name": "python3"
  },
  "language_info": {
   "codemirror_mode": {
    "name": "ipython",
    "version": 3
   },
   "file_extension": ".py",
   "mimetype": "text/x-python",
   "name": "python",
   "nbconvert_exporter": "python",
   "pygments_lexer": "ipython3",
   "version": "3.7.3"
  }
 },
 "nbformat": 4,
 "nbformat_minor": 1
}
