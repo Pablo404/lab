{
 "cells": [
  {
   "cell_type": "markdown",
   "metadata": {},
   "source": [
    "# Prueba DS\n",
    "\n",
    "Dado el enunciado a este problema junto con los 2 datasets correspondientes, vamos a comenzar por hacer un análisis exploratorio y descriptivo de dichos datos con la ayuda de varias librerías disponibles en Python y poder llegar así a unas primeras conclusiones. \n",
    "Después aplicaremos a estos datos modelos de Machine Learning también con la ayuda de las librerías de Python para poder elaborar así un modelo predictivo entrenado y que en base a dichos datos, sea capaz de predecir el comportamiento de los clientes cuando introduzcamos datos de entrada nuevos."
   ]
  },
  {
   "cell_type": "markdown",
   "metadata": {},
   "source": [
    "## Cargar librerías y datos"
   ]
  },
  {
   "cell_type": "code",
   "execution_count": 1002,
   "metadata": {},
   "outputs": [],
   "source": [
    "%matplotlib inline\n",
    "\n",
    "import re\n",
    "import random\n",
    "from collections import Counter\n",
    "\n",
    "import pandas as pd\n",
    "pd.set_option('display.max_colwidth', -1)\n",
    "import numpy as np\n",
    "import matplotlib.pyplot as plt\n",
    "from sklearn.model_selection import train_test_split\n",
    "import seaborn as sns\n",
    "from scipy.stats import kstest\n",
    "sns.set(color_codes=True)\n",
    "from sklearn.model_selection import train_test_split\n",
    "from sklearn.model_selection import cross_val_score\n",
    "from sklearn.model_selection import StratifiedKFold\n",
    "from sklearn.metrics import classification_report\n",
    "from sklearn.metrics import confusion_matrix\n",
    "from sklearn.metrics import accuracy_score\n",
    "from pandas.plotting import scatter_matrix\n",
    "from sklearn.ensemble import RandomForestClassifier\n",
    "from sklearn.model_selection import KFold\n",
    "from sklearn.model_selection import GridSearchCV\n",
    "import pickle"
   ]
  },
  {
   "cell_type": "code",
   "execution_count": 957,
   "metadata": {},
   "outputs": [],
   "source": [
    "#Importamos nuestros dos datasets y los guardamos en dos variables distintas\n",
    "dataset_1 = pd.read_csv('rfqs.csv')\n",
    "dataset_2 = pd.read_csv('mids.csv')"
   ]
  },
  {
   "cell_type": "markdown",
   "metadata": {},
   "source": [
    "## Análisis exploratorio y descriptivo de los datos"
   ]
  },
  {
   "cell_type": "code",
   "execution_count": 958,
   "metadata": {},
   "outputs": [
    {
     "name": "stdout",
     "output_type": "stream",
     "text": [
      "Dimensiones: (6403, 11)\n",
      "¿Hay registros duplicados?: False\n",
      "¿Hay algún valor nulo?:\n",
      "Unnamed: 0     False\n",
      "date_time      False\n",
      "instrument     False\n",
      "client         False\n",
      "price          False\n",
      "mid            False\n",
      "vol_MM         False\n",
      "dv01           False\n",
      "num_dealers    False\n",
      "side           False\n",
      "won            False\n",
      "dtype: bool\n"
     ]
    },
    {
     "data": {
      "text/html": [
       "<div>\n",
       "<style scoped>\n",
       "    .dataframe tbody tr th:only-of-type {\n",
       "        vertical-align: middle;\n",
       "    }\n",
       "\n",
       "    .dataframe tbody tr th {\n",
       "        vertical-align: top;\n",
       "    }\n",
       "\n",
       "    .dataframe thead th {\n",
       "        text-align: right;\n",
       "    }\n",
       "</style>\n",
       "<table border=\"1\" class=\"dataframe\">\n",
       "  <thead>\n",
       "    <tr style=\"text-align: right;\">\n",
       "      <th></th>\n",
       "      <th>Unnamed: 0</th>\n",
       "      <th>date_time</th>\n",
       "      <th>instrument</th>\n",
       "      <th>client</th>\n",
       "      <th>price</th>\n",
       "      <th>mid</th>\n",
       "      <th>vol_MM</th>\n",
       "      <th>dv01</th>\n",
       "      <th>num_dealers</th>\n",
       "      <th>side</th>\n",
       "      <th>won</th>\n",
       "    </tr>\n",
       "  </thead>\n",
       "  <tbody>\n",
       "    <tr>\n",
       "      <th>0</th>\n",
       "      <td>94075</td>\n",
       "      <td>2019-01-25 15:58:29.0</td>\n",
       "      <td>I</td>\n",
       "      <td>F</td>\n",
       "      <td>112.779</td>\n",
       "      <td>112.7416</td>\n",
       "      <td>2.000</td>\n",
       "      <td>6.0870</td>\n",
       "      <td>5</td>\n",
       "      <td>-1</td>\n",
       "      <td>0</td>\n",
       "    </tr>\n",
       "    <tr>\n",
       "      <th>1</th>\n",
       "      <td>94087</td>\n",
       "      <td>2019-01-28 09:28:10.0</td>\n",
       "      <td>B</td>\n",
       "      <td>G</td>\n",
       "      <td>106.065</td>\n",
       "      <td>106.1855</td>\n",
       "      <td>0.500</td>\n",
       "      <td>21.9017</td>\n",
       "      <td>5</td>\n",
       "      <td>1</td>\n",
       "      <td>0</td>\n",
       "    </tr>\n",
       "    <tr>\n",
       "      <th>2</th>\n",
       "      <td>94089</td>\n",
       "      <td>2019-01-28 09:40:24.0</td>\n",
       "      <td>F</td>\n",
       "      <td>G</td>\n",
       "      <td>107.607</td>\n",
       "      <td>107.5570</td>\n",
       "      <td>0.975</td>\n",
       "      <td>13.2621</td>\n",
       "      <td>5</td>\n",
       "      <td>-1</td>\n",
       "      <td>0</td>\n",
       "    </tr>\n",
       "    <tr>\n",
       "      <th>3</th>\n",
       "      <td>94158</td>\n",
       "      <td>2019-01-29 16:21:06.0</td>\n",
       "      <td>E</td>\n",
       "      <td>F</td>\n",
       "      <td>100.622</td>\n",
       "      <td>100.5820</td>\n",
       "      <td>0.010</td>\n",
       "      <td>4.4853</td>\n",
       "      <td>5</td>\n",
       "      <td>-1</td>\n",
       "      <td>0</td>\n",
       "    </tr>\n",
       "    <tr>\n",
       "      <th>4</th>\n",
       "      <td>94194</td>\n",
       "      <td>2019-01-30 16:19:28.0</td>\n",
       "      <td>F</td>\n",
       "      <td>F</td>\n",
       "      <td>107.297</td>\n",
       "      <td>107.2170</td>\n",
       "      <td>0.448</td>\n",
       "      <td>13.2087</td>\n",
       "      <td>5</td>\n",
       "      <td>-1</td>\n",
       "      <td>0</td>\n",
       "    </tr>\n",
       "  </tbody>\n",
       "</table>\n",
       "</div>"
      ],
      "text/plain": [
       "   Unnamed: 0              date_time instrument client    price       mid  \\\n",
       "0  94075       2019-01-25 15:58:29.0  I          F      112.779  112.7416   \n",
       "1  94087       2019-01-28 09:28:10.0  B          G      106.065  106.1855   \n",
       "2  94089       2019-01-28 09:40:24.0  F          G      107.607  107.5570   \n",
       "3  94158       2019-01-29 16:21:06.0  E          F      100.622  100.5820   \n",
       "4  94194       2019-01-30 16:19:28.0  F          F      107.297  107.2170   \n",
       "\n",
       "   vol_MM     dv01  num_dealers  side  won  \n",
       "0  2.000   6.0870   5           -1     0    \n",
       "1  0.500   21.9017  5            1     0    \n",
       "2  0.975   13.2621  5           -1     0    \n",
       "3  0.010   4.4853   5           -1     0    \n",
       "4  0.448   13.2087  5           -1     0    "
      ]
     },
     "execution_count": 958,
     "metadata": {},
     "output_type": "execute_result"
    }
   ],
   "source": [
    "#El análisis lo vamos a realizar del dataset_1 (peticiones de los clientes) ya que son en base a dicha información las\n",
    "#predicciones que tendremos que conseguir hacer con nuestro modelo. El dataset_2 (precios en otra plataforma de los bonos) nos\n",
    "#servirá para poder comparar la efectividad o precisión de dicho modelo con otro modelo entrenado con estos datos de los que \n",
    "#podría disponer el banco en caso de demostrarse que son clave para poder hacer mejores predicciones\n",
    "\n",
    "#Comprobamos las dimensiones de nuestro dataset y nos aseguramos de que no existen registros duplicados, ni valores nulos:\n",
    "print(\"Dimensiones:\",dataset_1.shape)\n",
    "print(\"¿Hay registros duplicados?:\",dataset_1.duplicated().any())\n",
    "print(\"¿Hay algún valor nulo?:\")\n",
    "print(dataset_1.isnull().any())\n",
    "\n",
    "dataset_1.head(5)"
   ]
  },
  {
   "cell_type": "code",
   "execution_count": 959,
   "metadata": {},
   "outputs": [
    {
     "data": {
      "text/html": [
       "<div>\n",
       "<style scoped>\n",
       "    .dataframe tbody tr th:only-of-type {\n",
       "        vertical-align: middle;\n",
       "    }\n",
       "\n",
       "    .dataframe tbody tr th {\n",
       "        vertical-align: top;\n",
       "    }\n",
       "\n",
       "    .dataframe thead th {\n",
       "        text-align: right;\n",
       "    }\n",
       "</style>\n",
       "<table border=\"1\" class=\"dataframe\">\n",
       "  <thead>\n",
       "    <tr style=\"text-align: right;\">\n",
       "      <th></th>\n",
       "      <th>Unnamed: 0</th>\n",
       "      <th>date_time</th>\n",
       "      <th>instrument</th>\n",
       "      <th>client</th>\n",
       "      <th>price</th>\n",
       "      <th>mid</th>\n",
       "      <th>vol_MM</th>\n",
       "      <th>dv01</th>\n",
       "      <th>num_dealers</th>\n",
       "      <th>side</th>\n",
       "      <th>won</th>\n",
       "    </tr>\n",
       "  </thead>\n",
       "  <tbody>\n",
       "    <tr>\n",
       "      <th>259</th>\n",
       "      <td>168433</td>\n",
       "      <td>2019-09-03 15:11:31.0</td>\n",
       "      <td>D</td>\n",
       "      <td>B</td>\n",
       "      <td>120.439</td>\n",
       "      <td>120.3887</td>\n",
       "      <td>0.053</td>\n",
       "      <td>16.9255</td>\n",
       "      <td>10</td>\n",
       "      <td>-1</td>\n",
       "      <td>0</td>\n",
       "    </tr>\n",
       "    <tr>\n",
       "      <th>708</th>\n",
       "      <td>217675</td>\n",
       "      <td>2019-05-20 15:23:06.0</td>\n",
       "      <td>L</td>\n",
       "      <td>G</td>\n",
       "      <td>100.927</td>\n",
       "      <td>100.9559</td>\n",
       "      <td>4.900</td>\n",
       "      <td>5.2080</td>\n",
       "      <td>5</td>\n",
       "      <td>1</td>\n",
       "      <td>0</td>\n",
       "    </tr>\n",
       "    <tr>\n",
       "      <th>3845</th>\n",
       "      <td>342413</td>\n",
       "      <td>2019-08-19 13:10:44.0</td>\n",
       "      <td>L</td>\n",
       "      <td>B</td>\n",
       "      <td>102.720</td>\n",
       "      <td>102.7058</td>\n",
       "      <td>20.256</td>\n",
       "      <td>5.0640</td>\n",
       "      <td>4</td>\n",
       "      <td>-1</td>\n",
       "      <td>1</td>\n",
       "    </tr>\n",
       "    <tr>\n",
       "      <th>1096</th>\n",
       "      <td>236051</td>\n",
       "      <td>2019-07-08 11:39:21.0</td>\n",
       "      <td>B</td>\n",
       "      <td>A</td>\n",
       "      <td>132.365</td>\n",
       "      <td>132.3204</td>\n",
       "      <td>0.013</td>\n",
       "      <td>28.5886</td>\n",
       "      <td>5</td>\n",
       "      <td>-1</td>\n",
       "      <td>0</td>\n",
       "    </tr>\n",
       "    <tr>\n",
       "      <th>5409</th>\n",
       "      <td>377863</td>\n",
       "      <td>2019-03-27 11:07:37.0</td>\n",
       "      <td>B</td>\n",
       "      <td>A</td>\n",
       "      <td>110.978</td>\n",
       "      <td>111.0354</td>\n",
       "      <td>1.500</td>\n",
       "      <td>23.1094</td>\n",
       "      <td>6</td>\n",
       "      <td>1</td>\n",
       "      <td>0</td>\n",
       "    </tr>\n",
       "  </tbody>\n",
       "</table>\n",
       "</div>"
      ],
      "text/plain": [
       "      Unnamed: 0              date_time instrument client    price       mid  \\\n",
       "259   168433      2019-09-03 15:11:31.0  D          B      120.439  120.3887   \n",
       "708   217675      2019-05-20 15:23:06.0  L          G      100.927  100.9559   \n",
       "3845  342413      2019-08-19 13:10:44.0  L          B      102.720  102.7058   \n",
       "1096  236051      2019-07-08 11:39:21.0  B          A      132.365  132.3204   \n",
       "5409  377863      2019-03-27 11:07:37.0  B          A      110.978  111.0354   \n",
       "\n",
       "      vol_MM     dv01  num_dealers  side  won  \n",
       "259   0.053   16.9255  10          -1     0    \n",
       "708   4.900   5.2080   5            1     0    \n",
       "3845  20.256  5.0640   4           -1     1    \n",
       "1096  0.013   28.5886  5           -1     0    \n",
       "5409  1.500   23.1094  6            1     0    "
      ]
     },
     "execution_count": 959,
     "metadata": {},
     "output_type": "execute_result"
    }
   ],
   "source": [
    "dataset_1.sample(5)"
   ]
  },
  {
   "cell_type": "code",
   "execution_count": 960,
   "metadata": {},
   "outputs": [
    {
     "data": {
      "text/html": [
       "<div>\n",
       "<style scoped>\n",
       "    .dataframe tbody tr th:only-of-type {\n",
       "        vertical-align: middle;\n",
       "    }\n",
       "\n",
       "    .dataframe tbody tr th {\n",
       "        vertical-align: top;\n",
       "    }\n",
       "\n",
       "    .dataframe thead th {\n",
       "        text-align: right;\n",
       "    }\n",
       "</style>\n",
       "<table border=\"1\" class=\"dataframe\">\n",
       "  <thead>\n",
       "    <tr style=\"text-align: right;\">\n",
       "      <th></th>\n",
       "      <th>Unnamed: 0</th>\n",
       "      <th>date_time</th>\n",
       "      <th>instrument</th>\n",
       "      <th>client</th>\n",
       "      <th>price</th>\n",
       "      <th>mid</th>\n",
       "      <th>vol_MM</th>\n",
       "      <th>dv01</th>\n",
       "      <th>num_dealers</th>\n",
       "      <th>side</th>\n",
       "      <th>won</th>\n",
       "    </tr>\n",
       "  </thead>\n",
       "  <tbody>\n",
       "    <tr>\n",
       "      <th>6398</th>\n",
       "      <td>397813</td>\n",
       "      <td>2019-07-31 08:27:39.0</td>\n",
       "      <td>K</td>\n",
       "      <td>B</td>\n",
       "      <td>128.835</td>\n",
       "      <td>128.8701</td>\n",
       "      <td>0.005</td>\n",
       "      <td>7.0343</td>\n",
       "      <td>5</td>\n",
       "      <td>1</td>\n",
       "      <td>0</td>\n",
       "    </tr>\n",
       "    <tr>\n",
       "      <th>6399</th>\n",
       "      <td>397824</td>\n",
       "      <td>2019-07-31 15:14:18.0</td>\n",
       "      <td>C</td>\n",
       "      <td>B</td>\n",
       "      <td>111.673</td>\n",
       "      <td>111.6428</td>\n",
       "      <td>0.047</td>\n",
       "      <td>10.2421</td>\n",
       "      <td>5</td>\n",
       "      <td>-1</td>\n",
       "      <td>0</td>\n",
       "    </tr>\n",
       "    <tr>\n",
       "      <th>6400</th>\n",
       "      <td>397825</td>\n",
       "      <td>2019-07-31 15:17:39.0</td>\n",
       "      <td>J</td>\n",
       "      <td>B</td>\n",
       "      <td>117.188</td>\n",
       "      <td>117.1953</td>\n",
       "      <td>0.117</td>\n",
       "      <td>11.7868</td>\n",
       "      <td>5</td>\n",
       "      <td>1</td>\n",
       "      <td>0</td>\n",
       "    </tr>\n",
       "    <tr>\n",
       "      <th>6401</th>\n",
       "      <td>397848</td>\n",
       "      <td>2019-07-31 07:50:10.0</td>\n",
       "      <td>H</td>\n",
       "      <td>A</td>\n",
       "      <td>113.353</td>\n",
       "      <td>113.3045</td>\n",
       "      <td>2.500</td>\n",
       "      <td>7.2674</td>\n",
       "      <td>5</td>\n",
       "      <td>-1</td>\n",
       "      <td>1</td>\n",
       "    </tr>\n",
       "    <tr>\n",
       "      <th>6402</th>\n",
       "      <td>397854</td>\n",
       "      <td>2019-07-31 09:44:24.0</td>\n",
       "      <td>D</td>\n",
       "      <td>A</td>\n",
       "      <td>115.952</td>\n",
       "      <td>115.9248</td>\n",
       "      <td>0.500</td>\n",
       "      <td>16.2913</td>\n",
       "      <td>5</td>\n",
       "      <td>-1</td>\n",
       "      <td>0</td>\n",
       "    </tr>\n",
       "  </tbody>\n",
       "</table>\n",
       "</div>"
      ],
      "text/plain": [
       "      Unnamed: 0              date_time instrument client    price       mid  \\\n",
       "6398  397813      2019-07-31 08:27:39.0  K          B      128.835  128.8701   \n",
       "6399  397824      2019-07-31 15:14:18.0  C          B      111.673  111.6428   \n",
       "6400  397825      2019-07-31 15:17:39.0  J          B      117.188  117.1953   \n",
       "6401  397848      2019-07-31 07:50:10.0  H          A      113.353  113.3045   \n",
       "6402  397854      2019-07-31 09:44:24.0  D          A      115.952  115.9248   \n",
       "\n",
       "      vol_MM     dv01  num_dealers  side  won  \n",
       "6398  0.005   7.0343   5            1     0    \n",
       "6399  0.047   10.2421  5           -1     0    \n",
       "6400  0.117   11.7868  5            1     0    \n",
       "6401  2.500   7.2674   5           -1     1    \n",
       "6402  0.500   16.2913  5           -1     0    "
      ]
     },
     "execution_count": 960,
     "metadata": {},
     "output_type": "execute_result"
    }
   ],
   "source": [
    "dataset_1.tail(5)"
   ]
  },
  {
   "cell_type": "code",
   "execution_count": 961,
   "metadata": {},
   "outputs": [
    {
     "data": {
      "text/plain": [
       "6403"
      ]
     },
     "execution_count": 961,
     "metadata": {},
     "output_type": "execute_result"
    }
   ],
   "source": [
    "#Parece que la primera columna es una especie de ID que nada aporta a nuestro análisis. Comprobamos que el número de valores\n",
    "#únicos es el mismo que de registros en el dataset (6403)\n",
    "dataset_1['Unnamed: 0'].nunique()"
   ]
  },
  {
   "cell_type": "code",
   "execution_count": 962,
   "metadata": {},
   "outputs": [
    {
     "name": "stdout",
     "output_type": "stream",
     "text": [
      "(6403, 11)\n"
     ]
    },
    {
     "data": {
      "text/plain": [
       "date_time      object \n",
       "instrument     object \n",
       "client         object \n",
       "price          float64\n",
       "mid            float64\n",
       "spread         float64\n",
       "vol_mm         float64\n",
       "dv01           float64\n",
       "num_dealers    int64  \n",
       "side           int64  \n",
       "won            int64  \n",
       "dtype: object"
      ]
     },
     "execution_count": 962,
     "metadata": {},
     "output_type": "execute_result"
    }
   ],
   "source": [
    "#Así es por lo que podemos eliminar esa columna, añadiremos otra más con el spread en función de si es compra o venta, \n",
    "#renombramos el resto y comprobamos el formato de las variables:\n",
    "dataset_1=dataset_1.drop(['Unnamed: 0'], axis=1)\n",
    "array=np.array(dataset_1)\n",
    "spread=[]\n",
    "for row in array:\n",
    "    if row[8]==1:\n",
    "        spread.append(row[4]-row[3])\n",
    "    else:\n",
    "        spread.append(row[3]-row[4])\n",
    "dataset_1.insert(5,'spread',spread)\n",
    "dataset_1.columns = [column.lower() for column in dataset_1.columns]\n",
    "print(dataset_1.shape)\n",
    "dataset_1.dtypes"
   ]
  },
  {
   "cell_type": "markdown",
   "metadata": {},
   "source": [
    "### 1) Análisis de variables numéricas"
   ]
  },
  {
   "cell_type": "code",
   "execution_count": 963,
   "metadata": {},
   "outputs": [
    {
     "data": {
      "text/html": [
       "<div>\n",
       "<style scoped>\n",
       "    .dataframe tbody tr th:only-of-type {\n",
       "        vertical-align: middle;\n",
       "    }\n",
       "\n",
       "    .dataframe tbody tr th {\n",
       "        vertical-align: top;\n",
       "    }\n",
       "\n",
       "    .dataframe thead th {\n",
       "        text-align: right;\n",
       "    }\n",
       "</style>\n",
       "<table border=\"1\" class=\"dataframe\">\n",
       "  <thead>\n",
       "    <tr style=\"text-align: right;\">\n",
       "      <th></th>\n",
       "      <th>price</th>\n",
       "      <th>mid</th>\n",
       "      <th>spread</th>\n",
       "      <th>vol_mm</th>\n",
       "      <th>dv01</th>\n",
       "      <th>num_dealers</th>\n",
       "      <th>side</th>\n",
       "      <th>won</th>\n",
       "    </tr>\n",
       "  </thead>\n",
       "  <tbody>\n",
       "    <tr>\n",
       "      <th>count</th>\n",
       "      <td>6403.000000</td>\n",
       "      <td>6403.000000</td>\n",
       "      <td>6403.000000</td>\n",
       "      <td>6403.000000</td>\n",
       "      <td>6403.000000</td>\n",
       "      <td>6403.000000</td>\n",
       "      <td>6403.000000</td>\n",
       "      <td>6403.000000</td>\n",
       "    </tr>\n",
       "    <tr>\n",
       "      <th>mean</th>\n",
       "      <td>112.694414</td>\n",
       "      <td>112.662200</td>\n",
       "      <td>0.066015</td>\n",
       "      <td>2.636600</td>\n",
       "      <td>11.585256</td>\n",
       "      <td>5.561612</td>\n",
       "      <td>-0.058254</td>\n",
       "      <td>0.112916</td>\n",
       "    </tr>\n",
       "    <tr>\n",
       "      <th>std</th>\n",
       "      <td>9.916090</td>\n",
       "      <td>9.906521</td>\n",
       "      <td>0.962069</td>\n",
       "      <td>5.989479</td>\n",
       "      <td>6.910370</td>\n",
       "      <td>2.148954</td>\n",
       "      <td>0.998380</td>\n",
       "      <td>0.316515</td>\n",
       "    </tr>\n",
       "    <tr>\n",
       "      <th>min</th>\n",
       "      <td>99.069000</td>\n",
       "      <td>99.082500</td>\n",
       "      <td>-29.757500</td>\n",
       "      <td>0.001000</td>\n",
       "      <td>1.906000</td>\n",
       "      <td>1.000000</td>\n",
       "      <td>-1.000000</td>\n",
       "      <td>0.000000</td>\n",
       "    </tr>\n",
       "    <tr>\n",
       "      <th>25%</th>\n",
       "      <td>103.971000</td>\n",
       "      <td>103.911450</td>\n",
       "      <td>0.007900</td>\n",
       "      <td>0.050000</td>\n",
       "      <td>7.120000</td>\n",
       "      <td>5.000000</td>\n",
       "      <td>-1.000000</td>\n",
       "      <td>0.000000</td>\n",
       "    </tr>\n",
       "    <tr>\n",
       "      <th>50%</th>\n",
       "      <td>110.751000</td>\n",
       "      <td>110.696200</td>\n",
       "      <td>0.028500</td>\n",
       "      <td>0.650000</td>\n",
       "      <td>9.530200</td>\n",
       "      <td>5.000000</td>\n",
       "      <td>-1.000000</td>\n",
       "      <td>0.000000</td>\n",
       "    </tr>\n",
       "    <tr>\n",
       "      <th>75%</th>\n",
       "      <td>117.070500</td>\n",
       "      <td>117.066450</td>\n",
       "      <td>0.053300</td>\n",
       "      <td>3.000000</td>\n",
       "      <td>14.593250</td>\n",
       "      <td>5.000000</td>\n",
       "      <td>1.000000</td>\n",
       "      <td>0.000000</td>\n",
       "    </tr>\n",
       "    <tr>\n",
       "      <th>max</th>\n",
       "      <td>147.153000</td>\n",
       "      <td>147.180900</td>\n",
       "      <td>34.866100</td>\n",
       "      <td>131.400000</td>\n",
       "      <td>32.491200</td>\n",
       "      <td>21.000000</td>\n",
       "      <td>1.000000</td>\n",
       "      <td>1.000000</td>\n",
       "    </tr>\n",
       "  </tbody>\n",
       "</table>\n",
       "</div>"
      ],
      "text/plain": [
       "             price          mid       spread       vol_mm         dv01  \\\n",
       "count  6403.000000  6403.000000  6403.000000  6403.000000  6403.000000   \n",
       "mean   112.694414   112.662200   0.066015     2.636600     11.585256     \n",
       "std    9.916090     9.906521     0.962069     5.989479     6.910370      \n",
       "min    99.069000    99.082500   -29.757500    0.001000     1.906000      \n",
       "25%    103.971000   103.911450   0.007900     0.050000     7.120000      \n",
       "50%    110.751000   110.696200   0.028500     0.650000     9.530200      \n",
       "75%    117.070500   117.066450   0.053300     3.000000     14.593250     \n",
       "max    147.153000   147.180900   34.866100    131.400000   32.491200     \n",
       "\n",
       "       num_dealers         side          won  \n",
       "count  6403.000000  6403.000000  6403.000000  \n",
       "mean   5.561612    -0.058254     0.112916     \n",
       "std    2.148954     0.998380     0.316515     \n",
       "min    1.000000    -1.000000     0.000000     \n",
       "25%    5.000000    -1.000000     0.000000     \n",
       "50%    5.000000    -1.000000     0.000000     \n",
       "75%    5.000000     1.000000     0.000000     \n",
       "max    21.000000    1.000000     1.000000     "
      ]
     },
     "execution_count": 963,
     "metadata": {},
     "output_type": "execute_result"
    }
   ],
   "source": [
    "#Vemos que de las variables en nuestro dataset, hay 3 categóricas (fecha y hora, cliente e instrumento) y el resto son numéricas\n",
    "#Empezamos realizando un análisis exhaustivo de las variables numéricas sin tener en cuenta las categóricas por ahora.\n",
    "dataset_1.describe()"
   ]
  },
  {
   "cell_type": "markdown",
   "metadata": {},
   "source": [
    "Vemos que hay datos de todas las columnas para todos los registros y podemos sacar unas primeras conclusiones: \n",
    "\n",
    "1) Comprobamos que casi el 90% de las peticiones no se cerraron (won=0)\n",
    "\n",
    "2) Hay más o menos las mismas peticiones de compra que de venta \n",
    "\n",
    "3) El número de vendedores a los que los clientes piden precio suele ser 5 \n",
    "\n",
    "4) La mitad de las cantidades pedidas llegan solo hasta los 650k€ (habiendo cantidades mucho mayores que desplazan la media,  siendo estos quizás otro tipo de clientes)\n",
    "\n",
    "5) Casi todos los spreads son positivos (lógico pues se puede entender como el beneficio del banco en estas operaciones)\n",
    "\n",
    "6) Los precios varían poco entre sí, de 99€ a 147€.\n",
    "\n",
    "Todas estas conclusiones las podremos visualizar mejor con diferentes gráficos:"
   ]
  },
  {
   "cell_type": "markdown",
   "metadata": {},
   "source": [
    "\n",
    "\n",
    "\n",
    "*Primero vamos a representar la distribución de price, mid, spread y vol_mm con gráficos box and whiskers e histogramas:*\n",
    "    \n",
    "#### a) PRICE"
   ]
  },
  {
   "cell_type": "code",
   "execution_count": 964,
   "metadata": {},
   "outputs": [
    {
     "name": "stdout",
     "output_type": "stream",
     "text": [
      "PRICE:\n"
     ]
    },
    {
     "data": {
      "image/png": "[encoded data removed]",
      "text/plain": [
       "<Figure size 432x288 with 1 Axes>"
      ]
     },
     "metadata": {},
     "output_type": "display_data"
    }
   ],
   "source": [
    "dataset_1['price'].plot(kind='box',title=\"price\",showfliers=True, vert=False)\n",
    "print(\"PRICE:\")\n",
    "plt.show()"
   ]
  },
  {
   "cell_type": "code",
   "execution_count": 965,
   "metadata": {},
   "outputs": [
    {
     "name": "stdout",
     "output_type": "stream",
     "text": [
      "PRICE:\n"
     ]
    },
    {
     "data": {
      "image/png": "[encoded data removed]",
      "text/plain": [
       "<Figure size 432x288 with 1 Axes>"
      ]
     },
     "metadata": {},
     "output_type": "display_data"
    }
   ],
   "source": [
    "dataset_1['price'].hist()\n",
    "print(\"PRICE:\")\n",
    "plt.show()"
   ]
  },
  {
   "cell_type": "markdown",
   "metadata": {},
   "source": [
    "#### b) MID:"
   ]
  },
  {
   "cell_type": "code",
   "execution_count": 966,
   "metadata": {},
   "outputs": [
    {
     "name": "stdout",
     "output_type": "stream",
     "text": [
      "MID:\n"
     ]
    },
    {
     "data": {
      "image/png": "[encoded data removed]",
      "text/plain": [
       "<Figure size 432x288 with 1 Axes>"
      ]
     },
     "metadata": {},
     "output_type": "display_data"
    }
   ],
   "source": [
    "dataset_1['mid'].plot(kind='box',title=\"mid\",showfliers=True, vert=False)\n",
    "print(\"MID:\")\n",
    "plt.show()"
   ]
  },
  {
   "cell_type": "code",
   "execution_count": 967,
   "metadata": {},
   "outputs": [
    {
     "name": "stdout",
     "output_type": "stream",
     "text": [
      "MID:\n"
     ]
    },
    {
     "data": {
      "image/png": "[encoded data removed]",
      "text/plain": [
       "<Figure size 432x288 with 1 Axes>"
      ]
     },
     "metadata": {},
     "output_type": "display_data"
    }
   ],
   "source": [
    "dataset_1['mid'].hist()\n",
    "print(\"MID:\")\n",
    "plt.show()"
   ]
  },
  {
   "cell_type": "markdown",
   "metadata": {},
   "source": [
    "Vemos que, como es lógico, la distribución de los precios dados al cliente y de los alojados en los sistemas del banco es prácticamente idéntica, con unos cuantos outliers que representan precios algo más alejados de la media pero que también son representativos y mantendremos en nuestro dataset"
   ]
  },
  {
   "cell_type": "markdown",
   "metadata": {},
   "source": [
    "#### c) SPREAD"
   ]
  },
  {
   "cell_type": "code",
   "execution_count": 968,
   "metadata": {
    "scrolled": true
   },
   "outputs": [
    {
     "name": "stdout",
     "output_type": "stream",
     "text": [
      "SPREAD:\n"
     ]
    },
    {
     "data": {
      "image/png": "[encoded data removed]",
      "text/plain": [
       "<Figure size 432x288 with 1 Axes>"
      ]
     },
     "metadata": {},
     "output_type": "display_data"
    }
   ],
   "source": [
    "dataset_1['spread'].plot(kind='box',title=\"spread\",showfliers=True, vert=False)\n",
    "print(\"SPREAD:\")\n",
    "plt.show()"
   ]
  },
  {
   "cell_type": "code",
   "execution_count": 969,
   "metadata": {},
   "outputs": [
    {
     "name": "stdout",
     "output_type": "stream",
     "text": [
      "SPREAD:\n"
     ]
    },
    {
     "data": {
      "image/png": "[encoded data removed]",
      "text/plain": [
       "<Figure size 432x288 with 1 Axes>"
      ]
     },
     "metadata": {},
     "output_type": "display_data"
    }
   ],
   "source": [
    "dataset_1['spread'].hist()\n",
    "print(\"SPREAD:\")\n",
    "plt.show()"
   ]
  },
  {
   "cell_type": "markdown",
   "metadata": {},
   "source": [
    "Vemos en el gráfico box and whiskers que hay valores atípicos de spread tan alejados del resto, que nos impiden ver la caja\n",
    "central. Con el histograma vemos que el número de estos valores atípicos tan alejados es muy pequeño en comparación con todos \n",
    "los valores existentes, lo que nos hace pensar que no son valores representativos ya que el spread, entendido como el beneficio\n",
    "o margen del banco por cada operación que se cierra, deberían ser valores contenidos en un intervalo más definido. Estos datos y sus registros podríamos eliminarlos más tarde a la hora de entrenar a nuestro modelo predictivo. Por ahora los vamos a identificar:"
   ]
  },
  {
   "cell_type": "code",
   "execution_count": 970,
   "metadata": {},
   "outputs": [
    {
     "name": "stdout",
     "output_type": "stream",
     "text": [
      "SPREAD:\n"
     ]
    },
    {
     "data": {
      "image/png": "[encoded data removed]",
      "text/plain": [
       "<Figure size 432x288 with 1 Axes>"
      ]
     },
     "metadata": {},
     "output_type": "display_data"
    }
   ],
   "source": [
    "#Creamos una funcion que dado un dataset, la columna correspondiente y los límites del intervalo fuera del que consideraremos \n",
    "#los valores atípicos, nos guarde dichos valores en una lista junto con su posición:\n",
    "\n",
    "def identifyOutliers(dataset, column, downLimit, upperLimit):\n",
    "    count=0\n",
    "    outliers=[]\n",
    "    for i in dataset[column]:\n",
    "        if (i<downLimit or i>upperLimit):\n",
    "            outliers.append([count,i])\n",
    "        count+=1\n",
    "    return outliers\n",
    "\n",
    "#Volvemos a pintar el gráfico de caja y bigote sin los valores atípicos que se cogen por defecto para poder visualizar mejor su \n",
    "#distribución y elegir un intervalo nosotros mismos:\n",
    "\n",
    "dataset_1['spread'].plot(kind='box',title=\"spread\",showfliers=False, vert=False)\n",
    "print(\"SPREAD:\")\n",
    "plt.show()"
   ]
  },
  {
   "cell_type": "code",
   "execution_count": 971,
   "metadata": {},
   "outputs": [
    {
     "name": "stdout",
     "output_type": "stream",
     "text": [
      "261\n"
     ]
    }
   ],
   "source": [
    "#Viendo la distribución elegimos un intervalo algo más grande que la caja central (-0.1 < x < 0.2) para ser conservadores y \n",
    "#considerar el menor número de valores atípicos posibles y vemos cuantos registros se saldrían de él:\n",
    "\n",
    "print(len(identifyOutliers(dataset_1, 'spread', -0.1, 0.2)))\n"
   ]
  },
  {
   "cell_type": "markdown",
   "metadata": {},
   "source": [
    "Estos valores representan menos de un 4% del total, lo que sugiere que efectivamente tal y como pensábamos son valores atípicos realmente y no representativos, considerando además que el spread es una variable difícil a veces de controlar por parte del banco. Los podríamos eliminar más adelante para evitar confundir a nuestro modelo predictivo pues seguramente serían valores de spread no deseados. "
   ]
  },
  {
   "cell_type": "markdown",
   "metadata": {},
   "source": [
    "#### d) VOL_MM"
   ]
  },
  {
   "cell_type": "code",
   "execution_count": 972,
   "metadata": {},
   "outputs": [
    {
     "name": "stdout",
     "output_type": "stream",
     "text": [
      "VOL_MM:\n"
     ]
    },
    {
     "data": {
      "image/png": "[encoded data removed]",
      "text/plain": [
       "<Figure size 432x288 with 1 Axes>"
      ]
     },
     "metadata": {},
     "output_type": "display_data"
    }
   ],
   "source": [
    "dataset_1['vol_mm'].plot(kind='box',title=\"vol_mm\",showfliers=True, vert=False)\n",
    "print(\"VOL_MM:\")\n",
    "plt.show()"
   ]
  },
  {
   "cell_type": "code",
   "execution_count": 973,
   "metadata": {},
   "outputs": [
    {
     "name": "stdout",
     "output_type": "stream",
     "text": [
      "VOL_MM:\n"
     ]
    },
    {
     "data": {
      "image/png": "[encoded data removed]",
      "text/plain": [
       "<Figure size 432x288 with 1 Axes>"
      ]
     },
     "metadata": {},
     "output_type": "display_data"
    }
   ],
   "source": [
    "#Vemos que en este caso también hay valores alejados que no nos dejan ver correctamente la caja central. Los ocultamos\n",
    "#para poder verlos mejor:\n",
    "\n",
    "dataset_1['vol_mm'].plot(kind='box',title=\"vol_mm\",showfliers=False, vert=False)\n",
    "print(\"VOL_MM:\")\n",
    "plt.show()"
   ]
  },
  {
   "cell_type": "code",
   "execution_count": 974,
   "metadata": {},
   "outputs": [
    {
     "name": "stdout",
     "output_type": "stream",
     "text": [
      "VOL_MM:\n"
     ]
    },
    {
     "data": {
      "image/png": "[encoded data removed]",
      "text/plain": [
       "<Figure size 432x288 with 1 Axes>"
      ]
     },
     "metadata": {},
     "output_type": "display_data"
    }
   ],
   "source": [
    "dataset_1['vol_mm'].hist()\n",
    "print(\"VOL_MM:\")\n",
    "plt.show()"
   ]
  },
  {
   "cell_type": "markdown",
   "metadata": {},
   "source": [
    "Esta distribución apoya una de las hipótesis que barajamos antes y es que hubiera clientes que pidieran también cantidades notablemente mayores en sus operaciones debido a que siguen estrategias diferentes al resto, y que quizás convendría separarlos a la hora de crear el modelo predictivo y crear así dos o más modelos distintos (entrenados con datos distintos) que representen lo mejor posible cada una de estas posibles estrategias ya que el comportamiento del cliente esperado debería ser distinto. Abordaremos este estudio en el análisis de las variables categóricas."
   ]
  },
  {
   "cell_type": "markdown",
   "metadata": {},
   "source": [
    "#### e) DV01"
   ]
  },
  {
   "cell_type": "code",
   "execution_count": 975,
   "metadata": {},
   "outputs": [
    {
     "name": "stdout",
     "output_type": "stream",
     "text": [
      "DV01:\n"
     ]
    },
    {
     "data": {
      "image/png": "[encoded data removed]",
      "text/plain": [
       "<Figure size 432x288 with 1 Axes>"
      ]
     },
     "metadata": {},
     "output_type": "display_data"
    }
   ],
   "source": [
    "dataset_1['dv01'].plot(kind='box',title=\"dv01\",showfliers=True, vert=False)\n",
    "print(\"DV01:\")\n",
    "plt.show()"
   ]
  },
  {
   "cell_type": "markdown",
   "metadata": {},
   "source": [
    "En este caso el gráfico se ve correctamente aun con los valores atípicos representados. Vemos una distribución que se concentra sobre todo en el intervalo (5,15).\n",
    "Se podría pensar que debe existir una relación lineal entre dv01, que es la sensibilidad del bono a variaciones en su yield, y el precio de dicho bono. Más adelante vamos a representar la matriz de correlación de todas las variables, buscar dicha relación a ver si efectivamente existe y explicar el por qué hemos supuesto que debía existir. "
   ]
  },
  {
   "cell_type": "markdown",
   "metadata": {},
   "source": [
    "#### f) NUM_DEALERS"
   ]
  },
  {
   "cell_type": "code",
   "execution_count": 976,
   "metadata": {},
   "outputs": [
    {
     "data": {
      "image/png": "[encoded data removed]",
      "text/plain": [
       "<Figure size 432x432 with 1 Axes>"
      ]
     },
     "metadata": {},
     "output_type": "display_data"
    }
   ],
   "source": [
    "plot = dataset_1['num_dealers'].value_counts().plot(kind='pie', autopct='%.1f', figsize=(6, 6), title='Número de dealers')"
   ]
  },
  {
   "cell_type": "markdown",
   "metadata": {},
   "source": [
    "Como podemos ver, y al igual que pudimos deducir en nuestras primeras conclusiones, la mayor parte de peticiones se les hace a 5 dealers distintos y entre sólo 4 valores distintos hacen más del 90% de las peticiones. "
   ]
  },
  {
   "cell_type": "markdown",
   "metadata": {},
   "source": [
    "#### g) SIDE"
   ]
  },
  {
   "cell_type": "code",
   "execution_count": 977,
   "metadata": {},
   "outputs": [
    {
     "data": {
      "image/png": "[encoded data removed]",
      "text/plain": [
       "<Figure size 432x432 with 1 Axes>"
      ]
     },
     "metadata": {},
     "output_type": "display_data"
    }
   ],
   "source": [
    "plot = dataset_1['side'].value_counts().plot(kind='pie', autopct='%.1f', figsize=(6, 6), title='Compra/Venta')"
   ]
  },
  {
   "cell_type": "markdown",
   "metadata": {},
   "source": [
    "Al igual que vimos rápidamente al principio, está bastante equilibrado el número de peticiones de venta con peticiones de compra"
   ]
  },
  {
   "cell_type": "markdown",
   "metadata": {},
   "source": [
    "#### h) WON"
   ]
  },
  {
   "cell_type": "code",
   "execution_count": 978,
   "metadata": {},
   "outputs": [
    {
     "data": {
      "image/png": "[encoded data removed]",
      "text/plain": [
       "<Figure size 432x432 with 1 Axes>"
      ]
     },
     "metadata": {},
     "output_type": "display_data"
    }
   ],
   "source": [
    "plot = dataset_1['won'].value_counts().plot(kind='pie', autopct='%.1f', figsize=(6, 6), title='Operaciones cerradas')"
   ]
  },
  {
   "cell_type": "markdown",
   "metadata": {},
   "source": [
    "Vemos al igual que al principio que casi el 90% de las peticiones no se cerraron. Debido a que es una proporción algo desigualada, deberemos prestar especial atención a que, a la hora de configurar nuestro modelo predictivo, el dataset de entrenamiento contenga los suficientes registros de operaciones cerradas para que así el modelo pueda detectar aquellas caracteríticas que llevan a que dicha operación se cierre."
   ]
  },
  {
   "cell_type": "markdown",
   "metadata": {},
   "source": [
    "#### i) MATRIZ DE CORRELACIÓN"
   ]
  },
  {
   "cell_type": "markdown",
   "metadata": {},
   "source": [
    "Por último, para hallar posibles relaciones lineales entre estas variables numéricas recurrimos a la matriz de correlación que nos mide el coeficiente de Pearson entre cada pareja de nuestras variables numéricas. Este coeficiente va de -1 a +1, pudiendo pasar por todos los valores intermedios y significando -1 una relación lineal negativa, 0 ninguna relación lineal y +1 una relación lineal positiva."
   ]
  },
  {
   "cell_type": "code",
   "execution_count": 979,
   "metadata": {},
   "outputs": [
    {
     "data": {
      "text/html": [
       "<div>\n",
       "<style scoped>\n",
       "    .dataframe tbody tr th:only-of-type {\n",
       "        vertical-align: middle;\n",
       "    }\n",
       "\n",
       "    .dataframe tbody tr th {\n",
       "        vertical-align: top;\n",
       "    }\n",
       "\n",
       "    .dataframe thead th {\n",
       "        text-align: right;\n",
       "    }\n",
       "</style>\n",
       "<table border=\"1\" class=\"dataframe\">\n",
       "  <thead>\n",
       "    <tr style=\"text-align: right;\">\n",
       "      <th></th>\n",
       "      <th>price</th>\n",
       "      <th>mid</th>\n",
       "      <th>spread</th>\n",
       "      <th>vol_mm</th>\n",
       "      <th>dv01</th>\n",
       "      <th>num_dealers</th>\n",
       "      <th>side</th>\n",
       "      <th>won</th>\n",
       "    </tr>\n",
       "  </thead>\n",
       "  <tbody>\n",
       "    <tr>\n",
       "      <th>price</th>\n",
       "      <td>1.000000</td>\n",
       "      <td>0.995272</td>\n",
       "      <td>0.045396</td>\n",
       "      <td>-0.131289</td>\n",
       "      <td>0.626716</td>\n",
       "      <td>-0.017484</td>\n",
       "      <td>0.032727</td>\n",
       "      <td>-0.018153</td>\n",
       "    </tr>\n",
       "    <tr>\n",
       "      <th>mid</th>\n",
       "      <td>0.995272</td>\n",
       "      <td>1.000000</td>\n",
       "      <td>0.023750</td>\n",
       "      <td>-0.134843</td>\n",
       "      <td>0.629666</td>\n",
       "      <td>-0.015411</td>\n",
       "      <td>0.039245</td>\n",
       "      <td>-0.017192</td>\n",
       "    </tr>\n",
       "    <tr>\n",
       "      <th>spread</th>\n",
       "      <td>0.045396</td>\n",
       "      <td>0.023750</td>\n",
       "      <td>1.000000</td>\n",
       "      <td>0.011265</td>\n",
       "      <td>0.021742</td>\n",
       "      <td>-0.005404</td>\n",
       "      <td>-0.029539</td>\n",
       "      <td>-0.019489</td>\n",
       "    </tr>\n",
       "    <tr>\n",
       "      <th>vol_mm</th>\n",
       "      <td>-0.131289</td>\n",
       "      <td>-0.134843</td>\n",
       "      <td>0.011265</td>\n",
       "      <td>1.000000</td>\n",
       "      <td>-0.104036</td>\n",
       "      <td>-0.217100</td>\n",
       "      <td>0.046580</td>\n",
       "      <td>0.094793</td>\n",
       "    </tr>\n",
       "    <tr>\n",
       "      <th>dv01</th>\n",
       "      <td>0.626716</td>\n",
       "      <td>0.629666</td>\n",
       "      <td>0.021742</td>\n",
       "      <td>-0.104036</td>\n",
       "      <td>1.000000</td>\n",
       "      <td>-0.101229</td>\n",
       "      <td>0.004767</td>\n",
       "      <td>-0.016957</td>\n",
       "    </tr>\n",
       "    <tr>\n",
       "      <th>num_dealers</th>\n",
       "      <td>-0.017484</td>\n",
       "      <td>-0.015411</td>\n",
       "      <td>-0.005404</td>\n",
       "      <td>-0.217100</td>\n",
       "      <td>-0.101229</td>\n",
       "      <td>1.000000</td>\n",
       "      <td>-0.039207</td>\n",
       "      <td>-0.110242</td>\n",
       "    </tr>\n",
       "    <tr>\n",
       "      <th>side</th>\n",
       "      <td>0.032727</td>\n",
       "      <td>0.039245</td>\n",
       "      <td>-0.029539</td>\n",
       "      <td>0.046580</td>\n",
       "      <td>0.004767</td>\n",
       "      <td>-0.039207</td>\n",
       "      <td>1.000000</td>\n",
       "      <td>0.033177</td>\n",
       "    </tr>\n",
       "    <tr>\n",
       "      <th>won</th>\n",
       "      <td>-0.018153</td>\n",
       "      <td>-0.017192</td>\n",
       "      <td>-0.019489</td>\n",
       "      <td>0.094793</td>\n",
       "      <td>-0.016957</td>\n",
       "      <td>-0.110242</td>\n",
       "      <td>0.033177</td>\n",
       "      <td>1.000000</td>\n",
       "    </tr>\n",
       "  </tbody>\n",
       "</table>\n",
       "</div>"
      ],
      "text/plain": [
       "                price       mid    spread    vol_mm      dv01  num_dealers  \\\n",
       "price        1.000000  0.995272  0.045396 -0.131289  0.626716 -0.017484      \n",
       "mid          0.995272  1.000000  0.023750 -0.134843  0.629666 -0.015411      \n",
       "spread       0.045396  0.023750  1.000000  0.011265  0.021742 -0.005404      \n",
       "vol_mm      -0.131289 -0.134843  0.011265  1.000000 -0.104036 -0.217100      \n",
       "dv01         0.626716  0.629666  0.021742 -0.104036  1.000000 -0.101229      \n",
       "num_dealers -0.017484 -0.015411 -0.005404 -0.217100 -0.101229  1.000000      \n",
       "side         0.032727  0.039245 -0.029539  0.046580  0.004767 -0.039207      \n",
       "won         -0.018153 -0.017192 -0.019489  0.094793 -0.016957 -0.110242      \n",
       "\n",
       "                 side       won  \n",
       "price        0.032727 -0.018153  \n",
       "mid          0.039245 -0.017192  \n",
       "spread      -0.029539 -0.019489  \n",
       "vol_mm       0.046580  0.094793  \n",
       "dv01         0.004767 -0.016957  \n",
       "num_dealers -0.039207 -0.110242  \n",
       "side         1.000000  0.033177  \n",
       "won          0.033177  1.000000  "
      ]
     },
     "execution_count": 979,
     "metadata": {},
     "output_type": "execute_result"
    }
   ],
   "source": [
    "#Para buscar relaciones entre las variables numéricas creamos la matriz de correlación\n",
    "dataset_1.corr()"
   ]
  },
  {
   "cell_type": "code",
   "execution_count": 980,
   "metadata": {},
   "outputs": [
    {
     "data": {
      "image/png": "[encoded data removed]",
      "text/plain": [
       "<Figure size 432x288 with 64 Axes>"
      ]
     },
     "metadata": {},
     "output_type": "display_data"
    }
   ],
   "source": [
    "#Gráficamente esto se podría ver con scatter_matrix:\n",
    "scatter_matrix(dataset_1)\n",
    "plt.show()"
   ]
  },
  {
   "cell_type": "markdown",
   "metadata": {},
   "source": [
    "Podemos obervar: \n",
    "- Hay una relación lineal positiva casi perfecta entre precio y mid. Esto es lógico como ya dedujimos en apartados anteriores pues price y mid son dos valores casi idénticos en cada una de las peticiones, siendo su diferencia el spread que como también hemos visto toma valores muy pequeños y que varían por lo general en un intervalo también muy peuqeño.\n",
    "- Como predijimos cuando analizamos la distribución de dv01, efectivamente vemos que hay una relación lineal positiva moderada entre el precio del bono y dv01, que como dijimos es sensibilidad del bono ante variaciones en su yield o rentabilidad. Esto es lógico pues los bonos con mayor precio suelen ser aquellos de los que se espera obtener mayor beneficio, su precio viene justificado por su rentabilidad. Si la rentabilidad de estos bonos con elevado precio cambiase, esto afectaría notablemente en su precio inmediatamente y es así como se define la sensibilidad. Por ello a mayor precio, mayor rentabilidad y mayor sensibilidad.\n",
    "- El resto de variables muestran una correlación entre sí de prácticamente 0, por lo que no hay ninguna relación lineal entre ellas."
   ]
  },
  {
   "cell_type": "markdown",
   "metadata": {},
   "source": [
    "### 2) Análisis de variables catégoricas"
   ]
  },
  {
   "cell_type": "markdown",
   "metadata": {},
   "source": [
    "#### a) CLIENTES"
   ]
  },
  {
   "cell_type": "code",
   "execution_count": 981,
   "metadata": {},
   "outputs": [
    {
     "name": "stdout",
     "output_type": "stream",
     "text": [
      "client\n",
      "A    3146\n",
      "B    1834\n",
      "C    394 \n",
      "D    391 \n",
      "F    302 \n",
      "G    336 \n",
      "Name: won, dtype: int64\n"
     ]
    }
   ],
   "source": [
    "#Comprobamos la distribución de los clientes\n",
    "\n",
    "print(dataset_1.groupby('client')['won'].count())"
   ]
  },
  {
   "cell_type": "markdown",
   "metadata": {},
   "source": [
    "Vemos que tenemos 6 clientes distintos(dos de ellos, A y B, representan casi el 80% de las peticiones) pero como dijimos antes, el análisis de los clientes que nos parece más interesante es el que tiene que ver con las cantidades de las operaciones y las posiblemente diferentes estrategias que sigan unos y otros en función de dichas cantidades"
   ]
  },
  {
   "cell_type": "code",
   "execution_count": 982,
   "metadata": {},
   "outputs": [
    {
     "data": {
      "image/png": "[encoded data removed]",
      "text/plain": [
       "<Figure size 504x504 with 1 Axes>"
      ]
     },
     "metadata": {},
     "output_type": "display_data"
    },
    {
     "data": {
      "image/png": "[encoded data removed]",
      "text/plain": [
       "<Figure size 504x504 with 1 Axes>"
      ]
     },
     "metadata": {},
     "output_type": "display_data"
    }
   ],
   "source": [
    "#Creamos un gráfico box and whiskers de la cantidad pedida pero individuales para cada cliente y vemos así la distribución de \n",
    "#cada uno. Vemos primero representados los valores atípicos y luego sin ellos:\n",
    "\n",
    "dataset_1.boxplot('vol_mm','client',grid=True, figsize=(7,7), showfliers=True)\n",
    "dataset_1.boxplot('vol_mm','client',grid=True, figsize=(7,7), showfliers=False)\n",
    "plt.show()"
   ]
  },
  {
   "cell_type": "markdown",
   "metadata": {},
   "source": [
    "Vemos que aunque hay valores atípicos para todos los clientes y que distan mucho entre sí y de la caja central en algunos casos, claramente se pueden identificar dos tendencias diferentes. Una en la que la mayor parte de las operaciones no llegan a 1M€ de cantidad y que correspondería con los clientes B, C, D y F, y otra tendencia en la que las operaciones son en la mayor parte de los casos de cantidades entre 2M€ y 5M€ y que corresponde con los clientes A y G. \n",
    "Por esta distinta tendencia o estrategia a la hora de operar, podría considerarse la opción de realizar dos modelos por separado que intenten predecir estos comportamientos distintos. Uno de ellos aplicándolo únicamente a los clientes A y G, y el otro al resto de clientes."
   ]
  },
  {
   "cell_type": "markdown",
   "metadata": {},
   "source": [
    "#### b) INSTRUMENTOS"
   ]
  },
  {
   "cell_type": "code",
   "execution_count": 983,
   "metadata": {},
   "outputs": [
    {
     "name": "stdout",
     "output_type": "stream",
     "text": [
      "instrument\n",
      "A    644\n",
      "B    837\n",
      "C    718\n",
      "D    657\n",
      "E    516\n",
      "F    545\n",
      "G    428\n",
      "H    432\n",
      "I    442\n",
      "J    449\n",
      "K    351\n",
      "L    384\n",
      "Name: won, dtype: int64\n"
     ]
    }
   ],
   "source": [
    "#Comprobamos la distribución de los instrumentos\n",
    "\n",
    "print(dataset_1.groupby('instrument')['won'].count())"
   ]
  },
  {
   "cell_type": "markdown",
   "metadata": {},
   "source": [
    "Vemos que tenemos 12 instrumentos diferentes y que se reparten a lo largo de las peticiones de manera más o menos equilibrada. Una relación interesante que podríamos sacar es la de cantidad-instrumento al igual que hicimos anteriormente y para ver cuáles sería los instrumentos que absorben las peticiones que representan mayor cantidad de dinero. Si hubiera una relación clara sería algo lógico y comprensible pues se entiende que ciertos instrumentos, debido a sus características, podrían ser objeto de operaciones que involucran grandes cantidades."
   ]
  },
  {
   "cell_type": "code",
   "execution_count": 984,
   "metadata": {},
   "outputs": [
    {
     "data": {
      "image/png": "[encoded data removed]",
      "text/plain": [
       "<Figure size 504x504 with 1 Axes>"
      ]
     },
     "metadata": {},
     "output_type": "display_data"
    },
    {
     "data": {
      "image/png": "[encoded data removed]",
      "text/plain": [
       "<Figure size 504x504 with 1 Axes>"
      ]
     },
     "metadata": {},
     "output_type": "display_data"
    }
   ],
   "source": [
    "#Creamos un gráfico box and whiskers de la cantidad pedida pero individuales para cada instrumento como hicimos antes y vemos \n",
    "#así la distribución de cada uno. Vemos primero representados los valores atípicos y luego sin ellos:\n",
    "\n",
    "dataset_1.boxplot('vol_mm','instrument',grid=True, figsize=(7,7), showfliers=True)\n",
    "dataset_1.boxplot('vol_mm','instrument',grid=True, figsize=(7,7), showfliers=False)\n",
    "plt.show()"
   ]
  },
  {
   "cell_type": "markdown",
   "metadata": {},
   "source": [
    "No parece que haya una relación clara ya que las medianas para todos los instrumentos están por debajo de los 2M€. Sí puede apreciarse sin embargo que los instrumentos C, E y L parecen ser más propensos a recibir peticiones de mayor cantidad, debido quizás a sus características como hemos dicho."
   ]
  },
  {
   "cell_type": "markdown",
   "metadata": {},
   "source": [
    "No vamos a analizar la variable de fecha y hora. Es una variable cuyo estudio nada aporta a nuestro análisis y tampoco se usará para el modelo predictivo por lo que la desecharemos a la hora de entrenarlo. \n",
    "Si servirá para poder relacionar el dataset_1 con el dataset_2"
   ]
  },
  {
   "cell_type": "markdown",
   "metadata": {},
   "source": [
    "## Modelo Predictivo"
   ]
  },
  {
   "cell_type": "markdown",
   "metadata": {},
   "source": [
    "Después de haber realizado un análisis exploratorio de los datos de nuestro dataset_1 y haber visto que no hay ninguna relación lineal global entre las variables numéricas, haber considerado también las relaciones que hemos encontrado respecto a las variables categóricas y que nos encontramos ante un problema de clasificación (operación cerrada sí o no) concluimos que el mejor modelo a implantar para este caso es Random Forest. Antes de aplicar o probar nuestro modelo, tenemos que acondicionar los datos."
   ]
  },
  {
   "cell_type": "markdown",
   "metadata": {},
   "source": [
    "### Modelo, parámetros y  métricas:"
   ]
  },
  {
   "cell_type": "markdown",
   "metadata": {},
   "source": [
    "Vamos a definir nuestro modelo, hallar los parámetros óptimos y sus métricas correspondientes. Vamos por partes:"
   ]
  },
  {
   "cell_type": "code",
   "execution_count": 985,
   "metadata": {},
   "outputs": [],
   "source": [
    "#Lo primero que tenemos que hacer es transformar las variables categóricas en numéricas para poder introducirlas en el modelo:\n",
    "dataset_1_model=dataset_1.copy()\n",
    "dataset_1_model[\"client\"]= dataset_1_model[\"client\"].replace(\"A\", 1)\n",
    "dataset_1_model[\"client\"]= dataset_1_model[\"client\"].replace(\"B\", 2)\n",
    "dataset_1_model[\"client\"]= dataset_1_model[\"client\"].replace(\"C\", 3)\n",
    "dataset_1_model[\"client\"]= dataset_1_model[\"client\"].replace(\"D\", 4)\n",
    "dataset_1_model[\"client\"]= dataset_1_model[\"client\"].replace(\"F\", 5)\n",
    "dataset_1_model[\"client\"]= dataset_1_model[\"client\"].replace(\"G\", 6)\n",
    "dataset_1_model[\"instrument\"]= dataset_1_model[\"instrument\"].replace(\"A\", 1)\n",
    "dataset_1_model[\"instrument\"]= dataset_1_model[\"instrument\"].replace(\"B\", 2)\n",
    "dataset_1_model[\"instrument\"]= dataset_1_model[\"instrument\"].replace(\"C\", 3)\n",
    "dataset_1_model[\"instrument\"]= dataset_1_model[\"instrument\"].replace(\"D\", 4)\n",
    "dataset_1_model[\"instrument\"]= dataset_1_model[\"instrument\"].replace(\"E\", 5)\n",
    "dataset_1_model[\"instrument\"]= dataset_1_model[\"instrument\"].replace(\"F\", 6)\n",
    "dataset_1_model[\"instrument\"]= dataset_1_model[\"instrument\"].replace(\"G\", 7)\n",
    "dataset_1_model[\"instrument\"]= dataset_1_model[\"instrument\"].replace(\"H\", 8)\n",
    "dataset_1_model[\"instrument\"]= dataset_1_model[\"instrument\"].replace(\"I\", 9)\n",
    "dataset_1_model[\"instrument\"]= dataset_1_model[\"instrument\"].replace(\"J\", 10)\n",
    "dataset_1_model[\"instrument\"]= dataset_1_model[\"instrument\"].replace(\"K\", 11)\n",
    "dataset_1_model[\"instrument\"]= dataset_1_model[\"instrument\"].replace(\"L\", 12)"
   ]
  },
  {
   "cell_type": "code",
   "execution_count": 986,
   "metadata": {},
   "outputs": [
    {
     "data": {
      "text/html": [
       "<div>\n",
       "<style scoped>\n",
       "    .dataframe tbody tr th:only-of-type {\n",
       "        vertical-align: middle;\n",
       "    }\n",
       "\n",
       "    .dataframe tbody tr th {\n",
       "        vertical-align: top;\n",
       "    }\n",
       "\n",
       "    .dataframe thead th {\n",
       "        text-align: right;\n",
       "    }\n",
       "</style>\n",
       "<table border=\"1\" class=\"dataframe\">\n",
       "  <thead>\n",
       "    <tr style=\"text-align: right;\">\n",
       "      <th></th>\n",
       "      <th>date_time</th>\n",
       "      <th>instrument</th>\n",
       "      <th>client</th>\n",
       "      <th>price</th>\n",
       "      <th>mid</th>\n",
       "      <th>spread</th>\n",
       "      <th>vol_mm</th>\n",
       "      <th>dv01</th>\n",
       "      <th>num_dealers</th>\n",
       "      <th>side</th>\n",
       "      <th>won</th>\n",
       "    </tr>\n",
       "  </thead>\n",
       "  <tbody>\n",
       "    <tr>\n",
       "      <th>0</th>\n",
       "      <td>2019-01-25 15:58:29.0</td>\n",
       "      <td>9</td>\n",
       "      <td>5</td>\n",
       "      <td>112.779</td>\n",
       "      <td>112.7416</td>\n",
       "      <td>0.0374</td>\n",
       "      <td>2.000</td>\n",
       "      <td>6.0870</td>\n",
       "      <td>5</td>\n",
       "      <td>-1</td>\n",
       "      <td>0</td>\n",
       "    </tr>\n",
       "    <tr>\n",
       "      <th>1</th>\n",
       "      <td>2019-01-28 09:28:10.0</td>\n",
       "      <td>2</td>\n",
       "      <td>6</td>\n",
       "      <td>106.065</td>\n",
       "      <td>106.1855</td>\n",
       "      <td>0.1205</td>\n",
       "      <td>0.500</td>\n",
       "      <td>21.9017</td>\n",
       "      <td>5</td>\n",
       "      <td>1</td>\n",
       "      <td>0</td>\n",
       "    </tr>\n",
       "    <tr>\n",
       "      <th>2</th>\n",
       "      <td>2019-01-28 09:40:24.0</td>\n",
       "      <td>6</td>\n",
       "      <td>6</td>\n",
       "      <td>107.607</td>\n",
       "      <td>107.5570</td>\n",
       "      <td>0.0500</td>\n",
       "      <td>0.975</td>\n",
       "      <td>13.2621</td>\n",
       "      <td>5</td>\n",
       "      <td>-1</td>\n",
       "      <td>0</td>\n",
       "    </tr>\n",
       "    <tr>\n",
       "      <th>3</th>\n",
       "      <td>2019-01-29 16:21:06.0</td>\n",
       "      <td>5</td>\n",
       "      <td>5</td>\n",
       "      <td>100.622</td>\n",
       "      <td>100.5820</td>\n",
       "      <td>0.0400</td>\n",
       "      <td>0.010</td>\n",
       "      <td>4.4853</td>\n",
       "      <td>5</td>\n",
       "      <td>-1</td>\n",
       "      <td>0</td>\n",
       "    </tr>\n",
       "    <tr>\n",
       "      <th>4</th>\n",
       "      <td>2019-01-30 16:19:28.0</td>\n",
       "      <td>6</td>\n",
       "      <td>5</td>\n",
       "      <td>107.297</td>\n",
       "      <td>107.2170</td>\n",
       "      <td>0.0800</td>\n",
       "      <td>0.448</td>\n",
       "      <td>13.2087</td>\n",
       "      <td>5</td>\n",
       "      <td>-1</td>\n",
       "      <td>0</td>\n",
       "    </tr>\n",
       "  </tbody>\n",
       "</table>\n",
       "</div>"
      ],
      "text/plain": [
       "               date_time  instrument  client    price       mid  spread  \\\n",
       "0  2019-01-25 15:58:29.0  9           5       112.779  112.7416  0.0374   \n",
       "1  2019-01-28 09:28:10.0  2           6       106.065  106.1855  0.1205   \n",
       "2  2019-01-28 09:40:24.0  6           6       107.607  107.5570  0.0500   \n",
       "3  2019-01-29 16:21:06.0  5           5       100.622  100.5820  0.0400   \n",
       "4  2019-01-30 16:19:28.0  6           5       107.297  107.2170  0.0800   \n",
       "\n",
       "   vol_mm     dv01  num_dealers  side  won  \n",
       "0  2.000   6.0870   5           -1     0    \n",
       "1  0.500   21.9017  5            1     0    \n",
       "2  0.975   13.2621  5           -1     0    \n",
       "3  0.010   4.4853   5           -1     0    \n",
       "4  0.448   13.2087  5           -1     0    "
      ]
     },
     "execution_count": 986,
     "metadata": {},
     "output_type": "execute_result"
    }
   ],
   "source": [
    "dataset_1_model.head(5)"
   ]
  },
  {
   "cell_type": "code",
   "execution_count": 987,
   "metadata": {},
   "outputs": [
    {
     "data": {
      "text/html": [
       "<div>\n",
       "<style scoped>\n",
       "    .dataframe tbody tr th:only-of-type {\n",
       "        vertical-align: middle;\n",
       "    }\n",
       "\n",
       "    .dataframe tbody tr th {\n",
       "        vertical-align: top;\n",
       "    }\n",
       "\n",
       "    .dataframe thead th {\n",
       "        text-align: right;\n",
       "    }\n",
       "</style>\n",
       "<table border=\"1\" class=\"dataframe\">\n",
       "  <thead>\n",
       "    <tr style=\"text-align: right;\">\n",
       "      <th></th>\n",
       "      <th>instrument</th>\n",
       "      <th>client</th>\n",
       "      <th>spread</th>\n",
       "      <th>vol_mm</th>\n",
       "      <th>dv01</th>\n",
       "      <th>num_dealers</th>\n",
       "      <th>side</th>\n",
       "      <th>won</th>\n",
       "    </tr>\n",
       "  </thead>\n",
       "  <tbody>\n",
       "    <tr>\n",
       "      <th>0</th>\n",
       "      <td>9</td>\n",
       "      <td>5</td>\n",
       "      <td>0.0374</td>\n",
       "      <td>2.0</td>\n",
       "      <td>6.087</td>\n",
       "      <td>5</td>\n",
       "      <td>-1</td>\n",
       "      <td>0</td>\n",
       "    </tr>\n",
       "  </tbody>\n",
       "</table>\n",
       "</div>"
      ],
      "text/plain": [
       "   instrument  client  spread  vol_mm   dv01  num_dealers  side  won\n",
       "0  9           5       0.0374  2.0     6.087  5           -1     0  "
      ]
     },
     "execution_count": 987,
     "metadata": {},
     "output_type": "execute_result"
    }
   ],
   "source": [
    "#Luego vamos a eliminar la columna de fecha y hora de nuestro dataset_1_model que como dijimos no aporta nada en el modelo:\n",
    "\n",
    "dataset_1_model=dataset_1_model.drop('date_time', axis=1)\n",
    "\n",
    "#Consideramos que teniendo el valor del spread en nuestro dataset, no tiene sentido tener price y mid, ya que es redudante. De\n",
    "#hecho, tener más datos y columans y además tan parecidas entre sí podría confundir al modelo:\n",
    "\n",
    "dataset_1_model=dataset_1_model.drop(['price', 'mid'], axis=1)\n",
    "dataset_1_model.head(1)"
   ]
  },
  {
   "cell_type": "code",
   "execution_count": 988,
   "metadata": {},
   "outputs": [],
   "source": [
    "#Ahora tenemos que dividir nuestro dataset en dos partes, las variables independientes X que corresponden con todas las columnas\n",
    "#menos a la última 'won' y la variable dependiente Y que es la última columna 'won' ya que es el output que pretendemos obtener\n",
    "#de nuestro modelo, saber si la operación se cerrará o no\n",
    "\n",
    "array = dataset_1_model.values\n",
    "X = array[:,0:7]\n",
    "Y = array[:,7]"
   ]
  },
  {
   "cell_type": "code",
   "execution_count": 994,
   "metadata": {},
   "outputs": [
    {
     "name": "stdout",
     "output_type": "stream",
     "text": [
      "0.8833359362798688\n",
      "500\n",
      "4\n"
     ]
    }
   ],
   "source": [
    "#Utilizamos el método GridSearchCV para encontrar los parámetros de nuestro modelo Random Forest que hacen que éste sea óptimo y\n",
    "#tenga la mayor precisión alcanzable. Este cálculo llevará un tiempo:\n",
    "\n",
    "param_grid = {'n_estimators':np.array([100,250,500,750]),'max_features':np.array([2,3,4,5])}\n",
    "model = RandomForestClassifier()\n",
    "grid = GridSearchCV(estimator=model, param_grid=param_grid, cv=3)\n",
    "grid.fit(X, Y)\n",
    "print(grid.best_score_)\n",
    "print(grid.best_estimator_.n_estimators)\n",
    "print(grid.best_estimator_.max_features)"
   ]
  },
  {
   "cell_type": "code",
   "execution_count": 995,
   "metadata": {},
   "outputs": [
    {
     "name": "stdout",
     "output_type": "stream",
     "text": [
      "0.88474380850234\n"
     ]
    }
   ],
   "source": [
    "#Ahora aplicamos estos parámetros n_estimators=500 y max_features=4 a nuesto modelo y le aplicamos una validación conocida como \n",
    "#K-Fold Cross Validation que divide nuestro set de datos X e Y en k=10 partes y empieza a hacer train con 9 de ellas y test con\n",
    "#la restante. Esta parte test va cambiando a lo largo de las 10 partes y se va guardando una medición de la precisión del modelo\n",
    "#en cada una de estas iteraciones, obteniendo al final una media de todas ellas que representa la precisión estimada del modelo \n",
    "#con ese dataset\n",
    "\n",
    "kfold = KFold(n_splits=10, random_state=10)\n",
    "model = RandomForestClassifier(n_estimators=500, max_features=4)\n",
    "results = cross_val_score(model, X, Y, cv=kfold)\n",
    "print(results.mean())"
   ]
  },
  {
   "cell_type": "markdown",
   "metadata": {},
   "source": [
    "Obtenemos finalmente una precisión o accuracy estimada para este modelo de casi el 88.5% lo que indica que es un modelo muy sólido y apto para nuestro problema. Por tanto establecemos definitivamente este modelo como el que utilizaremos, un Random Forest Classifier con parámetros n_estimators=500 y max_features=4"
   ]
  },
  {
   "cell_type": "markdown",
   "metadata": {},
   "source": [
    "### 1er Modelo:"
   ]
  },
  {
   "cell_type": "markdown",
   "metadata": {},
   "source": [
    "Primero crearemos un modelo entrenado con los datos del dataset_1. Aunque ya hemos hecho estimaciones de la precisión que tendrá este modelo con los parámetros establecidos y entrenado con estos datos (88,5%), vamos a comprobar por nosotros mismos esta vez cómo entrenando al modelo con una parte de dichos datos y validando con la parte restante las predicciones que obtengamos con el mismo, obtendremos una precisión muy parecida a la estimada, pero en este caso es ya calculada de forma real. "
   ]
  },
  {
   "cell_type": "code",
   "execution_count": 996,
   "metadata": {},
   "outputs": [],
   "source": [
    "#Ahora dividimos nuestra X e Y en dos partes, una de entrenamiento y otra de validación, para comprobar así de forma real y \"con\n",
    "#nuestras manos\" la efectividad o precisión de nuestro modelo. Un 85% del dataset será entrenamiento y un 15% validación.\n",
    "\n",
    "X_train, X_validation, Y_train, Y_validation = train_test_split(X, Y, test_size=0.15, random_state=10)"
   ]
  },
  {
   "cell_type": "code",
   "execution_count": 997,
   "metadata": {},
   "outputs": [],
   "source": [
    "#Entrenamos a nuestro modelo con X_train e Y_train\n",
    "model = RandomForestClassifier(n_estimators=500, max_features=4)\n",
    "model.fit(X_train, Y_train)\n",
    "\n",
    "#Y hacemos predicciones en base a X_validation\n",
    "predictions = model.predict(X_validation)"
   ]
  },
  {
   "cell_type": "code",
   "execution_count": 998,
   "metadata": {},
   "outputs": [
    {
     "name": "stdout",
     "output_type": "stream",
     "text": [
      "0.8928199791883454\n",
      "[[830  21]\n",
      " [ 82  28]]\n",
      "              precision    recall  f1-score   support\n",
      "\n",
      "         0.0       0.91      0.98      0.94       851\n",
      "         1.0       0.57      0.25      0.35       110\n",
      "\n",
      "   micro avg       0.89      0.89      0.89       961\n",
      "   macro avg       0.74      0.61      0.65       961\n",
      "weighted avg       0.87      0.89      0.87       961\n",
      "\n"
     ]
    }
   ],
   "source": [
    "#Comparamos nuestras predicciones con Y_validation y sacamos parámetros como la precisión, matriz de confusión y el \n",
    "#classification report\n",
    "\n",
    "print(accuracy_score(Y_validation, predictions))\n",
    "print(confusion_matrix(Y_validation, predictions))\n",
    "print(classification_report(Y_validation, predictions))"
   ]
  },
  {
   "cell_type": "markdown",
   "metadata": {},
   "source": [
    "Vemos que obtenemos una precisión de prácticamente el 90% pero si miramos en detalle el classification report, vemos que en las predicciones sobre operaciones que sí se cierran sólo se obtiene una precisión del 57%. El siguiente paso será ver si cuando utilicemos como datos de entrenamiento los del dataset_2, obtendremos un modelo más fiable o no. Si es así, este segundo modelo será el que usaremos para hacer nuestras predicciones.\n",
    "Por ahora, vamos a entrenar este modelo con el dataset_1 completo y a guardarlo:"
   ]
  },
  {
   "cell_type": "code",
   "execution_count": 999,
   "metadata": {},
   "outputs": [
    {
     "name": "stdout",
     "output_type": "stream",
     "text": [
      "Entrenamiento completado\n"
     ]
    }
   ],
   "source": [
    "#Lo entrenamos con todo el dataset_1 para dejarlo listo para poder hacer predicciones en base a datos nuevos\n",
    "model = RandomForestClassifier(n_estimators=500, max_features=4)\n",
    "model.fit(X, Y)\n",
    "print(\"Entrenamiento completado\")"
   ]
  },
  {
   "cell_type": "code",
   "execution_count": 1000,
   "metadata": {},
   "outputs": [],
   "source": [
    "#Y ahora lo guardamos\n",
    "filename = 'model1.sav'\n",
    "pickle.dump(model, open(filename, 'wb'))"
   ]
  },
  {
   "cell_type": "markdown",
   "metadata": {},
   "source": [
    "### 2º Modelo:"
   ]
  },
  {
   "cell_type": "markdown",
   "metadata": {},
   "source": [
    "Ahora tenemos que crear un modelo entrenado con los datos del dataset_2 para compararlo con el anterior. Para ello utilizaremos la misma estructura que el dataset_1 pero introduciéndole los datos de 'mid' correspondientes al dataset_2. Viendo las columnas que existen en el dataset_2 y que son 'date_time', 'mid' y 'instrument', esto lo conseguiremos mapeando por instrumento y por la fecha anterior más cercana a la de la petición del cliente."
   ]
  },
  {
   "cell_type": "markdown",
   "metadata": {},
   "source": [
    "He explorado varias formas de intentar llevar a cabo este 'mapeo' en python, sin embargo no he sido capaz por lo que a partir de aquí continúo redactando los pasos que habría que seguir en caso de haber podido hacerlo."
   ]
  },
  {
   "cell_type": "markdown",
   "metadata": {},
   "source": [
    "Una vez hubiéramos conseguido sustituir los datos de 'mid' del dataset_1 por los del dataset_2 en base al instrumento y la fecha, tendríamos listo nuestro nuevo dataset_3 con el que entrenar nuestro modelo. Al haber un nuevo 'mid' los valores de 'spread' también cambiarían.\n",
    "Ya teniendo listo el dataset_3 llevaríamos a cabo las mismas transformaciones que hicimos con el dataset_1 (eliminar columna de fecha que ya sirvió para el mapeo, eliminar columna de 'price' y 'mid' que ya sirvieron para recalcular el spread, transformar los intrumentos y clientes en números, dividir en variables independientes X y dependientes Y, dividir de nuevo en set de entrenamiento y set de validación)\n",
    "Una vez hechas estas transformaciones, utilizaríamos este dataset_3 para entrenar el modelo de Random Forest customizado con los parámetros que calculamos como óptimos. Llevaríamos a cabo predicciones con este modelo entrenado y las compararíamos como ya hicimos en el caso anterior con el set de validación y calcularíamos la precisión y el classification report. Mis suposiciones me llevan a pensar que este modelo arrojará una precisión mayor que la del anterior, especialmente en los casos en que la operación se cierra donde el incremento de precisión será mucho más notable.\n",
    "Una vez comprobado esto, se podrían sacar las conclusiones y responder a las cuestiones que plantea el enunciado."
   ]
  },
  {
   "cell_type": "markdown",
   "metadata": {},
   "source": [
    "## Conclusiones:"
   ]
  },
  {
   "cell_type": "markdown",
   "metadata": {},
   "source": [
    "- Hemos realizado un análisis exploratorio y descriptivo de los datos del dataset_1:\n",
    "\n",
    "    a) Hemos observado la distribución de las variables tanto numéricas como categóricas. De aquí hemos sacado varias   conclusiones acerca de la relación que tienen entre sí las varibles, como los clientes y la cantidad de dinero de las operaciones que demandan (pudiendo como dijimos considerar de esta manera dos modelos distintos que representen dos estrategias distintas, aunque no hemos optado por ello en este caso), algunos valores atípicos no representativos de spread (que se podrían eliminar también aunque son muy pocos en comparación con el total) o la relación entre la sensibilidad y el precio.\n",
    "    \n",
    "    b) Hemos calculado la matriz de correlación de las variables numéricas, viendo que no existe ninguna relación lineal global ni nada que se le parezca, lo que nos ayudó a decidir implementar un modelo de Random Forest Classifier\n",
    "    \n",
    "    \n",
    "- Hemos preprocesado los datos del dataset_1 para poder usarlos en el modelo Random Forest, el cual hemos previamente buscado sus parámetros óptimos mediante GridSearchCV además de hacer una estimación de su performance y precisión mediante KFoldCrossValidation. Una vez entrenado este modelo con el dataset_1 hemos obtenido varias métricas\n",
    "\n",
    "\n",
    "- Creamos el dataset_3 en base a los dos primeros y lo usamos para entrenar y medir la performance del mismo modelo, obteniendo mejores resultados de precisión\n",
    "\n",
    "\n",
    "- De esto último se deduce que, al contar con datos de precios más fiables, es más fácil predecir si el cliente cerrará la operación o no\n",
    "\n",
    "\n",
    "- Contestando a la pregunta del enunciado acerca del impacto por no contar con datos de alta frecuencia, habría que cuantificar la diferencia de precisión o performance del modelo en función de ser entrenado con unos u otros datos pero la conclusión es que sí tiene impacto el no poder contar con datos de alta frecuencia ya que vemos que con unos datos u otros el modelo predice mejor o peor, con el enorme impacto que esto tiene en el banco y en el negocio."
   ]
  }
 ],
 "metadata": {
  "kernelspec": {
   "display_name": "Python 3",
   "language": "python",
   "name": "python3"
  },
  "language_info": {
   "codemirror_mode": {
    "name": "ipython",
    "version": 3
   },
   "file_extension": ".py",
   "mimetype": "text/x-python",
   "name": "python",
   "nbconvert_exporter": "python",
   "pygments_lexer": "ipython3",
   "version": "3.7.3"
  }
 },
 "nbformat": 4,
 "nbformat_minor": 2
}
