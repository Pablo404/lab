{
 "cells": [
  {
   "cell_type": "code",
   "execution_count": 2,
   "metadata": {},
   "outputs": [],
   "source": [
    "  %matplotlib inline\n",
    "\n",
    "import re\n",
    "import random\n",
    "from collections import Counter\n",
    "\n",
    "import pandas as pd\n",
    "pd.set_option('display.max_colwidth', -1)\n",
    "import numpy as np\n",
    "import matplotlib.pyplot as plt\n",
    "import seaborn as sns\n",
    "from scipy.stats import kstest\n",
    "sns.set(color_codes=True)"
   ]
  },
  {
   "cell_type": "markdown",
   "metadata": {},
   "source": [
    "# Carga de librerías"
   ]
  },
  {
   "cell_type": "code",
   "execution_count": 3,
   "metadata": {},
   "outputs": [],
   "source": [
    "#Cargamos el data set A\n",
    "df = pd.read_csv('rfqs.csv')"
   ]
  },
  {
   "cell_type": "code",
   "execution_count": 4,
   "metadata": {},
   "outputs": [
    {
     "data": {
      "text/html": [
       "<div>\n",
       "<style scoped>\n",
       "    .dataframe tbody tr th:only-of-type {\n",
       "        vertical-align: middle;\n",
       "    }\n",
       "\n",
       "    .dataframe tbody tr th {\n",
       "        vertical-align: top;\n",
       "    }\n",
       "\n",
       "    .dataframe thead th {\n",
       "        text-align: right;\n",
       "    }\n",
       "</style>\n",
       "<table border=\"1\" class=\"dataframe\">\n",
       "  <thead>\n",
       "    <tr style=\"text-align: right;\">\n",
       "      <th></th>\n",
       "      <th>Unnamed: 0</th>\n",
       "      <th>date_time</th>\n",
       "      <th>instrument</th>\n",
       "      <th>client</th>\n",
       "      <th>price</th>\n",
       "      <th>mid</th>\n",
       "      <th>vol_MM</th>\n",
       "      <th>dv01</th>\n",
       "      <th>num_dealers</th>\n",
       "      <th>side</th>\n",
       "      <th>won</th>\n",
       "    </tr>\n",
       "  </thead>\n",
       "  <tbody>\n",
       "    <tr>\n",
       "      <th>0</th>\n",
       "      <td>94075</td>\n",
       "      <td>2019-01-25 15:58:29.0</td>\n",
       "      <td>I</td>\n",
       "      <td>F</td>\n",
       "      <td>112.779</td>\n",
       "      <td>112.7416</td>\n",
       "      <td>2.000</td>\n",
       "      <td>6.0870</td>\n",
       "      <td>5</td>\n",
       "      <td>-1</td>\n",
       "      <td>0</td>\n",
       "    </tr>\n",
       "    <tr>\n",
       "      <th>1</th>\n",
       "      <td>94087</td>\n",
       "      <td>2019-01-28 09:28:10.0</td>\n",
       "      <td>B</td>\n",
       "      <td>G</td>\n",
       "      <td>106.065</td>\n",
       "      <td>106.1855</td>\n",
       "      <td>0.500</td>\n",
       "      <td>21.9017</td>\n",
       "      <td>5</td>\n",
       "      <td>1</td>\n",
       "      <td>0</td>\n",
       "    </tr>\n",
       "    <tr>\n",
       "      <th>2</th>\n",
       "      <td>94089</td>\n",
       "      <td>2019-01-28 09:40:24.0</td>\n",
       "      <td>F</td>\n",
       "      <td>G</td>\n",
       "      <td>107.607</td>\n",
       "      <td>107.5570</td>\n",
       "      <td>0.975</td>\n",
       "      <td>13.2621</td>\n",
       "      <td>5</td>\n",
       "      <td>-1</td>\n",
       "      <td>0</td>\n",
       "    </tr>\n",
       "    <tr>\n",
       "      <th>3</th>\n",
       "      <td>94158</td>\n",
       "      <td>2019-01-29 16:21:06.0</td>\n",
       "      <td>E</td>\n",
       "      <td>F</td>\n",
       "      <td>100.622</td>\n",
       "      <td>100.5820</td>\n",
       "      <td>0.010</td>\n",
       "      <td>4.4853</td>\n",
       "      <td>5</td>\n",
       "      <td>-1</td>\n",
       "      <td>0</td>\n",
       "    </tr>\n",
       "    <tr>\n",
       "      <th>4</th>\n",
       "      <td>94194</td>\n",
       "      <td>2019-01-30 16:19:28.0</td>\n",
       "      <td>F</td>\n",
       "      <td>F</td>\n",
       "      <td>107.297</td>\n",
       "      <td>107.2170</td>\n",
       "      <td>0.448</td>\n",
       "      <td>13.2087</td>\n",
       "      <td>5</td>\n",
       "      <td>-1</td>\n",
       "      <td>0</td>\n",
       "    </tr>\n",
       "  </tbody>\n",
       "</table>\n",
       "</div>"
      ],
      "text/plain": [
       "   Unnamed: 0              date_time instrument client    price       mid  \\\n",
       "0  94075       2019-01-25 15:58:29.0  I          F      112.779  112.7416   \n",
       "1  94087       2019-01-28 09:28:10.0  B          G      106.065  106.1855   \n",
       "2  94089       2019-01-28 09:40:24.0  F          G      107.607  107.5570   \n",
       "3  94158       2019-01-29 16:21:06.0  E          F      100.622  100.5820   \n",
       "4  94194       2019-01-30 16:19:28.0  F          F      107.297  107.2170   \n",
       "\n",
       "   vol_MM     dv01  num_dealers  side  won  \n",
       "0  2.000   6.0870   5           -1     0    \n",
       "1  0.500   21.9017  5            1     0    \n",
       "2  0.975   13.2621  5           -1     0    \n",
       "3  0.010   4.4853   5           -1     0    \n",
       "4  0.448   13.2087  5           -1     0    "
      ]
     },
     "execution_count": 4,
     "metadata": {},
     "output_type": "execute_result"
    }
   ],
   "source": [
    "df.head(5)"
   ]
  },
  {
   "cell_type": "code",
   "execution_count": 5,
   "metadata": {
    "scrolled": true
   },
   "outputs": [
    {
     "data": {
      "text/html": [
       "<div>\n",
       "<style scoped>\n",
       "    .dataframe tbody tr th:only-of-type {\n",
       "        vertical-align: middle;\n",
       "    }\n",
       "\n",
       "    .dataframe tbody tr th {\n",
       "        vertical-align: top;\n",
       "    }\n",
       "\n",
       "    .dataframe thead th {\n",
       "        text-align: right;\n",
       "    }\n",
       "</style>\n",
       "<table border=\"1\" class=\"dataframe\">\n",
       "  <thead>\n",
       "    <tr style=\"text-align: right;\">\n",
       "      <th></th>\n",
       "      <th>Unnamed: 0</th>\n",
       "      <th>date_time</th>\n",
       "      <th>instrument</th>\n",
       "      <th>client</th>\n",
       "      <th>price</th>\n",
       "      <th>mid</th>\n",
       "      <th>vol_MM</th>\n",
       "      <th>dv01</th>\n",
       "      <th>num_dealers</th>\n",
       "      <th>side</th>\n",
       "      <th>won</th>\n",
       "    </tr>\n",
       "  </thead>\n",
       "  <tbody>\n",
       "    <tr>\n",
       "      <th>0</th>\n",
       "      <td>94075</td>\n",
       "      <td>2019-01-25 15:58:29.0</td>\n",
       "      <td>I</td>\n",
       "      <td>F</td>\n",
       "      <td>112.779</td>\n",
       "      <td>112.7416</td>\n",
       "      <td>2.000</td>\n",
       "      <td>6.0870</td>\n",
       "      <td>5</td>\n",
       "      <td>-1</td>\n",
       "      <td>0</td>\n",
       "    </tr>\n",
       "    <tr>\n",
       "      <th>1</th>\n",
       "      <td>94087</td>\n",
       "      <td>2019-01-28 09:28:10.0</td>\n",
       "      <td>B</td>\n",
       "      <td>G</td>\n",
       "      <td>106.065</td>\n",
       "      <td>106.1855</td>\n",
       "      <td>0.500</td>\n",
       "      <td>21.9017</td>\n",
       "      <td>5</td>\n",
       "      <td>1</td>\n",
       "      <td>0</td>\n",
       "    </tr>\n",
       "    <tr>\n",
       "      <th>2</th>\n",
       "      <td>94089</td>\n",
       "      <td>2019-01-28 09:40:24.0</td>\n",
       "      <td>F</td>\n",
       "      <td>G</td>\n",
       "      <td>107.607</td>\n",
       "      <td>107.5570</td>\n",
       "      <td>0.975</td>\n",
       "      <td>13.2621</td>\n",
       "      <td>5</td>\n",
       "      <td>-1</td>\n",
       "      <td>0</td>\n",
       "    </tr>\n",
       "    <tr>\n",
       "      <th>3</th>\n",
       "      <td>94158</td>\n",
       "      <td>2019-01-29 16:21:06.0</td>\n",
       "      <td>E</td>\n",
       "      <td>F</td>\n",
       "      <td>100.622</td>\n",
       "      <td>100.5820</td>\n",
       "      <td>0.010</td>\n",
       "      <td>4.4853</td>\n",
       "      <td>5</td>\n",
       "      <td>-1</td>\n",
       "      <td>0</td>\n",
       "    </tr>\n",
       "    <tr>\n",
       "      <th>4</th>\n",
       "      <td>94194</td>\n",
       "      <td>2019-01-30 16:19:28.0</td>\n",
       "      <td>F</td>\n",
       "      <td>F</td>\n",
       "      <td>107.297</td>\n",
       "      <td>107.2170</td>\n",
       "      <td>0.448</td>\n",
       "      <td>13.2087</td>\n",
       "      <td>5</td>\n",
       "      <td>-1</td>\n",
       "      <td>0</td>\n",
       "    </tr>\n",
       "  </tbody>\n",
       "</table>\n",
       "</div>"
      ],
      "text/plain": [
       "   Unnamed: 0              date_time instrument client    price       mid  \\\n",
       "0  94075       2019-01-25 15:58:29.0  I          F      112.779  112.7416   \n",
       "1  94087       2019-01-28 09:28:10.0  B          G      106.065  106.1855   \n",
       "2  94089       2019-01-28 09:40:24.0  F          G      107.607  107.5570   \n",
       "3  94158       2019-01-29 16:21:06.0  E          F      100.622  100.5820   \n",
       "4  94194       2019-01-30 16:19:28.0  F          F      107.297  107.2170   \n",
       "\n",
       "   vol_MM     dv01  num_dealers  side  won  \n",
       "0  2.000   6.0870   5           -1     0    \n",
       "1  0.500   21.9017  5            1     0    \n",
       "2  0.975   13.2621  5           -1     0    \n",
       "3  0.010   4.4853   5           -1     0    \n",
       "4  0.448   13.2087  5           -1     0    "
      ]
     },
     "execution_count": 5,
     "metadata": {},
     "output_type": "execute_result"
    }
   ],
   "source": [
    "#Vemos una muestra de los datos para ver con qué vamos a trabajar\n",
    "df.head(5)"
   ]
  },
  {
   "cell_type": "code",
   "execution_count": 6,
   "metadata": {},
   "outputs": [
    {
     "data": {
      "text/html": [
       "<div>\n",
       "<style scoped>\n",
       "    .dataframe tbody tr th:only-of-type {\n",
       "        vertical-align: middle;\n",
       "    }\n",
       "\n",
       "    .dataframe tbody tr th {\n",
       "        vertical-align: top;\n",
       "    }\n",
       "\n",
       "    .dataframe thead th {\n",
       "        text-align: right;\n",
       "    }\n",
       "</style>\n",
       "<table border=\"1\" class=\"dataframe\">\n",
       "  <thead>\n",
       "    <tr style=\"text-align: right;\">\n",
       "      <th></th>\n",
       "      <th>Unnamed: 0</th>\n",
       "      <th>price</th>\n",
       "      <th>mid</th>\n",
       "      <th>vol_MM</th>\n",
       "      <th>dv01</th>\n",
       "      <th>num_dealers</th>\n",
       "      <th>side</th>\n",
       "      <th>won</th>\n",
       "    </tr>\n",
       "  </thead>\n",
       "  <tbody>\n",
       "    <tr>\n",
       "      <th>count</th>\n",
       "      <td>6403.000000</td>\n",
       "      <td>6403.000000</td>\n",
       "      <td>6403.000000</td>\n",
       "      <td>6403.000000</td>\n",
       "      <td>6403.000000</td>\n",
       "      <td>6403.000000</td>\n",
       "      <td>6403.000000</td>\n",
       "      <td>6403.000000</td>\n",
       "    </tr>\n",
       "    <tr>\n",
       "      <th>mean</th>\n",
       "      <td>310732.564891</td>\n",
       "      <td>112.694414</td>\n",
       "      <td>112.662200</td>\n",
       "      <td>2.636600</td>\n",
       "      <td>11.585256</td>\n",
       "      <td>5.561612</td>\n",
       "      <td>-0.058254</td>\n",
       "      <td>0.112916</td>\n",
       "    </tr>\n",
       "    <tr>\n",
       "      <th>std</th>\n",
       "      <td>67590.523661</td>\n",
       "      <td>9.916090</td>\n",
       "      <td>9.906521</td>\n",
       "      <td>5.989479</td>\n",
       "      <td>6.910370</td>\n",
       "      <td>2.148954</td>\n",
       "      <td>0.998380</td>\n",
       "      <td>0.316515</td>\n",
       "    </tr>\n",
       "    <tr>\n",
       "      <th>min</th>\n",
       "      <td>94075.000000</td>\n",
       "      <td>99.069000</td>\n",
       "      <td>99.082500</td>\n",
       "      <td>0.001000</td>\n",
       "      <td>1.906000</td>\n",
       "      <td>1.000000</td>\n",
       "      <td>-1.000000</td>\n",
       "      <td>0.000000</td>\n",
       "    </tr>\n",
       "    <tr>\n",
       "      <th>25%</th>\n",
       "      <td>273751.500000</td>\n",
       "      <td>103.971000</td>\n",
       "      <td>103.911450</td>\n",
       "      <td>0.050000</td>\n",
       "      <td>7.120000</td>\n",
       "      <td>5.000000</td>\n",
       "      <td>-1.000000</td>\n",
       "      <td>0.000000</td>\n",
       "    </tr>\n",
       "    <tr>\n",
       "      <th>50%</th>\n",
       "      <td>326843.000000</td>\n",
       "      <td>110.751000</td>\n",
       "      <td>110.696200</td>\n",
       "      <td>0.650000</td>\n",
       "      <td>9.530200</td>\n",
       "      <td>5.000000</td>\n",
       "      <td>-1.000000</td>\n",
       "      <td>0.000000</td>\n",
       "    </tr>\n",
       "    <tr>\n",
       "      <th>75%</th>\n",
       "      <td>364830.500000</td>\n",
       "      <td>117.070500</td>\n",
       "      <td>117.066450</td>\n",
       "      <td>3.000000</td>\n",
       "      <td>14.593250</td>\n",
       "      <td>5.000000</td>\n",
       "      <td>1.000000</td>\n",
       "      <td>0.000000</td>\n",
       "    </tr>\n",
       "    <tr>\n",
       "      <th>max</th>\n",
       "      <td>397854.000000</td>\n",
       "      <td>147.153000</td>\n",
       "      <td>147.180900</td>\n",
       "      <td>131.400000</td>\n",
       "      <td>32.491200</td>\n",
       "      <td>21.000000</td>\n",
       "      <td>1.000000</td>\n",
       "      <td>1.000000</td>\n",
       "    </tr>\n",
       "  </tbody>\n",
       "</table>\n",
       "</div>"
      ],
      "text/plain": [
       "          Unnamed: 0        price          mid       vol_MM         dv01  \\\n",
       "count  6403.000000    6403.000000  6403.000000  6403.000000  6403.000000   \n",
       "mean   310732.564891  112.694414   112.662200   2.636600     11.585256     \n",
       "std    67590.523661   9.916090     9.906521     5.989479     6.910370      \n",
       "min    94075.000000   99.069000    99.082500    0.001000     1.906000      \n",
       "25%    273751.500000  103.971000   103.911450   0.050000     7.120000      \n",
       "50%    326843.000000  110.751000   110.696200   0.650000     9.530200      \n",
       "75%    364830.500000  117.070500   117.066450   3.000000     14.593250     \n",
       "max    397854.000000  147.153000   147.180900   131.400000   32.491200     \n",
       "\n",
       "       num_dealers         side          won  \n",
       "count  6403.000000  6403.000000  6403.000000  \n",
       "mean   5.561612    -0.058254     0.112916     \n",
       "std    2.148954     0.998380     0.316515     \n",
       "min    1.000000    -1.000000     0.000000     \n",
       "25%    5.000000    -1.000000     0.000000     \n",
       "50%    5.000000    -1.000000     0.000000     \n",
       "75%    5.000000     1.000000     0.000000     \n",
       "max    21.000000    1.000000     1.000000     "
      ]
     },
     "execution_count": 6,
     "metadata": {},
     "output_type": "execute_result"
    }
   ],
   "source": [
    "#Vemos los parámetros estadísticos de cada variable\n",
    "df.describe()"
   ]
  },
  {
   "cell_type": "code",
   "execution_count": 7,
   "metadata": {},
   "outputs": [
    {
     "data": {
      "text/plain": [
       "(6403, 11)"
      ]
     },
     "execution_count": 7,
     "metadata": {},
     "output_type": "execute_result"
    }
   ],
   "source": [
    "#Dimensiones del data set\n",
    "df.shape"
   ]
  },
  {
   "cell_type": "code",
   "execution_count": 8,
   "metadata": {},
   "outputs": [
    {
     "data": {
      "text/plain": [
       "6403"
      ]
     },
     "execution_count": 8,
     "metadata": {},
     "output_type": "execute_result"
    }
   ],
   "source": [
    "#Registros únicos\n",
    "df['Unnamed: 0'].nunique()"
   ]
  },
  {
   "cell_type": "markdown",
   "metadata": {},
   "source": [
    "# Data Wranling"
   ]
  },
  {
   "cell_type": "markdown",
   "metadata": {},
   "source": [
    "### Cambiar los nombres de las columnas para que cumplan buenas prácticas"
   ]
  },
  {
   "cell_type": "code",
   "execution_count": 9,
   "metadata": {},
   "outputs": [],
   "source": [
    "#Hacemos que todos los nombres de las variables estén en minúscula\n",
    "df.columns = [x.lower() for x in df.columns]"
   ]
  },
  {
   "cell_type": "markdown",
   "metadata": {},
   "source": [
    "### Estudiar el formato de las variables, ver cuáles se deberían modificar y modificarlas cuando se considere oportuno"
   ]
  },
  {
   "cell_type": "code",
   "execution_count": null,
   "metadata": {},
   "outputs": [],
   "source": []
  },
  {
   "cell_type": "markdown",
   "metadata": {},
   "source": [
    "### Vemos si tenemos que crear nuevas variables"
   ]
  },
  {
   "cell_type": "code",
   "execution_count": 10,
   "metadata": {},
   "outputs": [],
   "source": [
    "#Añadimos las columnas de spread compra y venta\n",
    "df['spread_purc']=df['mid']-df['price']\n",
    "df['spread_sel']=df['price']-df['mid']\n"
   ]
  },
  {
   "cell_type": "code",
   "execution_count": 14,
   "metadata": {},
   "outputs": [
    {
     "data": {
      "text/plain": [
       "unnamed: 0     int64  \n",
       "date_time      object \n",
       "instrument     object \n",
       "client         object \n",
       "price          float64\n",
       "mid            float64\n",
       "vol_mm         float64\n",
       "dv01           float64\n",
       "num_dealers    int64  \n",
       "side           int64  \n",
       "won            int64  \n",
       "spread_purc    float64\n",
       "spread_sel     float64\n",
       "dtype: object"
      ]
     },
     "execution_count": 14,
     "metadata": {},
     "output_type": "execute_result"
    }
   ],
   "source": [
    "df.describe()\n",
    "df.dtypes"
   ]
  },
  {
   "cell_type": "code",
   "execution_count": null,
   "metadata": {},
   "outputs": [],
   "source": []
  }
 ],
 "metadata": {
  "kernelspec": {
   "display_name": "Python 3",
   "language": "python",
   "name": "python3"
  },
  "language_info": {
   "codemirror_mode": {
    "name": "ipython",
    "version": 3
   },
   "file_extension": ".py",
   "mimetype": "text/x-python",
   "name": "python",
   "nbconvert_exporter": "python",
   "pygments_lexer": "ipython3",
   "version": "3.7.3"
  }
 },
 "nbformat": 4,
 "nbformat_minor": 2
}
