{
 "cells": [
  {
   "cell_type": "markdown",
   "metadata": {},
   "source": [
    "# Pasos a seguir para mi modelo"
   ]
  },
  {
   "cell_type": "markdown",
   "metadata": {},
   "source": [
    "1) Que tipo de modelo es mi problema?\n",
    "- Clasiffication\n",
    "- Regression\n",
    "- (Clustering data)??? -- https://towardsdatascience.com/the-5-clustering-algorithms-data-scientists-need-to-know-a36d136ef68"
   ]
  },
  {
   "cell_type": "markdown",
   "metadata": {},
   "source": [
    "2) Entender los datos\n",
    "- head()\n",
    "- .shape\n",
    "- .dtypes\n",
    "- describe()\n",
    "- corr() --> por defecto 'pearson' --> https://en.wikipedia.org/wiki/Pearson_correlation_coefficient\n",
    "- hist()\n",
    "- plot(kind='box') --> para quitar una columna o atributo que molesta en la visualizacion --> de dataframe a array, ahí numpy.delete() y de array a dataframe de nuevo --> https://thispointer.com/delete-elements-rows-or-columns-from-a-numpy-array-by-index-positions-using-numpy-delete-in-python/ https://machinelearningmastery.com/crash-course-python-machine-learning-developers/\n",
    "- pandas.scatter_matrix()"
   ]
  },
  {
   "cell_type": "markdown",
   "metadata": {},
   "source": [
    "3) Preprocessing data \n",
    "- Reshape (para train/test split y por si hace falta) --> https://machinelearningmastery.com/index-slice-reshape-numpy-arrays-machine-learning-python/\n",
    "- Standardize --> https://scikit-learn.org/stable/modules/generated/sklearn.preprocessing.StandardScaler.html\n",
    "- Scale\n",
    "- Normalize\n",
    "\n",
    "OneHotEncoder??? ---> https://medium.com/hugo-ferreiras-blog/dealing-with-categorical-features-in-machine-learning-1bb70f07262d\n",
    "                      https://www.pluralsight.com/guides/handling-categorical-data-in-machine-learning-models\n",
    "\n",
    "class MultiColumnLabelEncoder:\n",
    "    \n",
    "    def __init__(self, columns = None):\n",
    "        self.columns = columns # list of column to encode\n",
    "    def fit(self, X, y=None):\n",
    "        return self\n",
    "    def transform(self, X):\n",
    "        '''\n",
    "        Transforms columns of X specified in self.columns using\n",
    "        LabelEncoder(). If no columns specified, transforms all\n",
    "        columns in X.\n",
    "        '''\n",
    "        \n",
    "        output = X.copy()\n",
    "        \n",
    "        if self.columns is not None:\n",
    "            for col in self.columns:\n",
    "                output[col] = LabelEncoder().fit_transform(output[col])\n",
    "        else:\n",
    "            for colname, col in output.iteritems():\n",
    "                output[colname] = LabelEncoder().fit_transform(col)\n",
    "        \n",
    "        return output\n",
    "    def fit_transform(self, X, y=None):\n",
    "        return self.fit(X, y).transform(X)"
   ]
  },
  {
   "cell_type": "markdown",
   "metadata": {},
   "source": [
    "4) Buscar modelo:\n",
    "- Logistic Regression (con calculo de probabilidades)\n",
    "- Decision Tree\n",
    "- Random forest                   ----> https://machinelearningmastery.com/machine-learning-algorithms-mini-course/\n",
    "- SVM\n",
    "\n",
    "The random forest is a classification algorithm consisting of many decisions trees. It uses bagging and feature randomness when building each individual tree to try to create an uncorrelated forest of trees whose prediction by committee is more accurate than that of any individual tree.\n",
    "What do we need in order for our random forest to make accurate class predictions?\n",
    "We need features that have at least some predictive power. After all, if we put garbage in then we will get garbage out.\n",
    "The trees of the forest and more importantly their predictions need to be uncorrelated (or at least have low correlations with each other). While the algorithm itself via feature randomness tries to engineer these low correlations for us, the features we select and the hyper-parameters we choose will impact the ultimate correlations as well."
   ]
  },
  {
   "cell_type": "markdown",
   "metadata": {},
   "source": [
    "5) Testear varios modelos:\n",
    "\n",
    "# K-fold Cross Validation\n",
    "     cv = ¿KFold o StratifiedKFold(si es classificator)?\n",
    " #### Distintos algoritmos\n",
    "     models = []\n",
    "     models.append(('LR', LogisticRegression(solver='liblinear')))\n",
    "     models.append(('LDA', LinearDiscriminantAnalysis()))               Aqui testeamos varios modelos a la vez para elegir uno\n",
    "                                                                        cross_val_score() function\n",
    "   ### Y                                                              \n",
    " #### Distintos scorings a la vez\n",
    "  Classification----> Accuracy\n",
    "                ----> LogLoss -> Logistic Regression\n",
    "  Regression--------> RSquare Metrics y RMSE\n",
    "  \n",
    "# +\n",
    "# Train/Test\n",
    "    Confusion Matrix\n",
    "    Classification Report\n",
    "# +\n",
    "    \n",
    "# Tuning hyper-parameters\n",
    "    Grid Search    GridSearchCV() \n",
    "    Random Search  RandomizedSearchCV()\n",
    "    https://scikit-learn.org/stable/auto_examples/model_selection/plot_grid_search_digits.html\n",
    "    https://scikit-learn.org/stable/modules/grid_search.html#grid-search\n",
    "    https://scikit-learn.org/stable/auto_examples/model_selection/plot_randomized_search.html#sphx-glr-auto-examples-model-selection-plot-randomized-search-py\n",
    "    \n",
    "    "
   ]
  },
  {
   "cell_type": "code",
   "execution_count": 1,
   "metadata": {},
   "outputs": [],
   "source": [
    "%matplotlib inline"
   ]
  },
  {
   "cell_type": "code",
   "execution_count": null,
   "metadata": {},
   "outputs": [],
   "source": []
  }
 ],
 "metadata": {
  "kernelspec": {
   "display_name": "Python 3",
   "language": "python",
   "name": "python3"
  },
  "language_info": {
   "codemirror_mode": {
    "name": "ipython",
    "version": 3
   },
   "file_extension": ".py",
   "mimetype": "text/x-python",
   "name": "python",
   "nbconvert_exporter": "python",
   "pygments_lexer": "ipython3",
   "version": "3.7.3"
  }
 },
 "nbformat": 4,
 "nbformat_minor": 2
}
