{
  "nbformat": 4,
  "nbformat_minor": 0,
  "metadata": {
    "colab": {
      "name": "ejercicio1211.ipynb",
      "version": "0.3.2",
      "provenance": [],
      "collapsed_sections": []
    },
    "kernelspec": {
      "display_name": "Python 3.7",
      "language": "python",
      "name": "python37"
    }
  },
  "cells": [
    {
      "metadata": {
        "id": "jqpm0QsxFkHe",
        "colab_type": "code",
        "colab": {}
      },
      "cell_type": "code",
      "source": [
        "import string"
      ],
      "execution_count": 0,
      "outputs": []
    },
    {
      "metadata": {
        "id": "qrfWIw3lFkH4",
        "colab_type": "code",
        "colab": {}
      },
      "cell_type": "code",
      "source": [
        "def open_file():\n",
        "   \n",
        "    while True:\n",
        "        filename = input(\"Type filename: \")\n",
        "        try:\n",
        "            fh = open(filename)\n",
        "            break\n",
        "        except:\n",
        "            print('File {} does not exist. Try again'.format(filename))\n",
        "    return fh"
      ],
      "execution_count": 0,
      "outputs": []
    },
    {
      "metadata": {
        "id": "lHpcnw8MFkII",
        "colab_type": "code",
        "colab": {}
      },
      "cell_type": "code",
      "source": [
        "def read_data(fh):\n",
        "    \n",
        "    data_dict = {}\n",
        "    for n, line in enumerate(fh):\n",
        "        line = line.lower() # convert to lowercase\n",
        "        words = line.split() # split line into words\n",
        "        for word in words:\n",
        "            word = word.strip(string.punctuation)  # veo al final qué es 'string.punctuation'\n",
        "            word = word.replace(\"'\",\"\")\n",
        "            word = word.replace(\"-\",\"\")\n",
        "            if word.isalpha():\n",
        "                if len(word) >= 2:\n",
        "                    if word not in data_dict:\n",
        "                        data_dict[word] = {n + 1}\n",
        "                    else:\n",
        "                        data_dict[word].add(n + 1)\n",
        "    return data_dict"
      ],
      "execution_count": 0,
      "outputs": []
    },
    {
      "metadata": {
        "id": "RPyeyMJwFkIS",
        "colab_type": "code",
        "colab": {}
      },
      "cell_type": "code",
      "source": [
        "def find_cooccurance(D, inp_str):\n",
        "    keywords = inp_str.split()\n",
        "    if keywords:\n",
        "        co_ocurrence = set.intersection(*[D[key] for key in keywords])  # el * es para eliminar los corchetes de la lista en que se devuelve la list comprehension\n",
        "    else:\n",
        "        co_ocurrence = {}\n",
        "    return co_ocurrence\n",
        "            "
      ],
      "execution_count": 0,
      "outputs": []
    },
    {
      "metadata": {
        "scrolled": true,
        "id": "qmRjOsKkFkIc",
        "colab_type": "code",
        "colab": {}
      },
      "cell_type": "code",
      "source": [
        "# einstein.txt\n",
        "fh = open_file()"
      ],
      "execution_count": 0,
      "outputs": []
    },
    {
      "metadata": {
        "id": "4f7vAV5NFkIq",
        "colab_type": "code",
        "colab": {}
      },
      "cell_type": "code",
      "source": [
        "D = read_data(fh)"
      ],
      "execution_count": 0,
      "outputs": []
    },
    {
      "metadata": {
        "id": "DMwbg8zoFkI4",
        "colab_type": "code",
        "colab": {}
      },
      "cell_type": "code",
      "source": [
        "inp_str = 'the is'\n",
        "co = find_cooccurance(D, inp_str)"
      ],
      "execution_count": 0,
      "outputs": []
    },
    {
      "metadata": {
        "id": "Dmma-suFFkJG",
        "colab_type": "code",
        "colab": {}
      },
      "cell_type": "code",
      "source": [
        "co"
      ],
      "execution_count": 0,
      "outputs": []
    },
    {
      "metadata": {
        "id": "8RE4iVbJFkJS",
        "colab_type": "code",
        "colab": {}
      },
      "cell_type": "code",
      "source": [
        "inp_str = \"intelligence knowledge true\"\n",
        "co = find_cooccurance(D,inp_str)\n",
        "co"
      ],
      "execution_count": 0,
      "outputs": []
    },
    {
      "metadata": {
        "id": "EABPPYsgFkJm",
        "colab_type": "code",
        "colab": {}
      },
      "cell_type": "code",
      "source": [
        "fh.close()"
      ],
      "execution_count": 0,
      "outputs": []
    },
    {
      "metadata": {
        "id": "L9lMegNyFkJy",
        "colab_type": "code",
        "colab": {}
      },
      "cell_type": "code",
      "source": [
        "string.punctuation # string con los signos de puntuación"
      ],
      "execution_count": 0,
      "outputs": []
    }
  ]
}