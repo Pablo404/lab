{
  "nbformat": 4,
  "nbformat_minor": 0,
  "metadata": {
    "colab": {
      "name": "Workshop_spark.ipynb",
      "version": "0.3.2",
      "provenance": [],
      "collapsed_sections": []
    },
    "kernelspec": {
      "name": "python3",
      "display_name": "Python 3"
    }
  },
  "cells": [
    {
      "metadata": {
        "id": "c0AIgy4xj1bT",
        "colab_type": "code",
        "colab": {}
      },
      "cell_type": "code",
      "source": [
        "# sandbox = \n",
        "DATA_PATH = \"/content/drive/My Drive/DS/\""
      ],
      "execution_count": 0,
      "outputs": []
    },
    {
      "metadata": {
        "id": "T6JpB3xFle0X",
        "colab_type": "code",
        "colab": {}
      },
      "cell_type": "code",
      "source": [
        "import os\n",
        "os.environ[\"JAVA_HOME\"] = \"/usr/lib/jvm/java-8-openjdk-amd64\"\n",
        "os.environ[\"SPARK_HOME\"] = \"/content/spark-2.2.1-bin-hadoop2.7\""
      ],
      "execution_count": 0,
      "outputs": []
    },
    {
      "metadata": {
        "id": "1zXNdUFElg1P",
        "colab_type": "code",
        "outputId": "e4c65418-8441-47fc-b986-c45541e51651",
        "colab": {
          "base_uri": "https://localhost:8080/",
          "height": 34
        }
      },
      "cell_type": "code",
      "source": [
        "import findspark\n",
        "findspark.init()\n",
        "from pyspark.sql import SparkSession\n",
        "# Montamos el drive en /content/drive\n",
        "from google.colab import drive\n",
        "drive.mount('/content/drive')"
      ],
      "execution_count": 3,
      "outputs": [
        {
          "output_type": "stream",
          "text": [
            "Drive already mounted at /content/drive; to attempt to forcibly remount, call drive.mount(\"/content/drive\", force_remount=True).\n"
          ],
          "name": "stdout"
        }
      ]
    },
    {
      "metadata": {
        "id": "xJAfutgKxk88",
        "colab_type": "code",
        "colab": {}
      },
      "cell_type": "code",
      "source": [
        "# Cargamos librerías\n",
        "import pandas as pd\n",
        "import numpy as np\n",
        "from matplotlib import pyplot as plt\n",
        "import seaborn as sns"
      ],
      "execution_count": 0,
      "outputs": []
    },
    {
      "metadata": {
        "id": "hKhHYh6dljhO",
        "colab_type": "code",
        "colab": {}
      },
      "cell_type": "code",
      "source": [
        "# Creamos SparkSession\n",
        "spark = SparkSession.builder.master(\"local[*]\").getOrCreate()"
      ],
      "execution_count": 0,
      "outputs": []
    },
    {
      "metadata": {
        "id": "Y1MP1BfZllGG",
        "colab_type": "code",
        "colab": {}
      },
      "cell_type": "code",
      "source": [
        "# Importamos funciones que nos interesan de PySpark\n",
        "from pyspark.sql import functions as F\n",
        "from pyspark.mllib.linalg import Vectors\n",
        "from pyspark.mllib.stat import Statistics"
      ],
      "execution_count": 0,
      "outputs": []
    },
    {
      "metadata": {
        "id": "q7Y7Eu7Hj1bX",
        "colab_type": "text"
      },
      "cell_type": "markdown",
      "source": [
        "\n",
        "\n",
        "# Workshop de Spark\n",
        "\n",
        "Cargamos un dataset con información de una campaña de marketing portuguesa para la venta de un préstamo bancario. El objetivo es, una vez limpiado el dataset, estudiarlo para extraer el máximo número de insights de los datos."
      ]
    },
    {
      "metadata": {
        "id": "l17RACgVj1bY",
        "colab_type": "text"
      },
      "cell_type": "markdown",
      "source": [
        "\n",
        "\n",
        "## Lectura de datos"
      ]
    },
    {
      "metadata": {
        "id": "qlhy9YKOj1bZ",
        "colab_type": "code",
        "colab": {}
      },
      "cell_type": "code",
      "source": [
        "bank_df = spark.read.csv(DATA_PATH+'/bank-full.csv', header=True, sep=';', inferSchema=True)"
      ],
      "execution_count": 0,
      "outputs": []
    },
    {
      "metadata": {
        "id": "Fc83CFJAmB1t",
        "colab_type": "code",
        "outputId": "4024ea2e-52a2-4bea-9830-4b4dcd36a08d",
        "colab": {
          "base_uri": "https://localhost:8080/",
          "height": 168
        }
      },
      "cell_type": "code",
      "source": [
        "bank_df.show(3)"
      ],
      "execution_count": 8,
      "outputs": [
        {
          "output_type": "stream",
          "text": [
            "+---+------------+-------+---------+-------+-------+-------+----+-------+---+-----+----+--------+--------+-----+--------+--------+---+--------------+----------+\n",
            "|age|         job|marital|education|default|balance|housing|loan|contact|day|month|year|duration|campaign|pdays|previous|poutcome|  y|picked_up_call|extra_info|\n",
            "+---+------------+-------+---------+-------+-------+-------+----+-------+---+-----+----+--------+--------+-----+--------+--------+---+--------------+----------+\n",
            "| 58|  management|married| tertiary|     no|   2143|    yes|  no|unknown|  5|  may|2008|     261|       1|   -1|       0| unknown| no|             1|         1|\n",
            "| 44|  technician| single|secondary|     no|     29|    yes|  no|unknown|  5|  may|2008|     151|       1|   -1|       0| unknown| no|             1|         1|\n",
            "| 33|entrepreneur|married|secondary|     no|      2|    yes| yes|unknown|  5|  may|2008|      76|       1|   -1|       0| unknown| no|             1|         1|\n",
            "+---+------------+-------+---------+-------+-------+-------+----+-------+---+-----+----+--------+--------+-----+--------+--------+---+--------------+----------+\n",
            "only showing top 3 rows\n",
            "\n"
          ],
          "name": "stdout"
        }
      ]
    },
    {
      "metadata": {
        "id": "YAwrWoe8n7HW",
        "colab_type": "text"
      },
      "cell_type": "markdown",
      "source": [
        "### Comprobar correcta lectura de los datos"
      ]
    },
    {
      "metadata": {
        "id": "yCEUYEdMoO8Y",
        "colab_type": "text"
      },
      "cell_type": "markdown",
      "source": [
        "Comprobamos dimensiones del dataframe"
      ]
    },
    {
      "metadata": {
        "id": "zSaQYKzOmDyN",
        "colab_type": "code",
        "outputId": "08281b3c-3458-4882-9795-e58cba778e52",
        "colab": {
          "base_uri": "https://localhost:8080/",
          "height": 34
        }
      },
      "cell_type": "code",
      "source": [
        "dim_bankdf = (bank_df.count(), len(bank_df.columns))\n",
        "dim_bankdf"
      ],
      "execution_count": 9,
      "outputs": [
        {
          "output_type": "execute_result",
          "data": {
            "text/plain": [
              "(45211, 20)"
            ]
          },
          "metadata": {
            "tags": []
          },
          "execution_count": 9
        }
      ]
    },
    {
      "metadata": {
        "id": "dcx_buolo4j9",
        "colab_type": "text"
      },
      "cell_type": "markdown",
      "source": [
        "Con un printSchema vemos la estructura"
      ]
    },
    {
      "metadata": {
        "id": "KDef_-YMoi-4",
        "colab_type": "code",
        "outputId": "92322671-3796-413e-9eb9-84ab40d8a024",
        "colab": {
          "base_uri": "https://localhost:8080/",
          "height": 386
        }
      },
      "cell_type": "code",
      "source": [
        "bank_df.printSchema()"
      ],
      "execution_count": 10,
      "outputs": [
        {
          "output_type": "stream",
          "text": [
            "root\n",
            " |-- age: integer (nullable = true)\n",
            " |-- job: string (nullable = true)\n",
            " |-- marital: string (nullable = true)\n",
            " |-- education: string (nullable = true)\n",
            " |-- default: string (nullable = true)\n",
            " |-- balance: integer (nullable = true)\n",
            " |-- housing: string (nullable = true)\n",
            " |-- loan: string (nullable = true)\n",
            " |-- contact: string (nullable = true)\n",
            " |-- day: integer (nullable = true)\n",
            " |-- month: string (nullable = true)\n",
            " |-- year: integer (nullable = true)\n",
            " |-- duration: integer (nullable = true)\n",
            " |-- campaign: integer (nullable = true)\n",
            " |-- pdays: integer (nullable = true)\n",
            " |-- previous: integer (nullable = true)\n",
            " |-- poutcome: string (nullable = true)\n",
            " |-- y: string (nullable = true)\n",
            " |-- picked_up_call: integer (nullable = true)\n",
            " |-- extra_info: integer (nullable = true)\n",
            "\n"
          ],
          "name": "stdout"
        }
      ]
    },
    {
      "metadata": {
        "id": "1j0QE72so9bX",
        "colab_type": "code",
        "colab": {}
      },
      "cell_type": "code",
      "source": [
        "for col in bank_df.columns:\n",
        "    bank_df = bank_df.withColumnRenamed(col, col.replace('.','_').replace(' ','').lower())"
      ],
      "execution_count": 0,
      "outputs": []
    },
    {
      "metadata": {
        "id": "NRYu_HFmtF9K",
        "colab_type": "code",
        "outputId": "6ae34b1f-ddf1-4ba5-d397-f4ebf226f04e",
        "colab": {
          "base_uri": "https://localhost:8080/",
          "height": 386
        }
      },
      "cell_type": "code",
      "source": [
        "bank_df.printSchema()"
      ],
      "execution_count": 12,
      "outputs": [
        {
          "output_type": "stream",
          "text": [
            "root\n",
            " |-- age: integer (nullable = true)\n",
            " |-- job: string (nullable = true)\n",
            " |-- marital: string (nullable = true)\n",
            " |-- education: string (nullable = true)\n",
            " |-- default: string (nullable = true)\n",
            " |-- balance: integer (nullable = true)\n",
            " |-- housing: string (nullable = true)\n",
            " |-- loan: string (nullable = true)\n",
            " |-- contact: string (nullable = true)\n",
            " |-- day: integer (nullable = true)\n",
            " |-- month: string (nullable = true)\n",
            " |-- year: integer (nullable = true)\n",
            " |-- duration: integer (nullable = true)\n",
            " |-- campaign: integer (nullable = true)\n",
            " |-- pdays: integer (nullable = true)\n",
            " |-- previous: integer (nullable = true)\n",
            " |-- poutcome: string (nullable = true)\n",
            " |-- y: string (nullable = true)\n",
            " |-- picked_up_call: integer (nullable = true)\n",
            " |-- extra_info: integer (nullable = true)\n",
            "\n"
          ],
          "name": "stdout"
        }
      ]
    },
    {
      "metadata": {
        "id": "1j9b2vMGuoSC",
        "colab_type": "text"
      },
      "cell_type": "markdown",
      "source": [
        "Sacamos a una variable los tipos de las columnas"
      ]
    },
    {
      "metadata": {
        "id": "ob-QRbzStJ4Z",
        "colab_type": "code",
        "outputId": "0ee8c9d5-9e3d-4372-b07f-4d551f0af2ca",
        "colab": {
          "base_uri": "https://localhost:8080/",
          "height": 353
        }
      },
      "cell_type": "code",
      "source": [
        "bank_types = bank_df.dtypes\n",
        "bank_types"
      ],
      "execution_count": 13,
      "outputs": [
        {
          "output_type": "execute_result",
          "data": {
            "text/plain": [
              "[('age', 'int'),\n",
              " ('job', 'string'),\n",
              " ('marital', 'string'),\n",
              " ('education', 'string'),\n",
              " ('default', 'string'),\n",
              " ('balance', 'int'),\n",
              " ('housing', 'string'),\n",
              " ('loan', 'string'),\n",
              " ('contact', 'string'),\n",
              " ('day', 'int'),\n",
              " ('month', 'string'),\n",
              " ('year', 'int'),\n",
              " ('duration', 'int'),\n",
              " ('campaign', 'int'),\n",
              " ('pdays', 'int'),\n",
              " ('previous', 'int'),\n",
              " ('poutcome', 'string'),\n",
              " ('y', 'string'),\n",
              " ('picked_up_call', 'int'),\n",
              " ('extra_info', 'int')]"
            ]
          },
          "metadata": {
            "tags": []
          },
          "execution_count": 13
        }
      ]
    },
    {
      "metadata": {
        "id": "4glSQQPe1qct",
        "colab_type": "text"
      },
      "cell_type": "markdown",
      "source": [
        "Comprobamos si hay registros duplicados."
      ]
    },
    {
      "metadata": {
        "id": "g8sgAofbu0l3",
        "colab_type": "code",
        "colab": {}
      },
      "cell_type": "code",
      "source": [
        "bank_df = bank_df.dropDuplicates()"
      ],
      "execution_count": 0,
      "outputs": []
    },
    {
      "metadata": {
        "id": "SCogRjWN03KU",
        "colab_type": "code",
        "outputId": "400de516-5dd9-43ee-be39-830315cb4ace",
        "colab": {
          "base_uri": "https://localhost:8080/",
          "height": 34
        }
      },
      "cell_type": "code",
      "source": [
        "(bank_df.count(), len(bank_df.columns))"
      ],
      "execution_count": 15,
      "outputs": [
        {
          "output_type": "execute_result",
          "data": {
            "text/plain": [
              "(45211, 20)"
            ]
          },
          "metadata": {
            "tags": []
          },
          "execution_count": 15
        }
      ]
    },
    {
      "metadata": {
        "id": "l7tXZoWU1j8m",
        "colab_type": "text"
      },
      "cell_type": "markdown",
      "source": [
        "Vemos que no ha eliminado ningún registro por duplicidad. Pasamos a estudiar los nulos"
      ]
    },
    {
      "metadata": {
        "id": "sBciMOqg1iHS",
        "colab_type": "code",
        "colab": {}
      },
      "cell_type": "code",
      "source": [
        "nulls = [(x, bank_df.filter(F.col(x).isNull()).count()) for x in bank_df.columns]"
      ],
      "execution_count": 0,
      "outputs": []
    },
    {
      "metadata": {
        "id": "9BUn21kw3KHr",
        "colab_type": "code",
        "outputId": "0e15d8ea-17d1-4da8-aa9d-d28b179087d3",
        "colab": {
          "base_uri": "https://localhost:8080/",
          "height": 353
        }
      },
      "cell_type": "code",
      "source": [
        "nulls"
      ],
      "execution_count": 17,
      "outputs": [
        {
          "output_type": "execute_result",
          "data": {
            "text/plain": [
              "[('age', 0),\n",
              " ('job', 0),\n",
              " ('marital', 0),\n",
              " ('education', 0),\n",
              " ('default', 0),\n",
              " ('balance', 0),\n",
              " ('housing', 0),\n",
              " ('loan', 0),\n",
              " ('contact', 0),\n",
              " ('day', 0),\n",
              " ('month', 0),\n",
              " ('year', 0),\n",
              " ('duration', 0),\n",
              " ('campaign', 0),\n",
              " ('pdays', 0),\n",
              " ('previous', 0),\n",
              " ('poutcome', 0),\n",
              " ('y', 0),\n",
              " ('picked_up_call', 0),\n",
              " ('extra_info', 45133)]"
            ]
          },
          "metadata": {
            "tags": []
          },
          "execution_count": 17
        }
      ]
    },
    {
      "metadata": {
        "id": "Rs0aYk723-b9",
        "colab_type": "text"
      },
      "cell_type": "markdown",
      "source": [
        "Vemos que la columna extra_info tiene todos los valores nulos, por lo que no aporta al modelo. **La eliminamos**"
      ]
    },
    {
      "metadata": {
        "id": "RKINfCez3zSu",
        "colab_type": "code",
        "colab": {}
      },
      "cell_type": "code",
      "source": [
        "bank_df = bank_df.drop('extra_info')"
      ],
      "execution_count": 0,
      "outputs": []
    },
    {
      "metadata": {
        "id": "A2FDf3Lx4UsF",
        "colab_type": "code",
        "outputId": "dea90f40-4a59-4d86-92f3-50d07b3bca46",
        "colab": {
          "base_uri": "https://localhost:8080/",
          "height": 336
        }
      },
      "cell_type": "code",
      "source": [
        "bank_df.dtypes # Comprobamos que la ha eliminado"
      ],
      "execution_count": 19,
      "outputs": [
        {
          "output_type": "execute_result",
          "data": {
            "text/plain": [
              "[('age', 'int'),\n",
              " ('job', 'string'),\n",
              " ('marital', 'string'),\n",
              " ('education', 'string'),\n",
              " ('default', 'string'),\n",
              " ('balance', 'int'),\n",
              " ('housing', 'string'),\n",
              " ('loan', 'string'),\n",
              " ('contact', 'string'),\n",
              " ('day', 'int'),\n",
              " ('month', 'string'),\n",
              " ('year', 'int'),\n",
              " ('duration', 'int'),\n",
              " ('campaign', 'int'),\n",
              " ('pdays', 'int'),\n",
              " ('previous', 'int'),\n",
              " ('poutcome', 'string'),\n",
              " ('y', 'string'),\n",
              " ('picked_up_call', 'int')]"
            ]
          },
          "metadata": {
            "tags": []
          },
          "execution_count": 19
        }
      ]
    },
    {
      "metadata": {
        "id": "6ghi9UDu4urz",
        "colab_type": "text"
      },
      "cell_type": "markdown",
      "source": [
        "Revisamos las variables que puedan tener más de un 90% de valores repetidos"
      ]
    },
    {
      "metadata": {
        "id": "Yq3uHnEu4XEP",
        "colab_type": "code",
        "colab": {}
      },
      "cell_type": "code",
      "source": [
        "rep_count = []\n",
        "for col in bank_df.columns:\n",
        "  value = bank_df.groupBy(col).agg(F.count(col).alias('counting')).orderBy(F.col('counting').desc()).first()\n",
        "  num_labels = bank_df.groupBy(col).agg(F.count(col).alias('counting')).orderBy(F.col('counting').desc()).count()\n",
        "  most_rep = value[0]\n",
        "  count_most_rep = round((100*value[1]/dim_bankdf[0]),2)\n",
        "  rep_count.append((col, num_labels, most_rep, count_most_rep))\n",
        "  "
      ],
      "execution_count": 0,
      "outputs": []
    },
    {
      "metadata": {
        "id": "F4DFLkdD4eec",
        "colab_type": "code",
        "outputId": "08c57a78-6924-4c04-baa9-e9b90c6246a3",
        "colab": {
          "base_uri": "https://localhost:8080/",
          "height": 336
        }
      },
      "cell_type": "code",
      "source": [
        "rep_count"
      ],
      "execution_count": 21,
      "outputs": [
        {
          "output_type": "execute_result",
          "data": {
            "text/plain": [
              "[('age', 77, 32, 4.61),\n",
              " ('job', 12, 'blue-collar', 21.53),\n",
              " ('marital', 3, 'married', 60.19),\n",
              " ('education', 4, 'secondary', 51.32),\n",
              " ('default', 2, 'no', 98.2),\n",
              " ('balance', 7168, 0, 7.77),\n",
              " ('housing', 2, 'yes', 55.58),\n",
              " ('loan', 2, 'no', 83.98),\n",
              " ('contact', 3, 'cellular', 64.77),\n",
              " ('day', 31, 20, 6.09),\n",
              " ('month', 12, 'may', 30.45),\n",
              " ('year', 3, 2008, 61.33),\n",
              " ('duration', 1573, 124, 0.42),\n",
              " ('campaign', 48, 1, 38.8),\n",
              " ('pdays', 559, -1, 81.74),\n",
              " ('previous', 41, 0, 81.74),\n",
              " ('poutcome', 4, 'unknown', 81.75),\n",
              " ('y', 2, 'no', 88.3),\n",
              " ('picked_up_call', 2, 1, 99.99)]"
            ]
          },
          "metadata": {
            "tags": []
          },
          "execution_count": 21
        }
      ]
    },
    {
      "metadata": {
        "id": "QjdOEGHgH60p",
        "colab_type": "text"
      },
      "cell_type": "markdown",
      "source": [
        "Aunque la variable y tenga una concentración de respuestas de 88% en el mismo sentido, la conservamos al reflejar la tasa de éxito.\n",
        "\n",
        "---\n",
        "\n"
      ]
    },
    {
      "metadata": {
        "id": "JgqruhbNKCyJ",
        "colab_type": "text"
      },
      "cell_type": "markdown",
      "source": [
        " Obtenemos las columnas en las que el porcentaje de repetidos es superior al 90%  (ya sabemos que y está excluída)"
      ]
    },
    {
      "metadata": {
        "id": "yWT_pn6hIuKU",
        "colab_type": "code",
        "outputId": "1a85084c-0fd3-4a9d-eb61-d7848c1a2e5d",
        "colab": {
          "base_uri": "https://localhost:8080/",
          "height": 34
        }
      },
      "cell_type": "code",
      "source": [
        "drop_repeated = [x[0] for x in rep_count if x[-1] >= 90.0]\n",
        "drop_repeated"
      ],
      "execution_count": 22,
      "outputs": [
        {
          "output_type": "execute_result",
          "data": {
            "text/plain": [
              "['default', 'picked_up_call']"
            ]
          },
          "metadata": {
            "tags": []
          },
          "execution_count": 22
        }
      ]
    },
    {
      "metadata": {
        "id": "5XxHlStXKAzg",
        "colab_type": "text"
      },
      "cell_type": "markdown",
      "source": [
        "Una vez obtenida la lista, la pasamos para eliminar cada una de las columnas de la lista"
      ]
    },
    {
      "metadata": {
        "id": "cdVwqsrsJHxa",
        "colab_type": "code",
        "outputId": "bd0c6dd0-0d58-4837-cae5-92729cab5077",
        "colab": {
          "base_uri": "https://localhost:8080/",
          "height": 302
        }
      },
      "cell_type": "code",
      "source": [
        "for cols in drop_repeated:\n",
        "  bank_df = bank_df.drop(cols)\n",
        "bank_df.columns\n",
        "# Comprobamos"
      ],
      "execution_count": 23,
      "outputs": [
        {
          "output_type": "execute_result",
          "data": {
            "text/plain": [
              "['age',\n",
              " 'job',\n",
              " 'marital',\n",
              " 'education',\n",
              " 'balance',\n",
              " 'housing',\n",
              " 'loan',\n",
              " 'contact',\n",
              " 'day',\n",
              " 'month',\n",
              " 'year',\n",
              " 'duration',\n",
              " 'campaign',\n",
              " 'pdays',\n",
              " 'previous',\n",
              " 'poutcome',\n",
              " 'y']"
            ]
          },
          "metadata": {
            "tags": []
          },
          "execution_count": 23
        }
      ]
    },
    {
      "metadata": {
        "id": "Ji6b6oi7JVYa",
        "colab_type": "code",
        "outputId": "b3b4414c-7e0b-417e-942a-23122b15a4b5",
        "colab": {
          "base_uri": "https://localhost:8080/",
          "height": 34
        }
      },
      "cell_type": "code",
      "source": [
        "len(bank_df.columns)"
      ],
      "execution_count": 24,
      "outputs": [
        {
          "output_type": "execute_result",
          "data": {
            "text/plain": [
              "17"
            ]
          },
          "metadata": {
            "tags": []
          },
          "execution_count": 24
        }
      ]
    },
    {
      "metadata": {
        "id": "UhXIjH2-_9Jz",
        "colab_type": "code",
        "outputId": "c232748e-80ed-4a4a-97c6-e532e2a4f275",
        "colab": {
          "base_uri": "https://localhost:8080/",
          "height": 185
        }
      },
      "cell_type": "code",
      "source": [
        "# Obtenemos lista de variables categóricas\n",
        "categorical = [col for col,type in bank_types if type == 'string']\n",
        "categorical"
      ],
      "execution_count": 25,
      "outputs": [
        {
          "output_type": "execute_result",
          "data": {
            "text/plain": [
              "['job',\n",
              " 'marital',\n",
              " 'education',\n",
              " 'default',\n",
              " 'housing',\n",
              " 'loan',\n",
              " 'contact',\n",
              " 'month',\n",
              " 'poutcome',\n",
              " 'y']"
            ]
          },
          "metadata": {
            "tags": []
          },
          "execution_count": 25
        }
      ]
    },
    {
      "metadata": {
        "id": "fNCRvUDCLb2R",
        "colab_type": "code",
        "outputId": "f8759315-85b8-4d7c-86b1-743d81b8d387",
        "colab": {
          "base_uri": "https://localhost:8080/",
          "height": 185
        }
      },
      "cell_type": "code",
      "source": [
        "# Obtenemos lista de variables numéricas\n",
        "numerical = [col for col, type in bank_types if type != 'string']\n",
        "numerical"
      ],
      "execution_count": 26,
      "outputs": [
        {
          "output_type": "execute_result",
          "data": {
            "text/plain": [
              "['age',\n",
              " 'balance',\n",
              " 'day',\n",
              " 'year',\n",
              " 'duration',\n",
              " 'campaign',\n",
              " 'pdays',\n",
              " 'previous',\n",
              " 'picked_up_call',\n",
              " 'extra_info']"
            ]
          },
          "metadata": {
            "tags": []
          },
          "execution_count": 26
        }
      ]
    },
    {
      "metadata": {
        "id": "aRCoiLdXN3iy",
        "colab_type": "text"
      },
      "cell_type": "markdown",
      "source": [
        "Una vez identificadas las variables categóricas y las numéricas por separado, pasamos a revisar la adecuación del tipo de dato. \n",
        "Aquí observamos que por la gran diversidad de valores en algunas variables, consideramos aconsejable tramear los valores de, por ejemplo, la variable age."
      ]
    },
    {
      "metadata": {
        "id": "mQ82qwhrNjaT",
        "colab_type": "code",
        "colab": {}
      },
      "cell_type": "code",
      "source": [
        "bank_df = bank_df.withColumn('age_range', \n",
        "                              F.when(F.col('age') <= 20, ' < 20')\\\n",
        "                               .when((F.col('age') > 20) & (F.col('age') <= 30), '21-30')\\\n",
        "                               .when((F.col('age') > 30) & (F.col('age') <= 40), '31-40')\\\n",
        "                               .when((F.col('age') > 40) & (F.col('age') <= 50), '41-50')\\\n",
        "                               .when((F.col('age') > 50) & (F.col('age') <= 60), '51-60')\\\n",
        "                               .otherwise('>60'))\n",
        "# Se tramean por periodos de 10 años y se reflejan los valores destino en una nueva variable denominada 'age_range'"
      ],
      "execution_count": 0,
      "outputs": []
    },
    {
      "metadata": {
        "id": "FSNessPukrYY",
        "colab_type": "code",
        "outputId": "d2323b20-8578-472e-c72f-d7ea9e801f9f",
        "colab": {
          "base_uri": "https://localhost:8080/",
          "height": 168
        }
      },
      "cell_type": "code",
      "source": [
        "bank_df.show(3) # Mostramos la salida para comprobar"
      ],
      "execution_count": 28,
      "outputs": [
        {
          "output_type": "stream",
          "text": [
            "+---+----------+-------+---------+-------+-------+----+-------+---+-----+----+--------+--------+-----+--------+--------+---+---------+\n",
            "|age|       job|marital|education|balance|housing|loan|contact|day|month|year|duration|campaign|pdays|previous|poutcome|  y|age_range|\n",
            "+---+----------+-------+---------+-------+-------+----+-------+---+-----+----+--------+--------+-----+--------+--------+---+---------+\n",
            "| 47|technician|married|  unknown|   2106|    yes|  no|unknown|  6|  may|2008|     168|       1|   -1|       0| unknown| no|    41-50|\n",
            "| 30|technician| single|  unknown|    -48|    yes|  no|unknown|  6|  may|2008|     152|       2|   -1|       0| unknown| no|    21-30|\n",
            "| 34|management| single| tertiary|    872|    yes|  no|unknown|  7|  may|2008|     105|       2|   -1|       0| unknown| no|    31-40|\n",
            "+---+----------+-------+---------+-------+-------+----+-------+---+-----+----+--------+--------+-----+--------+--------+---+---------+\n",
            "only showing top 3 rows\n",
            "\n"
          ],
          "name": "stdout"
        }
      ]
    },
    {
      "metadata": {
        "id": "oPEFO6OCrZ_I",
        "colab_type": "code",
        "colab": {}
      },
      "cell_type": "code",
      "source": [
        "# Actualizamos las variables con nombres de columnas para excluir las que se han eliminado\n",
        "bank_types = bank_df.dtypes\n",
        "categorical = [col for col,type in bank_types if type == 'string']\n",
        "numerical = [col for col, type in bank_types if type != 'string']"
      ],
      "execution_count": 0,
      "outputs": []
    },
    {
      "metadata": {
        "id": "L6BzV7llyPIT",
        "colab_type": "text"
      },
      "cell_type": "markdown",
      "source": [
        "# ***Pasamos a analizar outliers en las variables numéricas***"
      ]
    },
    {
      "metadata": {
        "id": "0lWVCIKe13cu",
        "colab_type": "code",
        "colab": {}
      },
      "cell_type": "code",
      "source": [
        "# Obtenemos las operaciones a aplicar\n",
        "avgs = [F.avg(col).alias('avg_' + col) for col in numerical]\n",
        "maxs = [F.max(col).alias('max_' + col) for col in numerical]\n",
        "mins = [F.min(col).alias('min_' + col) for col in numerical]\n",
        "stds = [F.stddev(col).alias('std_' + col) for col in numerical]\n",
        "operations = avgs + stds + maxs + mins \n",
        "operations\n",
        "results = bank_df.select(operations).first()\n"
      ],
      "execution_count": 0,
      "outputs": []
    },
    {
      "metadata": {
        "id": "mjSKq57O3oLG",
        "colab_type": "code",
        "outputId": "6581f56c-7dcc-4226-ae8d-56ee63c9c772",
        "colab": {
          "base_uri": "https://localhost:8080/",
          "height": 151
        }
      },
      "cell_type": "code",
      "source": [
        "# Aplicamos las operaciones anteriormente definidas para obtener los resultados\n",
        "for col in numerical:\n",
        "   \n",
        "   avg = results['avg_' + col]\n",
        "   std = results['std_' + col]\n",
        "   maxi = results['max_' + col]\n",
        "   mini = results['min_' + col]\n",
        "   print('{}: avg={}, std={}, min={}, max={}'.format(col, round(avg, 2), round(std, 2), mini, maxi))"
      ],
      "execution_count": 31,
      "outputs": [
        {
          "output_type": "stream",
          "text": [
            "age: avg=40.94, std=10.62, min=18, max=95\n",
            "balance: avg=1362.27, std=3044.77, min=-8019, max=102127\n",
            "day: avg=15.81, std=8.32, min=1, max=31\n",
            "year: avg=2008.44, std=0.6, min=2008, max=2010\n",
            "duration: avg=258.16, std=257.53, min=0, max=4918\n",
            "campaign: avg=2.76, std=3.1, min=1, max=63\n",
            "pdays: avg=40.2, std=100.13, min=-1, max=871\n",
            "previous: avg=0.58, std=2.3, min=0, max=275\n"
          ],
          "name": "stdout"
        }
      ]
    },
    {
      "metadata": {
        "id": "dfxtSIz73sN4",
        "colab_type": "code",
        "outputId": "aaa9e803-72e3-474f-b008-0895534c2e5e",
        "colab": {
          "base_uri": "https://localhost:8080/",
          "height": 151
        }
      },
      "cell_type": "code",
      "source": [
        "# Calculamos los cuantiles y mediana\n",
        "medians = {}\n",
        "for x in numerical:\n",
        "   medians[x] = bank_df.approxQuantile(x, [0.25, 0.5, 0.75, 0.90, 0.98], relativeError=0.01)\n",
        "medians\n"
      ],
      "execution_count": 32,
      "outputs": [
        {
          "output_type": "execute_result",
          "data": {
            "text/plain": [
              "{'age': [33.0, 39.0, 49.0, 56.0, 62.0],\n",
              " 'balance': [71.0, 500.0, 1610.0, 3468.0, 8266.0],\n",
              " 'campaign': [1.0, 2.0, 3.0, 6.0, 14.0],\n",
              " 'day': [9.0, 16.0, 22.0, 28.0, 31.0],\n",
              " 'duration': [103.0, 184.0, 336.0, 564.0, 930.0],\n",
              " 'pdays': [-1.0, -1.0, -1.0, 183.0, 355.0],\n",
              " 'previous': [0.0, 0.0, 0.0, 2.0, 6.0],\n",
              " 'year': [2008.0, 2008.0, 2009.0, 2009.0, 2010.0]}"
            ]
          },
          "metadata": {
            "tags": []
          },
          "execution_count": 32
        }
      ]
    },
    {
      "metadata": {
        "id": "5KTTAN6cyOnx",
        "colab_type": "code",
        "colab": {}
      },
      "cell_type": "code",
      "source": [
        "# Definimos función para evaluar con test de Tukey, generando una variable derivada con prefijo Outlier_ para cada numérica\n",
        "def tukey_outliers(df, col):\n",
        "    \"\"\"\n",
        "    Returns a new dataframe with outliers removed on column 'col' usting Tukey test\n",
        "    \"\"\"\n",
        "    \n",
        "    q1, q3 = df.approxQuantile(col, [0.25, 0.75], 0.01)\n",
        "    IQR = q3 - q1\n",
        "    \n",
        "    min_thresh = q1 - 3 * IQR\n",
        "    max_thresh = q3 + 3 * IQR\n",
        "    \n",
        "    df_no_outliers = df.withColumn('Outlier_'+ col, F.when(F.col(col).between(min_thresh, max_thresh), 'no').otherwise('yes'))\n",
        "    \n",
        "    return df_no_outliers"
      ],
      "execution_count": 0,
      "outputs": []
    },
    {
      "metadata": {
        "id": "FFaEyp04yyHq",
        "colab_type": "code",
        "colab": {}
      },
      "cell_type": "code",
      "source": [
        "# Aplicamos la función anterior para marcar del DataFrame los outliers\n",
        " for cols in numerical:\n",
        "  bank_df = tukey_outliers(bank_df, cols)"
      ],
      "execution_count": 0,
      "outputs": []
    },
    {
      "metadata": {
        "id": "kVu11VLMCrLU",
        "colab_type": "code",
        "outputId": "faf7d2ea-a817-4a56-8da5-ff7c0d33c500",
        "colab": {
          "base_uri": "https://localhost:8080/",
          "height": 188
        }
      },
      "cell_type": "code",
      "source": [
        "bank_df.show(3)"
      ],
      "execution_count": 35,
      "outputs": [
        {
          "output_type": "stream",
          "text": [
            "+---+----------+-------+---------+-------+-------+----+-------+---+-----+----+--------+--------+-----+--------+--------+---+---------+-----------+---------------+-----------+------------+----------------+----------------+-------------+----------------+\n",
            "|age|       job|marital|education|balance|housing|loan|contact|day|month|year|duration|campaign|pdays|previous|poutcome|  y|age_range|Outlier_age|Outlier_balance|Outlier_day|Outlier_year|Outlier_duration|Outlier_campaign|Outlier_pdays|Outlier_previous|\n",
            "+---+----------+-------+---------+-------+-------+----+-------+---+-----+----+--------+--------+-----+--------+--------+---+---------+-----------+---------------+-----------+------------+----------------+----------------+-------------+----------------+\n",
            "| 47|technician|married|  unknown|   2106|    yes|  no|unknown|  6|  may|2008|     168|       1|   -1|       0| unknown| no|    41-50|         no|             no|         no|          no|              no|              no|           no|              no|\n",
            "| 30|technician| single|  unknown|    -48|    yes|  no|unknown|  6|  may|2008|     152|       2|   -1|       0| unknown| no|    21-30|         no|             no|         no|          no|              no|              no|           no|              no|\n",
            "| 34|management| single| tertiary|    872|    yes|  no|unknown|  7|  may|2008|     105|       2|   -1|       0| unknown| no|    31-40|         no|             no|         no|          no|              no|              no|           no|              no|\n",
            "+---+----------+-------+---------+-------+-------+----+-------+---+-----+----+--------+--------+-----+--------+--------+---+---------+-----------+---------------+-----------+------------+----------------+----------------+-------------+----------------+\n",
            "only showing top 3 rows\n",
            "\n"
          ],
          "name": "stdout"
        }
      ]
    },
    {
      "metadata": {
        "id": "etg5ByFKWC1W",
        "colab_type": "code",
        "colab": {
          "base_uri": "https://localhost:8080/",
          "height": 168
        },
        "outputId": "8992d197-dcdc-4f6a-bce5-fef6e41e1342"
      },
      "cell_type": "code",
      "source": [
        "# Sacamos a una lista (para poder filtrar posteriormente) tanto las nuevas variables Outlier_ como la dependiente y\n",
        "vbles_outlier = [cols for cols in bank_df.columns if 'Outlier_' in cols or cols == 'y']\n",
        "vbles_outlier"
      ],
      "execution_count": 36,
      "outputs": [
        {
          "output_type": "execute_result",
          "data": {
            "text/plain": [
              "['y',\n",
              " 'Outlier_age',\n",
              " 'Outlier_balance',\n",
              " 'Outlier_day',\n",
              " 'Outlier_year',\n",
              " 'Outlier_duration',\n",
              " 'Outlier_campaign',\n",
              " 'Outlier_pdays',\n",
              " 'Outlier_previous']"
            ]
          },
          "metadata": {
            "tags": []
          },
          "execution_count": 36
        }
      ]
    },
    {
      "metadata": {
        "id": "UAwu6PP3c3AD",
        "colab_type": "code",
        "colab": {
          "base_uri": "https://localhost:8080/",
          "height": 1243
        },
        "outputId": "9eaae378-0aac-461a-8ae8-e74a22bef40f"
      },
      "cell_type": "code",
      "source": [
        "# Sacamos la relación entre variable de respuesta y la dependiente\n",
        "for col in bank_df[vbles_outlier]:\n",
        "  bank_df[vbles_outlier].groupBy('y', col).count().show()\n"
      ],
      "execution_count": 37,
      "outputs": [
        {
          "output_type": "stream",
          "text": [
            "+---+---+-----+\n",
            "|  y|  y|count|\n",
            "+---+---+-----+\n",
            "| no| no|39922|\n",
            "|yes|yes| 5289|\n",
            "+---+---+-----+\n",
            "\n",
            "+---+-----------+-----+\n",
            "|  y|Outlier_age|count|\n",
            "+---+-----------+-----+\n",
            "| no|         no|39922|\n",
            "|yes|         no| 5289|\n",
            "+---+-----------+-----+\n",
            "\n",
            "+---+---------------+-----+\n",
            "|  y|Outlier_balance|count|\n",
            "+---+---------------+-----+\n",
            "| no|             no|37836|\n",
            "| no|            yes| 2086|\n",
            "|yes|            yes|  371|\n",
            "|yes|             no| 4918|\n",
            "+---+---------------+-----+\n",
            "\n",
            "+---+-----------+-----+\n",
            "|  y|Outlier_day|count|\n",
            "+---+-----------+-----+\n",
            "| no|         no|39922|\n",
            "|yes|         no| 5289|\n",
            "+---+-----------+-----+\n",
            "\n",
            "+---+------------+-----+\n",
            "|  y|Outlier_year|count|\n",
            "+---+------------+-----+\n",
            "| no|          no|39922|\n",
            "|yes|          no| 5289|\n",
            "+---+------------+-----+\n",
            "\n",
            "+---+----------------+-----+\n",
            "|  y|Outlier_duration|count|\n",
            "+---+----------------+-----+\n",
            "| no|              no|39543|\n",
            "| no|             yes|  379|\n",
            "|yes|             yes|  568|\n",
            "|yes|              no| 4721|\n",
            "+---+----------------+-----+\n",
            "\n",
            "+---+----------------+-----+\n",
            "|  y|Outlier_campaign|count|\n",
            "+---+----------------+-----+\n",
            "| no|              no|38521|\n",
            "| no|             yes| 1401|\n",
            "|yes|             yes|   61|\n",
            "|yes|              no| 5228|\n",
            "+---+----------------+-----+\n",
            "\n",
            "+---+-------------+-----+\n",
            "|  y|Outlier_pdays|count|\n",
            "+---+-------------+-----+\n",
            "| no|           no|33570|\n",
            "| no|          yes| 6352|\n",
            "|yes|          yes| 1905|\n",
            "|yes|           no| 3384|\n",
            "+---+-------------+-----+\n",
            "\n",
            "+---+----------------+-----+\n",
            "|  y|Outlier_previous|count|\n",
            "+---+----------------+-----+\n",
            "| no|              no|33570|\n",
            "| no|             yes| 6352|\n",
            "|yes|             yes| 1905|\n",
            "|yes|              no| 3384|\n",
            "+---+----------------+-----+\n",
            "\n"
          ],
          "name": "stdout"
        }
      ]
    },
    {
      "metadata": {
        "id": "01DeM7KDdD2T",
        "colab_type": "text"
      },
      "cell_type": "markdown",
      "source": [
        "Con estos datos podemos ver que los valores que el test de tuckey marca como posibles outlier, no se comportan siguiendo una distribución normal pero no podemos decir que sean outlier, sino valores que tienen otro comportamiento. Por tanto, no eliminamos ningún valor."
      ]
    },
    {
      "metadata": {
        "id": "S5ZFKuuV-M2A",
        "colab_type": "text"
      },
      "cell_type": "markdown",
      "source": [
        "## **Analizamos los valores de las variables categóricas**"
      ]
    },
    {
      "metadata": {
        "id": "KNisvZ1kktgW",
        "colab_type": "code",
        "outputId": "c22ec863-fab0-4ee3-be69-a0a8f2c8e312",
        "colab": {
          "base_uri": "https://localhost:8080/",
          "height": 1378
        }
      },
      "cell_type": "code",
      "source": [
        "# Evaluamos para cada variable categórica qué valores tienen mayor porcentaje de éxito\n",
        "for cols in categorical:\n",
        " df1 = bank_df.filter(F.col('duration') != 0).groupBy(cols).count().withColumnRenamed('count','total')\n",
        " bank_job_y_df = bank_df.filter(F.col('duration') != 0).groupBy(cols,'y').count().sort(F.col(cols).desc())\n",
        " df2=bank_job_y_df.join(df1, on=cols, how='inner').withColumn('porcentaje', F.round(F.col('count') / F.col('total') * 100,2)).sort(F.col('porcentaje').desc()).filter(F.col('y') == 'yes')\n",
        " df2.show(3)"
      ],
      "execution_count": 38,
      "outputs": [
        {
          "output_type": "stream",
          "text": [
            "+----------+---+-----+-----+----------+\n",
            "|       job|  y|count|total|porcentaje|\n",
            "+----------+---+-----+-----+----------+\n",
            "|   student|yes|  269|  938|     28.68|\n",
            "|   retired|yes|  516| 2264|     22.79|\n",
            "|unemployed|yes|  202| 1303|      15.5|\n",
            "+----------+---+-----+-----+----------+\n",
            "only showing top 3 rows\n",
            "\n",
            "+--------+---+-----+-----+----------+\n",
            "| marital|  y|count|total|porcentaje|\n",
            "+--------+---+-----+-----+----------+\n",
            "|  single|yes| 1912|12790|     14.95|\n",
            "|divorced|yes|  622| 5207|     11.95|\n",
            "| married|yes| 2755|27211|     10.12|\n",
            "+--------+---+-----+-----+----------+\n",
            "\n",
            "+---------+---+-----+-----+----------+\n",
            "|education|  y|count|total|porcentaje|\n",
            "+---------+---+-----+-----+----------+\n",
            "| tertiary|yes| 1996|13301|     15.01|\n",
            "|  unknown|yes|  252| 1857|     13.57|\n",
            "|secondary|yes| 2450|23200|     10.56|\n",
            "+---------+---+-----+-----+----------+\n",
            "only showing top 3 rows\n",
            "\n",
            "+-------+---+-----+-----+----------+\n",
            "|housing|  y|count|total|porcentaje|\n",
            "+-------+---+-----+-----+----------+\n",
            "|     no|yes| 3354|20080|      16.7|\n",
            "|    yes|yes| 1935|25128|       7.7|\n",
            "+-------+---+-----+-----+----------+\n",
            "\n",
            "+----+---+-----+-----+----------+\n",
            "|loan|  y|count|total|porcentaje|\n",
            "+----+---+-----+-----+----------+\n",
            "|  no|yes| 4805|37965|     12.66|\n",
            "| yes|yes|  484| 7243|      6.68|\n",
            "+----+---+-----+-----+----------+\n",
            "\n",
            "+---------+---+-----+-----+----------+\n",
            "|  contact|  y|count|total|porcentaje|\n",
            "+---------+---+-----+-----+----------+\n",
            "| cellular|yes| 4369|29283|     14.92|\n",
            "|telephone|yes|  390| 2906|     13.42|\n",
            "|  unknown|yes|  530|13019|      4.07|\n",
            "+---------+---+-----+-----+----------+\n",
            "\n",
            "+-----+---+-----+-----+----------+\n",
            "|month|  y|count|total|porcentaje|\n",
            "+-----+---+-----+-----+----------+\n",
            "|  mar|yes|  248|  477|     51.99|\n",
            "|  dec|yes|  100|  214|     46.73|\n",
            "|  sep|yes|  269|  579|     46.46|\n",
            "+-----+---+-----+-----+----------+\n",
            "only showing top 3 rows\n",
            "\n",
            "+--------+---+-----+-----+----------+\n",
            "|poutcome|  y|count|total|porcentaje|\n",
            "+--------+---+-----+-----+----------+\n",
            "| success|yes|  978| 1511|     64.73|\n",
            "|   other|yes|  307| 1840|     16.68|\n",
            "| failure|yes|  618| 4901|     12.61|\n",
            "+--------+---+-----+-----+----------+\n",
            "only showing top 3 rows\n",
            "\n",
            "+---+-----+-----+----------+\n",
            "|  y|count|total|porcentaje|\n",
            "+---+-----+-----+----------+\n",
            "|yes| 5289| 5289|     100.0|\n",
            "+---+-----+-----+----------+\n",
            "\n",
            "+---------+---+-----+-----+----------+\n",
            "|age_range|  y|count|total|porcentaje|\n",
            "+---------+---+-----+-----+----------+\n",
            "|      >60|yes|  502| 1188|     42.26|\n",
            "|     < 20|yes|   33|   97|     34.02|\n",
            "|    21-30|yes| 1112| 6933|     16.04|\n",
            "+---------+---+-----+-----+----------+\n",
            "only showing top 3 rows\n",
            "\n"
          ],
          "name": "stdout"
        }
      ]
    },
    {
      "metadata": {
        "id": "7QU5XuAvFiXh",
        "colab_type": "code",
        "outputId": "53564952-d6c6-4529-eab6-6549855b8157",
        "colab": {
          "base_uri": "https://localhost:8080/",
          "height": 4606
        }
      },
      "cell_type": "code",
      "source": [
        "for cols in categorical:\n",
        " df1 = bank_df.filter(F.col('duration') != 0).groupBy(cols).count().withColumnRenamed('count','total')\n",
        " bank_job_y_df = bank_df.filter(F.col('duration') != 0).groupBy(cols,'y').count().sort(F.col(cols).desc())\n",
        " df2=bank_job_y_df.join(df1, on=cols, how='inner').withColumn('porcentaje', F.round(F.col('count') / F.col('total') * 100,2)).sort(F.col('porcentaje').desc()).filter(F.col('y') == 'yes')\n",
        " df_ = df2.toPandas()\n",
        " sns.barplot(x=cols, y='porcentaje', data=df_, palette=\"Blues_d\")\n",
        " df2.show()\n",
        " plt.xticks(rotation=60)\n",
        " plt.show()"
      ],
      "execution_count": 39,
      "outputs": [
        {
          "output_type": "stream",
          "text": [
            "+-------------+---+-----+-----+----------+\n",
            "|          job|  y|count|total|porcentaje|\n",
            "+-------------+---+-----+-----+----------+\n",
            "|      student|yes|  269|  938|     28.68|\n",
            "|      retired|yes|  516| 2264|     22.79|\n",
            "|   unemployed|yes|  202| 1303|      15.5|\n",
            "|   management|yes| 1301| 9457|     13.76|\n",
            "|       admin.|yes|  631| 5171|      12.2|\n",
            "|self-employed|yes|  187| 1579|     11.84|\n",
            "|      unknown|yes|   34|  288|     11.81|\n",
            "|   technician|yes|  840| 7596|     11.06|\n",
            "|     services|yes|  369| 4154|      8.88|\n",
            "|    housemaid|yes|  109| 1240|      8.79|\n",
            "| entrepreneur|yes|  123| 1486|      8.28|\n",
            "|  blue-collar|yes|  708| 9732|      7.27|\n",
            "+-------------+---+-----+-----+----------+\n",
            "\n"
          ],
          "name": "stdout"
        },
        {
          "output_type": "display_data",
          "data": {
            "image/png": "[encoded data removed]",
            "text/plain": [
              "<Figure size 432x288 with 1 Axes>"
            ]
          },
          "metadata": {
            "tags": []
          }
        },
        {
          "output_type": "stream",
          "text": [
            "+--------+---+-----+-----+----------+\n",
            "| marital|  y|count|total|porcentaje|\n",
            "+--------+---+-----+-----+----------+\n",
            "|  single|yes| 1912|12790|     14.95|\n",
            "|divorced|yes|  622| 5207|     11.95|\n",
            "| married|yes| 2755|27211|     10.12|\n",
            "+--------+---+-----+-----+----------+\n",
            "\n"
          ],
          "name": "stdout"
        },
        {
          "output_type": "display_data",
          "data": {
            "image/png": "[encoded data removed]",
            "text/plain": [
              "<Figure size 432x288 with 1 Axes>"
            ]
          },
          "metadata": {
            "tags": []
          }
        },
        {
          "output_type": "stream",
          "text": [
            "+---------+---+-----+-----+----------+\n",
            "|education|  y|count|total|porcentaje|\n",
            "+---------+---+-----+-----+----------+\n",
            "| tertiary|yes| 1996|13301|     15.01|\n",
            "|  unknown|yes|  252| 1857|     13.57|\n",
            "|secondary|yes| 2450|23200|     10.56|\n",
            "|  primary|yes|  591| 6850|      8.63|\n",
            "+---------+---+-----+-----+----------+\n",
            "\n"
          ],
          "name": "stdout"
        },
        {
          "output_type": "display_data",
          "data": {
            "image/png": "[encoded data removed]",
            "text/plain": [
              "<Figure size 432x288 with 1 Axes>"
            ]
          },
          "metadata": {
            "tags": []
          }
        },
        {
          "output_type": "stream",
          "text": [
            "+-------+---+-----+-----+----------+\n",
            "|housing|  y|count|total|porcentaje|\n",
            "+-------+---+-----+-----+----------+\n",
            "|     no|yes| 3354|20080|      16.7|\n",
            "|    yes|yes| 1935|25128|       7.7|\n",
            "+-------+---+-----+-----+----------+\n",
            "\n"
          ],
          "name": "stdout"
        },
        {
          "output_type": "display_data",
          "data": {
            "image/png": "[encoded data removed]",
            "text/plain": [
              "<Figure size 432x288 with 1 Axes>"
            ]
          },
          "metadata": {
            "tags": []
          }
        },
        {
          "output_type": "stream",
          "text": [
            "+----+---+-----+-----+----------+\n",
            "|loan|  y|count|total|porcentaje|\n",
            "+----+---+-----+-----+----------+\n",
            "|  no|yes| 4805|37965|     12.66|\n",
            "| yes|yes|  484| 7243|      6.68|\n",
            "+----+---+-----+-----+----------+\n",
            "\n"
          ],
          "name": "stdout"
        },
        {
          "output_type": "display_data",
          "data": {
            "image/png": "[encoded data removed]",
            "text/plain": [
              "<Figure size 432x288 with 1 Axes>"
            ]
          },
          "metadata": {
            "tags": []
          }
        },
        {
          "output_type": "stream",
          "text": [
            "+---------+---+-----+-----+----------+\n",
            "|  contact|  y|count|total|porcentaje|\n",
            "+---------+---+-----+-----+----------+\n",
            "| cellular|yes| 4369|29283|     14.92|\n",
            "|telephone|yes|  390| 2906|     13.42|\n",
            "|  unknown|yes|  530|13019|      4.07|\n",
            "+---------+---+-----+-----+----------+\n",
            "\n"
          ],
          "name": "stdout"
        },
        {
          "output_type": "display_data",
          "data": {
            "image/png": "[encoded data removed]",
            "text/plain": [
              "<Figure size 432x288 with 1 Axes>"
            ]
          },
          "metadata": {
            "tags": []
          }
        },
        {
          "output_type": "stream",
          "text": [
            "+-----+---+-----+-----+----------+\n",
            "|month|  y|count|total|porcentaje|\n",
            "+-----+---+-----+-----+----------+\n",
            "|  mar|yes|  248|  477|     51.99|\n",
            "|  dec|yes|  100|  214|     46.73|\n",
            "|  sep|yes|  269|  579|     46.46|\n",
            "|  oct|yes|  323|  738|     43.77|\n",
            "|  apr|yes|  577| 2932|     19.68|\n",
            "|  feb|yes|  441| 2649|     16.65|\n",
            "|  aug|yes|  688| 6246|     11.02|\n",
            "|  jun|yes|  546| 5341|     10.22|\n",
            "|  nov|yes|  403| 3970|     10.15|\n",
            "|  jan|yes|  142| 1403|     10.12|\n",
            "|  jul|yes|  627| 6895|      9.09|\n",
            "|  may|yes|  925|13764|      6.72|\n",
            "+-----+---+-----+-----+----------+\n",
            "\n"
          ],
          "name": "stdout"
        },
        {
          "output_type": "display_data",
          "data": {
            "image/png": "[encoded data removed]",
            "text/plain": [
              "<Figure size 432x288 with 1 Axes>"
            ]
          },
          "metadata": {
            "tags": []
          }
        },
        {
          "output_type": "stream",
          "text": [
            "+--------+---+-----+-----+----------+\n",
            "|poutcome|  y|count|total|porcentaje|\n",
            "+--------+---+-----+-----+----------+\n",
            "| success|yes|  978| 1511|     64.73|\n",
            "|   other|yes|  307| 1840|     16.68|\n",
            "| failure|yes|  618| 4901|     12.61|\n",
            "| unknown|yes| 3386|36956|      9.16|\n",
            "+--------+---+-----+-----+----------+\n",
            "\n"
          ],
          "name": "stdout"
        },
        {
          "output_type": "display_data",
          "data": {
            "image/png": "[encoded data removed]",
            "text/plain": [
              "<Figure size 432x288 with 1 Axes>"
            ]
          },
          "metadata": {
            "tags": []
          }
        },
        {
          "output_type": "stream",
          "text": [
            "+---+-----+-----+----------+\n",
            "|  y|count|total|porcentaje|\n",
            "+---+-----+-----+----------+\n",
            "|yes| 5289| 5289|     100.0|\n",
            "+---+-----+-----+----------+\n",
            "\n"
          ],
          "name": "stdout"
        },
        {
          "output_type": "display_data",
          "data": {
            "image/png": "[encoded data removed]",
            "text/plain": [
              "<Figure size 432x288 with 1 Axes>"
            ]
          },
          "metadata": {
            "tags": []
          }
        },
        {
          "output_type": "stream",
          "text": [
            "+---------+---+-----+-----+----------+\n",
            "|age_range|  y|count|total|porcentaje|\n",
            "+---------+---+-----+-----+----------+\n",
            "|      >60|yes|  502| 1188|     42.26|\n",
            "|     < 20|yes|   33|   97|     34.02|\n",
            "|    21-30|yes| 1112| 6933|     16.04|\n",
            "|    31-40|yes| 1812|17685|     10.25|\n",
            "|    51-60|yes|  811| 8066|     10.05|\n",
            "|    41-50|yes| 1019|11239|      9.07|\n",
            "+---------+---+-----+-----+----------+\n",
            "\n"
          ],
          "name": "stdout"
        },
        {
          "output_type": "display_data",
          "data": {
            "image/png": "[encoded data removed]",
            "text/plain": [
              "<Figure size 432x288 with 1 Axes>"
            ]
          },
          "metadata": {
            "tags": []
          }
        }
      ]
    },
    {
      "metadata": {
        "id": "H2qki0FYr9NS",
        "colab_type": "text"
      },
      "cell_type": "markdown",
      "source": [
        "### **Conclusiones: **\n",
        "\n",
        "Estudiamos el porcentaje de éxito de contratación para cada variable cualitativa. \n",
        "Sacamos insights interesantes:\n",
        "**Jobs de más éxito**: student (28.68%) y retired (22.79%) \n",
        "**Marital de más éxito**: single (14.95%)\n",
        "**Education**: tertiary (15.01%)\n",
        "**Default**: no (11.8%)\n",
        "**Housing**: no (16.7%)\n",
        "**Loan**: no (12.66%)\n",
        "**Month**: mar, dec, sep & oct: >40%\n",
        "**poutcome**: success 64.7%\n"
      ]
    },
    {
      "metadata": {
        "id": "60YWuQC6-iT4",
        "colab_type": "text"
      },
      "cell_type": "markdown",
      "source": [
        "## ***Matriz de correlación***"
      ]
    },
    {
      "metadata": {
        "id": "5RKzFel7-iua",
        "colab_type": "code",
        "outputId": "e68a59c0-0557-49b7-ae07-2036d3447031",
        "colab": {
          "base_uri": "https://localhost:8080/",
          "height": 188
        }
      },
      "cell_type": "code",
      "source": [
        "# Creamos nueva variable y_int con valores 1 si hay éxito o un 0 si no lo hay\n",
        "bank_df = bank_df.withColumn('y_int', \n",
        "                            F.when(F.col('y') == 'yes', 1)\\\n",
        "                            .otherwise(0))\n",
        "bank_df.show(3)"
      ],
      "execution_count": 40,
      "outputs": [
        {
          "output_type": "stream",
          "text": [
            "+---+----------+-------+---------+-------+-------+----+-------+---+-----+----+--------+--------+-----+--------+--------+---+---------+-----------+---------------+-----------+------------+----------------+----------------+-------------+----------------+-----+\n",
            "|age|       job|marital|education|balance|housing|loan|contact|day|month|year|duration|campaign|pdays|previous|poutcome|  y|age_range|Outlier_age|Outlier_balance|Outlier_day|Outlier_year|Outlier_duration|Outlier_campaign|Outlier_pdays|Outlier_previous|y_int|\n",
            "+---+----------+-------+---------+-------+-------+----+-------+---+-----+----+--------+--------+-----+--------+--------+---+---------+-----------+---------------+-----------+------------+----------------+----------------+-------------+----------------+-----+\n",
            "| 47|technician|married|  unknown|   2106|    yes|  no|unknown|  6|  may|2008|     168|       1|   -1|       0| unknown| no|    41-50|         no|             no|         no|          no|              no|              no|           no|              no|    0|\n",
            "| 30|technician| single|  unknown|    -48|    yes|  no|unknown|  6|  may|2008|     152|       2|   -1|       0| unknown| no|    21-30|         no|             no|         no|          no|              no|              no|           no|              no|    0|\n",
            "| 34|management| single| tertiary|    872|    yes|  no|unknown|  7|  may|2008|     105|       2|   -1|       0| unknown| no|    31-40|         no|             no|         no|          no|              no|              no|           no|              no|    0|\n",
            "+---+----------+-------+---------+-------+-------+----+-------+---+-----+----+--------+--------+-----+--------+--------+---+---------+-----------+---------------+-----------+------------+----------------+----------------+-------------+----------------+-----+\n",
            "only showing top 3 rows\n",
            "\n"
          ],
          "name": "stdout"
        }
      ]
    },
    {
      "metadata": {
        "id": "FmuEgMF1ds7f",
        "colab_type": "code",
        "colab": {
          "base_uri": "https://localhost:8080/",
          "height": 168
        },
        "outputId": "05de4bbf-b2c7-4790-d41c-528f0eca1baa"
      },
      "cell_type": "code",
      "source": [
        "# Actualizamos la lista numerical para recoger la nueva variable creada\n",
        "numerical = [col for col, type in bank_df.dtypes if type != 'string']\n",
        "numerical"
      ],
      "execution_count": 41,
      "outputs": [
        {
          "output_type": "execute_result",
          "data": {
            "text/plain": [
              "['age',\n",
              " 'balance',\n",
              " 'day',\n",
              " 'year',\n",
              " 'duration',\n",
              " 'campaign',\n",
              " 'pdays',\n",
              " 'previous',\n",
              " 'y_int']"
            ]
          },
          "metadata": {
            "tags": []
          },
          "execution_count": 41
        }
      ]
    },
    {
      "metadata": {
        "id": "2-L2_rTN-xLB",
        "colab_type": "code",
        "outputId": "92838f99-da26-472a-f52e-37eedff489f1",
        "colab": {
          "base_uri": "https://localhost:8080/",
          "height": 77
        }
      },
      "cell_type": "code",
      "source": [
        "# Análisis de correlación con la variable dependiente y_int y la pasamos a DF Pandas\n",
        "results_corrs = bank_df.select([F.corr(F.col('y_int'), F.col(c)).alias(c) for c in numerical])\n",
        "results_corrs.toPandas()"
      ],
      "execution_count": 42,
      "outputs": [
        {
          "output_type": "execute_result",
          "data": {
            "text/html": [
              "<div>\n",
              "<style scoped>\n",
              "    .dataframe tbody tr th:only-of-type {\n",
              "        vertical-align: middle;\n",
              "    }\n",
              "\n",
              "    .dataframe tbody tr th {\n",
              "        vertical-align: top;\n",
              "    }\n",
              "\n",
              "    .dataframe thead th {\n",
              "        text-align: right;\n",
              "    }\n",
              "</style>\n",
              "<table border=\"1\" class=\"dataframe\">\n",
              "  <thead>\n",
              "    <tr style=\"text-align: right;\">\n",
              "      <th></th>\n",
              "      <th>age</th>\n",
              "      <th>balance</th>\n",
              "      <th>day</th>\n",
              "      <th>year</th>\n",
              "      <th>duration</th>\n",
              "      <th>campaign</th>\n",
              "      <th>pdays</th>\n",
              "      <th>previous</th>\n",
              "      <th>y_int</th>\n",
              "    </tr>\n",
              "  </thead>\n",
              "  <tbody>\n",
              "    <tr>\n",
              "      <th>0</th>\n",
              "      <td>0.025155</td>\n",
              "      <td>0.052838</td>\n",
              "      <td>-0.028348</td>\n",
              "      <td>0.329994</td>\n",
              "      <td>0.394521</td>\n",
              "      <td>-0.073172</td>\n",
              "      <td>0.103621</td>\n",
              "      <td>0.093236</td>\n",
              "      <td>1.0</td>\n",
              "    </tr>\n",
              "  </tbody>\n",
              "</table>\n",
              "</div>"
            ],
            "text/plain": [
              "        age   balance       day      year  duration  campaign     pdays  \\\n",
              "0  0.025155  0.052838 -0.028348  0.329994  0.394521 -0.073172  0.103621   \n",
              "\n",
              "   previous  y_int  \n",
              "0  0.093236    1.0  "
            ]
          },
          "metadata": {
            "tags": []
          },
          "execution_count": 42
        }
      ]
    },
    {
      "metadata": {
        "id": "rv2j-JUM-m_J",
        "colab_type": "code",
        "outputId": "d5ce4fc7-2dfe-4313-a324-52e9a429e513",
        "colab": {
          "base_uri": "https://localhost:8080/",
          "height": 314
        }
      },
      "cell_type": "code",
      "source": [
        "# La matriz de correlación general\n",
        "corr_matrix = Statistics.corr(bank_df.select(numerical).rdd.map(lambda v: Vectors.dense(v)), method='pearson')\n",
        "corr_matrix = pd.DataFrame(corr_matrix, columns=numerical, index=numerical)\n",
        "corr_matrix"
      ],
      "execution_count": 43,
      "outputs": [
        {
          "output_type": "execute_result",
          "data": {
            "text/html": [
              "<div>\n",
              "<style scoped>\n",
              "    .dataframe tbody tr th:only-of-type {\n",
              "        vertical-align: middle;\n",
              "    }\n",
              "\n",
              "    .dataframe tbody tr th {\n",
              "        vertical-align: top;\n",
              "    }\n",
              "\n",
              "    .dataframe thead th {\n",
              "        text-align: right;\n",
              "    }\n",
              "</style>\n",
              "<table border=\"1\" class=\"dataframe\">\n",
              "  <thead>\n",
              "    <tr style=\"text-align: right;\">\n",
              "      <th></th>\n",
              "      <th>age</th>\n",
              "      <th>balance</th>\n",
              "      <th>day</th>\n",
              "      <th>year</th>\n",
              "      <th>duration</th>\n",
              "      <th>campaign</th>\n",
              "      <th>pdays</th>\n",
              "      <th>previous</th>\n",
              "      <th>y_int</th>\n",
              "    </tr>\n",
              "  </thead>\n",
              "  <tbody>\n",
              "    <tr>\n",
              "      <th>age</th>\n",
              "      <td>1.000000</td>\n",
              "      <td>0.097783</td>\n",
              "      <td>-0.009120</td>\n",
              "      <td>-0.008022</td>\n",
              "      <td>-0.004648</td>\n",
              "      <td>0.004760</td>\n",
              "      <td>-0.023758</td>\n",
              "      <td>0.001288</td>\n",
              "      <td>0.025155</td>\n",
              "    </tr>\n",
              "    <tr>\n",
              "      <th>balance</th>\n",
              "      <td>0.097783</td>\n",
              "      <td>1.000000</td>\n",
              "      <td>0.004503</td>\n",
              "      <td>0.031499</td>\n",
              "      <td>0.021560</td>\n",
              "      <td>-0.014578</td>\n",
              "      <td>0.003435</td>\n",
              "      <td>0.016674</td>\n",
              "      <td>0.052838</td>\n",
              "    </tr>\n",
              "    <tr>\n",
              "      <th>day</th>\n",
              "      <td>-0.009120</td>\n",
              "      <td>0.004503</td>\n",
              "      <td>1.000000</td>\n",
              "      <td>-0.170216</td>\n",
              "      <td>-0.030206</td>\n",
              "      <td>0.162490</td>\n",
              "      <td>-0.093044</td>\n",
              "      <td>-0.051710</td>\n",
              "      <td>-0.028348</td>\n",
              "    </tr>\n",
              "    <tr>\n",
              "      <th>year</th>\n",
              "      <td>-0.008022</td>\n",
              "      <td>0.031499</td>\n",
              "      <td>-0.170216</td>\n",
              "      <td>1.000000</td>\n",
              "      <td>0.037030</td>\n",
              "      <td>-0.166185</td>\n",
              "      <td>0.462736</td>\n",
              "      <td>0.293186</td>\n",
              "      <td>0.329994</td>\n",
              "    </tr>\n",
              "    <tr>\n",
              "      <th>duration</th>\n",
              "      <td>-0.004648</td>\n",
              "      <td>0.021560</td>\n",
              "      <td>-0.030206</td>\n",
              "      <td>0.037030</td>\n",
              "      <td>1.000000</td>\n",
              "      <td>-0.084570</td>\n",
              "      <td>-0.001565</td>\n",
              "      <td>0.001203</td>\n",
              "      <td>0.394521</td>\n",
              "    </tr>\n",
              "    <tr>\n",
              "      <th>campaign</th>\n",
              "      <td>0.004760</td>\n",
              "      <td>-0.014578</td>\n",
              "      <td>0.162490</td>\n",
              "      <td>-0.166185</td>\n",
              "      <td>-0.084570</td>\n",
              "      <td>1.000000</td>\n",
              "      <td>-0.088628</td>\n",
              "      <td>-0.032855</td>\n",
              "      <td>-0.073172</td>\n",
              "    </tr>\n",
              "    <tr>\n",
              "      <th>pdays</th>\n",
              "      <td>-0.023758</td>\n",
              "      <td>0.003435</td>\n",
              "      <td>-0.093044</td>\n",
              "      <td>0.462736</td>\n",
              "      <td>-0.001565</td>\n",
              "      <td>-0.088628</td>\n",
              "      <td>1.000000</td>\n",
              "      <td>0.454820</td>\n",
              "      <td>0.103621</td>\n",
              "    </tr>\n",
              "    <tr>\n",
              "      <th>previous</th>\n",
              "      <td>0.001288</td>\n",
              "      <td>0.016674</td>\n",
              "      <td>-0.051710</td>\n",
              "      <td>0.293186</td>\n",
              "      <td>0.001203</td>\n",
              "      <td>-0.032855</td>\n",
              "      <td>0.454820</td>\n",
              "      <td>1.000000</td>\n",
              "      <td>0.093236</td>\n",
              "    </tr>\n",
              "    <tr>\n",
              "      <th>y_int</th>\n",
              "      <td>0.025155</td>\n",
              "      <td>0.052838</td>\n",
              "      <td>-0.028348</td>\n",
              "      <td>0.329994</td>\n",
              "      <td>0.394521</td>\n",
              "      <td>-0.073172</td>\n",
              "      <td>0.103621</td>\n",
              "      <td>0.093236</td>\n",
              "      <td>1.000000</td>\n",
              "    </tr>\n",
              "  </tbody>\n",
              "</table>\n",
              "</div>"
            ],
            "text/plain": [
              "               age   balance       day      year  duration  campaign  \\\n",
              "age       1.000000  0.097783 -0.009120 -0.008022 -0.004648  0.004760   \n",
              "balance   0.097783  1.000000  0.004503  0.031499  0.021560 -0.014578   \n",
              "day      -0.009120  0.004503  1.000000 -0.170216 -0.030206  0.162490   \n",
              "year     -0.008022  0.031499 -0.170216  1.000000  0.037030 -0.166185   \n",
              "duration -0.004648  0.021560 -0.030206  0.037030  1.000000 -0.084570   \n",
              "campaign  0.004760 -0.014578  0.162490 -0.166185 -0.084570  1.000000   \n",
              "pdays    -0.023758  0.003435 -0.093044  0.462736 -0.001565 -0.088628   \n",
              "previous  0.001288  0.016674 -0.051710  0.293186  0.001203 -0.032855   \n",
              "y_int     0.025155  0.052838 -0.028348  0.329994  0.394521 -0.073172   \n",
              "\n",
              "             pdays  previous     y_int  \n",
              "age      -0.023758  0.001288  0.025155  \n",
              "balance   0.003435  0.016674  0.052838  \n",
              "day      -0.093044 -0.051710 -0.028348  \n",
              "year      0.462736  0.293186  0.329994  \n",
              "duration -0.001565  0.001203  0.394521  \n",
              "campaign -0.088628 -0.032855 -0.073172  \n",
              "pdays     1.000000  0.454820  0.103621  \n",
              "previous  0.454820  1.000000  0.093236  \n",
              "y_int     0.103621  0.093236  1.000000  "
            ]
          },
          "metadata": {
            "tags": []
          },
          "execution_count": 43
        }
      ]
    },
    {
      "metadata": {
        "id": "l8jKcLOo_1f4",
        "colab_type": "code",
        "outputId": "7f7ad130-cdae-462a-9059-462cea470ed6",
        "colab": {
          "base_uri": "https://localhost:8080/",
          "height": 168
        }
      },
      "cell_type": "code",
      "source": [
        "# Creamos una máscara para filtrar\n",
        "mask = np.zeros_like(corr_matrix, dtype=np.bool)\n",
        "mask[np.triu_indices_from(mask)] = True\n",
        "mask"
      ],
      "execution_count": 44,
      "outputs": [
        {
          "output_type": "execute_result",
          "data": {
            "text/plain": [
              "array([[ True,  True,  True,  True,  True,  True,  True,  True,  True],\n",
              "       [False,  True,  True,  True,  True,  True,  True,  True,  True],\n",
              "       [False, False,  True,  True,  True,  True,  True,  True,  True],\n",
              "       [False, False, False,  True,  True,  True,  True,  True,  True],\n",
              "       [False, False, False, False,  True,  True,  True,  True,  True],\n",
              "       [False, False, False, False, False,  True,  True,  True,  True],\n",
              "       [False, False, False, False, False, False,  True,  True,  True],\n",
              "       [False, False, False, False, False, False, False,  True,  True],\n",
              "       [False, False, False, False, False, False, False, False,  True]])"
            ]
          },
          "metadata": {
            "tags": []
          },
          "execution_count": 44
        }
      ]
    },
    {
      "metadata": {
        "id": "u4tg9rMtA4af",
        "colab_type": "code",
        "outputId": "0b596cdb-ffb3-4c2e-c356-530f08487a09",
        "colab": {
          "base_uri": "https://localhost:8080/",
          "height": 314
        }
      },
      "cell_type": "code",
      "source": [
        "# Aplicamos la máscara\n",
        "corr_matrix = corr_matrix.mask(mask)\n",
        "corr_matrix"
      ],
      "execution_count": 45,
      "outputs": [
        {
          "output_type": "execute_result",
          "data": {
            "text/html": [
              "<div>\n",
              "<style scoped>\n",
              "    .dataframe tbody tr th:only-of-type {\n",
              "        vertical-align: middle;\n",
              "    }\n",
              "\n",
              "    .dataframe tbody tr th {\n",
              "        vertical-align: top;\n",
              "    }\n",
              "\n",
              "    .dataframe thead th {\n",
              "        text-align: right;\n",
              "    }\n",
              "</style>\n",
              "<table border=\"1\" class=\"dataframe\">\n",
              "  <thead>\n",
              "    <tr style=\"text-align: right;\">\n",
              "      <th></th>\n",
              "      <th>age</th>\n",
              "      <th>balance</th>\n",
              "      <th>day</th>\n",
              "      <th>year</th>\n",
              "      <th>duration</th>\n",
              "      <th>campaign</th>\n",
              "      <th>pdays</th>\n",
              "      <th>previous</th>\n",
              "      <th>y_int</th>\n",
              "    </tr>\n",
              "  </thead>\n",
              "  <tbody>\n",
              "    <tr>\n",
              "      <th>age</th>\n",
              "      <td>NaN</td>\n",
              "      <td>NaN</td>\n",
              "      <td>NaN</td>\n",
              "      <td>NaN</td>\n",
              "      <td>NaN</td>\n",
              "      <td>NaN</td>\n",
              "      <td>NaN</td>\n",
              "      <td>NaN</td>\n",
              "      <td>NaN</td>\n",
              "    </tr>\n",
              "    <tr>\n",
              "      <th>balance</th>\n",
              "      <td>0.097783</td>\n",
              "      <td>NaN</td>\n",
              "      <td>NaN</td>\n",
              "      <td>NaN</td>\n",
              "      <td>NaN</td>\n",
              "      <td>NaN</td>\n",
              "      <td>NaN</td>\n",
              "      <td>NaN</td>\n",
              "      <td>NaN</td>\n",
              "    </tr>\n",
              "    <tr>\n",
              "      <th>day</th>\n",
              "      <td>-0.009120</td>\n",
              "      <td>0.004503</td>\n",
              "      <td>NaN</td>\n",
              "      <td>NaN</td>\n",
              "      <td>NaN</td>\n",
              "      <td>NaN</td>\n",
              "      <td>NaN</td>\n",
              "      <td>NaN</td>\n",
              "      <td>NaN</td>\n",
              "    </tr>\n",
              "    <tr>\n",
              "      <th>year</th>\n",
              "      <td>-0.008022</td>\n",
              "      <td>0.031499</td>\n",
              "      <td>-0.170216</td>\n",
              "      <td>NaN</td>\n",
              "      <td>NaN</td>\n",
              "      <td>NaN</td>\n",
              "      <td>NaN</td>\n",
              "      <td>NaN</td>\n",
              "      <td>NaN</td>\n",
              "    </tr>\n",
              "    <tr>\n",
              "      <th>duration</th>\n",
              "      <td>-0.004648</td>\n",
              "      <td>0.021560</td>\n",
              "      <td>-0.030206</td>\n",
              "      <td>0.037030</td>\n",
              "      <td>NaN</td>\n",
              "      <td>NaN</td>\n",
              "      <td>NaN</td>\n",
              "      <td>NaN</td>\n",
              "      <td>NaN</td>\n",
              "    </tr>\n",
              "    <tr>\n",
              "      <th>campaign</th>\n",
              "      <td>0.004760</td>\n",
              "      <td>-0.014578</td>\n",
              "      <td>0.162490</td>\n",
              "      <td>-0.166185</td>\n",
              "      <td>-0.084570</td>\n",
              "      <td>NaN</td>\n",
              "      <td>NaN</td>\n",
              "      <td>NaN</td>\n",
              "      <td>NaN</td>\n",
              "    </tr>\n",
              "    <tr>\n",
              "      <th>pdays</th>\n",
              "      <td>-0.023758</td>\n",
              "      <td>0.003435</td>\n",
              "      <td>-0.093044</td>\n",
              "      <td>0.462736</td>\n",
              "      <td>-0.001565</td>\n",
              "      <td>-0.088628</td>\n",
              "      <td>NaN</td>\n",
              "      <td>NaN</td>\n",
              "      <td>NaN</td>\n",
              "    </tr>\n",
              "    <tr>\n",
              "      <th>previous</th>\n",
              "      <td>0.001288</td>\n",
              "      <td>0.016674</td>\n",
              "      <td>-0.051710</td>\n",
              "      <td>0.293186</td>\n",
              "      <td>0.001203</td>\n",
              "      <td>-0.032855</td>\n",
              "      <td>0.454820</td>\n",
              "      <td>NaN</td>\n",
              "      <td>NaN</td>\n",
              "    </tr>\n",
              "    <tr>\n",
              "      <th>y_int</th>\n",
              "      <td>0.025155</td>\n",
              "      <td>0.052838</td>\n",
              "      <td>-0.028348</td>\n",
              "      <td>0.329994</td>\n",
              "      <td>0.394521</td>\n",
              "      <td>-0.073172</td>\n",
              "      <td>0.103621</td>\n",
              "      <td>0.093236</td>\n",
              "      <td>NaN</td>\n",
              "    </tr>\n",
              "  </tbody>\n",
              "</table>\n",
              "</div>"
            ],
            "text/plain": [
              "               age   balance       day      year  duration  campaign  \\\n",
              "age            NaN       NaN       NaN       NaN       NaN       NaN   \n",
              "balance   0.097783       NaN       NaN       NaN       NaN       NaN   \n",
              "day      -0.009120  0.004503       NaN       NaN       NaN       NaN   \n",
              "year     -0.008022  0.031499 -0.170216       NaN       NaN       NaN   \n",
              "duration -0.004648  0.021560 -0.030206  0.037030       NaN       NaN   \n",
              "campaign  0.004760 -0.014578  0.162490 -0.166185 -0.084570       NaN   \n",
              "pdays    -0.023758  0.003435 -0.093044  0.462736 -0.001565 -0.088628   \n",
              "previous  0.001288  0.016674 -0.051710  0.293186  0.001203 -0.032855   \n",
              "y_int     0.025155  0.052838 -0.028348  0.329994  0.394521 -0.073172   \n",
              "\n",
              "             pdays  previous  y_int  \n",
              "age            NaN       NaN    NaN  \n",
              "balance        NaN       NaN    NaN  \n",
              "day            NaN       NaN    NaN  \n",
              "year           NaN       NaN    NaN  \n",
              "duration       NaN       NaN    NaN  \n",
              "campaign       NaN       NaN    NaN  \n",
              "pdays          NaN       NaN    NaN  \n",
              "previous  0.454820       NaN    NaN  \n",
              "y_int     0.103621  0.093236    NaN  "
            ]
          },
          "metadata": {
            "tags": []
          },
          "execution_count": 45
        }
      ]
    },
    {
      "metadata": {
        "id": "S_ONkpkcBH4M",
        "colab_type": "code",
        "outputId": "f85ae3a1-5710-487d-a215-60c413790832",
        "colab": {
          "base_uri": "https://localhost:8080/",
          "height": 476
        }
      },
      "cell_type": "code",
      "source": [
        "# Ploteamos la matriz \n",
        "# Ipython magic para plotear en el NB\n",
        "%matplotlib inline \n",
        "plt.figure(figsize=(8,7))\n",
        "sns.heatmap(corr_matrix, cmap='coolwarm', vmax=1, vmin=-1, square=True, annot=True, fmt='.2f')"
      ],
      "execution_count": 46,
      "outputs": [
        {
          "output_type": "execute_result",
          "data": {
            "text/plain": [
              "<matplotlib.axes._subplots.AxesSubplot at 0x7f848d3e1f60>"
            ]
          },
          "metadata": {
            "tags": []
          },
          "execution_count": 46
        },
        {
          "output_type": "display_data",
          "data": {
            "image/png": "[encoded data removed]",
            "text/plain": [
              "<Figure size 576x504 with 2 Axes>"
            ]
          },
          "metadata": {
            "tags": []
          }
        }
      ]
    },
    {
      "metadata": {
        "id": "pYgMxouadcUZ",
        "colab_type": "text"
      },
      "cell_type": "markdown",
      "source": [
        "**No hay correlaciones que resulten significativas para variables numéricas.**\n"
      ]
    },
    {
      "metadata": {
        "id": "Vn81RRkoBXNP",
        "colab_type": "code",
        "outputId": "2de4d7de-2969-4b3c-a363-adf3f0cb49ee",
        "colab": {
          "base_uri": "https://localhost:8080/",
          "height": 245
        }
      },
      "cell_type": "code",
      "source": [
        "# Pasamos el DF entero a Pandas para poder plotear\n",
        "bank_df_pd = bank_df.toPandas()\n",
        "plt.figure(figsize=(5,3))\n",
        "sns.distplot(bank_df_pd['age'], kde=True)\n",
        "# Las llamadas se concentran en rango de 30-40 años"
      ],
      "execution_count": 47,
      "outputs": [
        {
          "output_type": "execute_result",
          "data": {
            "text/plain": [
              "<matplotlib.axes._subplots.AxesSubplot at 0x7f848d3eb320>"
            ]
          },
          "metadata": {
            "tags": []
          },
          "execution_count": 47
        },
        {
          "output_type": "display_data",
          "data": {
            "image/png": "[encoded data removed]",
            "text/plain": [
              "<Figure size 360x216 with 1 Axes>"
            ]
          },
          "metadata": {
            "tags": []
          }
        }
      ]
    },
    {
      "metadata": {
        "id": "-SBSitiQDwsE",
        "colab_type": "code",
        "outputId": "20caa715-3869-43fa-80f6-3fea839c775b",
        "colab": {
          "base_uri": "https://localhost:8080/",
          "height": 301
        }
      },
      "cell_type": "code",
      "source": [
        "plt.figure(figsize=(5,4))\n",
        "sns.boxplot(x='y_int', y='pdays', data=bank_df_pd, orient='v', palette=\"Blues_d\")\n",
        "# Vemos que los que han tenido contactos en días previos tienen más probabilidades de terminar contratando"
      ],
      "execution_count": 48,
      "outputs": [
        {
          "output_type": "execute_result",
          "data": {
            "text/plain": [
              "<matplotlib.axes._subplots.AxesSubplot at 0x7f848d4380b8>"
            ]
          },
          "metadata": {
            "tags": []
          },
          "execution_count": 48
        },
        {
          "output_type": "display_data",
          "data": {
            "image/png": "[encoded data removed]",
            "text/plain": [
              "<Figure size 360x288 with 1 Axes>"
            ]
          },
          "metadata": {
            "tags": []
          }
        }
      ]
    },
    {
      "metadata": {
        "id": "IJAvVrNxDyYD",
        "colab_type": "code",
        "outputId": "4382edbc-6d69-4429-9576-04244b9edccf",
        "colab": {
          "base_uri": "https://localhost:8080/",
          "height": 301
        }
      },
      "cell_type": "code",
      "source": [
        "# Comparamos la contratación con la edad\n",
        "plt.figure(figsize=(5,4))\n",
        "sns.boxplot(x='y_int', y='age', data=bank_df_pd, orient='v', palette=\"Blues_d\")"
      ],
      "execution_count": 49,
      "outputs": [
        {
          "output_type": "execute_result",
          "data": {
            "text/plain": [
              "<matplotlib.axes._subplots.AxesSubplot at 0x7f848d432828>"
            ]
          },
          "metadata": {
            "tags": []
          },
          "execution_count": 49
        },
        {
          "output_type": "display_data",
          "data": {
            "image/png": "[encoded data removed]",
            "text/plain": [
              "<Figure size 360x288 with 1 Axes>"
            ]
          },
          "metadata": {
            "tags": []
          }
        }
      ]
    },
    {
      "metadata": {
        "id": "ntUOguLjhpAo",
        "colab_type": "code",
        "colab": {}
      },
      "cell_type": "code",
      "source": [
        ""
      ],
      "execution_count": 0,
      "outputs": []
    }
  ]
}